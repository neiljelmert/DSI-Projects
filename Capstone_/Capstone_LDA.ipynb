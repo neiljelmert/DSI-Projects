{
 "cells": [
  {
   "cell_type": "code",
   "execution_count": 1,
   "metadata": {
    "collapsed": false
   },
   "outputs": [
    {
     "name": "stdout",
     "output_type": "stream",
     "text": [
      "Populating the interactive namespace from numpy and matplotlib\n"
     ]
    }
   ],
   "source": [
    "import pandas as pd\n",
    "import urllib\n",
    "import urllib2\n",
    "from bs4 import BeautifulSoup as bs\n",
    "import re\n",
    "import requests\n",
    "import numpy as np\n",
    "import pickle\n",
    "\n",
    "import nltk\n",
    "\n",
    "import numpy as np\n",
    "import matplotlib\n",
    "import matplotlib.pyplot as plt\n",
    "import seaborn as sns\n",
    "\n",
    "from sklearn.decomposition import TruncatedSVD\n",
    "from sklearn.pipeline import make_pipeline\n",
    "from sklearn.preprocessing import Normalizer\n",
    "from sklearn.neighbors import KNeighborsClassifier\n",
    "\n",
    "%matplotlib inline\n",
    "%pylab inline\n",
    "\n",
    "sns.set_style(\"darkgrid\", {\"text.color\": \".1\"})"
   ]
  },
  {
   "cell_type": "code",
   "execution_count": 2,
   "metadata": {
    "collapsed": true
   },
   "outputs": [],
   "source": [
    "d = {'col1': [\"Hello I love food\", \"I hate chicken\", \"This is great\"]}\n",
    "df = pd.DataFrame(data=d)"
   ]
  },
  {
   "cell_type": "code",
   "execution_count": 3,
   "metadata": {
    "collapsed": false
   },
   "outputs": [
    {
     "data": {
      "text/html": [
       "<div>\n",
       "<table border=\"1\" class=\"dataframe\">\n",
       "  <thead>\n",
       "    <tr style=\"text-align: right;\">\n",
       "      <th></th>\n",
       "      <th>col1</th>\n",
       "    </tr>\n",
       "  </thead>\n",
       "  <tbody>\n",
       "    <tr>\n",
       "      <th>0</th>\n",
       "      <td>Hello I love food</td>\n",
       "    </tr>\n",
       "    <tr>\n",
       "      <th>1</th>\n",
       "      <td>I hate chicken</td>\n",
       "    </tr>\n",
       "    <tr>\n",
       "      <th>2</th>\n",
       "      <td>This is great</td>\n",
       "    </tr>\n",
       "  </tbody>\n",
       "</table>\n",
       "</div>"
      ],
      "text/plain": [
       "                col1\n",
       "0  Hello I love food\n",
       "1     I hate chicken\n",
       "2      This is great"
      ]
     },
     "execution_count": 3,
     "metadata": {},
     "output_type": "execute_result"
    }
   ],
   "source": [
    "df"
   ]
  },
  {
   "cell_type": "code",
   "execution_count": null,
   "metadata": {
    "collapsed": true
   },
   "outputs": [],
   "source": []
  },
  {
   "cell_type": "code",
   "execution_count": 2,
   "metadata": {
    "collapsed": false
   },
   "outputs": [],
   "source": [
    "df_statml = pd.read_csv(\"StatMLPapers_tweets.csv\")\n",
    "df_statml['year'] = 2016\n",
    "df_statml['genre'] = 'ML'\n",
    "df_statml['source'] = 'Twitter'\n"
   ]
  },
  {
   "cell_type": "code",
   "execution_count": 3,
   "metadata": {
    "collapsed": false
   },
   "outputs": [],
   "source": [
    "df_statml = df_statml.sort_values(by=\"created_at\").reset_index(drop=True)"
   ]
  },
  {
   "cell_type": "code",
   "execution_count": 4,
   "metadata": {
    "collapsed": true
   },
   "outputs": [],
   "source": [
    "for i in range(0,810):\n",
    "    df_statml.set_value(i, 'year', 2015)"
   ]
  },
  {
   "cell_type": "code",
   "execution_count": 5,
   "metadata": {
    "collapsed": false
   },
   "outputs": [],
   "source": [
    "df_16_NIPS = pd.read_csv('open_review_abstracts_NIPS2016.csv')\n",
    "df_16_NIPS['year'] = 2016\n",
    "df_16_NIPS['genre'] = 'ML'\n",
    "df_16_NIPS['source'] = 'NIPS'"
   ]
  },
  {
   "cell_type": "code",
   "execution_count": 6,
   "metadata": {
    "collapsed": false
   },
   "outputs": [],
   "source": [
    "df_17_ICLR = pd.read_csv('open_review_abstracts_ICLR2017.csv')\n",
    "df_17_ICLR['year'] = 2017\n",
    "df_17_ICLR['genre'] = 'DL'\n",
    "df_17_ICLR['source'] = 'ICLR'"
   ]
  },
  {
   "cell_type": "code",
   "execution_count": 7,
   "metadata": {
    "collapsed": false
   },
   "outputs": [],
   "source": [
    "df_16_NIPS_NAMPI = pd.read_csv('open_review_abstracts_NIPS16_NAMPI.csv')\n",
    "df_16_NIPS_NAMPI['year'] = 2016\n",
    "df_16_NIPS_NAMPI['genre'] = 'ML'\n",
    "df_16_NIPS_NAMPI['source'] = 'NIPS'"
   ]
  },
  {
   "cell_type": "code",
   "execution_count": 8,
   "metadata": {
    "collapsed": false
   },
   "outputs": [],
   "source": [
    "df_16_NIPS_MLITS = pd.read_csv('open_review_abstracts_NIPS16_MLITS.csv')\n",
    "df_16_NIPS_MLITS['year'] = 2016\n",
    "df_16_NIPS_MLITS['genre'] = 'ML'\n",
    "df_16_NIPS_MLITS['source'] = 'NIPS'"
   ]
  },
  {
   "cell_type": "code",
   "execution_count": 9,
   "metadata": {
    "collapsed": false
   },
   "outputs": [],
   "source": [
    "df_16_ICLR = pd.read_csv('open_review_abstracts_ICLR16.csv')\n",
    "df_16_ICLR['year'] = 2016\n",
    "df_16_ICLR['genre'] = 'DL'\n",
    "df_16_ICLR['source'] = 'ICLR'"
   ]
  },
  {
   "cell_type": "code",
   "execution_count": 10,
   "metadata": {
    "collapsed": false
   },
   "outputs": [],
   "source": [
    "df_CVPR_16 = pd.read_csv('CVPR_2016/cvpr_2016.csv')\n",
    "df_CVPR_16['year'] = 2016\n",
    "df_CVPR_16['genre'] = 'CV'\n",
    "df_CVPR_16['source'] = 'CVPR'"
   ]
  },
  {
   "cell_type": "code",
   "execution_count": 11,
   "metadata": {
    "collapsed": true
   },
   "outputs": [],
   "source": [
    "df_CVPR_15 = pd.read_csv('CVPR_2016/cvpr_2015.csv')\n",
    "df_CVPR_15['year'] = 2015\n",
    "df_CVPR_15['genre'] = 'CV'\n",
    "df_CVPR_15['source'] = 'CVPR'"
   ]
  },
  {
   "cell_type": "code",
   "execution_count": 12,
   "metadata": {
    "collapsed": true
   },
   "outputs": [],
   "source": [
    "df_CVPR_14 = pd.read_csv('CVPR_2016/cvpr_2014.csv')\n",
    "df_CVPR_14['year'] = 2014\n",
    "df_CVPR_14['genre'] = 'CV'\n",
    "df_CVPR_14['source'] = 'CVPR'"
   ]
  },
  {
   "cell_type": "code",
   "execution_count": 13,
   "metadata": {
    "collapsed": false
   },
   "outputs": [],
   "source": [
    "df_CVPR_13 = pd.read_csv('CVPR_2016/cvpr_2013.csv')\n",
    "df_CVPR_13['year'] = 2013\n",
    "df_CVPR_13['genre'] = 'CV'\n",
    "df_CVPR_13['source'] = 'CVPR'"
   ]
  },
  {
   "cell_type": "code",
   "execution_count": 14,
   "metadata": {
    "collapsed": true
   },
   "outputs": [],
   "source": [
    "df_NIPS = pd.read_csv('NIPS/NIPS.csv')\n",
    "df_NIPS['genre'] = 'ML'\n",
    "df_NIPS['source'] = 'NIPS'\n",
    "\n",
    "df_NIPS2 = pd.read_csv('NIPS/NIPS_new.csv')\n",
    "df_NIPS2['genre'] = 'ML'\n",
    "df_NIPS2['source'] = 'NIPS'\n",
    "\n",
    "df_NIPS3 = pd.read_csv('NIPS/NIPS_new2.csv')\n",
    "df_NIPS3['genre'] = 'ML'\n",
    "df_NIPS3['source'] = 'NIPS'"
   ]
  },
  {
   "cell_type": "code",
   "execution_count": 15,
   "metadata": {
    "collapsed": false
   },
   "outputs": [
    {
     "name": "stdout",
     "output_type": "stream",
     "text": [
      "(2812, 5) (2255, 5) (3221, 5)\n"
     ]
    }
   ],
   "source": [
    "print df_NIPS.shape, df_NIPS2.shape, df_NIPS3.shape"
   ]
  },
  {
   "cell_type": "code",
   "execution_count": 16,
   "metadata": {
    "collapsed": false
   },
   "outputs": [
    {
     "data": {
      "text/plain": [
       "array([2016, 2010, 2015, 2008, 2009, 2011, 2014, 2012])"
      ]
     },
     "execution_count": 16,
     "metadata": {},
     "output_type": "execute_result"
    }
   ],
   "source": [
    "df_NIPS.year.unique()"
   ]
  },
  {
   "cell_type": "code",
   "execution_count": 17,
   "metadata": {
    "collapsed": false
   },
   "outputs": [
    {
     "data": {
      "text/plain": [
       "array([2010, 2016, 2008, 2015, 2013, 2011, 2009])"
      ]
     },
     "execution_count": 17,
     "metadata": {},
     "output_type": "execute_result"
    }
   ],
   "source": [
    "df_NIPS2.year.unique()"
   ]
  },
  {
   "cell_type": "code",
   "execution_count": 18,
   "metadata": {
    "collapsed": false
   },
   "outputs": [
    {
     "data": {
      "text/plain": [
       "array([2016, 2015, 2012, 2014, 2013, 2011, 2010, 2009, 2008])"
      ]
     },
     "execution_count": 18,
     "metadata": {},
     "output_type": "execute_result"
    }
   ],
   "source": [
    "df_NIPS3.year.unique()"
   ]
  },
  {
   "cell_type": "code",
   "execution_count": null,
   "metadata": {
    "collapsed": false
   },
   "outputs": [],
   "source": []
  },
  {
   "cell_type": "code",
   "execution_count": 19,
   "metadata": {
    "collapsed": false
   },
   "outputs": [],
   "source": [
    "df_JMLR_16 = pd.read_csv('JMLR/JMLR_16.csv')\n",
    "df_JMLR_16['genre'] = 'ML'\n",
    "df_JMLR_16['source'] = 'JMLR'"
   ]
  },
  {
   "cell_type": "code",
   "execution_count": 20,
   "metadata": {
    "collapsed": false
   },
   "outputs": [],
   "source": [
    "df_JMLR_15 = pd.read_csv('JMLR/JMLR_15.csv')\n",
    "df_JMLR_15['genre'] = 'ML'\n",
    "df_JMLR_15['source'] = 'JMLR'"
   ]
  },
  {
   "cell_type": "code",
   "execution_count": 21,
   "metadata": {
    "collapsed": true
   },
   "outputs": [],
   "source": [
    "df_JMLR_14 = pd.read_csv('JMLR/JMLR_14.csv')\n",
    "df_JMLR_14['genre'] = 'ML'\n",
    "df_JMLR_14['source'] = 'JMLR'"
   ]
  },
  {
   "cell_type": "code",
   "execution_count": 22,
   "metadata": {
    "collapsed": false
   },
   "outputs": [],
   "source": [
    "df_JMLR_13 = pd.read_csv('JMLR/JMLR_13.csv')\n",
    "df_JMLR_13['genre'] = 'ML'\n",
    "df_JMLR_13['source'] = 'JMLR'"
   ]
  },
  {
   "cell_type": "code",
   "execution_count": 23,
   "metadata": {
    "collapsed": false
   },
   "outputs": [],
   "source": [
    "df_arxiv = pd.read_csv(\"reddit/reddit_scraped_arxivs.csv\")\n",
    "df_arxiv['year'] = 2016\n",
    "df_arxiv['genre'] = 'ML'\n",
    "df_arxiv['source'] = 'arXiv'"
   ]
  },
  {
   "cell_type": "code",
   "execution_count": 24,
   "metadata": {
    "collapsed": false
   },
   "outputs": [],
   "source": [
    "df_open_rev = pd.read_csv(\"reddit/reddit_scraped_openreview.csv\")\n",
    "df_open_rev['year'] = 2016\n",
    "df_open_rev['genre'] = 'ML'\n",
    "df_open_rev['source'] = 'OpenReview'"
   ]
  },
  {
   "cell_type": "code",
   "execution_count": 25,
   "metadata": {
    "collapsed": false
   },
   "outputs": [],
   "source": [
    "df_open_rev_s = df_open_rev[['title', 'abstract', 'genre', 'source', 'year']]\n",
    "df_arxiv_s = df_arxiv[['title', 'abstract', 'genre', 'source', 'year']]\n",
    "df_statml_s = df_statml[['text', 'abstract', 'genre', 'source', 'year']]"
   ]
  },
  {
   "cell_type": "code",
   "execution_count": 26,
   "metadata": {
    "collapsed": false
   },
   "outputs": [
    {
     "data": {
      "text/plain": [
       "array([2016, 2010, 2015, 2008, 2009, 2011, 2014, 2012])"
      ]
     },
     "execution_count": 26,
     "metadata": {},
     "output_type": "execute_result"
    }
   ],
   "source": [
    "df_NIPS.year.unique()"
   ]
  },
  {
   "cell_type": "code",
   "execution_count": 27,
   "metadata": {
    "collapsed": false
   },
   "outputs": [],
   "source": [
    "pd.options.mode.chained_assignment = None \n",
    "\n",
    "#find = re.compile(r\"^(.*?)\\..*\")\n",
    "new_text = []\n",
    "find = re.compile(r\"^([^.]*).*\")\n",
    "for l in df_statml_s['text']:\n",
    "    m = re.match(find, l)\n",
    "    new_text.append(m.group(1))\n",
    "\n",
    "df_statml_s['title'] = new_text"
   ]
  },
  {
   "cell_type": "code",
   "execution_count": null,
   "metadata": {
    "collapsed": false
   },
   "outputs": [],
   "source": []
  },
  {
   "cell_type": "code",
   "execution_count": 28,
   "metadata": {
    "collapsed": false
   },
   "outputs": [],
   "source": [
    "df_statml_s.drop([\"text\"], axis=1, inplace=True)"
   ]
  },
  {
   "cell_type": "code",
   "execution_count": 29,
   "metadata": {
    "collapsed": false
   },
   "outputs": [],
   "source": [
    "frames = [df_statml_s, df_arxiv_s, df_open_rev_s, df_JMLR_13, df_JMLR_14, df_JMLR_15,\n",
    "         df_JMLR_16, df_CVPR_13, df_CVPR_14, df_CVPR_15, df_CVPR_16, df_16_ICLR,\n",
    "         df_16_NIPS_MLITS, df_16_NIPS_NAMPI, df_17_ICLR, df_16_NIPS, df_NIPS3]"
   ]
  },
  {
   "cell_type": "code",
   "execution_count": 30,
   "metadata": {
    "collapsed": true
   },
   "outputs": [],
   "source": [
    "result = pd.concat(frames, ignore_index=True)"
   ]
  },
  {
   "cell_type": "code",
   "execution_count": 31,
   "metadata": {
    "collapsed": false
   },
   "outputs": [
    {
     "data": {
      "text/plain": [
       "(10724, 5)"
      ]
     },
     "execution_count": 31,
     "metadata": {},
     "output_type": "execute_result"
    }
   ],
   "source": [
    "result.shape"
   ]
  },
  {
   "cell_type": "code",
   "execution_count": 32,
   "metadata": {
    "collapsed": false
   },
   "outputs": [
    {
     "data": {
      "text/plain": [
       "9947"
      ]
     },
     "execution_count": 32,
     "metadata": {},
     "output_type": "execute_result"
    }
   ],
   "source": [
    "len(result.abstract.unique())"
   ]
  },
  {
   "cell_type": "code",
   "execution_count": 33,
   "metadata": {
    "collapsed": false
   },
   "outputs": [
    {
     "data": {
      "text/plain": [
       "9806"
      ]
     },
     "execution_count": 33,
     "metadata": {},
     "output_type": "execute_result"
    }
   ],
   "source": [
    "unik_titles = result.title.unique().tolist()\n",
    "len(result.title.unique())"
   ]
  },
  {
   "cell_type": "code",
   "execution_count": 34,
   "metadata": {
    "collapsed": false
   },
   "outputs": [],
   "source": [
    "result = result.drop_duplicates(\"abstract\")\n",
    "result = result.drop_duplicates(\"title\")"
   ]
  },
  {
   "cell_type": "code",
   "execution_count": 35,
   "metadata": {
    "collapsed": false
   },
   "outputs": [
    {
     "data": {
      "text/plain": [
       "(9581, 5)"
      ]
     },
     "execution_count": 35,
     "metadata": {},
     "output_type": "execute_result"
    }
   ],
   "source": [
    "result.shape"
   ]
  },
  {
   "cell_type": "code",
   "execution_count": 36,
   "metadata": {
    "collapsed": false
   },
   "outputs": [
    {
     "data": {
      "text/plain": [
       "9581"
      ]
     },
     "execution_count": 36,
     "metadata": {},
     "output_type": "execute_result"
    }
   ],
   "source": [
    "len(result.title.unique())"
   ]
  },
  {
   "cell_type": "code",
   "execution_count": 37,
   "metadata": {
    "collapsed": false
   },
   "outputs": [],
   "source": [
    "result['abstract'] = result['abstract'].str.replace('Abstract:?' , '')"
   ]
  },
  {
   "cell_type": "code",
   "execution_count": 38,
   "metadata": {
    "collapsed": false
   },
   "outputs": [],
   "source": [
    "result['title'] = result['title'].str.replace('\\[R\\]', '')"
   ]
  },
  {
   "cell_type": "code",
   "execution_count": 39,
   "metadata": {
    "collapsed": false
   },
   "outputs": [
    {
     "data": {
      "text/plain": [
       "(3389, 5)"
      ]
     },
     "execution_count": 39,
     "metadata": {},
     "output_type": "execute_result"
    }
   ],
   "source": [
    "result[result.year == 2016].shape"
   ]
  },
  {
   "cell_type": "code",
   "execution_count": 40,
   "metadata": {
    "collapsed": false
   },
   "outputs": [
    {
     "data": {
      "text/plain": [
       "(2008, 5)"
      ]
     },
     "execution_count": 40,
     "metadata": {},
     "output_type": "execute_result"
    }
   ],
   "source": [
    "result[result.year == 2015].shape"
   ]
  },
  {
   "cell_type": "code",
   "execution_count": 41,
   "metadata": {
    "collapsed": false
   },
   "outputs": [
    {
     "data": {
      "text/plain": [
       "(1254, 5)"
      ]
     },
     "execution_count": 41,
     "metadata": {},
     "output_type": "execute_result"
    }
   ],
   "source": [
    "result[result.year == 2014].shape"
   ]
  },
  {
   "cell_type": "code",
   "execution_count": 42,
   "metadata": {
    "collapsed": false
   },
   "outputs": [
    {
     "data": {
      "text/plain": [
       "(342, 5)"
      ]
     },
     "execution_count": 42,
     "metadata": {},
     "output_type": "execute_result"
    }
   ],
   "source": [
    "result[result.year==2012].shape"
   ]
  },
  {
   "cell_type": "code",
   "execution_count": 43,
   "metadata": {
    "collapsed": false
   },
   "outputs": [
    {
     "data": {
      "text/plain": [
       "(1113, 5)"
      ]
     },
     "execution_count": 43,
     "metadata": {},
     "output_type": "execute_result"
    }
   ],
   "source": [
    "result[result.year == 2013].shape"
   ]
  },
  {
   "cell_type": "code",
   "execution_count": 44,
   "metadata": {
    "collapsed": false
   },
   "outputs": [
    {
     "data": {
      "text/plain": [
       "(417, 5)"
      ]
     },
     "execution_count": 44,
     "metadata": {},
     "output_type": "execute_result"
    }
   ],
   "source": [
    "result[result.year == 2017].shape"
   ]
  },
  {
   "cell_type": "code",
   "execution_count": 45,
   "metadata": {
    "collapsed": false
   },
   "outputs": [
    {
     "data": {
      "text/plain": [
       "(6519, 5)"
      ]
     },
     "execution_count": 45,
     "metadata": {},
     "output_type": "execute_result"
    }
   ],
   "source": [
    "result.reset_index(drop=True, inplace=True)\n",
    "\n",
    "indexes = []\n",
    "for abst in result[result.genre=='ML'][\"abstract\"]:\n",
    "    try:\n",
    "        try:\n",
    "            if (\"deep learning\" in abst or \"deep neural\" in abst):\n",
    "                indexes.append(result[result.abstract==abst].index.tolist()[0])\n",
    "        except AttributeError:\n",
    "            pass\n",
    "    except TypeError:\n",
    "        pass\n",
    "\n",
    "for i in indexes:\n",
    "    result.set_value(i, 'genre', 'DL')\n",
    "\n",
    "result[result.genre=='ML'].shape # now 1071 DLs and 6258 MLs"
   ]
  },
  {
   "cell_type": "code",
   "execution_count": 49,
   "metadata": {
    "collapsed": false
   },
   "outputs": [
    {
     "data": {
      "text/html": [
       "<div>\n",
       "<table border=\"1\" class=\"dataframe\">\n",
       "  <thead>\n",
       "    <tr style=\"text-align: right;\">\n",
       "      <th></th>\n",
       "      <th>abstract</th>\n",
       "      <th>source</th>\n",
       "      <th>title</th>\n",
       "      <th>year</th>\n",
       "    </tr>\n",
       "    <tr>\n",
       "      <th>genre</th>\n",
       "      <th></th>\n",
       "      <th></th>\n",
       "      <th></th>\n",
       "      <th></th>\n",
       "    </tr>\n",
       "  </thead>\n",
       "  <tbody>\n",
       "    <tr>\n",
       "      <th>CV</th>\n",
       "      <td>2247</td>\n",
       "      <td>2247</td>\n",
       "      <td>2247</td>\n",
       "      <td>2247</td>\n",
       "    </tr>\n",
       "    <tr>\n",
       "      <th>DL</th>\n",
       "      <td>815</td>\n",
       "      <td>815</td>\n",
       "      <td>815</td>\n",
       "      <td>815</td>\n",
       "    </tr>\n",
       "    <tr>\n",
       "      <th>ML</th>\n",
       "      <td>6518</td>\n",
       "      <td>6519</td>\n",
       "      <td>6519</td>\n",
       "      <td>6519</td>\n",
       "    </tr>\n",
       "  </tbody>\n",
       "</table>\n",
       "</div>"
      ],
      "text/plain": [
       "       abstract  source  title  year\n",
       "genre                               \n",
       "CV         2247    2247   2247  2247\n",
       "DL          815     815    815   815\n",
       "ML         6518    6519   6519  6519"
      ]
     },
     "execution_count": 49,
     "metadata": {},
     "output_type": "execute_result"
    }
   ],
   "source": [
    "result.groupby(['genre']).count()"
   ]
  },
  {
   "cell_type": "code",
   "execution_count": 50,
   "metadata": {
    "collapsed": false
   },
   "outputs": [
    {
     "data": {
      "text/plain": [
       "year\n",
       "2008    0.023275\n",
       "2009    0.026824\n",
       "2010    0.030059\n",
       "2011    0.030268\n",
       "2012    0.035696\n",
       "2013    0.116167\n",
       "2014    0.130884\n",
       "2015    0.209581\n",
       "2016    0.353721\n",
       "2017    0.043524\n",
       "Name: title, dtype: float64"
      ]
     },
     "execution_count": 50,
     "metadata": {},
     "output_type": "execute_result"
    }
   ],
   "source": [
    "result.groupby(['year'])['title'].count()/result.shape[0]"
   ]
  },
  {
   "cell_type": "code",
   "execution_count": null,
   "metadata": {
    "collapsed": false
   },
   "outputs": [],
   "source": []
  },
  {
   "cell_type": "code",
   "execution_count": 51,
   "metadata": {
    "collapsed": false
   },
   "outputs": [
    {
     "data": {
      "text/plain": [
       "Int64Index([6138, 6139, 6140, 6141, 6142, 6143, 6144, 6145, 6146, 6147,\n",
       "            ...\n",
       "            9571, 9572, 9573, 9574, 9575, 9576, 9577, 9578, 9579, 9580],\n",
       "           dtype='int64', length=3026)"
      ]
     },
     "execution_count": 51,
     "metadata": {},
     "output_type": "execute_result"
    }
   ],
   "source": [
    "result[result['source'] == 'NIPS'].index"
   ]
  },
  {
   "cell_type": "code",
   "execution_count": 52,
   "metadata": {
    "collapsed": false
   },
   "outputs": [
    {
     "data": {
      "text/plain": [
       "(9581, 5)"
      ]
     },
     "execution_count": 52,
     "metadata": {},
     "output_type": "execute_result"
    }
   ],
   "source": [
    "result.shape"
   ]
  },
  {
   "cell_type": "code",
   "execution_count": 53,
   "metadata": {
    "collapsed": false
   },
   "outputs": [
    {
     "data": {
      "text/html": [
       "<div>\n",
       "<table border=\"1\" class=\"dataframe\">\n",
       "  <thead>\n",
       "    <tr style=\"text-align: right;\">\n",
       "      <th></th>\n",
       "      <th>abstract</th>\n",
       "      <th>genre</th>\n",
       "      <th>source</th>\n",
       "      <th>title</th>\n",
       "      <th>year</th>\n",
       "    </tr>\n",
       "  </thead>\n",
       "  <tbody>\n",
       "    <tr>\n",
       "      <th>0</th>\n",
       "      <td>Text documents are structured on multiple le...</td>\n",
       "      <td>ML</td>\n",
       "      <td>Twitter</td>\n",
       "      <td>Document Context Language Models</td>\n",
       "      <td>2015</td>\n",
       "    </tr>\n",
       "    <tr>\n",
       "      <th>1</th>\n",
       "      <td>Despite the importance of sparsity signal mo...</td>\n",
       "      <td>ML</td>\n",
       "      <td>Twitter</td>\n",
       "      <td>Dynamic Filtering of Time-Varying Sparse Signa...</td>\n",
       "      <td>2015</td>\n",
       "    </tr>\n",
       "    <tr>\n",
       "      <th>2</th>\n",
       "      <td>In this paper, we propose a general framewor...</td>\n",
       "      <td>ML</td>\n",
       "      <td>Twitter</td>\n",
       "      <td>Learning to classify with possible sensor fail...</td>\n",
       "      <td>2015</td>\n",
       "    </tr>\n",
       "    <tr>\n",
       "      <th>3</th>\n",
       "      <td>Sampling from various kinds of distributions...</td>\n",
       "      <td>ML</td>\n",
       "      <td>Twitter</td>\n",
       "      <td>Theoretical guarantees for approximate samplin...</td>\n",
       "      <td>2015</td>\n",
       "    </tr>\n",
       "    <tr>\n",
       "      <th>4</th>\n",
       "      <td>We provide theoretical and empirical evidenc...</td>\n",
       "      <td>ML</td>\n",
       "      <td>Twitter</td>\n",
       "      <td>Non-linear Causal Inference using Gaussianity ...</td>\n",
       "      <td>2015</td>\n",
       "    </tr>\n",
       "  </tbody>\n",
       "</table>\n",
       "</div>"
      ],
      "text/plain": [
       "                                            abstract genre   source  \\\n",
       "0    Text documents are structured on multiple le...    ML  Twitter   \n",
       "1    Despite the importance of sparsity signal mo...    ML  Twitter   \n",
       "2    In this paper, we propose a general framewor...    ML  Twitter   \n",
       "3    Sampling from various kinds of distributions...    ML  Twitter   \n",
       "4    We provide theoretical and empirical evidenc...    ML  Twitter   \n",
       "\n",
       "                                               title  year  \n",
       "0                   Document Context Language Models  2015  \n",
       "1  Dynamic Filtering of Time-Varying Sparse Signa...  2015  \n",
       "2  Learning to classify with possible sensor fail...  2015  \n",
       "3  Theoretical guarantees for approximate samplin...  2015  \n",
       "4  Non-linear Causal Inference using Gaussianity ...  2015  "
      ]
     },
     "execution_count": 53,
     "metadata": {},
     "output_type": "execute_result"
    }
   ],
   "source": [
    "result.head()"
   ]
  },
  {
   "cell_type": "code",
   "execution_count": 1191,
   "metadata": {
    "collapsed": false
   },
   "outputs": [],
   "source": [
    "p = pd.DataFrame(result.groupby(['year', 'genre'])[\"title\"].count()).reset_index()"
   ]
  },
  {
   "cell_type": "code",
   "execution_count": null,
   "metadata": {
    "collapsed": false
   },
   "outputs": [],
   "source": []
  },
  {
   "cell_type": "code",
   "execution_count": 1192,
   "metadata": {
    "collapsed": false
   },
   "outputs": [
    {
     "data": {
      "text/plain": [
       "<matplotlib.axes._subplots.AxesSubplot at 0x192516850>"
      ]
     },
     "execution_count": 1192,
     "metadata": {},
     "output_type": "execute_result"
    },
    {
     "data": {
      "image/png": "[encoded data removed]",
      "text/plain": [
       "<matplotlib.figure.Figure at 0x1b3aaf210>"
      ]
     },
     "metadata": {},
     "output_type": "display_data"
    }
   ],
   "source": [
    "result.groupby(['year', 'genre']).count()[\"title\"].plot(kind=\"bar\")"
   ]
  },
  {
   "cell_type": "code",
   "execution_count": 1193,
   "metadata": {
    "collapsed": false
   },
   "outputs": [],
   "source": [
    "res_ml = result[result.genre=='ML']\n",
    "res_dl = result[result.genre=='DL']\n",
    "res_cv = result[result.genre=='CV']"
   ]
  },
  {
   "cell_type": "code",
   "execution_count": 1221,
   "metadata": {
    "collapsed": false
   },
   "outputs": [
    {
     "data": {
      "text/plain": [
       "<matplotlib.legend.Legend at 0x1be320e90>"
      ]
     },
     "execution_count": 1221,
     "metadata": {},
     "output_type": "execute_result"
    },
    {
     "data": {
      "image/png": "[encoded data removed]",
      "text/plain": [
       "<matplotlib.figure.Figure at 0x1be320e50>"
      ]
     },
     "metadata": {},
     "output_type": "display_data"
    }
   ],
   "source": [
    "fig, ax = plt.subplots()\n",
    "res_ml.groupby(['year']).count()['title'].plot()\n",
    "res_dl.groupby(['year']).count()['title'].plot()\n",
    "res_cv.groupby(['year']).count()['title'].plot()\n",
    "\n",
    "labels = [item.get_text() for item in ax.get_xticklabels()]\n",
    "labels[0] = '08'\n",
    "labels[1] = '09'\n",
    "labels[2] = '10'\n",
    "labels[3] = '11'\n",
    "labels[4] = '12'\n",
    "labels[5] = '13'\n",
    "labels[6] = '14'\n",
    "labels[7] = '15'\n",
    "labels[8] = '16'\n",
    "labels[9] = '17'\n",
    "ax.set_xticklabels(labels)\n",
    "plt.legend([\"ML\", \"DL\", \"CV\"])"
   ]
  },
  {
   "cell_type": "code",
   "execution_count": 1430,
   "metadata": {
    "collapsed": true
   },
   "outputs": [],
   "source": [
    "from scipy.optimize import curve_fit"
   ]
  },
  {
   "cell_type": "code",
   "execution_count": null,
   "metadata": {
    "collapsed": true
   },
   "outputs": [],
   "source": []
  },
  {
   "cell_type": "code",
   "execution_count": 1249,
   "metadata": {
    "collapsed": false
   },
   "outputs": [],
   "source": [
    "x_ml = np.arange(2008,2017.0,1)\n",
    "y_ml = res_ml.groupby(['year']).count()['title'].values\n",
    "z_ml = np.polyfit(x_ml, y_ml, 3)\n",
    "p_ml = np.poly1d(z_ml)"
   ]
  },
  {
   "cell_type": "code",
   "execution_count": 1665,
   "metadata": {
    "collapsed": false
   },
   "outputs": [
    {
     "data": {
      "image/png": "[encoded data removed]",
      "text/plain": [
       "<matplotlib.figure.Figure at 0x2b701fa90>"
      ]
     },
     "metadata": {},
     "output_type": "display_data"
    }
   ],
   "source": [
    "xp = np.linspace(2008.0, 2018.0, 100)\n",
    "_ = plt.plot(x_ml, y_ml, '.', xp, p_ml(xp))\n",
    "plt.ylim(-200, 6000)\n",
    "plt.legend([\"ML_pts\", \"ML_fit\"])\n",
    "plt.title(\"ML Paper Count Per Year\")\n",
    "plt.xlabel(\"Year\")\n",
    "plt.show()"
   ]
  },
  {
   "cell_type": "code",
   "execution_count": 1672,
   "metadata": {
    "collapsed": false
   },
   "outputs": [
    {
     "data": {
      "image/png": "[encoded data removed]",
      "text/plain": [
       "<matplotlib.figure.Figure at 0x2b7a76450>"
      ]
     },
     "metadata": {},
     "output_type": "display_data"
    }
   ],
   "source": [
    "x_dl = np.array([2008.0, 2009.0, 2011.0, 2012.0, 2013.0, 2014.0, 2015.0, 2016.0])\n",
    "y_dl = res_dl.groupby(['year']).count()['title'].values[:-1]\n",
    "z_dl = np.polyfit(x_dl, y_dl, 3)\n",
    "p_dl = np.poly1d(z_dl)\n",
    "\n",
    "xp = np.linspace(2008.0, 2018.0, 100)\n",
    "_ = plt.plot(x_dl, y_dl, '*', xp, p_dl(xp))\n",
    "plt.ylim(-200, 1100)\n",
    "plt.legend([\"DL_pts\", \"DL_fit\"])\n",
    "plt.title(\"DL Paper Count Per Year\")\n",
    "plt.xlabel(\"Year\")\n",
    "plt.show()"
   ]
  },
  {
   "cell_type": "code",
   "execution_count": 1542,
   "metadata": {
    "collapsed": false
   },
   "outputs": [
    {
     "name": "stderr",
     "output_type": "stream",
     "text": [
      "/usr/local/lib/python2.7/site-packages/ipykernel/__main__.py:2: RuntimeWarning: overflow encountered in exp\n",
      "  from ipykernel import kernelapp as app\n"
     ]
    },
    {
     "data": {
      "text/plain": [
       "[<matplotlib.lines.Line2D at 0x261441d10>]"
      ]
     },
     "execution_count": 1542,
     "metadata": {},
     "output_type": "execute_result"
    },
    {
     "data": {
      "image/png": "[encoded data removed]",
      "text/plain": [
       "<matplotlib.figure.Figure at 0x26160e3d0>"
      ]
     },
     "metadata": {},
     "output_type": "display_data"
    }
   ],
   "source": [
    "def exponenial_func(x, a, b, c):\n",
    "    return a*np.exp(b*x)+c\n",
    "\n",
    "popt, pcov = curve_fit(exponenial_func, x_ml, y_ml, p0=(0.0004, 0.95, 200))\n",
    "\n",
    "xx = np.linspace(8.0, 18.0, 1000)\n",
    "yy = exponenial_func(xx, *popt)\n",
    "\n",
    "plot(x,y,'ko')\n",
    "plot(xx + 2000, yy)"
   ]
  },
  {
   "cell_type": "code",
   "execution_count": null,
   "metadata": {
    "collapsed": false
   },
   "outputs": [],
   "source": []
  },
  {
   "cell_type": "code",
   "execution_count": null,
   "metadata": {
    "collapsed": true
   },
   "outputs": [],
   "source": []
  },
  {
   "cell_type": "code",
   "execution_count": null,
   "metadata": {
    "collapsed": true
   },
   "outputs": [],
   "source": []
  },
  {
   "cell_type": "code",
   "execution_count": null,
   "metadata": {
    "collapsed": true
   },
   "outputs": [],
   "source": []
  },
  {
   "cell_type": "code",
   "execution_count": null,
   "metadata": {
    "collapsed": false
   },
   "outputs": [],
   "source": []
  },
  {
   "cell_type": "code",
   "execution_count": 1251,
   "metadata": {
    "collapsed": true
   },
   "outputs": [],
   "source": [
    "result_abs = result['abstract'].tolist()"
   ]
  },
  {
   "cell_type": "code",
   "execution_count": null,
   "metadata": {
    "collapsed": false
   },
   "outputs": [],
   "source": []
  },
  {
   "cell_type": "code",
   "execution_count": 1252,
   "metadata": {
    "collapsed": false
   },
   "outputs": [],
   "source": [
    "import enchant "
   ]
  },
  {
   "cell_type": "code",
   "execution_count": 1253,
   "metadata": {
    "collapsed": false
   },
   "outputs": [],
   "source": [
    "is_english = enchant.Dict(\"en_US\")"
   ]
  },
  {
   "cell_type": "code",
   "execution_count": 491,
   "metadata": {
    "collapsed": true
   },
   "outputs": [],
   "source": [
    "tot_words = pickle.load(open(\"total_noneng_words_to_keep.pkl\", \"rb\"))\n",
    "tokeep = misspell + tot_words\n",
    "throwout = list(set(misspell) - set(tokeep))"
   ]
  },
  {
   "cell_type": "code",
   "execution_count": 1254,
   "metadata": {
    "collapsed": false
   },
   "outputs": [],
   "source": [
    "bad_words = ['tasks', 'methods', 'using', 'propose', 'based', 'problem',\n",
    "            'results', 'method', 'different', 'demonstrate', 'paper',\n",
    "            'approach', 'task', 'used', 'proposed', 'provide', 'study'\n",
    "            'use', 'problems', 'work', 'present', \"es\", \"al\", \"et\", \"em\", \"ed\", \"ca\", \n",
    "            \"ial\", \"rl\", \"ii\", \"iii\", \"res\", \"ing\", \"ts\", 'consider', \n",
    "            'include', 'issue', 'follow', 'remain', 'reation', \n",
    "            'achiev', 'techniqu', 'mage', 'cifar', 'learnng', 'ful', 'introduce',\n",
    "            'gorithms', 'ths', 'gorithm', 'featur', 'ful', 'subs', 'rs', 'ell',\n",
    "            'model', 'function', 'algorithm']\n",
    "\n",
    "bad_symb = ['\\\\',',','^',';',':','/','`','*','_','`','~','%','&','|','@',\n",
    "               '{','}','[',']','(',')','>','<','\"','#','+','.','!','=','?','$','\\'']\n",
    "\n",
    "def abstract_cleaner(abstract):\n",
    "    is_english = enchant.Dict(\"en_US\")\n",
    "    abstract = \"\".join([i for i in abstract if not i.isdigit()])\n",
    "    abstract = abstract.replace(\"\\n\", \" \")\n",
    "    abstract = abstract.replace(\"-\", \"\")\n",
    "    abstract = abstract.lower()\n",
    "    for char in bad_symb:\n",
    "        if char in abstract:\n",
    "            abstract = abstract.replace(char, \"\")\n",
    "    for char in bad_words:\n",
    "        if char.strip() in abstract.split(\" \"):\n",
    "            abstract = abstract.replace(char, \"\")\n",
    "    for word in throwout:\n",
    "        if word in abstract.split(\" \"):\n",
    "            abstract = abstract.replace(word, \"\")\n",
    "    for word in abstract:\n",
    "        if not is_english.check(word):\n",
    "            abstract = abstract.replace(word, \"\")\n",
    "    abstract = filter(None, abstract)\n",
    "    return abstract "
   ]
  },
  {
   "cell_type": "code",
   "execution_count": 1255,
   "metadata": {
    "collapsed": false
   },
   "outputs": [],
   "source": [
    "result_abs = map(str, result_abs)\n",
    "result_abs = map(abstract_cleaner, result_abs)"
   ]
  },
  {
   "cell_type": "code",
   "execution_count": 1256,
   "metadata": {
    "collapsed": true
   },
   "outputs": [],
   "source": [
    "first_word_squasher = pickle.load(open(\"first_word_squasher.pkl\", \"rb\"))\n",
    "#second_word_squasher = pickle.load(open(\"second_word_squasher.pkl\", \"rb\"))\n"
   ]
  },
  {
   "cell_type": "code",
   "execution_count": 1257,
   "metadata": {
    "collapsed": false
   },
   "outputs": [],
   "source": [
    "def first_word_squash(abstract):\n",
    "    abstract = abstract.lower()\n",
    "    for word in abstract.split(\" \"): \n",
    "        word = word.strip()\n",
    "        if word in first_word_squasher.keys():\n",
    "#             try:\n",
    "            abstract = abstract.replace(word, first_word_squasher[word]) \n",
    "#             except UnicodeDecodeError:\n",
    "#                 abstract = abstract \n",
    "    return abstract\n"
   ]
  },
  {
   "cell_type": "code",
   "execution_count": 1258,
   "metadata": {
    "collapsed": false
   },
   "outputs": [],
   "source": [
    "result_abs = map(first_word_squash, result_abs)"
   ]
  },
  {
   "cell_type": "code",
   "execution_count": 968,
   "metadata": {
    "collapsed": false
   },
   "outputs": [],
   "source": [
    "misspell = []\n",
    "# try:\n",
    "for abst in result_abs:\n",
    "    for word in abst.split(\" \"):\n",
    "        if (len(word) != 0 and not is_english.check(word.strip())):\n",
    "            misspell.append(word)\n",
    "# except ValueError:\n",
    "#     pass"
   ]
  },
  {
   "cell_type": "code",
   "execution_count": 969,
   "metadata": {
    "collapsed": false
   },
   "outputs": [],
   "source": [
    "misspell = list(set(misspell))"
   ]
  },
  {
   "cell_type": "code",
   "execution_count": 974,
   "metadata": {
    "collapsed": false
   },
   "outputs": [],
   "source": [
    "throwout = list(set(misspell) - set(tokeep))"
   ]
  },
  {
   "cell_type": "code",
   "execution_count": 970,
   "metadata": {
    "collapsed": true
   },
   "outputs": [],
   "source": [
    "mis2 = [x for x in misspell if len(x) < 3]\n",
    "mis3 = [x for x in misspell if len(x) == 3]\n",
    "mis4 = [x for x in misspell if len(x) == 4]\n",
    "mis5 = [x for x in misspell if len(x) == 5]\n",
    "mis6 = [x for x in misspell if len(x) == 6]\n",
    "mis7 = [x for x in misspell if len(x) == 7]\n",
    "mis8 = [x for x in misspell if len(x) == 8]\n",
    "mis9 = [x for x in misspell if len(x) == 9]\n",
    "mis10 = [x for x in misspell if len(x) == 10]\n",
    "mis11 = [x for x in misspell if len(x) == 11]"
   ]
  },
  {
   "cell_type": "code",
   "execution_count": 971,
   "metadata": {
    "collapsed": false
   },
   "outputs": [],
   "source": [
    "misspell = list(set(misspell) - set(mis2))\n",
    "misspell = list(set(misspell) - set(mis3))\n",
    "misspell = list(set(misspell) - set(mis4))\n",
    "misspell = list(set(misspell) - set(mis5))\n",
    "misspell = list(set(misspell) - set(mis6))\n",
    "misspell = list(set(misspell) - set(mis7))\n",
    "misspell = list(set(misspell) - set(mis8))\n",
    "misspell = list(set(misspell) - set(mis9))\n",
    "misspell = list(set(misspell) - set(mis10))\n",
    "misspell = list(set(misspell) - set(mis11))"
   ]
  },
  {
   "cell_type": "code",
   "execution_count": 972,
   "metadata": {
    "collapsed": false
   },
   "outputs": [],
   "source": [
    "tot = elevens + decs + novs + octs + septs + sexts + pents + trips + quads\n",
    "pickle.dump(tot, open(\"total_noneng_words_to_keep.pkl\", \"wb\"))"
   ]
  },
  {
   "cell_type": "code",
   "execution_count": 973,
   "metadata": {
    "collapsed": true
   },
   "outputs": [],
   "source": [
    "tot_words = pickle.load(open(\"total_noneng_words_to_keep.pkl\", \"rb\"))\n",
    "tokeep = misspell + tot_words"
   ]
  },
  {
   "cell_type": "code",
   "execution_count": null,
   "metadata": {
    "collapsed": false
   },
   "outputs": [],
   "source": []
  },
  {
   "cell_type": "code",
   "execution_count": null,
   "metadata": {
    "collapsed": false
   },
   "outputs": [],
   "source": []
  },
  {
   "cell_type": "code",
   "execution_count": 1732,
   "metadata": {
    "collapsed": false
   },
   "outputs": [
    {
     "data": {
      "text/plain": [
       "CountVectorizer(analyzer=u'word', binary=False, decode_error=u'strict',\n",
       "        dtype=<type 'numpy.int64'>, encoding=u'utf-8', input=u'content',\n",
       "        lowercase=True, max_df=0.8, max_features=None, min_df=0.005,\n",
       "        ngram_range=(1, 3), preprocessor=None, stop_words='english',\n",
       "        strip_accents=None, token_pattern=u'(?u)\\\\b\\\\w\\\\w+\\\\b',\n",
       "        tokenizer=None, vocabulary=None)"
      ]
     },
     "execution_count": 1732,
     "metadata": {},
     "output_type": "execute_result"
    }
   ],
   "source": [
    "from sklearn.feature_extraction.text import CountVectorizer\n",
    "cvec = CountVectorizer(stop_words='english', min_df=0.005, max_df=0.8, ngram_range=(1,3))\n",
    "cvec.fit(result_abs_final)"
   ]
  },
  {
   "cell_type": "code",
   "execution_count": 1733,
   "metadata": {
    "collapsed": true
   },
   "outputs": [],
   "source": [
    "df_countvect  = pd.DataFrame(cvec.transform(result_abs_final).todense(),\n",
    "             columns=cvec.get_feature_names())\n",
    "\n",
    "#df = df.transpose().sort_values(0, ascending=False).transpose()\n",
    "\n"
   ]
  },
  {
   "cell_type": "code",
   "execution_count": 1734,
   "metadata": {
    "collapsed": false
   },
   "outputs": [
    {
     "data": {
      "text/html": [
       "<div>\n",
       "<table border=\"1\" class=\"dataframe\">\n",
       "  <thead>\n",
       "    <tr style=\"text-align: right;\">\n",
       "      <th></th>\n",
       "      <th>ability</th>\n",
       "      <th>able</th>\n",
       "      <th>absence</th>\n",
       "      <th>absolute</th>\n",
       "      <th>abstract</th>\n",
       "      <th>accelerate</th>\n",
       "      <th>access</th>\n",
       "      <th>according</th>\n",
       "      <th>account</th>\n",
       "      <th>accuracies</th>\n",
       "      <th>...</th>\n",
       "      <th>window</th>\n",
       "      <th>word</th>\n",
       "      <th>works</th>\n",
       "      <th>world</th>\n",
       "      <th>worst</th>\n",
       "      <th>worstcase</th>\n",
       "      <th>years</th>\n",
       "      <th>yield</th>\n",
       "      <th>yielding</th>\n",
       "      <th>zero</th>\n",
       "    </tr>\n",
       "  </thead>\n",
       "  <tbody>\n",
       "    <tr>\n",
       "      <th>0</th>\n",
       "      <td>0</td>\n",
       "      <td>0</td>\n",
       "      <td>0</td>\n",
       "      <td>0</td>\n",
       "      <td>0</td>\n",
       "      <td>0</td>\n",
       "      <td>0</td>\n",
       "      <td>0</td>\n",
       "      <td>1</td>\n",
       "      <td>0</td>\n",
       "      <td>...</td>\n",
       "      <td>0</td>\n",
       "      <td>1</td>\n",
       "      <td>0</td>\n",
       "      <td>0</td>\n",
       "      <td>0</td>\n",
       "      <td>0</td>\n",
       "      <td>0</td>\n",
       "      <td>0</td>\n",
       "      <td>0</td>\n",
       "      <td>0</td>\n",
       "    </tr>\n",
       "    <tr>\n",
       "      <th>1</th>\n",
       "      <td>0</td>\n",
       "      <td>0</td>\n",
       "      <td>0</td>\n",
       "      <td>0</td>\n",
       "      <td>0</td>\n",
       "      <td>0</td>\n",
       "      <td>0</td>\n",
       "      <td>0</td>\n",
       "      <td>0</td>\n",
       "      <td>0</td>\n",
       "      <td>...</td>\n",
       "      <td>0</td>\n",
       "      <td>0</td>\n",
       "      <td>1</td>\n",
       "      <td>0</td>\n",
       "      <td>0</td>\n",
       "      <td>0</td>\n",
       "      <td>0</td>\n",
       "      <td>0</td>\n",
       "      <td>0</td>\n",
       "      <td>0</td>\n",
       "    </tr>\n",
       "    <tr>\n",
       "      <th>2</th>\n",
       "      <td>0</td>\n",
       "      <td>0</td>\n",
       "      <td>0</td>\n",
       "      <td>0</td>\n",
       "      <td>0</td>\n",
       "      <td>0</td>\n",
       "      <td>0</td>\n",
       "      <td>0</td>\n",
       "      <td>0</td>\n",
       "      <td>0</td>\n",
       "      <td>...</td>\n",
       "      <td>0</td>\n",
       "      <td>0</td>\n",
       "      <td>0</td>\n",
       "      <td>0</td>\n",
       "      <td>0</td>\n",
       "      <td>0</td>\n",
       "      <td>0</td>\n",
       "      <td>1</td>\n",
       "      <td>0</td>\n",
       "      <td>0</td>\n",
       "    </tr>\n",
       "    <tr>\n",
       "      <th>3</th>\n",
       "      <td>0</td>\n",
       "      <td>0</td>\n",
       "      <td>0</td>\n",
       "      <td>0</td>\n",
       "      <td>0</td>\n",
       "      <td>0</td>\n",
       "      <td>0</td>\n",
       "      <td>0</td>\n",
       "      <td>0</td>\n",
       "      <td>0</td>\n",
       "      <td>...</td>\n",
       "      <td>0</td>\n",
       "      <td>0</td>\n",
       "      <td>0</td>\n",
       "      <td>0</td>\n",
       "      <td>0</td>\n",
       "      <td>0</td>\n",
       "      <td>0</td>\n",
       "      <td>0</td>\n",
       "      <td>0</td>\n",
       "      <td>0</td>\n",
       "    </tr>\n",
       "    <tr>\n",
       "      <th>4</th>\n",
       "      <td>0</td>\n",
       "      <td>0</td>\n",
       "      <td>0</td>\n",
       "      <td>0</td>\n",
       "      <td>0</td>\n",
       "      <td>0</td>\n",
       "      <td>0</td>\n",
       "      <td>0</td>\n",
       "      <td>0</td>\n",
       "      <td>0</td>\n",
       "      <td>...</td>\n",
       "      <td>0</td>\n",
       "      <td>0</td>\n",
       "      <td>0</td>\n",
       "      <td>0</td>\n",
       "      <td>0</td>\n",
       "      <td>0</td>\n",
       "      <td>0</td>\n",
       "      <td>0</td>\n",
       "      <td>0</td>\n",
       "      <td>0</td>\n",
       "    </tr>\n",
       "  </tbody>\n",
       "</table>\n",
       "<p>5 rows × 2209 columns</p>\n",
       "</div>"
      ],
      "text/plain": [
       "   ability  able  absence  absolute  abstract  accelerate  access  according  \\\n",
       "0        0     0        0         0         0           0       0          0   \n",
       "1        0     0        0         0         0           0       0          0   \n",
       "2        0     0        0         0         0           0       0          0   \n",
       "3        0     0        0         0         0           0       0          0   \n",
       "4        0     0        0         0         0           0       0          0   \n",
       "\n",
       "   account  accuracies  ...   window  word  works  world  worst  worstcase  \\\n",
       "0        1           0  ...        0     1      0      0      0          0   \n",
       "1        0           0  ...        0     0      1      0      0          0   \n",
       "2        0           0  ...        0     0      0      0      0          0   \n",
       "3        0           0  ...        0     0      0      0      0          0   \n",
       "4        0           0  ...        0     0      0      0      0          0   \n",
       "\n",
       "   years  yield  yielding  zero  \n",
       "0      0      0         0     0  \n",
       "1      0      0         0     0  \n",
       "2      0      1         0     0  \n",
       "3      0      0         0     0  \n",
       "4      0      0         0     0  \n",
       "\n",
       "[5 rows x 2209 columns]"
      ]
     },
     "execution_count": 1734,
     "metadata": {},
     "output_type": "execute_result"
    }
   ],
   "source": [
    "df_countvect.head()"
   ]
  },
  {
   "cell_type": "code",
   "execution_count": 1685,
   "metadata": {
    "collapsed": false
   },
   "outputs": [],
   "source": [
    "vocab = cvec.vocabulary_"
   ]
  },
  {
   "cell_type": "code",
   "execution_count": 1686,
   "metadata": {
    "collapsed": false
   },
   "outputs": [
    {
     "data": {
      "text/plain": [
       "{u'localized': 920,\n",
       " u'increase': 794,\n",
       " u'shows': 1478,\n",
       " u'designing': 429,\n",
       " u'typically': 1677,\n",
       " u'projection': 1240,\n",
       " u'interaction': 832,\n",
       " u'absolute': 3,\n",
       " u'feature': 629,\n",
       " u'experimentally': 580,\n",
       " u'fit': 645,\n",
       " u'multidimensional': 1016,\n",
       " u'component': 288,\n",
       " u'series': 1461,\n",
       " u'substantially': 1582,\n",
       " u'message': 978,\n",
       " u'combinatorial': 264,\n",
       " u'adapt': 25,\n",
       " u'assignment': 110,\n",
       " u'estimate': 552,\n",
       " u'moment': 1007,\n",
       " u'purpose': 1266,\n",
       " u'needed': 1040,\n",
       " u'perturbations': 1158,\n",
       " u'tree': 1669,\n",
       " u'spectrum': 1528,\n",
       " u'recommender': 1313,\n",
       " u'subset': 1579,\n",
       " u'vertices': 1734,\n",
       " u'rich': 1396,\n",
       " u'patch': 1139,\n",
       " u'sensitivity': 1451,\n",
       " u'extend': 597,\n",
       " u'nature': 1032,\n",
       " u'extent': 603,\n",
       " u'argue': 98,\n",
       " u'source': 1514,\n",
       " u'rgb': 1395,\n",
       " u'graphical': 709,\n",
       " u'employ': 517,\n",
       " u'euclidean': 556,\n",
       " u'conditioned': 306,\n",
       " u'big': 161,\n",
       " u'computationally': 298,\n",
       " u'maximizing': 967,\n",
       " u'simulated': 1490,\n",
       " u'lasso': 885,\n",
       " u'devices': 448,\n",
       " u'role': 1409,\n",
       " u'brings': 185,\n",
       " u'scale': 1424,\n",
       " u'variable': 1720,\n",
       " u'worstcase': 1761,\n",
       " u'chain': 218,\n",
       " u'choice': 229,\n",
       " u'exact': 563,\n",
       " u'boost': 172,\n",
       " u'address': 37,\n",
       " u'example': 566,\n",
       " u'texture': 1630,\n",
       " u'posterior': 1191,\n",
       " u'optimize': 1100,\n",
       " u'opposed': 1093,\n",
       " u'theoretical': 1632,\n",
       " u'following': 656,\n",
       " u'lowrank': 937,\n",
       " u'incremental': 797,\n",
       " u'allowed': 59,\n",
       " u'improving': 788,\n",
       " u'revealed': 1392,\n",
       " u'natural': 1030,\n",
       " u'fine': 640,\n",
       " u'nonparametric': 1058,\n",
       " u'years': 1762,\n",
       " u'methodology': 979,\n",
       " u'establishing': 551,\n",
       " u'square': 1535,\n",
       " u'complicated': 287,\n",
       " u'open': 1089,\n",
       " u'average': 134,\n",
       " u'network': 1046,\n",
       " u'vision': 1740,\n",
       " u'inequalities': 806,\n",
       " u'enjoys': 532,\n",
       " u'recordings': 1319,\n",
       " u'autoencoder': 126,\n",
       " u'engineering': 530,\n",
       " u'policies': 1175,\n",
       " u'report': 1367,\n",
       " u'situation': 1496,\n",
       " u'binary': 162,\n",
       " u'tracking': 1650,\n",
       " u'dimension': 458,\n",
       " u'procs': 1232,\n",
       " u'preference': 1208,\n",
       " u'world': 1759,\n",
       " u'superiority': 1595,\n",
       " u'refer': 1329,\n",
       " u'biased': 160,\n",
       " u'robustness': 1408,\n",
       " u'formulation': 663,\n",
       " u'viewpoint': 1738,\n",
       " u'tradeoff': 1652,\n",
       " u'tight': 1638,\n",
       " u'firstorder': 643,\n",
       " u'norm': 1063,\n",
       " u'small': 1500,\n",
       " u'past': 1138,\n",
       " u'hash': 729,\n",
       " u'provably': 1255,\n",
       " u'experience': 577,\n",
       " u'provable': 1254,\n",
       " u'followed': 655,\n",
       " u'tested': 1627,\n",
       " u'learn': 891,\n",
       " u'huge': 751,\n",
       " u'variant': 1722,\n",
       " u'nonsmooth': 1060,\n",
       " u'fundamental': 675,\n",
       " u'singular': 1495,\n",
       " u'termed': 1625,\n",
       " u'entire': 535,\n",
       " u'reduce': 1326,\n",
       " u'operation': 1091,\n",
       " u'offline': 1086,\n",
       " u'belief': 152,\n",
       " u'definition': 401,\n",
       " u'leverage': 897,\n",
       " u'sublinear': 1573,\n",
       " u'severe': 1466,\n",
       " u'recognizing': 1311,\n",
       " u'internal': 838,\n",
       " u'factor': 616,\n",
       " u'valuable': 1716,\n",
       " u'justification': 868,\n",
       " u'available': 133,\n",
       " u'connection': 313,\n",
       " u'dimensional': 459,\n",
       " u'adaptation': 26,\n",
       " u'annotation': 73,\n",
       " u'representative': 1371,\n",
       " u'systematic': 1608,\n",
       " u'resulting': 1388,\n",
       " u'exponential': 592,\n",
       " u'empirical': 515,\n",
       " u'reliably': 1356,\n",
       " u'error': 545,\n",
       " u'averaging': 135,\n",
       " u'comprehensive': 293,\n",
       " u'surrogate': 1603,\n",
       " u'varying': 1728,\n",
       " u'object': 1074,\n",
       " u'clustering': 248,\n",
       " u'considerably': 319,\n",
       " u'considerable': 318,\n",
       " u'differentiable': 453,\n",
       " u'globally': 702,\n",
       " u'diverse': 482,\n",
       " u'algorithm': 53,\n",
       " u'train': 1655,\n",
       " u'resources': 1382,\n",
       " u'fewer': 632,\n",
       " u'video': 1735,\n",
       " u'correspond': 361,\n",
       " u'expressed': 594,\n",
       " u'consistently': 326,\n",
       " u'admm': 42,\n",
       " u'cnn': 249,\n",
       " u'technical': 1617,\n",
       " u'extreme': 610,\n",
       " u'sgd': 1467,\n",
       " u'confidence': 309,\n",
       " u'asymptotic': 116,\n",
       " u'integrating': 828,\n",
       " u'challenge': 219,\n",
       " u'process': 1229,\n",
       " u'supervised': 1596,\n",
       " u'robot': 1405,\n",
       " u'insight': 822,\n",
       " u'perfect': 1150,\n",
       " u'chosen': 232,\n",
       " u'forest': 659,\n",
       " u'rotation': 1410,\n",
       " u'truth': 1671,\n",
       " u'reproducing': 1374,\n",
       " u'matrix': 964,\n",
       " u'adaptive': 29,\n",
       " u'greedy': 713,\n",
       " u'removing': 1365,\n",
       " u'scene': 1427,\n",
       " u'low': 933,\n",
       " u'segment': 1439,\n",
       " u'face': 612,\n",
       " u'fact': 615,\n",
       " u'principal': 1220,\n",
       " u'entities': 536,\n",
       " u'handle': 725,\n",
       " u'frame': 667,\n",
       " u'nuclear': 1070,\n",
       " u'nongaussian': 1055,\n",
       " u'configuration': 310,\n",
       " u'observable': 1076,\n",
       " u'conclude': 303,\n",
       " u'coherence': 255,\n",
       " u'gamma': 682,\n",
       " u'gibbs': 698,\n",
       " u'infinite': 812,\n",
       " u'identity': 764,\n",
       " u'backpropagation': 139,\n",
       " u'audio': 124,\n",
       " u'select': 1441,\n",
       " u'loglikelihood': 926,\n",
       " u'web': 1750,\n",
       " u'choosing': 231,\n",
       " u'recognition': 1309,\n",
       " u'biology': 164,\n",
       " u'selecting': 1443,\n",
       " u'convergence': 347,\n",
       " u'compute': 299,\n",
       " u'details': 434,\n",
       " u'desirable': 430,\n",
       " u'entropy': 538,\n",
       " u'alternating': 61,\n",
       " u'approximation': 93,\n",
       " u'stimuli': 1551,\n",
       " u'connected': 312,\n",
       " u'residual': 1380,\n",
       " u'auxiliary': 131,\n",
       " u'obtained': 1081,\n",
       " u'highly': 746,\n",
       " u'total': 1647,\n",
       " u'negative': 1041,\n",
       " u'main': 941,\n",
       " u'considers': 322,\n",
       " u'decompose': 396,\n",
       " u'reasonable': 1302,\n",
       " u'weighted': 1752,\n",
       " u'matrices': 963,\n",
       " u'standard': 1539,\n",
       " u'detecting': 437,\n",
       " u'illustrate': 767,\n",
       " u'approximately': 91,\n",
       " u'implementation': 774,\n",
       " u'riemannian': 1398,\n",
       " u'optimum': 1102,\n",
       " u'essentially': 548,\n",
       " u'applicability': 81,\n",
       " u'characterizing': 228,\n",
       " u'perform': 1151,\n",
       " u'counterparts': 369,\n",
       " u'hand': 723,\n",
       " u'unified': 1688,\n",
       " u'visualization': 1742,\n",
       " u'similarities': 1484,\n",
       " u'requiring': 1377,\n",
       " u'rnn': 1404,\n",
       " u'boxes': 182,\n",
       " u'temporally': 1620,\n",
       " u'pose': 1185,\n",
       " u'multipliers': 1022,\n",
       " u'bound': 176,\n",
       " u'people': 1147,\n",
       " u'way': 1746,\n",
       " u'taken': 1613,\n",
       " u'decoder': 394,\n",
       " u'maximum': 968,\n",
       " u'computing': 300,\n",
       " u'test': 1626,\n",
       " u'update': 1699,\n",
       " u'concept': 302,\n",
       " u'text': 1629,\n",
       " u'entries': 537,\n",
       " u'cost': 366,\n",
       " u'avoiding': 137,\n",
       " u'appear': 79,\n",
       " u'uniform': 1689,\n",
       " u'sequential': 1459,\n",
       " u'usually': 1708,\n",
       " u'extra': 605,\n",
       " u'prove': 1256,\n",
       " u'topic': 1645,\n",
       " u'occur': 1084,\n",
       " u'product': 1235,\n",
       " u'produce': 1233,\n",
       " u'correlation': 360,\n",
       " u'brain': 183,\n",
       " u'statistical': 1547,\n",
       " u'correspondence': 362,\n",
       " u'adversarial': 46,\n",
       " u'domain': 487,\n",
       " u'furthermore': 676,\n",
       " u'divergence': 481,\n",
       " u'dependencies': 414,\n",
       " u'transition': 1664,\n",
       " u'blind': 167,\n",
       " u'dynamically': 495,\n",
       " u'offer': 1085,\n",
       " u'importantly': 781,\n",
       " u'mrf': 1012,\n",
       " u'discovered': 467,\n",
       " u'observe': 1078,\n",
       " u'difficulties': 456,\n",
       " u'privacy': 1223,\n",
       " u'linear': 911,\n",
       " u'enabling': 521,\n",
       " u'exploit': 586,\n",
       " u'solve': 1510,\n",
       " u'orientation': 1107,\n",
       " u'metric': 980,\n",
       " u'develop': 443,\n",
       " u'validate': 1713,\n",
       " u'showed': 1475,\n",
       " u'multiplicative': 1021,\n",
       " u'output': 1114,\n",
       " u'equivalent': 544,\n",
       " u'log': 923,\n",
       " u'start': 1540,\n",
       " u'proposal': 1251,\n",
       " u'embedded': 512,\n",
       " u'quantitatively': 1274,\n",
       " u'reliability': 1354,\n",
       " u'event': 560,\n",
       " u'poor': 1180,\n",
       " u'suited': 1592,\n",
       " u'pool': 1178,\n",
       " u'monte': 1008,\n",
       " u'semantic': 1445,\n",
       " u'cues': 381,\n",
       " u'learner': 893,\n",
       " u'learned': 892,\n",
       " u'modify': 1006,\n",
       " u'inspired': 823,\n",
       " u'losses': 931,\n",
       " u'marginal': 955,\n",
       " u'conventional': 345,\n",
       " u'probabilities': 1226,\n",
       " u'producing': 1234,\n",
       " u'history': 749,\n",
       " u'utilize': 1710,\n",
       " u'help': 734,\n",
       " u'hierarchy': 739,\n",
       " u'absence': 2,\n",
       " u'systems': 1610,\n",
       " u'deformation': 403,\n",
       " u'growing': 719,\n",
       " u'balance': 140,\n",
       " u'reason': 1301,\n",
       " u'perturbation': 1157,\n",
       " u'interpretation': 843,\n",
       " u'exponentially': 593,\n",
       " u'assign': 108,\n",
       " u'tighter': 1639,\n",
       " u'scheme': 1428,\n",
       " u'randomly': 1285,\n",
       " u'unconstrained': 1681,\n",
       " u'usual': 1707,\n",
       " u'physics': 1164,\n",
       " u'phenomenon': 1161,\n",
       " u'accuracies': 9,\n",
       " u'translation': 1665,\n",
       " u'competing': 278,\n",
       " u'respectively': 1384,\n",
       " u'close': 244,\n",
       " u'missing': 990,\n",
       " u'scalability': 1422,\n",
       " u'distinguish': 478,\n",
       " u'understanding': 1684,\n",
       " u'experimental': 579,\n",
       " u'generating': 692,\n",
       " u'covariance': 371,\n",
       " u'modelling': 1001,\n",
       " u'guide': 722,\n",
       " u'costly': 367,\n",
       " u'concentration': 301,\n",
       " u'composition': 291,\n",
       " u'lie': 899,\n",
       " u'calibrated': 192,\n",
       " u'consistency': 324,\n",
       " u'showing': 1476,\n",
       " u'game': 681,\n",
       " u'success': 1583,\n",
       " u'popular': 1182,\n",
       " u'mathematical': 962,\n",
       " u'describing': 424,\n",
       " u'minimax': 984,\n",
       " u'step': 1549,\n",
       " u'properly': 1246,\n",
       " u'intuitive': 852,\n",
       " u'mobile': 995,\n",
       " u'similar': 1483,\n",
       " u'popularity': 1183,\n",
       " u'convex': 349,\n",
       " u'amounts': 63,\n",
       " u'application': 83,\n",
       " u'independently': 800,\n",
       " u'correlated': 359,\n",
       " u'compact': 273,\n",
       " u'enforce': 528,\n",
       " u'gene': 685,\n",
       " u'remains': 1361,\n",
       " u'camera': 195,\n",
       " u'including': 790,\n",
       " u'temporal': 1619,\n",
       " u'special': 1521,\n",
       " u'cause': 214,\n",
       " u'completely': 283,\n",
       " u'determining': 441,\n",
       " u'times': 1642,\n",
       " u'powerful': 1195,\n",
       " u'randomized': 1284,\n",
       " u'precisely': 1199,\n",
       " u'detector': 439,\n",
       " u'reations': 1304,\n",
       " u'intrinsic': 847,\n",
       " u'repeated': 1366,\n",
       " u'achieve': 13,\n",
       " u'tend': 1621,\n",
       " u'comparable': 274,\n",
       " u'derive': 419,\n",
       " u'key': 870,\n",
       " u'estimation': 554,\n",
       " u'higherorder': 743,\n",
       " u'controlled': 344,\n",
       " u'various': 1726,\n",
       " u'semidefinite': 1446,\n",
       " u'surface': 1600,\n",
       " u'capture': 201,\n",
       " u'sensitive': 1450,\n",
       " u'generic': 695,\n",
       " u'parts': 1135,\n",
       " u'frequently': 671,\n",
       " u'increasingly': 796,\n",
       " u'density': 411,\n",
       " u'loss': 930,\n",
       " u'necessary': 1038,\n",
       " u'phenomena': 1160,\n",
       " u'demonstrates': 407,\n",
       " u'demonstrated': 406,\n",
       " u'variation': 1723,\n",
       " u'previously': 1218,\n",
       " u'additional': 34,\n",
       " u'collected': 259,\n",
       " u'gain': 679,\n",
       " u'universal': 1693,\n",
       " u'multimodal': 1019,\n",
       " u'predefined': 1201,\n",
       " u'additionally': 35,\n",
       " u'augmented': 125,\n",
       " u'investigation': 857,\n",
       " u'twostage': 1674,\n",
       " u'vast': 1729,\n",
       " u'enhance': 531,\n",
       " u'markov': 956,\n",
       " u'likely': 905,\n",
       " u'implemented': 775,\n",
       " u'suitable': 1591,\n",
       " u'exploring': 591,\n",
       " u'aligned': 55,\n",
       " u'iterative': 863,\n",
       " u'baseline': 143,\n",
       " u'attempt': 119,\n",
       " u'operate': 1090,\n",
       " u'multiarmed': 1014,\n",
       " u'combination': 263,\n",
       " u'mean': 970,\n",
       " u'realtime': 1299,\n",
       " u'gradient': 707,\n",
       " u'quantify': 1272,\n",
       " u'crucial': 380,\n",
       " u'distance': 476,\n",
       " u'extracting': 608,\n",
       " u'vector': 1730,\n",
       " u'modern': 1002,\n",
       " u'seen': 1438,\n",
       " u'seek': 1437,\n",
       " u'fitting': 646,\n",
       " u'boltzmann': 171,\n",
       " u'observation': 1077,\n",
       " u'explain': 582,\n",
       " u'blur': 169,\n",
       " u'testing': 1628,\n",
       " u'subject': 1572,\n",
       " u'artificial': 105,\n",
       " u'suggested': 1590,\n",
       " u'uncertainty': 1680,\n",
       " u'basis': 145,\n",
       " u'basic': 144,\n",
       " u'efficacy': 506,\n",
       " u'utilizing': 1711,\n",
       " u'weakly': 1749,\n",
       " u'intervals': 845,\n",
       " u'directly': 464,\n",
       " u'assigned': 109,\n",
       " u'human': 752,\n",
       " u'character': 224,\n",
       " u'occlusion': 1083,\n",
       " u'performing': 1154,\n",
       " u'deal': 391,\n",
       " u'predicting': 1204,\n",
       " u'automatically': 129,\n",
       " u'depend': 412,\n",
       " u'involve': 858,\n",
       " u'item': 861,\n",
       " u'round': 1411,\n",
       " u'dealing': 392,\n",
       " u'slow': 1499,\n",
       " u'multitask': 1024,\n",
       " u'box': 181,\n",
       " u'shift': 1472,\n",
       " u'simultaneous': 1492,\n",
       " u'theorem': 1631,\n",
       " u'making': 947,\n",
       " u'nearest': 1034,\n",
       " u'sample': 1418,\n",
       " u'simulation': 1491,\n",
       " u'map': 952,\n",
       " u'end': 525,\n",
       " u'cascade': 207,\n",
       " u'group': 717,\n",
       " u'interesting': 835,\n",
       " u'policy': 1176,\n",
       " u'description': 425,\n",
       " u'emerged': 514,\n",
       " u'bayes': 147,\n",
       " u'advance': 44,\n",
       " u'little': 916,\n",
       " u'inferring': 811,\n",
       " u'efficient': 508,\n",
       " u'performance': 1152,\n",
       " u'beta': 157,\n",
       " u'threshold': 1636,\n",
       " u'aim': 52,\n",
       " u'nearly': 1035,\n",
       " u'relative': 1349,\n",
       " u'label': 875,\n",
       " u'considering': 321,\n",
       " u'tuning': 1672,\n",
       " u'capable': 199,\n",
       " u'promising': 1242,\n",
       " u'relying': 1359,\n",
       " u'speech': 1529,\n",
       " u'extended': 598,\n",
       " u'invariance': 853,\n",
       " u'largely': 882,\n",
       " u'grid': 714,\n",
       " u'identifying': 763,\n",
       " u'moving': 1011,\n",
       " u'imagee': 769,\n",
       " u'matching': 961,\n",
       " u'confirm': 311,\n",
       " u'extensively': 602,\n",
       " u'decomposition': 397,\n",
       " u'mixed': 991,\n",
       " u'undirected': 1686,\n",
       " u'deep': 398,\n",
       " u'general': 686,\n",
       " u'examine': 565,\n",
       " u'enable': 520,\n",
       " u'important': 780,\n",
       " u'zero': 1765,\n",
       " u'perspective': 1156,\n",
       " u'public': 1262,\n",
       " u'comparing': 276,\n",
       " u'recall': 1305,\n",
       " u'regularity': 1340,\n",
       " u'specialized': 1522,\n",
       " u'minimum': 988,\n",
       " u'suffer': 1586,\n",
       " u'pca': 1144,\n",
       " u'encouraging': 524,\n",
       " u'energy': 527,\n",
       " u'hard': 727,\n",
       " u'covariates': 372,\n",
       " u'evaluation': 559,\n",
       " u'foreground': 658,\n",
       " u'enforcing': 529,\n",
       " u'conducted': 308,\n",
       " u'assumption': 115,\n",
       " u'variational': 1724,\n",
       " u'depending': 417,\n",
       " u'majority': 945,\n",
       " u'extremely': 611,\n",
       " u'converge': 346,\n",
       " u'minimizing': 987,\n",
       " u'distributed': 479,\n",
       " u'experiment': 578,\n",
       " u'curvature': 385,\n",
       " u'intractable': 846,\n",
       " u'remove': 1364,\n",
       " u'common': 268,\n",
       " u'logistic': 925,\n",
       " u'previous': 1217,\n",
       " u'expert': 581,\n",
       " u'complementary': 281,\n",
       " u'complement': 280,\n",
       " u'point': 1173,\n",
       " u'simple': 1487,\n",
       " u'simply': 1489,\n",
       " u'adaptively': 30,\n",
       " u'expensive': 576,\n",
       " u'raw': 1294,\n",
       " u'development': 446,\n",
       " u'lda': 888,\n",
       " u'shape': 1468,\n",
       " u'alternative': 62,\n",
       " u'decision': 393,\n",
       " u'constraint': 330,\n",
       " u'conditional': 305,\n",
       " u'exploration': 589,\n",
       " u'constant': 328,\n",
       " u'discrepancy': 469,\n",
       " u'implies': 778,\n",
       " u'implicitly': 777,\n",
       " u'carlo': 204,\n",
       " u'scientific': 1430,\n",
       " u'access': 6,\n",
       " u'leveraging': 898,\n",
       " u'jointly': 866,\n",
       " u'saliency': 1416,\n",
       " u'implement': 773,\n",
       " u'composed': 289,\n",
       " u'convolutional': 352,\n",
       " u'iid': 765,\n",
       " u'normalized': 1066,\n",
       " u'account': 8,\n",
       " u'mixture': 993,\n",
       " u'subsequently': 1578,\n",
       " u'greater': 711,\n",
       " u'socalled': 1505,\n",
       " u'approaches': 88,\n",
       " u'automatic': 128,\n",
       " u'intermediate': 837,\n",
       " u'explanation': 583,\n",
       " u'relatively': 1350,\n",
       " u'takes': 1614,\n",
       " u'disease': 475,\n",
       " u'knowledge': 873,\n",
       " u'fixed': 647,\n",
       " u'constructing': 333,\n",
       " u'unbiased': 1679,\n",
       " u'pattern': 1143,\n",
       " u'identification': 760,\n",
       " u'invariant': 854,\n",
       " u'boundary': 178,\n",
       " u'equal': 541,\n",
       " u'relevant': 1353,\n",
       " u'certain': 217,\n",
       " u'anomaly': 74,\n",
       " u'multi': 1013,\n",
       " u'wellknown': 1753,\n",
       " u'manually': 951,\n",
       " u'regression': 1336,\n",
       " u'sequentially': 1460,\n",
       " u'poisson': 1174,\n",
       " u'infer': 808,\n",
       " u'variance': 1721,\n",
       " u'behavioral': 150,\n",
       " u'neural': 1047,\n",
       " u'arising': 100,\n",
       " u'like': 903,\n",
       " u'classical': 236,\n",
       " u'recommendation': 1312,\n",
       " u'assuming': 114,\n",
       " u'actual': 22,\n",
       " u'introduces': 849,\n",
       " u'introduced': 848,\n",
       " u'functional': 674,\n",
       " u'ridge': 1397,\n",
       " u'limited': 908,\n",
       " u'poorly': 1181,\n",
       " u'phase': 1159,\n",
       " u'consistent': 325,\n",
       " u'direct': 461,\n",
       " u'selected': 1442,\n",
       " u'represented': 1372,\n",
       " u'procedure': 1228,\n",
       " u'fourier': 665,\n",
       " u'spike': 1532,\n",
       " u'highquality': 747,\n",
       " u'excellent': 567,\n",
       " u'preserving': 1215,\n",
       " u'reach': 1295,\n",
       " u'ones': 1087,\n",
       " u'lot': 932,\n",
       " u'parallel': 1123,\n",
       " u'complexity': 286,\n",
       " u'mcmc': 969,\n",
       " u'large': 881,\n",
       " u'quality': 1271,\n",
       " u'independence': 798,\n",
       " u'boosting': 173,\n",
       " u'longterm': 929,\n",
       " u'filter': 634,\n",
       " u'primary': 1219,\n",
       " u'rank': 1288,\n",
       " u'corpus': 356,\n",
       " u'bridge': 184,\n",
       " u'traditionally': 1654,\n",
       " u'despite': 432,\n",
       " u'valid': 1712,\n",
       " u'generally': 690,\n",
       " u'detection': 438,\n",
       " u'weak': 1747,\n",
       " u'quickly': 1281,\n",
       " u'expected': 575,\n",
       " u'suggest': 1589,\n",
       " u'numerical': 1072,\n",
       " u'validation': 1714,\n",
       " u'able': 1,\n",
       " u'proposes': 1252,\n",
       " u'interestingly': 836,\n",
       " u'arbitrary': 95,\n",
       " u'successfully': 1585,\n",
       " u'ensure': 534,\n",
       " u'improvement': 787,\n",
       " u'runtime': 1415,\n",
       " u'modalities': 996,\n",
       " u'obtaining': 1082,\n",
       " u'transform': 1661,\n",
       " u'regime': 1334,\n",
       " u'setting': 1464,\n",
       " u'faster': 625,\n",
       " u'corresponding': 363,\n",
       " u'focus': 651,\n",
       " u'inverse': 855,\n",
       " u'discovering': 468,\n",
       " u'impressive': 785,\n",
       " u'level': 896,\n",
       " u'representation': 1370,\n",
       " u'serve': 1462,\n",
       " u'presence': 1211,\n",
       " u'processes': 1230,\n",
       " u'term': 1624,\n",
       " u'contain': 335,\n",
       " u'turn': 1673,\n",
       " u'generative': 694,\n",
       " u'necessarily': 1037,\n",
       " u'finding': 638,\n",
       " u'easier': 498,\n",
       " u'population': 1184,\n",
       " u'unfortunately': 1687,\n",
       " u'outcome': 1110,\n",
       " u'reduction': 1328,\n",
       " u'generalization': 687,\n",
       " u'parameterized': 1125,\n",
       " u'epsilon': 540,\n",
       " u'sequence': 1458,\n",
       " u'state': 1542,\n",
       " u'outperform': 1112,\n",
       " u'predicted': 1203,\n",
       " u'imposing': 783,\n",
       " u'subsequent': 1577,\n",
       " u'filtering': 635,\n",
       " u'direction': 463,\n",
       " u'case': 208,\n",
       " u'cast': 209,\n",
       " u'coupled': 370,\n",
       " u'relies': 1357,\n",
       " u'optima': 1095,\n",
       " u'estimator': 555,\n",
       " u'theoretically': 1633,\n",
       " u'estimating': 553,\n",
       " u'treat': 1666,\n",
       " u'pretrained': 1216,\n",
       " u'measurement': 973,\n",
       " u'multiclass': 1015,\n",
       " u'deviation': 447,\n",
       " u'collaborative': 257,\n",
       " u'subspace': 1580,\n",
       " u'generalize': 688,\n",
       " u'research': 1378,\n",
       " u'multiview': 1026,\n",
       " u'stochastic': 1553,\n",
       " u'activities': 20,\n",
       " u'incorporate': 792,\n",
       " u'employing': 519,\n",
       " u'sum': 1593,\n",
       " u'version': 1733,\n",
       " u'discrete': 470,\n",
       " u'behaviour': 151,\n",
       " u'compressed': 294,\n",
       " u'known': 874,\n",
       " u'goal': 703,\n",
       " u'ubiquitous': 1678,\n",
       " u'lighting': 902,\n",
       " u'short': 1473,\n",
       " u'expectationmaximization': 574,\n",
       " u'supervision': 1597,\n",
       " u'developed': 444,\n",
       " u'major': 944,\n",
       " u'style': 1571,\n",
       " u'affine': 48,\n",
       " u'communities': 271,\n",
       " u'weight': 1751,\n",
       " u'consequence': 316,\n",
       " u'leading': 890,\n",
       " u'gpu': 706,\n",
       " u'optical': 1094,\n",
       " u'kind': 871,\n",
       " u'pairwise': 1121,\n",
       " u'probabilistic': 1225,\n",
       " u'unsupervised': 1698,\n",
       " u'traditional': 1653,\n",
       " u'contextual': 339,\n",
       " u'investigate': 856,\n",
       " u'numerous': 1073,\n",
       " u'response': 1385,\n",
       " u'acquisition': 16,\n",
       " u'quantization': 1277,\n",
       " u'bandit': 141,\n",
       " u'context': 338,\n",
       " u'precision': 1200,\n",
       " u'higher': 742,\n",
       " u'literature': 915,\n",
       " u'systematically': 1609,\n",
       " u'separately': 1456,\n",
       " u'collect': 258,\n",
       " u'essential': 547,\n",
       " u'pipeline': 1166,\n",
       " u'range': 1286,\n",
       " u'analyze': 69,\n",
       " u'partitioning': 1134,\n",
       " u'consist': 323,\n",
       " u'characteristic': 225,\n",
       " u'modeled': 999,\n",
       " u'allowing': 60,\n",
       " u'broad': 186,\n",
       " u'dramatically': 488,\n",
       " u'smaller': 1501,\n",
       " u'multivariate': 1025,\n",
       " u'hypothesis': 757,\n",
       " u'degree': 404,\n",
       " u'explore': 590,\n",
       " u'performed': 1153,\n",
       " u'dependent': 416,\n",
       " u'instead': 825,\n",
       " u'interpreted': 844,\n",
       " u'superior': 1594,\n",
       " u'behavior': 149,\n",
       " u'sentiment': 1454,\n",
       " u'choose': 230,\n",
       " u'publicly': 1263,\n",
       " u'unknown': 1694,\n",
       " u'inner': 820,\n",
       " u'dynamical': 494,\n",
       " u'limiting': 909,\n",
       " u'class': 233,\n",
       " u'neighboring': 1044,\n",
       " u'hierarchical': 738,\n",
       " u'local': 917,\n",
       " u'differential': 454,\n",
       " u'queries': 1278,\n",
       " u'maximize': 966,\n",
       " u'cells': 215,\n",
       " u'predictive': 1206,\n",
       " u'requirement': 1376,\n",
       " u'acquired': 15,\n",
       " u'focuses': 653,\n",
       " u'variability': 1719,\n",
       " u'ability': 0,\n",
       " u'bottomup': 175,\n",
       " u'unlike': 1696,\n",
       " u'largest': 884,\n",
       " u'difficult': 455,\n",
       " u'heavily': 733,\n",
       " u'obtain': 1080,\n",
       " u'attractive': 122,\n",
       " u'usage': 1702,\n",
       " u'facial': 613,\n",
       " u'carried': 205,\n",
       " u'promise': 1241,\n",
       " u'artifacts': 104,\n",
       " u'transfer': 1660,\n",
       " u'support': 1598,\n",
       " u'quadratic': 1268,\n",
       " u'volume': 1745,\n",
       " u'automated': 127,\n",
       " u'private': 1224,\n",
       " u'approximate': 90,\n",
       " u'mutual': 1027,\n",
       " u'favorable': 626,\n",
       " u'database': 388,\n",
       " u'reliable': 1355,\n",
       " u'budget': 187,\n",
       " u'second': 1435,\n",
       " u'optimization': 1099,\n",
       " u'increasing': 795,\n",
       " u'reported': 1368,\n",
       " u'yield': 1763,\n",
       " u'classification': 237,\n",
       " u'unit': 1692,\n",
       " u'presents': 1213,\n",
       " u'voc': 1743,\n",
       " u'successful': 1584,\n",
       " u'expressive': 596,\n",
       " u'machine': 939,\n",
       " u'nontrivial': 1061,\n",
       " u'place': 1168,\n",
       " u'classify': 239,\n",
       " u'computation': 296,\n",
       " u'effective': 503,\n",
       " u'feedback': 630,\n",
       " u'vary': 1727,\n",
       " u'convexity': 350,\n",
       " u'hidden': 737,\n",
       " u'structural': 1565,\n",
       " u'regrsion': 1338,\n",
       " u'given': 699,\n",
       " u'similarly': 1486,\n",
       " u'returns': 1390,\n",
       " u'ranging': 1287,\n",
       " u'iteration': 862,\n",
       " u'gives': 700,\n",
       " u'specify': 1526,\n",
       " u'addrs': 40,\n",
       " u'coefficient': 253,\n",
       " u'result': 1387,\n",
       " u'fail': 618,\n",
       " u'best': 156,\n",
       " u'implicit': 776,\n",
       " u'score': 1431,\n",
       " u'preserve': 1214,\n",
       " u'topology': 1646,\n",
       " u'adapted': 27,\n",
       " u'extraction': 609,\n",
       " u'location': 922,\n",
       " u'characterize': 227,\n",
       " u'cumulative': 382,\n",
       " u'mnist': 994,\n",
       " u'ideal': 759,\n",
       " u'easy': 500,\n",
       " u'formal': 661,\n",
       " u'possible': 1189,\n",
       " u'possibly': 1190,\n",
       " u'unique': 1691,\n",
       " u'nonnegative': 1057,\n",
       " u'slightly': 1498,\n",
       " u'reducing': 1327,\n",
       " u'overhead': 1118,\n",
       " u'convergent': 348,\n",
       " u'exist': 569,\n",
       " u'time': 1641,\n",
       " u'dimensionality': 460,\n",
       " u'solver': 1511,\n",
       " u'setup': 1465,\n",
       " u'prediction': 1205,\n",
       " u'current': 383,\n",
       " u'view': 1736,\n",
       " u'studied': 1567,\n",
       " u'commonly': 269,\n",
       " u'studies': 1568,\n",
       " u'positive': 1187,\n",
       " u'crowdsourcing': 379,\n",
       " u'introducing': 850,\n",
       " u'visual': 1741,\n",
       " u'descriptor': 426,\n",
       " u'parameter': 1124,\n",
       " u'expectation': 573,\n",
       " u'data': 387,\n",
       " u'yielding': 1764,\n",
       " u'reveal': 1391,\n",
       " u'matches': 960,\n",
       " u'records': 1320,\n",
       " u'maintaining': 943,\n",
       " u'matched': 959,\n",
       " u'million': 982,\n",
       " u'possibility': 1188,\n",
       " u'quite': 1282,\n",
       " u'massive': 957,\n",
       " u'intuition': 851,\n",
       " u'indicate': 802,\n",
       " u'proving': 1260,\n",
       " u'future': 678,\n",
       " u'link': 913,\n",
       " u'iteratively': 864,\n",
       " u'expression': 595,\n",
       " u'locally': 921,\n",
       " u'reconstructing': 1316,\n",
       " u'influence': 813,\n",
       " u'activity': 21,\n",
       " u'propagation': 1244,\n",
       " u'stateoftheart': 1543,\n",
       " u'allocation': 57,\n",
       " u'manifold': 948,\n",
       " u'noise': 1052,\n",
       " u'grouping': 718,\n",
       " u'existing': 571,\n",
       " u'revisit': 1393,\n",
       " u'power': 1194,\n",
       " u'neighbor': 1042,\n",
       " u'image': 768,\n",
       " u'patients': 1142,\n",
       " u'complete': 282,\n",
       " u'detailed': 433,\n",
       " u'ad': 24,\n",
       " u'spatial': 1518,\n",
       " u'vocabulary': 1744,\n",
       " u'having': 731,\n",
       " u'original': 1108,\n",
       " u'reasoning': 1303,\n",
       " ...}"
      ]
     },
     "execution_count": 1686,
     "metadata": {},
     "output_type": "execute_result"
    }
   ],
   "source": [
    "vocab"
   ]
  },
  {
   "cell_type": "code",
   "execution_count": 1687,
   "metadata": {
    "collapsed": false
   },
   "outputs": [],
   "source": [
    "counts = [(key, value) for key, value in dict(df_countvect.sum(axis=0).sort_values(ascending=False)).items()]\n",
    "counts.sort(key=lambda x: x[1], reverse=True)"
   ]
  },
  {
   "cell_type": "code",
   "execution_count": null,
   "metadata": {
    "collapsed": false
   },
   "outputs": [],
   "source": []
  },
  {
   "cell_type": "code",
   "execution_count": 1688,
   "metadata": {
    "collapsed": false
   },
   "outputs": [
    {
     "data": {
      "text/plain": [
       "1737"
      ]
     },
     "execution_count": 1688,
     "metadata": {},
     "output_type": "execute_result"
    }
   ],
   "source": [
    "df_count_dict = dict(df_countvect.sum(axis=0).sort_values(ascending=False))\n",
    "counts_new = { k:v for k, v in df_count_dict.items() if v < 2000}\n",
    "len(counts_new)"
   ]
  },
  {
   "cell_type": "code",
   "execution_count": 1689,
   "metadata": {
    "collapsed": false
   },
   "outputs": [],
   "source": [
    "keeps = {'image': 5067, 'network': 3930, 'performance': 3274, 'neural': 2342, 'optimization': 2173}\n",
    "counts_new.update(keeps)\n"
   ]
  },
  {
   "cell_type": "code",
   "execution_count": 1736,
   "metadata": {
    "collapsed": false
   },
   "outputs": [],
   "source": [
    "# df_countvect = df_countvect[[col for col in counts_new.keys()]]\n",
    "# df_countvect.shape\n",
    "# for col in df_countvect.columns:\n",
    "#     col.replace(\"model\", \"\")\n",
    "#     col.replace(\"learning\", \"\")\n",
    "df_countvect.drop(['algorithm', 'model', 'learning', 'network', 'data'], axis=1, inplace=True)\n",
    "df_countvect.drop(['function', 'new', 'set', 'use'], axis=1, inplace=True)"
   ]
  },
  {
   "cell_type": "code",
   "execution_count": 1737,
   "metadata": {
    "collapsed": false
   },
   "outputs": [],
   "source": [
    "df_count_2008 = df_countvect.iloc[result[result.year==2008].index,:]\n",
    "df_count_2009 = df_countvect.iloc[result[result.year==2009].index,:]\n",
    "df_count_2010 = df_countvect.iloc[result[result.year==2010].index,:]\n",
    "df_count_2011 = df_countvect.iloc[result[result.year==2011].index,:]\n",
    "df_count_2012 = df_countvect.iloc[result[result.year==2012].index,:]\n",
    "df_count_2013 = df_countvect.iloc[result[result.year==2013].index,:]\n",
    "df_count_2014 = df_countvect.iloc[result[result.year==2014].index,:]\n",
    "df_count_2015 = df_countvect.iloc[result[result.year==2015].index,:]\n",
    "df_count_2016 = df_countvect.iloc[result[result.year==2016].index,:]\n",
    "df_count_2017 = df_countvect.iloc[result[result.year==2017].index,:]"
   ]
  },
  {
   "cell_type": "code",
   "execution_count": 1738,
   "metadata": {
    "collapsed": false
   },
   "outputs": [],
   "source": [
    "df_count_NIPS = df_countvect.iloc[result[result.source=='NIPS'].index,:]\n",
    "df_count_Twitter = df_countvect.iloc[result[result.source=='Twitter'].index,:]\n",
    "df_count_arXiv = df_countvect.iloc[result[result.source=='arXiv'].index,:]\n",
    "df_count_OpenReview = df_countvect.iloc[result[result.source=='OpenReview'].index,:]\n",
    "df_count_CVPR = df_countvect.iloc[result[result.source=='CVPR'].index,:]\n",
    "df_count_ICLR = df_countvect.iloc[result[result.source=='ICLR'].index,:]\n",
    "df_count_JMLR = df_countvect.iloc[result[result.source=='JMLR'].index,:]"
   ]
  },
  {
   "cell_type": "code",
   "execution_count": 1739,
   "metadata": {
    "collapsed": false
   },
   "outputs": [],
   "source": [
    "df_cnt_NIPS8 = df_countvect.iloc[result[(result.source=='NIPS') & (result.year==2008)].index,:]\n",
    "df_cnt_NIPS9 = df_countvect.iloc[result[(result.source=='NIPS') & (result.year==2009)].index,:]\n",
    "df_cnt_NIPS10 = df_countvect.iloc[result[(result.source=='NIPS') & (result.year==2010)].index,:]\n",
    "df_cnt_NIPS11 = df_countvect.iloc[result[(result.source=='NIPS') & (result.year==2011)].index,:]\n",
    "df_cnt_NIPS12 = df_countvect.iloc[result[(result.source=='NIPS') & (result.year==2012)].index,:]\n",
    "df_cnt_NIPS13 = df_countvect.iloc[result[(result.source=='NIPS') & (result.year==2013)].index,:]\n",
    "df_cnt_NIPS14 = df_countvect.iloc[result[(result.source=='NIPS') & (result.year==2014)].index,:]\n",
    "df_cnt_NIPS15 = df_countvect.iloc[result[(result.source=='NIPS') & (result.year==2015)].index,:]\n",
    "df_cnt_NIPS16 = df_countvect.iloc[result[(result.source=='NIPS') & (result.year==2016)].index,:]\n",
    "df_cnt_NIPS17 = df_countvect.iloc[result[(result.source=='NIPS') & (result.year==2017)].index,:]"
   ]
  },
  {
   "cell_type": "code",
   "execution_count": 1709,
   "metadata": {
    "collapsed": false
   },
   "outputs": [],
   "source": [
    "def make_dict(adf): \n",
    "    p = pd.DataFrame(adf)\n",
    "    p.reset_index(inplace=True)\n",
    "    p.columns = ['word', 'freq']\n",
    "    p = p[p.freq != 0]\n",
    "    p_dict = pd.Series(p.freq.values,index=p.word).to_dict()\n",
    "    return p_dict"
   ]
  },
  {
   "cell_type": "code",
   "execution_count": 1723,
   "metadata": {
    "collapsed": true
   },
   "outputs": [],
   "source": [
    "txt = []\n",
    "def my_func(dic):\n",
    "    for w in dic.keys():\n",
    "        ws = (w + \" \") * dic[w]\n",
    "        txt.append(ws)\n",
    "    return txt\n",
    "\n",
    "def write_file(data):\n",
    "    file_name = r'count_2016.txt'\n",
    "    with open(file_name, 'wb') as txt_file:\n",
    "        for item in txt:\n",
    "            txt_file.write(\"%s\" % item)\n",
    "\n",
    "def run(adf):\n",
    "    data = my_func(make_dict(adf))\n",
    "    write_file(data)\n",
    "\n",
    "run(df_count_2016.sum(axis=0).sort_values(ascending=False))"
   ]
  },
  {
   "cell_type": "code",
   "execution_count": 1717,
   "metadata": {
    "collapsed": false
   },
   "outputs": [],
   "source": [
    "dii = make_dict(df_cnt_NIPS8.sum(axis=0).sort_values(ascending=False))"
   ]
  },
  {
   "cell_type": "code",
   "execution_count": null,
   "metadata": {
    "collapsed": false
   },
   "outputs": [],
   "source": []
  },
  {
   "cell_type": "code",
   "execution_count": 1715,
   "metadata": {
    "collapsed": false
   },
   "outputs": [
    {
     "data": {
      "text/plain": [
       "bound               72\n",
       "kernel              71\n",
       "distribution        66\n",
       "structure           65\n",
       "performance         60\n",
       "feature             59\n",
       "approximate         57\n",
       "information         56\n",
       "image               53\n",
       "framework           48\n",
       "inference           48\n",
       "linear              47\n",
       "sample              47\n",
       "large               45\n",
       "graph               45\n",
       "space               45\n",
       "process             45\n",
       "object              45\n",
       "bayesian            44\n",
       "analysis            43\n",
       "number              43\n",
       "classification      42\n",
       "variable            41\n",
       "control             39\n",
       "novel               39\n",
       "compare             39\n",
       "neural              39\n",
       "clustering          39\n",
       "error               38\n",
       "experiment          38\n",
       "                    ..\n",
       "lstm                 0\n",
       "boxes                0\n",
       "hash                 0\n",
       "communities          0\n",
       "community            0\n",
       "interpretability     0\n",
       "discovered           0\n",
       "reconstructed        0\n",
       "interpretable        0\n",
       "bottomup             0\n",
       "traditionally        0\n",
       "tailored             0\n",
       "normalization        0\n",
       "body                 0\n",
       "blur                 0\n",
       "reconstruct          0\n",
       "recommendation       0\n",
       "blackbox             0\n",
       "largest              0\n",
       "disease              0\n",
       "hardware             0\n",
       "universal            0\n",
       "big                  0\n",
       "nuclear              0\n",
       "unseen               0\n",
       "updating             0\n",
       "beta                 0\n",
       "recommender          0\n",
       "numerous             0\n",
       "bit                  0\n",
       "dtype: int64"
      ]
     },
     "execution_count": 1715,
     "metadata": {},
     "output_type": "execute_result"
    }
   ],
   "source": [
    "df_cnt_NIPS8.sum(axis=0).sort_values(ascending=False)"
   ]
  },
  {
   "cell_type": "code",
   "execution_count": 1675,
   "metadata": {
    "collapsed": false
   },
   "outputs": [],
   "source": [
    "# data08 = [('model', 268), ('algorithm', 212), ('learning', 203), ('data', 200)]\n",
    "# names08, values08 = zip(*data08)  \n",
    "\n",
    "# N = 4 # number of groups (number words)\n",
    "# ind = np.arange(N)  # the x locations for the groups\n",
    "# width = 0.25       # the width of the bars\n",
    "\n",
    "# fig, ax = plt.subplots()\n",
    "# rects08 = ax.bar(ind, values08, width, color='r')\n",
    "\n",
    "# data09 = [('model', 384), ('learning', 280), ('algorithm', 248), ('data', 204)]\n",
    "# names09, values09 = zip(*data09)\n",
    "# rects09 = ax.bar(ind + width, values09, width, color='y')\n",
    "\n",
    "# # add some text for labels, title and axes ticks\n",
    "# ax.set_ylabel('Count')\n",
    "# ax.set_xticks(ind+width/2.)\n",
    "# ax.set_xticklabels(names08, rotation=90)\n",
    "\n",
    "# ax.legend((rects08[0], rects09[0]), ('08', '09'))\n",
    "\n",
    "# def autolabel(rects):\n",
    "#     # attach some text labels\n",
    "#     for rect in rects:\n",
    "#         height = rect.get_height()\n",
    "#         ax.text(rect.get_x() + rect.get_width()/2., 1.05*height,\n",
    "#                 '%d' % int(height),\n",
    "#                 ha='center', va='bottom')\n",
    "\n",
    "# autolabel(rects08)\n",
    "# autolabel(rects09)\n",
    "\n",
    "# plt.show()"
   ]
  },
  {
   "cell_type": "code",
   "execution_count": 1415,
   "metadata": {
    "collapsed": false
   },
   "outputs": [
    {
     "data": {
      "text/plain": [
       "function        144\n",
       "image           110\n",
       "distribution     96\n",
       "set              91\n",
       "feature          82\n",
       "number           78\n",
       "object           76\n",
       "experiment       76\n",
       "large            71\n",
       "use              69\n",
       "dtype: int64"
      ]
     },
     "execution_count": 1415,
     "metadata": {},
     "output_type": "execute_result"
    }
   ],
   "source": [
    "df_count_2009.sum(axis=0).sort_values(ascending=False)[:10]"
   ]
  },
  {
   "cell_type": "code",
   "execution_count": 1416,
   "metadata": {
    "collapsed": false
   },
   "outputs": [
    {
     "data": {
      "text/plain": [
       "function        164\n",
       "structure       109\n",
       "feature         103\n",
       "network          94\n",
       "image            93\n",
       "set              87\n",
       "distribution     85\n",
       "number           83\n",
       "use              81\n",
       "parameter        78\n",
       "dtype: int64"
      ]
     },
     "execution_count": 1416,
     "metadata": {},
     "output_type": "execute_result"
    }
   ],
   "source": [
    "df_count_2010.sum(axis=0).sort_values(ascending=False)[:10]"
   ]
  },
  {
   "cell_type": "code",
   "execution_count": 1417,
   "metadata": {
    "collapsed": false
   },
   "outputs": [
    {
     "data": {
      "text/plain": [
       "function        128\n",
       "feature         115\n",
       "structure       114\n",
       "image           103\n",
       "set             100\n",
       "number           99\n",
       "distribution     92\n",
       "information      78\n",
       "sparse           75\n",
       "bound            70\n",
       "dtype: int64"
      ]
     },
     "execution_count": 1417,
     "metadata": {},
     "output_type": "execute_result"
    }
   ],
   "source": [
    "df_count_2011.sum(axis=0).sort_values(ascending=False)[:10]"
   ]
  },
  {
   "cell_type": "code",
   "execution_count": 1418,
   "metadata": {
    "collapsed": false
   },
   "outputs": [
    {
     "data": {
      "text/plain": [
       "function        168\n",
       "feature         122\n",
       "inference       109\n",
       "distribution    105\n",
       "bound           100\n",
       "number           96\n",
       "novel            93\n",
       "structure        91\n",
       "use              89\n",
       "approximate      88\n",
       "dtype: int64"
      ]
     },
     "execution_count": 1418,
     "metadata": {},
     "output_type": "execute_result"
    }
   ],
   "source": [
    "df_count_2012.sum(axis=0).sort_values(ascending=False)[:10]"
   ]
  },
  {
   "cell_type": "code",
   "execution_count": 1419,
   "metadata": {
    "collapsed": false
   },
   "outputs": [
    {
     "data": {
      "text/plain": [
       "image        860\n",
       "feature      484\n",
       "object       484\n",
       "dataset      389\n",
       "function     383\n",
       "set          370\n",
       "structure    355\n",
       "number       336\n",
       "novel        305\n",
       "large        298\n",
       "dtype: int64"
      ]
     },
     "execution_count": 1419,
     "metadata": {},
     "output_type": "execute_result"
    }
   ],
   "source": [
    "df_count_2013.sum(axis=0).sort_values(ascending=False)[:10]"
   ]
  },
  {
   "cell_type": "code",
   "execution_count": 1420,
   "metadata": {
    "collapsed": false
   },
   "outputs": [
    {
     "data": {
      "text/plain": [
       "image         882\n",
       "feature       556\n",
       "dataset       502\n",
       "function      450\n",
       "object        442\n",
       "set           382\n",
       "structure     380\n",
       "experiment    341\n",
       "use           336\n",
       "large         332\n",
       "dtype: int64"
      ]
     },
     "execution_count": 1420,
     "metadata": {},
     "output_type": "execute_result"
    }
   ],
   "source": [
    "df_count_2014.sum(axis=0).sort_values(ascending=False)[:10]"
   ]
  },
  {
   "cell_type": "code",
   "execution_count": 1426,
   "metadata": {
    "collapsed": false
   },
   "outputs": [
    {
     "data": {
      "text/plain": [
       "image           1182\n",
       "dataset          815\n",
       "function         720\n",
       "feature          719\n",
       "object           623\n",
       "set              611\n",
       "network          604\n",
       "number           559\n",
       "large            556\n",
       "distribution     545\n",
       "dtype: int64"
      ]
     },
     "execution_count": 1426,
     "metadata": {},
     "output_type": "execute_result"
    }
   ],
   "source": [
    "df_count_2015.sum(axis=0).sort_values(ascending=False)[:10]"
   ]
  },
  {
   "cell_type": "code",
   "execution_count": 1422,
   "metadata": {
    "collapsed": false
   },
   "outputs": [
    {
     "data": {
      "text/plain": [
       "network      1928\n",
       "image        1580\n",
       "feature      1324\n",
       "dataset      1313\n",
       "function     1240\n",
       "neural       1150\n",
       "set          1045\n",
       "deep         1022\n",
       "training      986\n",
       "structure     919\n",
       "dtype: int64"
      ]
     },
     "execution_count": 1422,
     "metadata": {},
     "output_type": "execute_result"
    }
   ],
   "source": [
    "df_count_2016.sum(axis=0).sort_values(ascending=False)[:10]"
   ]
  },
  {
   "cell_type": "code",
   "execution_count": 1423,
   "metadata": {
    "collapsed": false
   },
   "outputs": [
    {
     "data": {
      "text/plain": [
       "network           619\n",
       "neural            411\n",
       "deep              331\n",
       "training          279\n",
       "neural network    270\n",
       "learn             188\n",
       "architecture      176\n",
       "representation    166\n",
       "layer             153\n",
       "feature           150\n",
       "dtype: int64"
      ]
     },
     "execution_count": 1423,
     "metadata": {},
     "output_type": "execute_result"
    }
   ],
   "source": [
    "df_count_2017.sum(axis=0).sort_values(ascending=False)[:10]"
   ]
  },
  {
   "cell_type": "code",
   "execution_count": null,
   "metadata": {
    "collapsed": true
   },
   "outputs": [],
   "source": []
  },
  {
   "cell_type": "code",
   "execution_count": null,
   "metadata": {
    "collapsed": true
   },
   "outputs": [],
   "source": []
  },
  {
   "cell_type": "code",
   "execution_count": 850,
   "metadata": {
    "collapsed": false
   },
   "outputs": [],
   "source": [
    "#df_count_Twitter.sum(axis=0).sort_values(ascending=False)"
   ]
  },
  {
   "cell_type": "code",
   "execution_count": null,
   "metadata": {
    "collapsed": false
   },
   "outputs": [],
   "source": []
  },
  {
   "cell_type": "code",
   "execution_count": 1740,
   "metadata": {
    "collapsed": false
   },
   "outputs": [
    {
     "data": {
      "text/plain": [
       "image                           5067\n",
       "feature                         3714\n",
       "dataset                         3377\n",
       "performance                     3274\n",
       "object                          2809\n",
       "structure                       2749\n",
       "number                          2538\n",
       "distribution                    2469\n",
       "large                           2463\n",
       "training                        2451\n",
       "neural                          2342\n",
       "information                     2233\n",
       "novel                           2218\n",
       "experiment                      2209\n",
       "optimization                    2173\n",
       "time                            2136\n",
       "framework                       2077\n",
       "sample                          2056\n",
       "inference                       2048\n",
       "analysis                        2032\n",
       "classification                  1999\n",
       "approximate                     1963\n",
       "parameter                       1961\n",
       "deep                            1960\n",
       "stateoftheart                   1960\n",
       "space                           1936\n",
       "bound                           1911\n",
       "linear                          1881\n",
       "application                     1866\n",
       "achieve                         1821\n",
       "                                ... \n",
       "powerful tool                     51\n",
       "emerged                           51\n",
       "analysis pca                      51\n",
       "high computational                51\n",
       "establishing                      51\n",
       "systematically                    51\n",
       "treat                             51\n",
       "suggested                         51\n",
       "attracted                         51\n",
       "traditionally                     50\n",
       "scale large                       50\n",
       "brings                            50\n",
       "promise                           50\n",
       "good performance                  50\n",
       "synthetic real dataset            50\n",
       "component analysis pca            50\n",
       "severe                            50\n",
       "vast                              50\n",
       "compare previous                  49\n",
       "acquired                          49\n",
       "strictly                          49\n",
       "theoretical properties            49\n",
       "experiment benchmark              49\n",
       "revisit                           49\n",
       "efficiently solve                 49\n",
       "assign                            49\n",
       "machine learning application      48\n",
       "tends                             48\n",
       "generalizing                      48\n",
       "application including             48\n",
       "dtype: int64"
      ]
     },
     "execution_count": 1740,
     "metadata": {},
     "output_type": "execute_result"
    }
   ],
   "source": [
    "df_countvect.sum(axis=0).sort_values(ascending=False)"
   ]
  },
  {
   "cell_type": "code",
   "execution_count": null,
   "metadata": {
    "collapsed": false
   },
   "outputs": [],
   "source": []
  },
  {
   "cell_type": "code",
   "execution_count": 957,
   "metadata": {
    "collapsed": false
   },
   "outputs": [],
   "source": [
    "all_word_counts = df_countvect.sum(axis=0).sort_values(ascending=False).index.tolist()"
   ]
  },
  {
   "cell_type": "code",
   "execution_count": null,
   "metadata": {
    "collapsed": false
   },
   "outputs": [],
   "source": []
  },
  {
   "cell_type": "code",
   "execution_count": 958,
   "metadata": {
    "collapsed": false
   },
   "outputs": [],
   "source": [
    "d = {}\n",
    "for word1 in all_word_counts:\n",
    "    for word2 in all_word_counts:\n",
    "        if (word1 in word2 and len(word2.split(\" \")) == 1 and word1 != word2 and\n",
    "           word1 not in [\"es\", \"al\", \"et\", \"em\", \"ed\", \"ca\", \n",
    "                         \"ial\", \"rl\", \"i\", \"ii\", \"iii\",\n",
    "                         \"res\", \"ing\", \"lie\", \"ts\"]):\n",
    "            d.setdefault(word1, []).append(word2)\n",
    "            "
   ]
  },
  {
   "cell_type": "code",
   "execution_count": null,
   "metadata": {
    "collapsed": true
   },
   "outputs": [],
   "source": []
  },
  {
   "cell_type": "code",
   "execution_count": 959,
   "metadata": {
    "collapsed": false
   },
   "outputs": [],
   "source": [
    "def levenshteinDistance(s1, s2):\n",
    "    if len(s1) > len(s2):\n",
    "        s1, s2 = s2, s1\n",
    "\n",
    "    distances = range(len(s1) + 1)\n",
    "    for i2, c2 in enumerate(s2):\n",
    "        distances_ = [i2+1]\n",
    "        for i1, c1 in enumerate(s1):\n",
    "            if c1 == c2:\n",
    "                distances_.append(distances[i1])\n",
    "            else:\n",
    "                distances_.append(1 + min((distances[i1], distances[i1 + 1], distances_[-1])))\n",
    "        distances = distances_\n",
    "    return distances[-1]"
   ]
  },
  {
   "cell_type": "code",
   "execution_count": 960,
   "metadata": {
    "collapsed": false
   },
   "outputs": [],
   "source": [
    "cand_to_word = {}\n",
    "for word in d.keys():\n",
    "    for candidate in d[word]:\n",
    "        if levenshteinDistance(word, candidate) == 1:\n",
    "            cand_to_word[candidate] = word"
   ]
  },
  {
   "cell_type": "code",
   "execution_count": 961,
   "metadata": {
    "collapsed": false
   },
   "outputs": [
    {
     "data": {
      "text/plain": [
       "{u'accelerated': u'accelerate',\n",
       " u'accounts': u'account',\n",
       " u'achieved': u'achieve',\n",
       " u'achieves': u'achieve',\n",
       " u'actions': u'action',\n",
       " u'activations': u'activation',\n",
       " u'advanced': u'advance',\n",
       " u'advances': u'advance',\n",
       " u'advantages': u'advantage',\n",
       " u'agents': u'agent',\n",
       " u'aims': u'aim',\n",
       " u'algorithms': u'algorithm',\n",
       " u'allows': u'allow',\n",
       " u'alternatives': u'alternative',\n",
       " u'analyzed': u'analyze',\n",
       " u'annotations': u'annotation',\n",
       " u'answers': u'answer',\n",
       " u'appears': u'appear',\n",
       " u'applications': u'application',\n",
       " u'approximated': u'approximate',\n",
       " u'approximates': u'approximate',\n",
       " u'approximations': u'approximation',\n",
       " u'architectures': u'architecture',\n",
       " u'areas': u'area',\n",
       " u'arise': u'rise',\n",
       " u'arises': u'arise',\n",
       " u'arms': u'arm',\n",
       " u'aspects': u'aspect',\n",
       " u'assumed': u'assume',\n",
       " u'assumes': u'assume',\n",
       " u'assumptions': u'assumption',\n",
       " u'attempts': u'attempt',\n",
       " u'attributes': u'attribute',\n",
       " u'autoencoders': u'autoencoder',\n",
       " u'avoids': u'avoid',\n",
       " u'bandits': u'bandit',\n",
       " u'baselines': u'baseline',\n",
       " u'behaviors': u'behavior',\n",
       " u'benchmarks': u'benchmark',\n",
       " u'benefits': u'benefit',\n",
       " u'bits': u'bit',\n",
       " u'blocks': u'block',\n",
       " u'bounds': u'bound',\n",
       " u'bridge': u'ridge',\n",
       " u'builds': u'build',\n",
       " u'cameras': u'camera',\n",
       " u'candidates': u'candidate',\n",
       " u'captured': u'capture',\n",
       " u'captures': u'capture',\n",
       " u'cases': u'case',\n",
       " u'caused': u'cause',\n",
       " u'challenges': u'challenge',\n",
       " u'changes': u'change',\n",
       " u'channels': u'channel',\n",
       " u'characteristics': u'characteristic',\n",
       " u'characterized': u'characterize',\n",
       " u'choices': u'choice',\n",
       " u'classifiers': u'classifier',\n",
       " u'closed': u'close',\n",
       " u'clusters': u'cluster',\n",
       " u'cnns': u'cnn',\n",
       " u'codes': u'code',\n",
       " u'coefficients': u'coefficient',\n",
       " u'collections': u'collection',\n",
       " u'columns': u'column',\n",
       " u'combinations': u'combination',\n",
       " u'combined': u'combine',\n",
       " u'combines': u'combine',\n",
       " u'comes': u'come',\n",
       " u'compared': u'compare',\n",
       " u'compares': u'compare',\n",
       " u'comparisons': u'comparison',\n",
       " u'components': u'component',\n",
       " u'computations': u'computation',\n",
       " u'computed': u'compute',\n",
       " u'computer': u'compute',\n",
       " u'computes': u'compute',\n",
       " u'concepts': u'concept',\n",
       " u'conditions': u'condition',\n",
       " u'configurations': u'configuration',\n",
       " u'connections': u'connection',\n",
       " u'consists': u'consist',\n",
       " u'constraints': u'constraint',\n",
       " u'contains': u'contain',\n",
       " u'contexts': u'context',\n",
       " u'contributions': u'contribution',\n",
       " u'converges': u'converge',\n",
       " u'correlations': u'correlation',\n",
       " u'correspondences': u'correspondence',\n",
       " u'corresponds': u'correspond',\n",
       " u'costs': u'cost',\n",
       " u'counts': u'count',\n",
       " u'created': u'create',\n",
       " u'curves': u'curve',\n",
       " u'databases': u'database',\n",
       " u'datasets': u'dataset',\n",
       " u'decisions': u'decision',\n",
       " u'defined': u'define',\n",
       " u'depends': u'depend',\n",
       " u'derived': u'derive',\n",
       " u'descriptions': u'description',\n",
       " u'descriptors': u'descriptor',\n",
       " u'detectors': u'detector',\n",
       " u'determined': u'determine',\n",
       " u'differences': u'difference',\n",
       " u'difficulty': u'difficult',\n",
       " u'dimensions': u'dimension',\n",
       " u'directions': u'direction',\n",
       " u'discovery': u'discover',\n",
       " u'distances': u'distance',\n",
       " u'distributions': u'distribution',\n",
       " u'documents': u'document',\n",
       " u'domains': u'domain',\n",
       " u'draw': u'raw',\n",
       " u'drawn': u'draw',\n",
       " u'dynamics': u'dynamic',\n",
       " u'edges': u'edge',\n",
       " u'effects': u'effect',\n",
       " u'efforts': u'effort',\n",
       " u'embeddings': u'embedding',\n",
       " u'employs': u'employ',\n",
       " u'enables': u'enable',\n",
       " u'encoded': u'encode',\n",
       " u'encodes': u'encode',\n",
       " u'enhanced': u'enhance',\n",
       " u'ensembles': u'ensemble',\n",
       " u'environments': u'environment',\n",
       " u'equations': u'equation',\n",
       " u'errors': u'error',\n",
       " u'estimated': u'estimate',\n",
       " u'estimates': u'estimate',\n",
       " u'estimators': u'estimator',\n",
       " u'evaluated': u'evaluate',\n",
       " u'evaluations': u'evaluation',\n",
       " u'events': u'event',\n",
       " u'examples': u'example',\n",
       " u'exhibits': u'exhibit',\n",
       " u'exists': u'exist',\n",
       " u'experiments': u'experiment',\n",
       " u'experts': u'expert',\n",
       " u'exploits': u'exploit',\n",
       " u'explored': u'explore',\n",
       " u'explores': u'explore',\n",
       " u'extends': u'extend',\n",
       " u'extensions': u'extension',\n",
       " u'faces': u'face',\n",
       " u'facilitates': u'facilitate',\n",
       " u'factors': u'factor',\n",
       " u'features': u'feature',\n",
       " u'fields': u'field',\n",
       " u'filters': u'filter',\n",
       " u'findings': u'finding',\n",
       " u'flow': u'low',\n",
       " u'forests': u'forest',\n",
       " u'forms': u'form',\n",
       " u'formulated': u'formulate',\n",
       " u'formulations': u'formulation',\n",
       " u'frames': u'frame',\n",
       " u'frameworks': u'framework',\n",
       " u'functions': u'function',\n",
       " u'gains': u'gain',\n",
       " u'games': u'game',\n",
       " u'gener': u'gene',\n",
       " u'generalized': u'generalize',\n",
       " u'generalizes': u'generalize',\n",
       " u'generated': u'generate',\n",
       " u'generates': u'generate',\n",
       " u'gpu': u'gp',\n",
       " u'gradients': u'gradient',\n",
       " u'graphs': u'graph',\n",
       " u'ground': u'round',\n",
       " u'groups': u'group',\n",
       " u'guaranteed': u'guarantee',\n",
       " u'guarantees': u'guarantee',\n",
       " u'helps': u'help',\n",
       " u'heuristics': u'heuristic',\n",
       " u'holds': u'hold',\n",
       " u'humans': u'human',\n",
       " u'hyperparameters': u'hyperparameter',\n",
       " u'ideal': u'idea',\n",
       " u'ideas': u'idea',\n",
       " u'illustrated': u'illustrate',\n",
       " u'image': u'imag',\n",
       " u'images': u'image',\n",
       " u'implementations': u'implementation',\n",
       " u'imposed': u'impose',\n",
       " u'improved': u'improve',\n",
       " u'improvements': u'improvement',\n",
       " u'improves': u'improve',\n",
       " u'incorporated': u'incorporate',\n",
       " u'incorporates': u'incorporate',\n",
       " u'increased': u'increase',\n",
       " u'increases': u'increase',\n",
       " u'individuals': u'individual',\n",
       " u'inputs': u'input',\n",
       " u'insights': u'insight',\n",
       " u'instances': u'instance',\n",
       " u'integrated': u'integrate',\n",
       " u'integrates': u'integrate',\n",
       " u'interactions': u'interaction',\n",
       " u'investigated': u'investigate',\n",
       " u'involved': u'involve',\n",
       " u'involves': u'involve',\n",
       " u'items': u'item',\n",
       " u'iterations': u'iteration',\n",
       " u'kernels': u'kernel',\n",
       " u'kinds': u'kind',\n",
       " u'kmeans': u'means',\n",
       " u'labels': u'label',\n",
       " u'larger': u'large',\n",
       " u'layers': u'layer',\n",
       " u'leads': u'lead',\n",
       " u'learners': u'learner',\n",
       " u'learns': u'learn',\n",
       " u'learnt': u'learn',\n",
       " u'levels': u'level',\n",
       " u'leverages': u'leverage',\n",
       " u'limitations': u'limitation',\n",
       " u'limits': u'limit',\n",
       " u'links': u'link',\n",
       " u'locations': u'location',\n",
       " u'machines': u'machine',\n",
       " u'makes': u'make',\n",
       " u'manifolds': u'manifold',\n",
       " u'maps': u'map',\n",
       " u'maximizes': u'maximize',\n",
       " u'means': u'mean',\n",
       " u'measured': u'measure',\n",
       " u'measurements': u'measurement',\n",
       " u'measures': u'measure',\n",
       " u'mechanisms': u'mechanism',\n",
       " u'metrics': u'metric',\n",
       " u'millions': u'million',\n",
       " u'minimizes': u'minimize',\n",
       " u'mixtures': u'mixture',\n",
       " u'models': u'model',\n",
       " u'modifications': u'modification',\n",
       " u'moments': u'moment',\n",
       " u'motions': u'motion',\n",
       " u'nearly': u'early',\n",
       " u'needs': u'need',\n",
       " u'neighbors': u'neighbor',\n",
       " u'nets': u'net',\n",
       " u'networks': u'network',\n",
       " u'neurons': u'neuron',\n",
       " u'nodes': u'node',\n",
       " u'norms': u'norm',\n",
       " u'numbers': u'number',\n",
       " u'objectives': u'objective',\n",
       " u'objects': u'object',\n",
       " u'observations': u'observation',\n",
       " u'observed': u'observe',\n",
       " u'obtains': u'obtain',\n",
       " u'occlusions': u'occlusion',\n",
       " u'occurs': u'occur',\n",
       " u'offers': u'offer',\n",
       " u'operates': u'operate',\n",
       " u'operations': u'operation',\n",
       " u'operators': u'operator',\n",
       " u'optimal': u'optima',\n",
       " u'optimized': u'optimize',\n",
       " u'optimizes': u'optimize',\n",
       " u'orders': u'order',\n",
       " u'outcomes': u'outcome',\n",
       " u'outliers': u'outlier',\n",
       " u'outperforms': u'outperform',\n",
       " u'outputs': u'output',\n",
       " u'pairs': u'pair',\n",
       " u'parameters': u'parameter',\n",
       " u'particle': u'article',\n",
       " u'partitions': u'partition',\n",
       " u'paths': u'path',\n",
       " u'patterns': u'pattern',\n",
       " u'performances': u'performance',\n",
       " u'performs': u'perform',\n",
       " u'pixels': u'pixel',\n",
       " u'plays': u'play',\n",
       " u'points': u'point',\n",
       " u'poses': u'pose',\n",
       " u'positions': u'position',\n",
       " u'posteriori': u'posterior',\n",
       " u'potentials': u'potential',\n",
       " u'predictions': u'prediction',\n",
       " u'predictors': u'predictor',\n",
       " u'predicts': u'predict',\n",
       " u'preference': u'reference',\n",
       " u'preferences': u'preference',\n",
       " u'preserves': u'preserve',\n",
       " u'principled': u'principle',\n",
       " u'principles': u'principle',\n",
       " u'priori': u'prior',\n",
       " u'priors': u'prior',\n",
       " u'procedures': u'procedure',\n",
       " u'produced': u'produce',\n",
       " u'produces': u'produce',\n",
       " u'products': u'product',\n",
       " u'programs': u'program',\n",
       " u'projections': u'projection',\n",
       " u'proposals': u'proposal',\n",
       " u'proved': u'prove',\n",
       " u'proven': u'prove',\n",
       " u'questions': u'question',\n",
       " u'rates': u'rate',\n",
       " u'reasons': u'reason',\n",
       " u'recovers': u'recover',\n",
       " u'recovery': u'recover',\n",
       " u'reduced': u'reduce',\n",
       " u'reduces': u'reduce',\n",
       " u'refined': u'refine',\n",
       " u'regimes': u'regime',\n",
       " u'regions': u'region',\n",
       " u'regularizers': u'regularizer',\n",
       " u'related': u'relate',\n",
       " u'relations': u'relation',\n",
       " u'relationships': u'relationship',\n",
       " u'relaxations': u'relaxation',\n",
       " u'representations': u'representation',\n",
       " u'represents': u'represent',\n",
       " u'required': u'require',\n",
       " u'requirements': u'requirement',\n",
       " u'requires': u'require',\n",
       " u'responses': u'response',\n",
       " u'reveals': u'reveal',\n",
       " u'rewards': u'reward',\n",
       " u'rgbd': u'rgb',\n",
       " u'rnns': u'rnn',\n",
       " u'rules': u'rule',\n",
       " u'runs': u'run',\n",
       " u'sampled': u'sample',\n",
       " u'sampler': u'sample',\n",
       " u'samples': u'sample',\n",
       " u'scales': u'scale',\n",
       " u'scenarios': u'scenario',\n",
       " u'scenes': u'scene',\n",
       " u'schemes': u'scheme',\n",
       " u'score': u'core',\n",
       " u'scores': u'score',\n",
       " u'seeks': u'seek',\n",
       " u'segments': u'segment',\n",
       " u'selects': u'select',\n",
       " u'semantics': u'semantic',\n",
       " u'sensors': u'sensor',\n",
       " u'sensory': u'sensor',\n",
       " u'sentences': u'sentence',\n",
       " u'sequences': u'sequence',\n",
       " u'sets': u'set',\n",
       " u'settings': u'setting',\n",
       " u'shapes': u'shape',\n",
       " u'shared': u'share',\n",
       " u'signals': u'signal',\n",
       " u'simpler': u'simple',\n",
       " u'simulations': u'simulation',\n",
       " u'situations': u'situation',\n",
       " u'sizes': u'size',\n",
       " u'slow': u'low',\n",
       " u'solutions': u'solution',\n",
       " u'solved': u'solve',\n",
       " u'solver': u'solve',\n",
       " u'solvers': u'solver',\n",
       " u'solves': u'solve',\n",
       " u'sources': u'source',\n",
       " u'spaces': u'space',\n",
       " u'speedups': u'speedup',\n",
       " u'squared': u'square',\n",
       " u'squares': u'square',\n",
       " u'stages': u'stage',\n",
       " u'states': u'state',\n",
       " u'statistics': u'statistic',\n",
       " u'steps': u'step',\n",
       " u'streams': u'stream',\n",
       " u'structured': u'structure',\n",
       " u'structures': u'structure',\n",
       " u'subjects': u'subject',\n",
       " u'subsets': u'subset',\n",
       " u'subspaces': u'subspace',\n",
       " u'suffers': u'suffer',\n",
       " u'suggests': u'suggest',\n",
       " u'supports': u'support',\n",
       " u'surfaces': u'surface',\n",
       " u'svms': u'svm',\n",
       " u'targets': u'target',\n",
       " u'techniques': u'technique',\n",
       " u'tend': u'end',\n",
       " u'terms': u'term',\n",
       " u'tests': u'test',\n",
       " u'times': u'time',\n",
       " u'tools': u'tool',\n",
       " u'topics': u'topic',\n",
       " u'tradeoffs': u'tradeoff',\n",
       " u'trains': u'train',\n",
       " u'transformations': u'transformation',\n",
       " u'transforms': u'transform',\n",
       " u'trees': u'tree',\n",
       " u'turns': u'turn',\n",
       " u'types': u'type',\n",
       " u'units': u'unit',\n",
       " u'updated': u'update',\n",
       " u'updates': u'update',\n",
       " u'user': u'use',\n",
       " u'users': u'user',\n",
       " u'uses': u'use',\n",
       " u'utilized': u'utilize',\n",
       " u'utilizes': u'utilize',\n",
       " u'validated': u'validate',\n",
       " u'values': u'value',\n",
       " u'variables': u'variable',\n",
       " u'variants': u'variant',\n",
       " u'variations': u'variation',\n",
       " u'vectors': u'vector',\n",
       " u'versions': u'version',\n",
       " u'videos': u'video',\n",
       " u'views': u'view',\n",
       " u'ways': u'way',\n",
       " u'weights': u'weight',\n",
       " u'words': u'word',\n",
       " u'yields': u'yield'}"
      ]
     },
     "execution_count": 961,
     "metadata": {},
     "output_type": "execute_result"
    }
   ],
   "source": [
    "cand_to_word"
   ]
  },
  {
   "cell_type": "code",
   "execution_count": 962,
   "metadata": {
    "collapsed": true
   },
   "outputs": [],
   "source": [
    "to_delete = ['arise', 'bridge', 'draw', 'flow', 'gpu', 'gps', 'ground', 'ideal', 'kmeans', 'lnear', 'minimal', 'minimax',\n",
    "            'nearly', 'score', 'slow', 'minimax', 'minimal', 'solver', 'tend', 'times', 'user', 'preference', \n",
    "             'image', 'particle', 'algorthms']\n",
    "for key in to_delete:\n",
    "    cand_to_word.pop(key, None)\n",
    "\n",
    "cand_to_word[u'algorthm'] = u'algorithm'\n",
    "cand_to_word[u'approximation'] = u'approximate'\n",
    "cand_to_word[u'comparison'] = u'compare'\n",
    "cand_to_word[u'lnear'] = u'linear'\n",
    "cand_to_word['imag'] = 'image'\n",
    "cand_to_word['algorthms'] = 'algorithm'"
   ]
  },
  {
   "cell_type": "code",
   "execution_count": null,
   "metadata": {
    "collapsed": false
   },
   "outputs": [],
   "source": []
  },
  {
   "cell_type": "code",
   "execution_count": 46,
   "metadata": {
    "collapsed": false
   },
   "outputs": [],
   "source": [
    "import pickle"
   ]
  },
  {
   "cell_type": "code",
   "execution_count": 964,
   "metadata": {
    "collapsed": false
   },
   "outputs": [],
   "source": [
    "#pickle.dump(cand_to_word, open(\"first_word_squasher.pkl\", \"wb\"))"
   ]
  },
  {
   "cell_type": "code",
   "execution_count": 1741,
   "metadata": {
    "collapsed": false
   },
   "outputs": [],
   "source": [
    "#pickle.dump(result_abs, open(\"all_cleaned_abstracts.pkl\", \"wb\"))"
   ]
  },
  {
   "cell_type": "code",
   "execution_count": 47,
   "metadata": {
    "collapsed": false
   },
   "outputs": [],
   "source": [
    "result_abs_final = pickle.load(open(\"all_cleaned_abstracts.pkl\", \"rb\"))"
   ]
  },
  {
   "cell_type": "code",
   "execution_count": null,
   "metadata": {
    "collapsed": true
   },
   "outputs": [],
   "source": []
  },
  {
   "cell_type": "code",
   "execution_count": null,
   "metadata": {
    "collapsed": false
   },
   "outputs": [],
   "source": []
  },
  {
   "cell_type": "code",
   "execution_count": 65,
   "metadata": {
    "collapsed": false
   },
   "outputs": [],
   "source": []
  },
  {
   "cell_type": "code",
   "execution_count": 169,
   "metadata": {
    "collapsed": true
   },
   "outputs": [],
   "source": [
    "\n"
   ]
  },
  {
   "cell_type": "code",
   "execution_count": null,
   "metadata": {
    "collapsed": false
   },
   "outputs": [],
   "source": []
  },
  {
   "cell_type": "code",
   "execution_count": null,
   "metadata": {
    "collapsed": false
   },
   "outputs": [],
   "source": []
  },
  {
   "cell_type": "code",
   "execution_count": null,
   "metadata": {
    "collapsed": false
   },
   "outputs": [],
   "source": []
  },
  {
   "cell_type": "code",
   "execution_count": null,
   "metadata": {
    "collapsed": true
   },
   "outputs": [],
   "source": []
  },
  {
   "cell_type": "code",
   "execution_count": null,
   "metadata": {
    "collapsed": true
   },
   "outputs": [],
   "source": []
  },
  {
   "cell_type": "code",
   "execution_count": 1279,
   "metadata": {
    "collapsed": false
   },
   "outputs": [
    {
     "data": {
      "text/plain": [
       "TfidfVectorizer(analyzer=u'word', binary=False, decode_error=u'strict',\n",
       "        dtype=<type 'numpy.int64'>, encoding=u'utf-8', input=u'content',\n",
       "        lowercase=True, max_df=0.97, max_features=None, min_df=0.005,\n",
       "        ngram_range=(1, 3), norm=u'l2', preprocessor=None, smooth_idf=True,\n",
       "        stop_words='english', strip_accents=None, sublinear_tf=False,\n",
       "        token_pattern=u'(?u)\\\\b\\\\w\\\\w+\\\\b', tokenizer=None, use_idf=True,\n",
       "        vocabulary=None)"
      ]
     },
     "execution_count": 1279,
     "metadata": {},
     "output_type": "execute_result"
    }
   ],
   "source": [
    "from sklearn.feature_extraction.text import TfidfVectorizer\n",
    "tvec = TfidfVectorizer(stop_words='english', min_df=0.005, max_df=0.97, ngram_range=(1, 3))\n",
    "tvec.fit(result_abs_final)"
   ]
  },
  {
   "cell_type": "code",
   "execution_count": 1280,
   "metadata": {
    "collapsed": false
   },
   "outputs": [],
   "source": [
    "tvec_df  = pd.DataFrame(tvec.transform(result_abs_final).todense(),\n",
    "                   columns=tvec.get_feature_names(),\n",
    "                   index=result_abs_final)\n",
    "\n",
    "#df.transpose().sort_values('dl', ascending=False).head(10).transpose()"
   ]
  },
  {
   "cell_type": "code",
   "execution_count": 1281,
   "metadata": {
    "collapsed": false
   },
   "outputs": [
    {
     "data": {
      "text/plain": [
       "1241"
      ]
     },
     "execution_count": 1281,
     "metadata": {},
     "output_type": "execute_result"
    }
   ],
   "source": [
    "tvec.vocabulary_['model']"
   ]
  },
  {
   "cell_type": "code",
   "execution_count": 1282,
   "metadata": {
    "collapsed": false
   },
   "outputs": [
    {
     "data": {
      "text/plain": [
       "(9581, 2209)"
      ]
     },
     "execution_count": 1282,
     "metadata": {},
     "output_type": "execute_result"
    }
   ],
   "source": [
    "tvec_df.shape"
   ]
  },
  {
   "cell_type": "code",
   "execution_count": 1283,
   "metadata": {
    "collapsed": false
   },
   "outputs": [],
   "source": [
    "#tvec_df.transpose().sort_values(result_abs[0], ascending=False).head(20).transpose()"
   ]
  },
  {
   "cell_type": "code",
   "execution_count": 1284,
   "metadata": {
    "collapsed": false
   },
   "outputs": [],
   "source": [
    "X_tfidf = tvec.fit_transform(result_abs_final)"
   ]
  },
  {
   "cell_type": "code",
   "execution_count": 1285,
   "metadata": {
    "collapsed": false
   },
   "outputs": [],
   "source": [
    "svd = TruncatedSVD(200)\n",
    "lsa = make_pipeline(svd, Normalizer(copy=False))"
   ]
  },
  {
   "cell_type": "code",
   "execution_count": 1286,
   "metadata": {
    "collapsed": true
   },
   "outputs": [],
   "source": [
    "X_lsa = lsa.fit_transform(X_tfidf)"
   ]
  },
  {
   "cell_type": "code",
   "execution_count": 1287,
   "metadata": {
    "collapsed": false
   },
   "outputs": [
    {
     "name": "stdout",
     "output_type": "stream",
     "text": [
      "  Explained variance of the SVD step: 39%\n"
     ]
    }
   ],
   "source": [
    "explained_variance = svd.explained_variance_ratio_.sum()\n",
    "print \"  Explained variance of the SVD step: {}%\".format(int(explained_variance * 100))"
   ]
  },
  {
   "cell_type": "code",
   "execution_count": null,
   "metadata": {
    "collapsed": false
   },
   "outputs": [],
   "source": []
  },
  {
   "cell_type": "code",
   "execution_count": 48,
   "metadata": {
    "collapsed": false
   },
   "outputs": [
    {
     "name": "stderr",
     "output_type": "stream",
     "text": [
      "/usr/local/lib/python2.7/site-packages/gensim/utils.py:1015: UserWarning: Pattern library is not installed, lemmatization won't be available.\n",
      "  warnings.warn(\"Pattern library is not installed, lemmatization won't be available.\")\n"
     ]
    }
   ],
   "source": [
    "import gensim\n",
    "from gensim import corpora, models, similarities"
   ]
  },
  {
   "cell_type": "code",
   "execution_count": 49,
   "metadata": {
    "collapsed": false
   },
   "outputs": [],
   "source": [
    "from nltk.corpus import stopwords\n",
    "stoplist1 = list(set(stopwords.words('english')))\n",
    "stoplist2 = ['n', 'tranng', 'wth', 'whch', 'cca', 'nput', 'ndp', 'smple', 'experments', 'multple', 'ther', 'dcent',\n",
    "       'wthn', 'lsr', 'jont', 'dpm', 'tme', 'recognton', 'margnal', 'synthetc', 'generatve', 'model', 'function',\n",
    "            'new', 'set', 'use', 'algorithm', 'learning', 'network', 'data', 'show', 'one', 'novel', 'policy',\n",
    "            'learn', 'many', 'previous', 'two', 'variable', 'also', 'well', 'l', 'v', 'mi', 'trbm', 'mas', 'find', 'ties', 'help']\n",
    "stoplist = stoplist1 + stoplist2\n"
   ]
  },
  {
   "cell_type": "code",
   "execution_count": null,
   "metadata": {
    "collapsed": false
   },
   "outputs": [],
   "source": []
  },
  {
   "cell_type": "code",
   "execution_count": null,
   "metadata": {
    "collapsed": false
   },
   "outputs": [],
   "source": []
  },
  {
   "cell_type": "code",
   "execution_count": 50,
   "metadata": {
    "collapsed": false
   },
   "outputs": [],
   "source": [
    "from operator import itemgetter \n",
    "a = result_abs_final\n",
    "b = result[result.source=='Twitter'].index.tolist()\n",
    "c = result[result.source=='arXiv'].index.tolist()\n",
    "dd = result[result.source=='OpenReview'].index.tolist()\n",
    "e = result[result.source=='JMLR'].index.tolist()\n",
    "f = result[result.source=='CVPR'].index.tolist()\n",
    "g = result[result.source=='ICLR'].index.tolist()\n",
    "h = result[result.source=='NIPS'].index.tolist()\n",
    "nips8 = result[(result.source=='NIPS') & (result.year==2008)].index.tolist()\n",
    "nips9 = result[(result.source=='NIPS') & (result.year==2009)].index.tolist()\n",
    "nips10 = result[(result.source=='NIPS') & (result.year==2010)].index.tolist()\n",
    "nips11 = result[(result.source=='NIPS') & (result.year==2011)].index.tolist()\n",
    "nips12 = result[(result.source=='NIPS') & (result.year==2012)].index.tolist()\n",
    "nips13 = result[(result.source=='NIPS') & (result.year==2013)].index.tolist()\n",
    "nips14 = result[(result.source=='NIPS') & (result.year==2014)].index.tolist()\n",
    "nips15 = result[(result.source=='NIPS') & (result.year==2015)].index.tolist()\n",
    "nips16 = result[(result.source=='NIPS') & (result.year==2016)].index.tolist()\n",
    "\n",
    "Twitter_abs = list(itemgetter(*b)(a))\n",
    "arXiv_abs = list(itemgetter(*c)(a))\n",
    "OpenRev_abs = list(itemgetter(*dd)(a))\n",
    "JMLR_abs = list(itemgetter(*e)(a))\n",
    "CVPR_abs = list(itemgetter(*f)(a))\n",
    "ICLR_abs = list(itemgetter(*g)(a))\n",
    "NIPS_abs = list(itemgetter(*h)(a))\n",
    "\n",
    "NIPS_abs8 = list(itemgetter(*nips8)(a))\n",
    "NIPS_abs9 = list(itemgetter(*nips9)(a))\n",
    "NIPS_abs10 = list(itemgetter(*nips10)(a))\n",
    "NIPS_abs11 = list(itemgetter(*nips11)(a))\n",
    "NIPS_abs12 = list(itemgetter(*nips12)(a))\n",
    "NIPS_abs13 = list(itemgetter(*nips13)(a))\n",
    "NIPS_abs14 = list(itemgetter(*nips14)(a))\n",
    "NIPS_abs15 = list(itemgetter(*nips15)(a))\n",
    "NIPS_abs16 = list(itemgetter(*nips16)(a))"
   ]
  },
  {
   "cell_type": "code",
   "execution_count": null,
   "metadata": {
    "collapsed": false
   },
   "outputs": [],
   "source": []
  },
  {
   "cell_type": "code",
   "execution_count": 51,
   "metadata": {
    "collapsed": false
   },
   "outputs": [],
   "source": [
    "text_all = [[word for word in abst.lower().split() if word not in stoplist] for abst in result_abs_final]\n",
    "text_twitter = [[word for word in abst.lower().split() if word not in stoplist] for abst in Twitter_abs]\n",
    "text_arxiv = [[word for word in abst.lower().split() if word not in stoplist] for abst in arXiv_abs]\n",
    "text_openrev = [[word for word in abst.lower().split() if word not in stoplist] for abst in OpenRev_abs]\n",
    "text_jmlr = [[word for word in abst.lower().split() if word not in stoplist] for abst in JMLR_abs]\n",
    "text_cvpr = [[word for word in abst.lower().split() if word not in stoplist] for abst in CVPR_abs]\n",
    "text_iclr = [[word for word in abst.lower().split() if word not in stoplist] for abst in ICLR_abs]\n",
    "text_nips = [[word for word in abst.lower().split() if word not in stoplist] for abst in NIPS_abs]\n",
    "\n",
    "\n",
    "\n",
    "text_nips8 = [[word for word in abst.lower().split() if word not in stoplist] for abst in NIPS_abs8]\n",
    "text_nips9 = [[word for word in abst.lower().split() if word not in stoplist] for abst in NIPS_abs9]\n",
    "text_nips10 = [[word for word in abst.lower().split() if word not in stoplist] for abst in NIPS_abs10]\n",
    "text_nips11 = [[word for word in abst.lower().split() if word not in stoplist] for abst in NIPS_abs11]\n",
    "text_nips12 = [[word for word in abst.lower().split() if word not in stoplist] for abst in NIPS_abs12]\n",
    "text_nips13 = [[word for word in abst.lower().split() if word not in stoplist] for abst in NIPS_abs13]\n",
    "text_nips14 = [[word for word in abst.lower().split() if word not in stoplist] for abst in NIPS_abs14]\n",
    "text_nips15 = [[word for word in abst.lower().split() if word not in stoplist] for abst in NIPS_abs15]\n",
    "text_nips16 = [[word for word in abst.lower().split() if word not in stoplist] for abst in NIPS_abs16]\n",
    "\n",
    "\n",
    "#remove words that appear only once\n",
    "# from collections import defaultdict\n",
    "# frequency = defaultdict(int)\n",
    "# for text in texts:\n",
    "#     for token in text:\n",
    "#         frequency[token] += 1\n",
    "\n",
    "# texts = [[token for token in text if frequency[token] > 1] for text in texts]\n",
    "\n",
    "# from pprint import pprint  # pretty-printer\n",
    "# pprint(texts)"
   ]
  },
  {
   "cell_type": "code",
   "execution_count": null,
   "metadata": {
    "collapsed": false
   },
   "outputs": [],
   "source": []
  },
  {
   "cell_type": "code",
   "execution_count": 69,
   "metadata": {
    "collapsed": false
   },
   "outputs": [],
   "source": [
    "dic = corpora.Dictionary(text_all)\n",
    "corp = [dic.doc2bow(text) for text in text_all]\n",
    "from random import shuffle\n",
    "shuffle(corp)\n",
    "most = int(0.8 * len(corp))\n",
    "mod = models.LdaModel(corp[0:most], id2word=dic, num_topics=3, alpha = 'auto', passes=5)"
   ]
  },
  {
   "cell_type": "code",
   "execution_count": 60,
   "metadata": {
    "collapsed": false
   },
   "outputs": [
    {
     "name": "stdout",
     "output_type": "stream",
     "text": [
      "starting pass for parameter_value = 3.000\n",
      "Elapsed time: 292.832015038\n",
      "Perplexity: -2158178.7773\n",
      "Per-word Perplexity: 23217.3384194\n",
      "starting pass for parameter_value = 5.000\n",
      "Elapsed time: 307.493874073\n",
      "Perplexity: -2221989.03492\n",
      "Per-word Perplexity: 31253.2485135\n",
      "starting pass for parameter_value = 7.000\n",
      "Elapsed time: 5895.52838802\n",
      "Perplexity: -2168487.04819\n",
      "Per-word Perplexity: 24359.3215688\n",
      "starting pass for parameter_value = 10.000\n",
      "Elapsed time: 323.932234049\n",
      "Perplexity: -2070300.33712\n",
      "Per-word Perplexity: 15418.4887555\n",
      "starting pass for parameter_value = 20.000\n",
      "Elapsed time: 363.111326933\n",
      "Perplexity: -2020505.60405\n",
      "Per-word Perplexity: 12226.7572857\n",
      "starting pass for parameter_value = 30.000\n",
      "Elapsed time: 396.696571112\n",
      "Perplexity: -2018103.76891\n",
      "Per-word Perplexity: 12090.7316574\n"
     ]
    }
   ],
   "source": [
    "import random\n",
    "from collections import defaultdict\n",
    "import time \n",
    "import Pyro4\n",
    "grid = defaultdict(list)\n",
    "\n",
    "# Choose a parameter you are wanting to search, for example num_topics or alpha / eta, make sure you substitute \"parameter_value\"\n",
    "# into the model below instead of a static value.\n",
    "#\n",
    "# num topics\n",
    "parameter_list=[3, 5, 7, 10, 20, 30]\n",
    "\n",
    "# alpha / eta\n",
    "# parameter_list=[0.001, 0.005, 0.01, 0.05, 0.1, 0.5, 1.0, 1.5]\n",
    "\n",
    "# we can sample if we like\n",
    "# cp = random.sample(corpus,int(len(corp)))\n",
    "\n",
    "# shuffle corpus\n",
    "# cp = list(corpus)\n",
    "# random.shuffle(cp)\n",
    "\n",
    "# split into 80% training and 20% test sets\n",
    "dic = corpora.Dictionary(text_all)\n",
    "corp = [dic.doc2bow(text) for text in text_all]\n",
    "# from random import shuffle\n",
    "cp = random.sample(corp, len(corp))\n",
    "# shuffle(cp)\n",
    "p = int(0.8 * len(corp))\n",
    "# p = int(len(cp) * .5)\n",
    "cp_train = cp[0:p]\n",
    "cp_test = cp[p:]\n",
    "\n",
    "# for num_topics_value in num_topics_list:\n",
    "for parameter_value in parameter_list:\n",
    "\n",
    "    # print \"starting pass for num_topic = %d\" % num_topics_value\n",
    "    print \"starting pass for parameter_value = %.3f\" % parameter_value\n",
    "    start_time = time.time()\n",
    "\n",
    "    # run model\n",
    "    model = models.ldamodel.LdaModel(corpus=cp_train, id2word=dic, num_topics=parameter_value, \n",
    "                                    passes=25, update_every=0, alpha='auto', eta='auto', decay=0.5,\n",
    "                                    distributed=False)\n",
    "\n",
    "    # show elapsed time for model\n",
    "    elapsed = time.time() - start_time\n",
    "    print \"Elapsed time: %s\" % elapsed\n",
    "\n",
    "    perplex = model.bound(cp_test)\n",
    "    print \"Perplexity: %s\" % perplex\n",
    "    grid[parameter_value].append(perplex)\n",
    "\n",
    "    per_word_perplex = np.exp2(-perplex / sum(cnt for document in cp_test for _, cnt in document))\n",
    "    print \"Per-word Perplexity: %s\" % per_word_perplex\n",
    "    grid[parameter_value].append(per_word_perplex)"
   ]
  },
  {
   "cell_type": "code",
   "execution_count": 71,
   "metadata": {
    "collapsed": false
   },
   "outputs": [
    {
     "data": {
      "text/plain": [
       "-1588.4734094173145"
      ]
     },
     "execution_count": 71,
     "metadata": {},
     "output_type": "execute_result"
    }
   ],
   "source": [
    "mod.log_perplexity(corp[:most], total_docs=3)"
   ]
  },
  {
   "cell_type": "code",
   "execution_count": 1806,
   "metadata": {
    "collapsed": false
   },
   "outputs": [
    {
     "data": {
      "text/plain": [
       "-5244621.0030475678"
      ]
     },
     "execution_count": 1806,
     "metadata": {},
     "output_type": "execute_result"
    }
   ],
   "source": [
    "mod.bound(corp[:most], gamma=None, subsample_ratio=1.0)"
   ]
  },
  {
   "cell_type": "code",
   "execution_count": null,
   "metadata": {
    "collapsed": true
   },
   "outputs": [],
   "source": []
  },
  {
   "cell_type": "code",
   "execution_count": null,
   "metadata": {
    "collapsed": true
   },
   "outputs": [],
   "source": []
  },
  {
   "cell_type": "code",
   "execution_count": null,
   "metadata": {
    "collapsed": true
   },
   "outputs": [],
   "source": []
  },
  {
   "cell_type": "code",
   "execution_count": 1785,
   "metadata": {
    "collapsed": false
   },
   "outputs": [
    {
     "data": {
      "text/html": [
       "\n",
       "<link rel=\"stylesheet\" type=\"text/css\" href=\"https://cdn.rawgit.com/bmabey/pyLDAvis/files/ldavis.v1.0.0.css\">\n",
       "\n",
       "\n",
       "<div id=\"ldavis_el3351102305572645311890\"></div>\n",
       "<script type=\"text/javascript\">\n",
       "\n",
       "var ldavis_el3351102305572645311890_data = {\"plot.opts\": {\"xlab\": \"PC1\", \"ylab\": \"PC2\"}, \"topic.order\": [1, 2, 5, 7, 3, 4, 6], \"token.table\": {\"Topic\": [1, 2, 3, 4, 5, 6, 7, 1, 2, 3, 4, 5, 6, 7, 1, 2, 3, 4, 5, 6, 7, 5, 1, 2, 3, 4, 5, 6, 7, 1, 2, 3, 4, 5, 6, 7, 3, 4, 5, 1, 2, 3, 6, 6, 1, 2, 5, 7, 1, 2, 3, 4, 5, 6, 7, 1, 2, 3, 4, 5, 6, 7, 1, 2, 3, 4, 5, 6, 7, 1, 1, 2, 3, 4, 5, 6, 7, 1, 2, 3, 4, 5, 6, 7, 3, 1, 2, 3, 4, 5, 6, 7, 1, 2, 3, 4, 5, 6, 7, 4, 4, 3, 4, 1, 3, 5, 1, 2, 3, 4, 5, 6, 7, 1, 2, 3, 4, 5, 6, 7, 1, 5, 7, 1, 2, 3, 4, 5, 6, 7, 2, 7, 2, 4, 5, 6, 7, 1, 2, 5, 7, 1, 2, 1, 2, 3, 4, 5, 6, 7, 1, 2, 3, 4, 5, 6, 7, 2, 3, 2, 3, 7, 6, 1, 2, 3, 4, 5, 6, 7, 1, 2, 3, 4, 5, 6, 7, 1, 2, 3, 4, 5, 6, 7, 1, 4, 6, 7, 2, 1, 4, 1, 2, 3, 4, 5, 6, 7, 1, 2, 3, 4, 5, 6, 7, 1, 2, 3, 4, 5, 6, 7, 1, 2, 3, 4, 5, 6, 7, 1, 2, 3, 4, 5, 6, 7, 2, 3, 4, 5, 6, 7, 1, 4, 7, 6, 7, 1, 7, 3, 3, 2, 5, 1, 2, 3, 4, 5, 6, 7, 1, 2, 3, 4, 5, 6, 7, 1, 7, 1, 2, 3, 4, 5, 6, 7, 1, 2, 3, 4, 5, 6, 7, 5, 1, 2, 3, 4, 5, 6, 7, 2, 2, 3, 5, 1, 2, 3, 4, 5, 6, 7, 1, 2, 3, 4, 5, 6, 7, 1, 2, 3, 4, 5, 6, 7, 1, 2, 3, 4, 6, 3, 1, 2, 3, 4, 5, 6, 7, 3, 1, 2, 3, 4, 5, 6, 7, 1, 2, 3, 4, 5, 6, 7, 1, 2, 3, 4, 5, 6, 7, 1, 6, 3, 5, 1, 2, 3, 4, 5, 6, 7, 3, 5, 1, 2, 3, 4, 5, 6, 7, 4, 7, 4, 2, 4, 6, 7, 1, 2, 3, 4, 5, 6, 7, 2, 4, 6, 1, 1, 3, 4, 6, 2, 4, 5, 6, 7, 1, 2, 3, 4, 5, 6, 7, 3, 5, 3, 4, 5, 6, 1, 2, 3, 4, 5, 6, 7, 1, 5, 6, 1, 2, 3, 4, 5, 6, 7, 2, 5, 2, 1, 2, 3, 4, 5, 6, 7, 4, 1, 2, 3, 4, 5, 6, 7, 2, 3, 4, 2, 6, 7, 7, 1, 2, 3, 4, 5, 6, 7, 1, 2, 3, 4, 5, 6, 7, 1, 2, 3, 4, 5, 6, 7, 1, 2, 3, 4, 5, 6, 7, 2, 3, 4, 5, 6, 1, 2, 3, 4, 5, 6, 7, 1, 2, 3, 4, 5, 6, 7, 1, 2, 3, 4, 5, 6, 7, 1, 2, 3, 4, 5, 6, 7, 1, 2, 3, 4, 5, 6, 7, 3, 1, 2, 3, 4, 5, 6, 7, 2, 3, 4, 7, 1, 2, 3, 4, 5, 6, 7, 1, 2, 3, 4, 5, 6, 7, 2, 4, 6, 4, 2, 6, 1, 1, 2, 3, 4, 5, 6, 7, 2, 4, 2, 1, 2, 3, 4, 5, 6, 7, 1, 7, 6, 7, 1, 2, 3, 4, 5, 6, 7, 3, 1, 2, 3, 4, 5, 6, 7, 1, 6, 7, 2, 4, 7, 1, 2, 3, 4, 5, 6, 7, 3, 4, 1, 2, 3, 4, 5, 6, 7, 1, 2, 3, 4, 5, 6, 7, 6, 3, 5, 1, 2, 3, 4, 5, 6, 7, 7, 1, 2, 3, 4, 5, 6, 7, 7, 1, 2, 3, 4, 5, 6, 7, 1, 2, 3, 4, 5, 6, 7, 1, 2, 3, 4, 5, 6, 7, 1, 2, 3, 4, 5, 6, 7, 1, 2, 3, 4, 5, 6, 7, 1, 2, 3, 4, 5, 6, 7, 5, 1, 2, 3, 4, 5, 6, 7, 1, 2, 3, 4, 5, 6, 7, 1, 2, 4, 7, 1, 2, 3, 4, 5, 6, 7, 1, 2, 3, 4, 5, 6, 7, 3, 4, 7, 1, 2, 3, 4, 5, 6, 7, 1, 7, 1, 2, 3, 4, 5, 6, 7, 1, 2, 3, 4, 5, 6, 7, 1, 2, 3, 4, 5, 6, 7, 3, 5, 1, 1, 2, 3, 4, 5, 7, 1, 2, 3, 4, 5, 6, 7, 2, 2, 1, 2, 3, 4, 5, 6, 7, 4, 1, 2, 3, 4, 5, 6, 7, 2, 1, 2, 4, 6, 7, 1, 6, 2, 1, 2, 3, 4, 5, 6, 7, 2, 4, 5, 6, 4, 1, 2, 3, 4, 5, 6, 7, 1, 2, 3, 4, 5, 6, 7, 1, 2, 3, 4, 5, 6, 7, 1, 6, 2, 7, 1, 4, 5, 6, 7, 2, 1, 2, 3, 4, 5, 6, 7, 1, 2, 3, 4, 5, 6, 7, 1, 6, 6, 1, 2, 3, 4, 5, 6, 7, 6, 2, 5, 5, 6, 7, 1, 2, 3, 4, 5, 6, 7, 1, 2, 3, 4, 5, 6, 7, 1, 2, 3, 4, 5, 6, 7, 1, 2, 3, 4, 5, 6, 7, 4, 7, 6, 1, 2, 3, 4, 5, 6, 7, 3, 7, 1, 2, 3, 4, 5, 6, 7, 1, 2, 3, 4, 5, 6, 7, 1, 2, 3, 4, 5, 6, 7, 1, 2, 3, 4, 5, 6, 7, 1, 2, 3, 4, 5, 6, 7, 6, 7, 1, 2, 3, 4, 5, 6, 7, 1, 2, 3, 4, 5, 6, 7, 1, 2, 3, 4, 5, 6, 7, 1, 2, 3, 4, 5, 6, 7, 1, 2, 3, 4, 5, 6, 7, 1, 2, 3, 4, 5, 6, 7, 1, 2, 3, 4, 5, 6, 7, 1, 3, 4, 3, 6, 1, 2, 3, 4, 5, 6, 7, 1, 2, 3, 6, 7, 1, 6, 7, 2, 1, 2, 3, 4, 5, 6, 7, 1, 2, 3, 4, 5, 6, 7, 5, 1, 1, 7, 1, 2, 3, 4, 5, 6, 7, 1, 1, 2, 3, 4, 5, 6, 7, 1, 2, 3, 4, 5, 6, 7, 1, 2, 4, 5, 6, 7, 5, 2, 3, 4, 6, 7, 4, 5, 6, 1, 2, 3, 4, 5, 6, 7, 6, 1, 2, 6, 1, 2, 3, 4, 5, 6, 7, 7, 1, 2, 3, 4, 5, 6, 7, 2, 4, 1, 2, 3, 4, 5, 6, 7, 1, 2, 3, 4, 5, 6, 7, 1, 2, 3, 4, 5, 6, 7, 4, 1, 2, 3, 4, 5, 6, 7, 6, 1, 2, 3, 4, 5, 6, 1, 3, 4, 6, 5, 1, 2, 3, 4, 5, 6, 7, 3, 5, 6, 7, 7, 1, 2, 3, 4, 5, 6, 7, 4, 1, 2, 3, 4, 5, 6, 7, 7, 3, 3, 3, 2, 5, 6, 1, 4, 5, 1, 2, 3, 4, 5, 6, 7, 1, 2, 3, 4, 5, 6, 7, 2, 4, 5, 6, 7, 5, 1, 2, 3, 4, 5, 6, 1, 2, 3, 4, 5, 6, 7, 1, 2, 3, 4, 5, 6, 7, 3, 4, 7, 3, 7, 5, 3, 5, 1, 2, 3, 4, 7, 1, 2, 3, 4, 5, 6, 7, 5, 5, 1, 2, 3, 4, 5, 6, 7, 1, 2, 3, 4, 5, 6, 7, 1, 2, 3, 4, 5, 6, 7, 1, 3, 4, 5, 1, 2, 3, 4, 5, 6, 7, 1, 2, 3, 4, 5, 6, 7, 2, 4, 7, 1, 2, 3, 4, 5, 6, 7, 1, 2, 3, 4, 5, 6, 7, 1, 2, 3, 4, 5, 6, 7, 1, 2, 3, 4, 5, 6, 7, 5, 4, 2, 7, 2, 3, 5, 6, 7, 1, 3, 4, 5, 1, 2, 3, 4, 5, 6, 7, 1, 2, 3, 4, 5, 6, 7, 1, 2, 3, 4, 5, 6, 7, 1, 2, 3, 4, 5, 6, 7, 2, 6, 7, 1, 1, 2, 6, 1, 2, 3, 4, 5, 6, 7, 1, 2, 3, 4, 5, 6, 7, 3, 6, 1, 2, 3, 4, 5, 6, 7, 2, 3, 4, 5, 6, 7, 7, 1, 4, 6, 7, 2, 6, 2, 3, 4, 6, 7, 1, 2, 3, 4, 5, 6, 7, 1, 2, 3, 4, 5, 6, 7, 2, 1, 2, 3, 4, 5, 6, 7, 5, 1, 1, 2, 3, 4, 5, 6, 7, 2, 4, 6, 4, 6, 7, 2, 5, 6, 1, 2, 3, 4, 5, 6, 7, 1, 2, 3, 4, 5, 6, 7, 1, 2, 6, 7, 4, 1, 2, 3, 4, 5, 6, 7, 6, 1, 2, 3, 4, 5, 6, 7, 1, 2, 3, 4, 5, 6, 7, 1, 2, 3, 4, 5, 6, 7, 1, 2, 3, 4, 5, 6, 7, 5, 1, 2, 3, 4, 5, 6, 7, 1, 2, 3, 4, 5, 6, 7, 1, 2, 3, 4, 5, 6, 7, 1, 2, 3, 4, 5, 6, 7, 3, 1, 6, 1, 2, 3, 4, 5, 6, 1, 2, 3, 4, 5, 6, 7, 3, 6, 1, 2, 3, 4, 5, 6, 7, 1, 2, 3, 4, 5, 6, 7, 1, 2, 7, 4, 7, 1, 2, 3, 4, 5, 6, 7, 2, 3, 5, 2, 3, 6, 1, 2, 3, 4, 5, 6, 7, 1, 2, 3, 4, 5, 6, 7, 1, 2, 3, 4, 5, 6, 7, 1, 2, 3, 4, 5, 6, 7, 1, 2, 4, 6, 7, 1, 2, 3, 4, 5, 6, 7, 1, 2, 3, 4, 5, 6, 7, 1, 2, 3, 4, 5, 6, 7, 6, 1, 2, 3, 4, 5, 6, 7, 5, 7, 1, 4, 1, 2, 3, 4, 5, 6, 7, 7, 2, 4, 7, 5, 5, 3, 6, 1, 2, 3, 4, 5, 6, 7, 4, 6, 7, 1, 2, 4, 5, 6, 7, 1, 2, 3, 4, 5, 6, 7, 4, 1, 2, 3, 4, 6, 7, 4, 5, 2, 3, 4, 7, 1, 2, 3, 4, 5, 6, 7, 4, 7, 1, 2, 3, 4, 5, 6, 7, 1, 5, 1, 2, 3, 4, 5, 6, 7, 7, 1, 2, 3, 4, 5, 6, 7, 4, 4, 7, 1, 2, 3, 4, 5, 6, 7, 5, 1, 2, 3, 4, 5, 6, 7, 1, 2, 3, 4, 5, 6, 7, 2, 5, 7, 1, 2, 3, 4, 5, 6, 7, 3, 4, 7, 1, 2, 3, 4, 5, 6, 7, 1, 2, 3, 4, 5, 6, 7, 1, 2, 3, 4, 5, 6, 7, 2, 5, 6, 7, 1, 2, 3, 4, 5, 6, 7, 1, 2, 6, 2, 3, 4, 5, 6, 7, 2, 7, 1, 1, 4, 4, 2, 3, 4, 4, 6, 1, 2, 3, 4, 5, 6, 7, 1, 2, 3, 4, 5, 6, 7, 1, 2, 3, 4, 5, 6, 7, 1, 2, 3, 4, 5, 6, 7, 4, 6, 1, 2, 3, 4, 5, 6, 7, 1, 2, 3, 4, 5, 6, 7, 1, 2, 3, 4, 5, 6, 7, 1, 2, 3, 4, 5, 6, 7, 3, 5, 2, 2, 3, 1, 2, 3, 4, 5, 6, 7, 4, 1, 2, 3, 4, 5, 6, 7, 2, 5, 6, 1, 2, 4, 7, 2, 7, 1, 2, 3, 4, 5, 6, 7, 1, 2, 3, 4, 5, 6, 7, 5, 1, 2, 3, 4, 5, 6, 7, 1, 3, 4, 5, 1, 2, 3, 4, 5, 6, 7, 1, 4, 5, 6, 1, 2, 3, 4, 5, 6, 7, 2, 6, 4, 1, 2, 3, 4, 5, 6, 7, 3, 7, 1, 5, 6, 7, 1, 3, 4, 2, 4, 6, 2, 3, 6, 1, 2, 3, 4, 5, 6, 7, 1, 7, 1, 2, 3, 6, 7, 2, 3, 7, 1, 2, 3, 4, 5, 6, 7, 1, 2, 3, 4, 5, 6, 7, 2, 3, 4, 5, 6, 7, 2, 4, 7, 1, 2, 3, 4, 5, 6, 7, 1, 2, 4, 5, 7, 6, 1, 2, 3, 4, 5, 6, 7, 1, 2, 3, 4, 5, 6, 7, 2, 3, 7, 3, 6, 3, 1, 2, 3, 4, 5, 6, 7, 1, 1, 2, 3, 4, 5, 6, 7, 1, 2, 3, 4, 5, 6, 7, 1, 2, 3, 4, 5, 6, 7, 6, 1, 2, 3, 4, 5, 6, 7, 1, 2, 3, 4, 5, 6, 7, 1, 3, 4, 6, 7, 1, 2, 3, 4, 5, 7, 1, 2, 3, 4, 5, 6, 7, 2, 3, 4, 5, 3, 4, 1, 2, 3, 4, 5, 6, 7, 6, 1, 2, 3, 4, 5, 6, 7, 5, 7, 1, 2, 3, 4, 5, 6, 7, 1, 2, 3, 4, 5, 6, 7, 5, 6, 7, 2, 2, 6, 3, 7, 1, 5, 1, 2, 6, 1, 4, 3, 1, 5, 6, 1, 2, 3, 4, 5, 6, 7, 7], \"Freq\": [0.07331946964833531, 0.2001010525819151, 0.20697475286144654, 0.11227043789901343, 0.12296286055606234, 0.24057950978360024, 0.04429717957920258, 0.26395678794936744, 0.08650684647080109, 0.25397522874119804, 0.1203332415651528, 0.07264356979278809, 0.15526869879374555, 0.0476896717723647, 0.2261222550837053, 0.12297877030868182, 0.5067915453849711, 0.01884352125697544, 0.0446293924507313, 0.06545644226107258, 0.015868228426926687, 0.9266791868914155, 0.028506764097614413, 0.13475924846144996, 0.06737962423072498, 0.028506764097614413, 0.45869974957070464, 0.14771686850582014, 0.1321677244525759, 0.05201609920855303, 0.020806439683421215, 0.7282253889197425, 0.1456450777839485, 0.006935479894473738, 0.013870959788947475, 0.03814513941960556, 0.08876688704556467, 0.07397240587130388, 0.8136964645843427, 0.08335980227429116, 0.04167990113714558, 0.02083995056857279, 0.8544379733114843, 0.9457715290152637, 0.07560180188533672, 0.02520060062844557, 0.882021021995595, 0.9213807894395729, 0.296184981307341, 0.0835252637452984, 0.06813903095011185, 0.22639742541488775, 0.11100067945098865, 0.09726297159814352, 0.11814428753446812, 0.0648109456466966, 0.10647512499100154, 0.2638731358472647, 0.013888059781434984, 0.009258706520956657, 0.4999701521316594, 0.04629353260478328, 0.16158291506448774, 0.029378711829906864, 0.05875742365981373, 0.014689355914953432, 0.014689355914953432, 0.029378711829906864, 0.6903997280028112, 0.947293138261225, 0.29125154554230115, 0.17905284636133484, 0.07150487046248112, 0.1552178895405078, 0.1127800395912304, 0.0877824019498752, 0.10173457179621298, 0.5137383741643562, 0.045018311138113686, 0.04237017518881288, 0.1345253062244809, 0.0746774337702827, 0.13346605184476057, 0.05614048212517706, 0.9189124091287556, 0.006381891312233154, 0.10211026099573046, 0.7732724973322506, 0.04360959063359322, 0.009572836968349731, 0.046800536289709795, 0.019145673936699463, 0.9397415269937639, 0.018608743108787403, 0.009304371554393702, 0.013956557331590552, 0.009304371554393702, 0.013956557331590552, 0.004652185777196851, 0.9342245202654137, 0.966763406308926, 0.9149468076989533, 0.053820400452879606, 0.10820122806942396, 0.021640245613884793, 0.8656098245553917, 0.009402866048893174, 0.705214953666988, 0.0705214953666988, 0.08932722746448515, 0.01410429907333976, 0.07522292839114539, 0.032910031171126106, 0.9421217870433081, 0.005092550200234098, 0.010185100400468196, 0.007638825300351147, 0.015277650600702294, 0.015277650600702294, 0.005092550200234098, 0.9206178687594265, 0.02301544671898566, 0.04603089343797132, 0.36277454958150196, 0.045458235942645205, 0.04100154614434666, 0.24690061482573966, 0.2584880083013159, 0.017826759193194198, 0.02763147674945101, 0.04499530840143893, 0.8999061680287787, 0.02369922183848104, 0.02369922183848104, 0.9005704298622796, 0.02369922183848104, 0.02369922183848104, 0.06432937799346551, 0.032164688996732756, 0.032164688996732756, 0.8684466029117844, 0.03589523173867739, 0.9332760252056121, 0.17557655881178397, 0.07918158534649081, 0.13598576613853855, 0.10328032871281409, 0.09467363465341291, 0.39418658792057376, 0.018934726930682582, 0.17638474864247553, 0.025197821234639362, 0.05669509777793857, 0.050395642469278724, 0.08189291901257793, 0.6047477096313447, 0.0062994553086598406, 0.05609244958647298, 0.9255254181768041, 0.053152517226297054, 0.053152517226297054, 0.9035927928470499, 0.8877490062347648, 0.7530751281157471, 0.021689370736086486, 0.04337874147217297, 0.055988840737339535, 0.013114503235773223, 0.08120903926767266, 0.031777450148219734, 0.8175866611415188, 0.021744326094189328, 0.008697730437675731, 0.013046595656513596, 0.026093191313027193, 0.07827957393908158, 0.034790921750702926, 0.04900035654830321, 0.05390039220313353, 0.044100320893472884, 0.034300249583812246, 0.6590547955746782, 0.11515083788851253, 0.04165030306605773, 0.04406787969820308, 0.02203393984910154, 0.1101696992455077, 0.815255774416757, 0.9374755774367043, 0.120806197039607, 0.8698046186851704, 0.0016570280015646153, 0.9411919048887015, 0.02485542002346923, 0.013256224012516922, 0.004971084004693846, 0.004971084004693846, 0.008285140007823077, 0.05833027523095276, 0.36664744430884594, 0.13094551582458783, 0.053568620110058654, 0.23451151470403456, 0.08690020595631738, 0.06904399925296449, 0.27538904780174583, 0.012239513235633147, 0.00917963492672486, 0.5477182172945834, 0.05201793125144087, 0.08261671434052374, 0.021419148162358008, 0.01433062426897467, 0.7738537105246323, 0.07165312134487335, 0.007165312134487335, 0.10747968201731004, 0.021495936403462007, 0.007165312134487335, 0.4969627175822291, 0.11354934496685946, 0.06636000679881397, 0.05751200589230544, 0.049401338394672624, 0.11060001133135662, 0.10617601087810236, 0.19333609824000902, 0.10311258572800482, 0.025778146432001204, 0.08377897590400392, 0.5735637581120268, 0.012889073216000602, 0.024162821689389626, 0.024162821689389626, 0.9423500458861954, 0.04231056681952868, 0.9308324700296309, 0.04510870001016528, 0.9021740002033056, 0.9482545249214532, 0.9503724601031359, 0.9669601553617078, 0.9286259784248243, 0.07312539294761708, 0.13539623537957224, 0.18052831383942966, 0.13539623537957224, 0.16167567347012213, 0.2845034819368227, 0.02913589875256618, 0.036731916678433445, 0.07994593630011984, 0.21715044859897417, 0.24740026233415466, 0.12315995592180624, 0.2625251692017449, 0.0324105147162648, 0.9290241254689644, 0.04531825002287631, 0.07542768233356802, 0.051290823986826245, 0.1402954891404365, 0.051290823986826245, 0.5958786904351873, 0.013576982820042242, 0.07241057504022529, 0.037724654222933585, 0.06480902135734744, 0.06480902135734744, 0.021280574177039456, 0.7109646372783637, 0.02321517182949759, 0.0773839060983253, 0.9087750355448779, 0.0016005900531611188, 0.07362714244541146, 0.864318628707004, 0.028810620956900138, 0.014405310478450069, 0.014405310478450069, 0.0032011801063222376, 0.97521066378497, 0.037322505174263484, 0.037322505174263484, 0.8957401241823235, 0.021588506759420593, 0.17270805407536474, 0.12953104055652356, 0.047494714870725305, 0.14464299528811797, 0.46631174600348485, 0.017270805407536477, 0.025830092914097817, 0.20664074331278254, 0.025830092914097817, 0.09963035838294872, 0.051660185828195634, 0.5830220972039222, 0.007380026546885091, 0.07869342629566309, 0.023608027888698927, 0.06295474103653047, 0.047216055777397854, 0.11804013944349463, 0.047216055777397854, 0.6216780677357384, 0.012254432247567552, 0.8578102573297287, 0.02859367524432429, 0.04901772899027021, 0.04901772899027021, 0.9822817094066523, 0.1987809348279045, 0.16128844534079084, 0.22354012599863993, 0.1195515230815511, 0.08771827729060554, 0.10469600837910983, 0.10398860291708882, 0.9398976049787691, 0.14640522899288097, 0.06506899066350266, 0.03253449533175133, 0.07049140655212788, 0.03795691122037655, 0.10844831777250442, 0.5368191729738969, 0.12677249936730856, 0.1446999235202613, 0.0921981813580426, 0.33293787712626494, 0.06274598453533455, 0.07427075720508987, 0.16646893856313247, 0.13134029135517505, 0.3020040232358516, 0.12898088492364496, 0.0935897884506936, 0.07392806818794284, 0.16594491901761638, 0.103813882987324, 0.93316267686233, 0.9832487975125375, 0.9290318907189559, 0.9688760581063612, 0.7438497536846368, 0.015458980211049909, 0.02728055331361749, 0.1327653594596051, 0.011821573102567578, 0.018187035542411658, 0.05001434774163206, 0.07230904109382175, 0.867708493125861, 0.7623444361864535, 0.024350067986299496, 0.012175033993149748, 0.01685773937513042, 0.03371547875026084, 0.028096232291884037, 0.12268688100789363, 0.056266736319361695, 0.9002677811097871, 0.9532703146259757, 0.019203603391921314, 0.09601801695960657, 0.8257549458526166, 0.03840720678384263, 0.004258273159624187, 0.33640357961031075, 0.4598935012394122, 0.046841004755866056, 0.028743343827463262, 0.10752139728051072, 0.0159685243485907, 0.9593309705909621, 0.02231002257188284, 0.9332217913166623, 0.9463005368542872, 0.022146094576674834, 0.022146094576674834, 0.022146094576674834, 0.930135972220343, 0.9401293816174289, 0.029688296261603016, 0.01319479833849023, 0.0032986995846225574, 0.009896098753867672, 0.04801648686333551, 0.04801648686333551, 0.024008243431667756, 0.07202473029500327, 0.780267911529202, 0.012004121715833878, 0.012004121715833878, 0.07110142091920629, 0.8887677614900786, 0.9332018352420745, 0.04515492751171328, 0.015051642503904427, 0.9275014133397232, 0.1544562582461384, 0.10940651625768137, 0.045049741988457036, 0.032178387134612164, 0.012871354853844866, 0.5405969038614844, 0.10940651625768137, 0.940857665658265, 0.028510838353280755, 0.028510838353280755, 0.04205678440523039, 0.22658500125298545, 0.25886113812211575, 0.14149336768891466, 0.13595100075179128, 0.1206279862785678, 0.07465894285889736, 0.9319114887658713, 0.9825062329870967, 0.9354350971349091, 0.12057209944543654, 0.1174805071519638, 0.01854955376083639, 0.1545796146736366, 0.11438891485849108, 0.05564866128250917, 0.42045655191229153, 0.9704777827673782, 0.018725567908551333, 0.15812701789443348, 0.5159934268134145, 0.10923247946654946, 0.037971290481229096, 0.14564330595539926, 0.014564330595539927, 0.8707764311981503, 0.07638389747352195, 0.030553558989408782, 0.9490822107038696, 0.01790721152271452, 0.9371793580891261, 0.9250550679492251, 0.06400684214141444, 0.17601881588888973, 0.11201197374747528, 0.565393772249161, 0.01600171053535361, 0.02133561404713815, 0.0426712280942763, 0.0031370748678447515, 0.6776081714544663, 0.25096598942758014, 0.012548299471379006, 0.02195952407491326, 0.025096598942758012, 0.01097976203745663, 0.8123485644262175, 0.01612602609282814, 0.07659862394093366, 0.03829931197046683, 0.006047259784810552, 0.036283558708863316, 0.014110272831224622, 0.02415141476467775, 0.5294733236871662, 0.0873166533799888, 0.0919611562193499, 0.026938116468294415, 0.1746333067599776, 0.06502303975105549, 0.8179054605716267, 0.0927180279190508, 0.0629158046593559, 0.0231795069797627, 0.0033113581399661003, 0.028285841206571294, 0.34347092893693715, 0.03636751012273452, 0.07677585470355065, 0.02424500674848968, 0.44449179038897746, 0.04849001349697936, 0.2826832301092114, 0.05996310941710545, 0.042830792440789606, 0.46828333068596634, 0.042830792440789606, 0.06281849557982476, 0.042830792440789606, 0.12772321328802302, 0.07024776730841266, 0.04789620498300863, 0.5396305761418972, 0.08940624930161611, 0.07344084764061323, 0.054282365647409785, 0.21623087729465204, 0.03892155791303737, 0.025947705275358245, 0.12541390883089817, 0.5622002809660953, 0.021623087729465203, 0.008649235091786082, 0.11841358146281489, 0.0962110349385371, 0.02220254652427779, 0.014801697682851861, 0.7104814887768893, 0.02220254652427779, 0.014801697682851861, 0.9192637830144544, 0.49194631262577193, 0.08676590538823932, 0.04993132291209998, 0.14856614932042864, 0.06793934101154588, 0.11746139078502209, 0.037653128753386875, 0.023652233009731325, 0.9460893203892531, 0.9489054310483995, 0.047445271552419975, 0.0383558042071199, 0.08182571564185578, 0.1508661632146716, 0.03068464336569592, 0.6494916179072303, 0.0383558042071199, 0.012785268069039965, 0.0750040725246477, 0.11948323181252017, 0.46485082157717705, 0.20233656774091008, 0.04011845739690458, 0.027036351724000915, 0.07238765139006696, 0.037607297019282296, 0.8649678314434929, 0.07521459403856459, 0.9593445428984778, 0.05080340417663678, 0.914461275179462, 0.9453805653180958, 0.1558625566413133, 0.12189251224512963, 0.16485462721677369, 0.14786960501868185, 0.21281233695256238, 0.03996475811315726, 0.1558625566413133, 0.05047064713133775, 0.9084716483640795, 0.9429624513403989, 0.3333443968065807, 0.11897140088046314, 0.100452267724542, 0.15039780866020813, 0.10325819699059065, 0.11279835649515609, 0.08081076286220137, 0.9520199259763905, 0.02720056931361116, 0.03812868391116517, 0.9150884138679639, 0.004777881360892886, 0.18155949171392965, 0.6975706786903614, 0.028667288165357317, 0.009555762721785772, 0.0668903390525004, 0.014333644082678659, 0.9299019345286363, 0.31837219414377504, 0.02497036816813922, 0.006242592042034805, 0.1186092487986613, 0.01248518408406961, 0.06866851246238286, 0.44946662702650597, 0.9308092548914578, 0.02164672685794088, 0.02164672685794088, 0.02927047457004349, 0.02927047457004349, 0.9073847116713482, 0.32510186983637546, 0.11282074021718966, 0.08090434660311627, 0.14993282581494943, 0.033400877037983785, 0.2308371724180657, 0.06754399578792276, 0.9585998986402229, 0.01879607644392594, 0.31849925555836, 0.18210321900944956, 0.056589844951143685, 0.2503012372839048, 0.05949188828197157, 0.03990309579888337, 0.09286538658649221, 0.769468777042173, 0.020116830772344392, 0.010058415386172196, 0.11567177694098024, 0.037719057698145736, 0.021374132695615916, 0.02514603846543049, 0.9213709975591562, 0.9336213639083735, 0.05186785355046519, 0.2598575045690701, 0.24129625424270792, 0.1175545854002936, 0.10827396023711253, 0.1002307517623556, 0.08476304315705381, 0.08785658487811417, 0.9504947902092498, 0.17446175163629024, 0.16223532160248014, 0.18057496665319528, 0.1659973000744217, 0.14624691309672846, 0.08605525754566339, 0.0841742683096926, 0.9268301236224232, 0.013996991515397598, 0.4945603668773818, 0.28305027286692924, 0.12752814491806702, 0.037325310707726926, 0.02954920431028382, 0.012441770235908976, 0.217039234644275, 0.043407846928855, 0.0390670622359695, 0.121541971400794, 0.0998380479363665, 0.0390670622359695, 0.4384192539814355, 0.0639761448186468, 0.20403202942163035, 0.2386137293236016, 0.10201601471081517, 0.2968262574919199, 0.05677162400573613, 0.03803986989216837, 0.0626136660992823, 0.0626136660992823, 0.6887503270921054, 0.02504546643971292, 0.00626136660992823, 0.04382956626949761, 0.11270459897870815, 0.0967018523422796, 0.5086266259561459, 0.06279341061186987, 0.08791077485661782, 0.07786382915871863, 0.08414317021990562, 0.08288730200766822, 0.028707500728371412, 0.17702958782495704, 0.0765533352756571, 0.48085063720022114, 0.10526083600402851, 0.11722229464084993, 0.014353750364185706, 0.928717131956058, 0.3259533824500364, 0.18704240824703025, 0.10174619601711417, 0.12611654236851877, 0.06823696978393286, 0.11393136919281648, 0.07615733234813936, 0.039706341043452574, 0.07941268208690515, 0.039706341043452574, 0.02647089402896838, 0.7014786917676621, 0.10588357611587353, 0.01323544701448419, 0.009284962125989255, 0.9006413262209578, 0.009284962125989255, 0.0835646591339033, 0.01812978193441715, 0.1148219522513086, 0.07856238838247431, 0.012086521289611431, 0.6587154102838231, 0.05438934580325144, 0.06043260644805716, 0.16443318492668663, 0.154314219700429, 0.10827292792095673, 0.28990835373228135, 0.1006837040012635, 0.06931491179986482, 0.11333241053408556, 0.02887666062320099, 0.9529298005656326, 0.02887666062320099, 0.35961742635952015, 0.07355810993717457, 0.03984397621596956, 0.17776543234817188, 0.20739300440620054, 0.0817312332635273, 0.0582335037002632, 0.9645397659920011, 0.8951966437683516, 0.3490252662950662, 0.059988717644464506, 0.021814079143441637, 0.01636055935758123, 0.03272111871516246, 0.04908167807274369, 0.4635491817981348, 0.5499585256646077, 0.11306048985762861, 0.058145394783923283, 0.11386806478518309, 0.0646059942043592, 0.050877220435932874, 0.049262070580823894, 0.06359011687892197, 0.15443314099166763, 0.08932897371086658, 0.4875242294050684, 0.15594719139354674, 0.022710756028186417, 0.0272529072338237, 0.052573342844443635, 0.8937468283555419, 0.9356105419256592, 0.08955522867545702, 0.02985174289181901, 0.02985174289181901, 0.07462935722954753, 0.7462935722954752, 0.014925871445909506, 0.7044143036477781, 0.044428979477275934, 0.07954220519318755, 0.08885795895455187, 0.015765121750001138, 0.04657876880682154, 0.02006470040909236, 0.9735195613344393, 0.9595740526229597, 0.17310684076022548, 0.4627608614382265, 0.022281078513692387, 0.018281910575337342, 0.2353795986574683, 0.014854052342461592, 0.07255633259587008, 0.9436141563985324, 0.6579118123852218, 0.023137571383578137, 0.023137571383578137, 0.09456224826331934, 0.04929308686066647, 0.073436639608748, 0.07947252779576838, 0.9851543177310397, 0.033720843020870056, 0.016860421510435028, 0.9104627615634915, 0.016860421510435028, 0.016860421510435028, 0.056212197895161437, 0.899395166322583, 0.9686264578512164, 0.005005177022995762, 0.030031062137974573, 0.025025885114978812, 0.19520190389683473, 0.1201242485518983, 0.6206419508514746, 0.005005177022995762, 0.053281788232263406, 0.07104238430968454, 0.78146622740653, 0.08880298038710568, 0.9406287518210075, 0.06955121605330739, 0.21780512395641, 0.13910243210661477, 0.04758767414173663, 0.45757378982439073, 0.03477560802665369, 0.03294531286735613, 0.03239695360660308, 0.0809923840165077, 0.06479390721320616, 0.06479390721320616, 0.7208322177469185, 0.03239695360660308, 0.00809923840165077, 0.2174736276846855, 0.1487481955592221, 0.11203186880726222, 0.22782951471728957, 0.09320298329343664, 0.10638320315311454, 0.09320298329343664, 0.9296017134996115, 0.957264787005494, 0.05431155477267333, 0.9232964311354467, 0.024210714434932553, 0.8957964340925045, 0.024210714434932553, 0.024210714434932553, 0.024210714434932553, 0.9281087050782753, 0.23214729204479942, 0.12592051059499404, 0.17724356230669777, 0.1515820364508459, 0.12472695125286139, 0.12174305289752978, 0.0662425434883618, 0.007207513180963466, 0.3171305799623925, 0.4052224077297238, 0.04084257469212631, 0.06326594903290153, 0.03763923550058699, 0.12653189806580306, 0.9640443364834289, 0.9277417852561476, 0.9492674928114146, 0.00476887506700899, 0.6924804003552638, 0.0852436418227857, 0.0919995481677151, 0.024440484718421075, 0.08226309490590508, 0.01887679714024392, 0.9328968329799916, 0.05809855578061528, 0.9295768924898444, 0.910906706619521, 0.050605928145528944, 0.9558654462303314, 0.30315879490304426, 0.13012508273530668, 0.05223659235252455, 0.27797329501879137, 0.15950816593360173, 0.0592325645425948, 0.01725673140217329, 0.1553942049916041, 0.21486606122295876, 0.18800780357008892, 0.0690640911073796, 0.1654660516114303, 0.14963886406598914, 0.05755340925614967, 0.08970135948715512, 0.2250266862996736, 0.35416571245790557, 0.07655547059679618, 0.06882259477893797, 0.1353253268125185, 0.0502636928160783, 0.19947521466855045, 0.19457008643899593, 0.07521196618650262, 0.05559145326828455, 0.04087606857962099, 0.38750513013480703, 0.04741623955236035, 0.9111083136221794, 0.06748950471275403, 0.9321971569544047, 0.060052249484653784, 0.27357135876342276, 0.10231123986274349, 0.035586518213128165, 0.35364102474296116, 0.03781067560144868, 0.13789775807587165, 0.9267498270296388, 0.9758156926415579, 0.10475039762953188, 0.049465465547278945, 0.1833131958516808, 0.014548666337434984, 0.07856279822214891, 0.06401413188471393, 0.5062935885427374, 0.7049644462442425, 0.036716898241887626, 0.05874703718702021, 0.07159795157168088, 0.016522604208849434, 0.02570182876932134, 0.08444886595634155, 0.08708922430403469, 0.09126950707062836, 0.009753993122051885, 0.17278502101920484, 0.2654479556786977, 0.35532403516046157, 0.017417844860806938, 0.1953962081649094, 0.026052827755321254, 0.07164527632713344, 0.026052827755321254, 0.5536225898005767, 0.08467169020479408, 0.045592448571812196, 0.5561027360896184, 0.09610319128539035, 0.048591501211714225, 0.0529107457638666, 0.057229990316018976, 0.06802810169639992, 0.12093884746026651, 0.04569450026317419, 0.9138900052634837, 0.03955740812678759, 0.11591240520872644, 0.12879156134302938, 0.07083535873866616, 0.026678251992484654, 0.5933611219018139, 0.025758312268605872, 0.018103785834685908, 0.2474184064073741, 0.6175402501387305, 0.014080722315866817, 0.04425369870701, 0.03419603990996227, 0.026149912872324092, 0.19527612505241196, 0.14026285111291525, 0.23979068259124137, 0.1385830564888085, 0.08734932045355202, 0.12514469949595433, 0.07349101480467117, 0.8010743733423186, 0.01820623575777997, 0.014564988606223975, 0.010923741454667981, 0.0546187072733399, 0.02912997721244795, 0.06918369587956388, 0.11555193969067123, 0.07910863563438261, 0.08266407993255712, 0.15466182697059072, 0.4933178963717118, 0.061331414143510114, 0.014221777192697998, 0.020174543470026177, 0.10894253473814136, 0.5638784899872317, 0.025218179337532724, 0.060523630410078536, 0.20981525208827226, 0.012104726082015708, 0.02443032047706998, 0.008143440159023326, 0.0325737606360933, 0.10586472206730324, 0.7817702552662393, 0.04886064095413996, 0.008143440159023326, 0.8782969260979226, 0.010212754954627009, 0.10212754954627008, 0.8716372262413769, 0.1089546532801721, 0.47726506415181874, 0.09933772846880878, 0.05716081582283411, 0.1281956160686862, 0.07658439401505929, 0.09434309407652232, 0.06715008460740705, 0.9191848970584464, 0.013719177568036514, 0.013719177568036514, 0.02743835513607303, 0.013719177568036514, 0.041332487602579904, 0.041332487602579904, 0.9093147272567578, 0.9495669713278608, 0.17606788632041084, 0.3729859170735019, 0.03783915100745672, 0.0640948884412022, 0.12896200445398515, 0.16371224517511887, 0.05560038515381396, 0.02482651783151234, 0.7150037135475554, 0.04220508031357098, 0.05710099101247838, 0.0794448570608395, 0.06951424992823456, 0.014895910698907404, 0.9285274054389764, 0.9368621797907778, 0.05349501774239531, 0.9094153016207204, 0.6262432665093518, 0.07449090030401695, 0.06842768748857371, 0.019921984965027787, 0.015591118668282616, 0.1498479738673829, 0.04504100948614978, 0.9398799980809529, 0.6971452768134322, 0.03768352847640174, 0.07536705695280348, 0.06377212511391063, 0.0275379631173705, 0.07536705695280348, 0.023189863677785687, 0.304449049958875, 0.036172164351549504, 0.009043041087887376, 0.08741606384957797, 0.04822955246873267, 0.08440171682028218, 0.43406597221859405, 0.8910337164502729, 0.05091621236858702, 0.008486035394764503, 0.008486035394764503, 0.033944141579058014, 0.008486035394764503, 0.9696857227990258, 0.030877244445864507, 0.8954400889300707, 0.007719311111466127, 0.04631586666879676, 0.007719311111466127, 0.02766658542937812, 0.02766658542937812, 0.9406639045988561, 0.23911165810882692, 0.08372679511066179, 0.24816320352619578, 0.14708761303224369, 0.06637799972737152, 0.1063556586540839, 0.10861854500842612, 0.9730000228914579, 0.034888920712307966, 0.034888920712307966, 0.9071119385200072, 0.06783358774998718, 0.2144416644999595, 0.02625816299999504, 0.5776795859998909, 0.035010883999993386, 0.04595178524999132, 0.0328227037499938, 0.9558643999241252, 0.09313674727064801, 0.4712275903574453, 0.06319993564793973, 0.14414020410933623, 0.08759289326644278, 0.10089814287653535, 0.03991574883027772, 0.9713495355437163, 0.021585545234304806, 0.06421736439078815, 0.6750290396427033, 0.019414552025121996, 0.10304646844103214, 0.05525680191765491, 0.03434882281367738, 0.047789666523377225, 0.29641194972321744, 0.06531110756613266, 0.045215382161168764, 0.1934213570227775, 0.025119656756204867, 0.0753589702686146, 0.29641194972321744, 0.26382891432935657, 0.0360351687864487, 0.02960031721744, 0.09137489227992349, 0.06627897116078957, 0.08172261492641045, 0.43113505512358263, 0.9136301482621266, 0.27048405264799363, 0.033810506580999204, 0.0042263133226249005, 0.5240628520054876, 0.07607363980724821, 0.0802999531298731, 0.0126789399678747, 0.9215293184506125, 0.8895082129711527, 0.012185044013303462, 0.012185044013303462, 0.012185044013303462, 0.012185044013303462, 0.06092522006651731, 0.9490458872259526, 0.012013239078809527, 0.012013239078809527, 0.03603971723642858, 0.955226471140642, 0.11405835581791075, 0.07287061621699854, 0.4403919849635999, 0.11405835581791075, 0.04594017109332517, 0.14732537626480138, 0.06494989706297696, 0.938503230210425, 0.032362180352083623, 0.029909110270883412, 0.9570915286682692, 0.938755992034123, 0.8276669802370177, 0.010890355003118654, 0.01633553250467798, 0.06534213001871192, 0.01633553250467798, 0.03267106500935596, 0.027225887507796632, 0.967469033848945, 0.654245865712289, 0.049117557485907584, 0.015717618395490428, 0.0569763666836528, 0.025541129892671946, 0.07269398507914322, 0.12377624486448711, 0.9563355887502284, 0.9248435158842812, 0.9328102783041289, 0.9731150086328314, 0.02737184596662273, 0.05474369193324546, 0.90327091689855, 0.911823244048567, 0.04951231497334648, 0.8912216695202367, 0.27209006966445276, 0.012228767175930461, 0.009171575381947844, 0.5350085639469576, 0.0611438358796523, 0.0825441784375306, 0.024457534351860922, 0.0014280112320248816, 0.4055551898950664, 0.07996862899339337, 0.06854453913719431, 0.11566890979401541, 0.012852101088223935, 0.3170184935095237, 0.9625646377623285, 0.012451145643193152, 0.04980458257277261, 0.21166947593428356, 0.7221664473052027, 0.8907657147002156, 0.9356662121954873, 0.008827039737693276, 0.008827039737693276, 0.008827039737693276, 0.008827039737693276, 0.02648111921307983, 0.17926050422993622, 0.06722268908622608, 0.044815126057484056, 0.17926050422993622, 0.04929663866323246, 0.46607731099783417, 0.01792605042299362, 0.05127687377657846, 0.07050570144279539, 0.09614413833108462, 0.038457655332433845, 0.02563843688828923, 0.6794185775396646, 0.038457655332433845, 0.9527287881881564, 0.9346047232684063, 0.0322277490782209, 0.9620410559758561, 0.028295325175760475, 0.8568163819105064, 0.06836074142225818, 0.8886896384893563, 0.020776771629627596, 0.020776771629627596, 0.04155354325925519, 0.8102940935554763, 0.10388385814813798, 0.2401607933860053, 0.0068617369538858655, 0.020585210861657596, 0.6381415367113855, 0.06175563258497279, 0.013723473907771731, 0.027446947815543462, 0.9504526524992025, 0.9555413965153616, 0.04339391908472478, 0.31979431673308045, 0.3896019256954638, 0.03773384268236937, 0.06603422469414641, 0.11603156624828583, 0.028300382011777033, 0.060516239485043935, 0.13282135679184967, 0.5163528485931671, 0.046762548692988494, 0.08173621956421519, 0.13085654382155604, 0.03143700752469815, 0.2191935414165612, 0.058887817096986594, 0.09651058913117247, 0.008178863485692581, 0.20283581444517604, 0.3794992657361358, 0.03435122663990885, 0.9191952404295125, 0.023569108728961858, 0.023569108728961858, 0.023569108728961858, 0.2198107778012701, 0.2936534609688843, 0.02747634722515876, 0.01373817361257938, 0.31426072138775335, 0.09444994358648325, 0.0377799774345933, 0.1763863493055252, 0.07328728597905623, 0.03478040690531482, 0.20868244143188894, 0.03726472168426588, 0.28445404218989623, 0.18632360842132942, 0.9711911619697686, 0.054420880000294554, 0.9251549600050074, 0.5610019945251249, 0.012917809084460113, 0.04428963114672038, 0.029526420764480258, 0.016608611680020143, 0.07012524931564061, 0.2638923855825423, 0.23446677391554713, 0.013025931884197062, 0.03907779565259119, 0.05210372753678825, 0.013025931884197062, 0.026051863768394124, 0.625244730441459, 0.3344498877813043, 0.1161730980394194, 0.14752777501891667, 0.08361247194532608, 0.09687791220588261, 0.10129972562606812, 0.12059491145960491, 0.0007472695988820322, 0.33739222389523754, 0.17785016453392366, 0.05903429831168055, 0.02802260995807621, 0.3545794246695243, 0.04259436713627584, 0.9002493962430261, 0.9442233209213291, 0.9625030786356036, 0.02830891407751775, 0.06072513186967796, 0.3744716465296808, 0.040483421246451975, 0.4959219102690367, 0.025302138279032483, 0.9208371716461777, 0.029704424891812187, 0.014852212445906093, 0.014852212445906093, 0.5457624821224628, 0.058285313624729045, 0.09537596774955662, 0.07842024014963545, 0.0996148996495369, 0.061464512549714266, 0.06040477957471919, 0.5856877153456389, 0.03687138159560923, 0.036162316564924434, 0.07161556809916408, 0.0794152834366968, 0.11203227484819728, 0.07799715337532721, 0.5195177211820813, 0.0778542108086248, 0.05924754407448806, 0.09401263191984882, 0.0842196494281979, 0.05875789494990551, 0.10674350915899501, 0.8011462033865688, 0.022100584921008793, 0.027625731151260994, 0.016575438690756596, 0.011050292460504397, 0.11602807083529616, 0.011050292460504397, 0.027985388768163276, 0.9235178293493881, 0.027985388768163276, 0.9562019112913308, 0.028804315756444678, 0.028804315756444678, 0.9217381042062297, 0.7364571779078319, 0.05839748547286774, 0.05839748547286774, 0.038931656981911825, 0.022710133239448562, 0.0681303997183457, 0.019465828490955912, 0.14476487684124573, 0.2232814202127688, 0.05643376554828223, 0.03680462970540145, 0.1496721608019659, 0.061341049509002425, 0.32878802536825297, 0.9484295274963686, 0.04742147637481843, 0.4547087706972563, 0.062483075881031754, 0.11761520165841272, 0.13284216973026078, 0.12654135535570296, 0.07560977249469389, 0.029928868279149663, 0.91569187425775, 0.04533128090384901, 0.009066256180769802, 0.009066256180769802, 0.018132512361539604, 0.009066256180769802, 0.9220622297816112, 0.017996030333965254, 0.017996030333965254, 0.8638094560303322, 0.08998015166982627, 0.9551528636983708, 0.04205075500558865, 0.8750656206305689, 0.06460215991232389, 0.0293646181419654, 0.01761877088517924, 0.01174584725678616, 0.18881722097550083, 0.14257626889986796, 0.061654602767510475, 0.06936142811344928, 0.05780119009454107, 0.45855610808335917, 0.023120476037816428, 0.18595702309006515, 0.1152933543158404, 0.018595702309006513, 0.46489255772516286, 0.007438280923602606, 0.07066366877422475, 0.1338890566248469, 0.9612261308744252, 0.1488882158617359, 0.12044889373084253, 0.25126977553295204, 0.18100792085662723, 0.12011431347047907, 0.12847881997956537, 0.049852458794154265, 0.9380761900649133, 0.9272449116141851, 0.0073141790704405905, 0.8143119365090524, 0.058513432563524724, 0.051199253493084136, 0.009752238760587454, 0.04144701473249668, 0.014628358140881181, 0.915662992827613, 0.0494952969096007, 0.02474764845480035, 0.9548892678941863, 0.8428372460750371, 0.14047287434583952, 0.2807715739265262, 0.00935905246421754, 0.7019289348163155, 0.23218706296389016, 0.322443755095254, 0.0268703129246045, 0.12126089935206133, 0.1219498817347435, 0.0888787273659995, 0.08681178021795301, 0.8276589998130393, 0.010962370858450851, 0.07673659600915596, 0.021924741716901702, 0.04933066886302883, 0.010962370858450851, 0.0054811854292254256, 0.9270463432568135, 0.015983557642358853, 0.031967115284717705, 0.015983557642358853, 0.9315747198096963, 0.007521397014992958, 0.6964813635883479, 0.12786374925488028, 0.04663266149295634, 0.03459842626896761, 0.019555632238981692, 0.06769257313493662, 0.8907255211093693, 0.10686713977433118, 0.18209598158915644, 0.2517002371000695, 0.059761229479066785, 0.18279905487714546, 0.1736591021332882, 0.04288747056733028, 0.24299308127251712, 0.05206994598696796, 0.12149654063625856, 0.028927747770537755, 0.05785549554107551, 0.05206994598696796, 0.4397017661121739, 0.328799304928616, 0.28026226467724885, 0.06262843903402208, 0.11586261221294086, 0.13621685489899804, 0.02426852012568356, 0.05166846220306822, 0.25793185671401725, 0.005731819038089272, 0.011463638076178544, 0.04585455230471418, 0.03439091422853563, 0.5158637134280345, 0.12610001883796398, 0.9351107293760583, 0.22627052402483472, 0.13057187945519136, 0.11921780298082689, 0.1540910378663749, 0.25222269882338205, 0.07217948615845982, 0.04541630589745786, 0.048660477394246615, 0.1774676234378406, 0.040073334324673686, 0.06869714455658346, 0.0028623810231909776, 0.626861444078824, 0.03148619125510075, 0.5758177456336169, 0.07551708139457271, 0.0778769901881531, 0.10855580450469826, 0.04365831268123735, 0.04837813026839814, 0.06961730941062172, 0.022777227873691464, 0.09110891149476585, 0.04555445574738293, 0.07972029755792012, 0.7288712919581268, 0.011388613936845732, 0.022777227873691464, 0.9379139948906786, 0.08959698011618547, 0.8661041411231263, 0.009092466875694009, 0.02727740062708203, 0.018184933751388018, 0.018184933751388018, 0.25458907251943225, 0.6728425488013566, 0.15850301202722883, 0.20930525947185344, 0.1463104726405189, 0.022352988875634833, 0.014224629284494895, 0.3617120018057273, 0.08737986560475436, 0.9330925547430826, 0.8844616051240878, 0.2168899067578139, 0.06747685988020877, 0.05783730846875037, 0.12772405620182373, 0.04819775705729198, 0.05542742061588577, 0.426550149957034, 0.09557721918730891, 0.20608837887263484, 0.02688109289643063, 0.008960364298810211, 0.011947152398413614, 0.07466970249008509, 0.5704765270242501, 0.026999191313952366, 0.10799676525580947, 0.8369749307325234, 0.04485055577681956, 0.8970111155363912, 0.724554983609015, 0.04503776888300312, 0.04661804147538919, 0.07427281184214549, 0.026074497774370226, 0.04582790517919615, 0.03792654221726578, 0.017266106857938574, 0.9496358771866217, 0.03453221371587715, 0.048732563619978526, 0.9259187087795919, 0.9128676044314148, 0.007262085517041809, 0.10439247930747601, 0.5873211661907564, 0.09259159034228308, 0.04720355586077176, 0.14796499240972688, 0.013616410344453394, 0.02343990491312446, 0.6584482380141325, 0.03409440714636285, 0.09375961965249784, 0.02130900446647678, 0.10867592277903158, 0.05966521250613499, 0.3307818427178451, 0.21699288882290638, 0.017200655821327945, 0.054248222205726594, 0.03969382112614141, 0.06351011380182625, 0.27785674788298986, 0.01853972773221755, 0.07972082924853546, 0.8268718568569028, 0.024101646051882815, 0.016685754958995797, 0.02224767327866106, 0.012977809412552286, 0.9192445741552042, 0.9124324585148554, 0.015207207641914256, 0.015207207641914256, 0.04562162292574277, 0.022394794765929545, 0.4914413295856761, 0.13810123438989885, 0.09082333432849203, 0.1468103212433159, 0.0684285395625625, 0.0410571237375375, 0.5314391681889251, 0.07842597433467632, 0.025798017873248792, 0.13827737580061353, 0.11144743721243477, 0.07636213290481642, 0.03921298716733816, 0.9316415933389468, 0.006458520577739666, 0.02421945216652375, 0.0096877808666095, 0.011302411011044415, 0.006458520577739666, 0.0096877808666095, 0.9443633568306178, 0.023118523921784585, 0.24210231995868856, 0.4065007122913789, 0.07963047128614689, 0.09568500178738619, 0.1181613444891212, 0.03467778588267688, 0.8960960419712388, 0.049783113442846604, 0.05928624507475176, 0.8892936761212764, 0.24974408844307394, 0.1222151922168234, 0.19660704834880288, 0.1282879967990258, 0.05920984467647345, 0.11917878992572221, 0.12449249393514931, 0.9171273269235122, 0.03917160542296792, 0.94011853015123, 0.03917160542296792, 0.9292553793461775, 0.9078565438181462, 0.051872796702033416, 0.9337103406366014, 0.8683681618596817, 0.004363659104822521, 0.05454573881028151, 0.017454636419290084, 0.017454636419290084, 0.028363784181346385, 0.008727318209645042, 0.09329627110953195, 0.3065448907884621, 0.5997617428469911, 0.03414168295264515, 0.059747945167129016, 0.8620774945542901, 0.025606262214483866, 0.008535420738161287, 0.008535420738161287, 0.6876792853078484, 0.017861799618385674, 0.031258149332174925, 0.03572359923677135, 0.02009452457068388, 0.18085072113615494, 0.0245599744752803, 0.9767355348110123, 0.010433749813027953, 0.0069558332086853015, 0.9494712329855437, 0.0069558332086853015, 0.024345416230398556, 0.0034779166043426507, 0.9227751628730044, 0.03691100651492018, 0.024941753670433893, 0.014965052202260336, 0.8230778711243185, 0.13468546982034302, 0.38466988391579543, 0.06628639790679243, 0.04332103170286434, 0.24061440500024653, 0.04593073240785617, 0.15866980286350313, 0.06002311621481204, 0.9443273955002579, 0.033725978410723494, 0.4860724308624261, 0.046538849763423776, 0.023786523212416595, 0.2357968388013471, 0.05377822639328969, 0.1261719926919489, 0.02895750651946368, 0.9513727857209207, 0.03659126098926618, 0.14380105963610892, 0.16177619209062255, 0.15698282343608558, 0.2720236711449727, 0.10185908390891049, 0.0958673730907393, 0.0671071611635175, 0.9178736693034385, 0.0010399898199325067, 0.8059921104476927, 0.009359908379392561, 0.035359653877705226, 0.06135939937601789, 0.04367957243716528, 0.04367957243716528, 0.9204557399592586, 0.030039705603009285, 0.9612705792962971, 0.09996669789335862, 0.18927028134475898, 0.05864712943077039, 0.08130624761993167, 0.18660450273426943, 0.3505498872793775, 0.03332223263111954, 0.8941104196686613, 0.004382171824827824, 0.7230583510965909, 0.05696823372276171, 0.03505737459862259, 0.06135040554758953, 0.04382171824827824, 0.074496921022073, 0.004861064780660129, 0.6319384214858168, 0.13489454766331857, 0.019444259122640518, 0.10086709419869767, 0.08263810127122219, 0.025520590098465676, 0.8835708827365254, 0.028502286539887914, 0.08550685961966374, 0.37374117284671504, 0.06921132830494724, 0.03460566415247362, 0.0775166877015409, 0.3059140711078668, 0.04844792981346306, 0.09135895336253035, 0.9354956029329108, 0.9211831559891985, 0.043865864570914216, 0.0015536855613119162, 0.8001480640756368, 0.05904005132985281, 0.03107371122623832, 0.03728845347148599, 0.06525479357510047, 0.0031073711226238324, 0.11136956496166488, 0.16755601214953184, 0.4254116715652784, 0.060199764844143175, 0.10133627082097434, 0.04514982363310738, 0.0892963178521457, 0.5696323905124092, 0.04135003585697088, 0.09981043137889524, 0.09838456807348245, 0.0641638487435755, 0.10337508964242721, 0.023526744539311018, 0.9386155209246007, 0.019554490019262516, 0.019554490019262516, 0.019554490019262516, 0.008259771539831092, 0.8755357832220958, 0.01238965730974664, 0.015142914489690337, 0.026155943209465127, 0.03441571474929622, 0.026155943209465127, 0.03961386994364483, 0.03961386994364483, 0.8715051387601863, 0.13728150804762057, 0.8122489226150884, 0.011440125670635048, 0.011440125670635048, 0.011440125670635048, 0.011440125670635048, 0.9627056052132017, 0.9571638489426831, 0.9568249282266209, 0.12411306700651603, 0.8532773356697977, 0.979716724604216, 0.12699318946653332, 0.042331063155511106, 0.8254557315324665, 0.03594017989893761, 0.9344446773723778, 0.1129462960097977, 0.2217093958710844, 0.04601515763362129, 0.05019835378213232, 0.476884360930257, 0.05019835378213232, 0.041831961485110265, 0.401846687485433, 0.14368584896335718, 0.03236879015108596, 0.06473758030217192, 0.05131637462977042, 0.09789585313986973, 0.20763394657891726, 0.34543192946327134, 0.17996278842666932, 0.05797458956026931, 0.0845462764420594, 0.0797150606453703, 0.0797150606453703, 0.17271596473163567, 0.20341664780474505, 0.23171345183007705, 0.05232239234872708, 0.2616119617436354, 0.09930576507003303, 0.12226354946794388, 0.029364607950816215, 0.057167298159030364, 0.9146767705444858, 0.4095171995539873, 0.1211433516365493, 0.023701960102803125, 0.1698640474034224, 0.08295686035981094, 0.12180173941718271, 0.0717642680890428, 0.01318520362630211, 0.6526675795019545, 0.050543280567491425, 0.04614821269205739, 0.12306190051215303, 0.04834574662977441, 0.06592601813151056, 0.06937328719136493, 0.12333028834020433, 0.02055504805670072, 0.1284690503543795, 0.1824260515032189, 0.03597133409922626, 0.44193353321906553, 0.06833795719146285, 0.022779319063820948, 0.7346330398082256, 0.028474148829776186, 0.03986380836168666, 0.10250693578719428, 0.005694829765955237, 0.03200422086747288, 0.9601266260241863, 0.9579573861886007, 0.9455504201875359, 0.03151834733958453, 0.3033256238912108, 0.12476694381732072, 0.19798347372209574, 0.12028429912927327, 0.1748231428338506, 0.044826446880474505, 0.03436694260836379, 0.9782795834523192, 0.06740610899489155, 0.23809577209485888, 0.3027838928238274, 0.12394026492609092, 0.09458599165412203, 0.10600154237099882, 0.06740610899489155, 0.03434847598815876, 0.03434847598815876, 0.9274088516802864, 0.03466794097819263, 0.06933588195638526, 0.03466794097819263, 0.8666985244548158, 0.9531788485283265, 0.034042101733154514, 0.7302305993661383, 0.018395732514152444, 0.0343920216568937, 0.09997680714213285, 0.06158571319955383, 0.025594062628386007, 0.029593134914071322, 0.18845765654756821, 0.28950931583139144, 0.10068285760760493, 0.050157027965693296, 0.24377790798031818, 0.06675310339551829, 0.06085227657602496, 0.9174898059389036, 0.8039209999710362, 0.002820775438494864, 0.011283101753979456, 0.03949085613892809, 0.09590636490882537, 0.03384930526193836, 0.011283101753979456, 0.04191814743510822, 0.04191814743510822, 0.02095907371755411, 0.9012401698548268, 0.1341751353228131, 0.09392259472596919, 0.035780036086083496, 0.17219142366427684, 0.4360691897991426, 0.035780036086083496, 0.09392259472596919, 0.012662839746360397, 0.025325679492720795, 0.8104217437670654, 0.13929123720996436, 0.005800995127918364, 0.8904527521354689, 0.034805970767510186, 0.020303482947714276, 0.011601990255836728, 0.02610447807563264, 0.008701492691877546, 0.9670093589763257, 0.026861371082675715, 0.9763371547106307, 0.2865912902709161, 0.03250004322659874, 0.15954566674875745, 0.03250004322659874, 0.07386373460590621, 0.39000051871918484, 0.02363639507388999, 0.04604264349213137, 0.9208528698426274, 0.04725631987770046, 0.04725631987770046, 0.11814079969425115, 0.7797292779820576, 0.8598514949861266, 0.11250393392341843, 0.016071990560488345, 0.05901961220762709, 0.8852941831144063, 0.9478615206653798, 0.1234598343499952, 0.020576639058332534, 0.8642188404499664, 0.1201504743574862, 0.04331005471025665, 0.5253090506792419, 0.16485762760678338, 0.037721660554094504, 0.05308974448354041, 0.055883941561621485, 0.9670811582454567, 0.9123014853457296, 0.019421733712885202, 0.019421733712885202, 0.8545562833669489, 0.09710866856442602, 0.019421733712885202, 0.03654658013696098, 0.07309316027392196, 0.8771179232870634, 0.2094225021896917, 0.1897207336910099, 0.13864207462035338, 0.17804561161771695, 0.0700507324397575, 0.11748091586250997, 0.09704945223424737, 0.04265196583976969, 0.026657478649856056, 0.03732047010979848, 0.33321848312320074, 0.0453177137047553, 0.047983461569740905, 0.466505876372481, 0.2547402572042193, 0.054035812134228325, 0.6175521386768952, 0.01543880346692238, 0.03087760693384476, 0.03087760693384476, 0.03977301860702391, 0.894892918658038, 0.059659527910535866, 0.5173890403556447, 0.05064652794268307, 0.0665356347482307, 0.1628633447568632, 0.05859108134545688, 0.08838315660585869, 0.05759801217011015, 0.041100977197770956, 0.020550488598885478, 0.020550488598885478, 0.041100977197770956, 0.8631205211531902, 0.9195553056466286, 0.2597324850210773, 0.09177826325833122, 0.2087955489127035, 0.0982027416864144, 0.15051635174366318, 0.10416832879820592, 0.08718935009541465, 0.043862747824308074, 0.06316235686700362, 0.04737176765025272, 0.11755216416914563, 0.6947859255370399, 0.01929960904269555, 0.014036079303778584, 0.04587004961591074, 0.02293502480795537, 0.8944659675102594, 0.952736334912741, 0.021171918553616467, 0.9889878795049659, 0.007116125501317221, 0.17790313753293052, 0.5503137054351984, 0.18976334670179257, 0.018976334670179257, 0.028464502005268885, 0.030836543839041292, 0.9316199692965834, 0.04930644459084373, 0.1530200004543426, 0.46076022359029833, 0.0578075557271961, 0.06630866686354847, 0.16322133381796547, 0.04930644459084373, 0.014596307278987272, 0.11968971968769564, 0.5648770916968074, 0.11385119677610073, 0.033571506741670726, 0.13574565769458163, 0.01751556873478473, 0.07508446567973838, 0.09491013920191649, 0.5078747004404776, 0.10334659601986462, 0.038807701362561405, 0.1467943486322975, 0.03332400443089512, 0.9601909305134274, 0.03016129756002588, 0.07707887154228836, 0.6870073333117006, 0.07372761625784104, 0.0335125528444732, 0.0167562764222366, 0.07707887154228836, 0.004935756273282602, 0.11352239428549984, 0.7008773908061294, 0.014807268819847806, 0.004935756273282602, 0.014807268819847806, 0.14807268819847805, 0.025818372017772137, 0.025818372017772137, 0.025818372017772137, 0.8520062765864805, 0.07745511605331641, 0.033408160094107145, 0.016704080047053572, 0.08352040023526786, 0.033408160094107145, 0.033408160094107145, 0.7850917622115179, 0.05256706354222547, 0.06965135919344875, 0.0749080655476713, 0.00394252976566691, 0.7359388895911566, 0.04599618059944729, 0.01708429565122328, 0.024284008908457493, 0.14570405345074494, 0.024284008908457493, 0.8013722939790973, 0.9496020343048399, 0.949489705472907, 0.18715935777424653, 0.1160988529508695, 0.18015339250996992, 0.07106050482337702, 0.05804942647543475, 0.25421645387517977, 0.13311334002125555, 0.9472722961367397, 0.004144147173069338, 0.4956400018990929, 0.09034240837291158, 0.10028836158827799, 0.15333344540356553, 0.11272080310748601, 0.04309913059992112, 0.8727168670218722, 0.05818112446812482, 0.016172648659486512, 0.5029693733100306, 0.11159127575045694, 0.08571503789527851, 0.06469059463794605, 0.1487883676672759, 0.06954238923579201, 0.0034819906958071817, 0.44482431138936745, 0.34297608353700737, 0.05310035811105952, 0.04700687439339695, 0.08182678135146877, 0.02698542789250566, 0.925344575974824, 0.038556023998951, 0.038556023998951, 0.9357811880036936, 0.9396064406156287, 0.031320214687187625, 0.045150755267141365, 0.9030151053428274, 0.9243391263587744, 0.9605589836541423, 0.018339401158586014, 0.9536488602464727, 0.018339401158586014, 0.944700370504867, 0.901879175913013, 0.9498283041793403, 0.9433931551438793, 0.012251859157712718, 0.024503718315425436, 0.829183933986228, 0.014053964982817423, 0.007026982491408712, 0.042161894948452266, 0.021080947474226133, 0.05621585993126969, 0.028107929965634847, 0.9471739634464976], \"Term\": [\"accuracy\", \"accuracy\", \"accuracy\", \"accuracy\", \"accuracy\", \"accuracy\", \"accuracy\", \"achieve\", \"achieve\", \"achieve\", \"achieve\", \"achieve\", \"achieve\", \"achieve\", \"action\", \"action\", \"action\", \"action\", \"action\", \"action\", \"action\", \"activiti\", \"activity\", \"activity\", \"activity\", \"activity\", \"activity\", \"activity\", \"activity\", \"adaptation\", \"adaptation\", \"adaptation\", \"adaptation\", \"adaptation\", \"adaptation\", \"adaptation\", \"affinity\", \"affinity\", \"affinity\", \"agnostic\", \"agnostic\", \"agnostic\", \"agnostic\", \"allocating\", \"alzheimers\", \"alzheimers\", \"alzheimers\", \"amplitudes\", \"analysis\", \"analysis\", \"analysis\", \"analysis\", \"analysis\", \"analysis\", \"analysis\", \"answer\", \"answer\", \"answer\", \"answer\", \"answer\", \"answer\", \"answer\", \"anysis\", \"anysis\", \"anysis\", \"anysis\", \"anysis\", \"anysis\", \"anysis\", \"apg\", \"application\", \"application\", \"application\", \"application\", \"application\", \"application\", \"application\", \"approximate\", \"approximate\", \"approximate\", \"approximate\", \"approximate\", \"approximate\", \"approximate\", \"architectural\", \"architecture\", \"architecture\", \"architecture\", \"architecture\", \"architecture\", \"architecture\", \"architecture\", \"arm\", \"arm\", \"arm\", \"arm\", \"arm\", \"arm\", \"arm\", \"asap\", \"attacker\", \"au\", \"au\", \"auctions\", \"auctions\", \"auctions\", \"background\", \"background\", \"background\", \"background\", \"background\", \"background\", \"background\", \"bandit\", \"bandit\", \"bandit\", \"bandit\", \"bandit\", \"bandit\", \"bandit\", \"batches\", \"batches\", \"batches\", \"bayesian\", \"bayesian\", \"bayesian\", \"bayesian\", \"bayesian\", \"bayesian\", \"bayesian\", \"bcd\", \"bcd\", \"bci\", \"bci\", \"bci\", \"bci\", \"bci\", \"biclustering\", \"biclustering\", \"biclustering\", \"biclustering\", \"bilingual\", \"bilingual\", \"binary\", \"binary\", \"binary\", \"binary\", \"binary\", \"binary\", \"binary\", \"bit\", \"bit\", \"bit\", \"bit\", \"bit\", \"bit\", \"bit\", \"bleu\", \"bleu\", \"blockcoordinate\", \"blockcoordinate\", \"blockcoordinate\", \"bottlenecks\", \"bound\", \"bound\", \"bound\", \"bound\", \"bound\", \"bound\", \"bound\", \"bounded\", \"bounded\", \"bounded\", \"bounded\", \"bounded\", \"bounded\", \"bounded\", \"brain\", \"brain\", \"brain\", \"brain\", \"brain\", \"brain\", \"brain\", \"bregman\", \"bregman\", \"bregman\", \"bregman\", \"bridging\", \"calcium\", \"calcium\", \"camera\", \"camera\", \"camera\", \"camera\", \"camera\", \"camera\", \"camera\", \"capture\", \"capture\", \"capture\", \"capture\", \"capture\", \"capture\", \"capture\", \"carlo\", \"carlo\", \"carlo\", \"carlo\", \"carlo\", \"carlo\", \"carlo\", \"cascade\", \"cascade\", \"cascade\", \"cascade\", \"cascade\", \"cascade\", \"cascade\", \"case\", \"case\", \"case\", \"case\", \"case\", \"case\", \"case\", \"category\", \"category\", \"category\", \"category\", \"category\", \"category\", \"caus\", \"caus\", \"caus\", \"cc\", \"cc\", \"cccp\", \"cccp\", \"characterlevel\", \"childrens\", \"circles\", \"clamping\", \"classification\", \"classification\", \"classification\", \"classification\", \"classification\", \"classification\", \"classification\", \"classifier\", \"classifier\", \"classifier\", \"classifier\", \"classifier\", \"classifier\", \"classifier\", \"clique\", \"clique\", \"cluster\", \"cluster\", \"cluster\", \"cluster\", \"cluster\", \"cluster\", \"cluster\", \"clustering\", \"clustering\", \"clustering\", \"clustering\", \"clustering\", \"clustering\", \"clustering\", \"cmtl\", \"cnn\", \"cnn\", \"cnn\", \"cnn\", \"cnn\", \"cnn\", \"cnn\", \"cnnbased\", \"coclustering\", \"coclustering\", \"coclustering\", \"code\", \"code\", \"code\", \"code\", \"code\", \"code\", \"code\", \"coding\", \"coding\", \"coding\", \"coding\", \"coding\", \"coding\", \"coding\", \"collaborative\", \"collaborative\", \"collaborative\", \"collaborative\", \"collaborative\", \"collaborative\", \"collaborative\", \"color\", \"color\", \"color\", \"color\", \"color\", \"combin\", \"compare\", \"compare\", \"compare\", \"compare\", \"compare\", \"compare\", \"compare\", \"compitive\", \"completion\", \"completion\", \"completion\", \"completion\", \"completion\", \"completion\", \"completion\", \"component\", \"component\", \"component\", \"component\", \"component\", \"component\", \"component\", \"compute\", \"compute\", \"compute\", \"compute\", \"compute\", \"compute\", \"compute\", \"condorcet\", \"contour\", \"contraction\", \"controller\", \"convergence\", \"convergence\", \"convergence\", \"convergence\", \"convergence\", \"convergence\", \"convergence\", \"converts\", \"converts\", \"convex\", \"convex\", \"convex\", \"convex\", \"convex\", \"convex\", \"convex\", \"convexconcave\", \"convexconcave\", \"conveys\", \"convnets\", \"convnets\", \"convnets\", \"convnets\", \"convolutional\", \"convolutional\", \"convolutional\", \"convolutional\", \"convolutional\", \"convolutional\", \"convolutional\", \"cooccurrence\", \"cooccurrence\", \"cooperative\", \"copeland\", \"coreset\", \"coreset\", \"coreset\", \"coreset\", \"correspondence\", \"correspondence\", \"correspondence\", \"correspondence\", \"correspondence\", \"cortical\", \"cortical\", \"cortical\", \"cortical\", \"cortical\", \"cortical\", \"cortical\", \"counterfactual\", \"counterfactual\", \"crf\", \"crf\", \"crf\", \"criticism\", \"curve\", \"curve\", \"curve\", \"curve\", \"curve\", \"curve\", \"curve\", \"dag\", \"dag\", \"dag\", \"dataset\", \"dataset\", \"dataset\", \"dataset\", \"dataset\", \"dataset\", \"dataset\", \"dbns\", \"dcnn\", \"dcriptor\", \"decomposition\", \"decomposition\", \"decomposition\", \"decomposition\", \"decomposition\", \"decomposition\", \"decomposition\", \"decorrelated\", \"deep\", \"deep\", \"deep\", \"deep\", \"deep\", \"deep\", \"deep\", \"deformation\", \"deformation\", \"deformation\", \"deformations\", \"deformations\", \"degeneracy\", \"denoised\", \"denoising\", \"denoising\", \"denoising\", \"denoising\", \"denoising\", \"denoising\", \"denoising\", \"depth\", \"depth\", \"depth\", \"depth\", \"depth\", \"depth\", \"depth\", \"descent\", \"descent\", \"descent\", \"descent\", \"descent\", \"descent\", \"descent\", \"detection\", \"detection\", \"detection\", \"detection\", \"detection\", \"detection\", \"detection\", \"detector\", \"detector\", \"detector\", \"detector\", \"detector\", \"dictionary\", \"dictionary\", \"dictionary\", \"dictionary\", \"dictionary\", \"dictionary\", \"dictionary\", \"dimensional\", \"dimensional\", \"dimensional\", \"dimensional\", \"dimensional\", \"dimensional\", \"dimensional\", \"dimensionality\", \"dimensionality\", \"dimensionality\", \"dimensionality\", \"dimensionality\", \"dimensionality\", \"dimensionality\", \"dirichlet\", \"dirichlet\", \"dirichlet\", \"dirichlet\", \"dirichlet\", \"dirichlet\", \"dirichlet\", \"disease\", \"disease\", \"disease\", \"disease\", \"disease\", \"disease\", \"disease\", \"dissimilar\", \"distribution\", \"distribution\", \"distribution\", \"distribution\", \"distribution\", \"distribution\", \"distribution\", \"dl\", \"dl\", \"dn\", \"dn\", \"document\", \"document\", \"document\", \"document\", \"document\", \"document\", \"document\", \"domain\", \"domain\", \"domain\", \"domain\", \"domain\", \"domain\", \"domain\", \"dpp\", \"dpp\", \"dpp\", \"dps\", \"drop\", \"drop\", \"dueling\", \"dynamic\", \"dynamic\", \"dynamic\", \"dynamic\", \"dynamic\", \"dynamic\", \"dynamic\", \"ecommerce\", \"ecommerce\", \"editing\", \"efficient\", \"efficient\", \"efficient\", \"efficient\", \"efficient\", \"efficient\", \"efficient\", \"egocentric\", \"egocentric\", \"empiric\", \"empiric\", \"endtoend\", \"endtoend\", \"endtoend\", \"endtoend\", \"endtoend\", \"endtoend\", \"endtoend\", \"enhancing\", \"entries\", \"entries\", \"entries\", \"entries\", \"entries\", \"entries\", \"entries\", \"eps\", \"eps\", \"eps\", \"equilibria\", \"equilibria\", \"equilibria\", \"error\", \"error\", \"error\", \"error\", \"error\", \"error\", \"error\", \"ers\", \"ers\", \"estimation\", \"estimation\", \"estimation\", \"estimation\", \"estimation\", \"estimation\", \"estimation\", \"estimator\", \"estimator\", \"estimator\", \"estimator\", \"estimator\", \"estimator\", \"estimator\", \"eta\", \"execute\", \"execute\", \"existing\", \"existing\", \"existing\", \"existing\", \"existing\", \"existing\", \"existing\", \"expands\", \"experiment\", \"experiment\", \"experiment\", \"experiment\", \"experiment\", \"experiment\", \"experiment\", \"expressiveness\", \"face\", \"face\", \"face\", \"face\", \"face\", \"face\", \"face\", \"factorization\", \"factorization\", \"factorization\", \"factorization\", \"factorization\", \"factorization\", \"factorization\", \"feature\", \"feature\", \"feature\", \"feature\", \"feature\", \"feature\", \"feature\", \"feedforward\", \"feedforward\", \"feedforward\", \"feedforward\", \"feedforward\", \"feedforward\", \"feedforward\", \"field\", \"field\", \"field\", \"field\", \"field\", \"field\", \"field\", \"filter\", \"filter\", \"filter\", \"filter\", \"filter\", \"filter\", \"filter\", \"finetuned\", \"first\", \"first\", \"first\", \"first\", \"first\", \"first\", \"first\", \"fmri\", \"fmri\", \"fmri\", \"fmri\", \"fmri\", \"fmri\", \"fmri\", \"foreground\", \"foreground\", \"foreground\", \"foreground\", \"forest\", \"forest\", \"forest\", \"forest\", \"forest\", \"forest\", \"forest\", \"framework\", \"framework\", \"framework\", \"framework\", \"framework\", \"framework\", \"framework\", \"gans\", \"gans\", \"gans\", \"gaussian\", \"gaussian\", \"gaussian\", \"gaussian\", \"gaussian\", \"gaussian\", \"gaussian\", \"gd\", \"gds\", \"gene\", \"gene\", \"gene\", \"gene\", \"gene\", \"gene\", \"gene\", \"general\", \"general\", \"general\", \"general\", \"general\", \"general\", \"general\", \"generative\", \"generative\", \"generative\", \"generative\", \"generative\", \"generative\", \"generative\", \"generizes\", \"generizes\", \"gng\", \"gps\", \"gps\", \"gps\", \"gps\", \"gps\", \"gps\", \"gradient\", \"gradient\", \"gradient\", \"gradient\", \"gradient\", \"gradient\", \"gradient\", \"grammar\", \"grammars\", \"graph\", \"graph\", \"graph\", \"graph\", \"graph\", \"graph\", \"graph\", \"grassmann\", \"guarantee\", \"guarantee\", \"guarantee\", \"guarantee\", \"guarantee\", \"guarantee\", \"guarantee\", \"guided\", \"hamiltonian\", \"hamiltonian\", \"hamiltonian\", \"hamiltonian\", \"hamiltonian\", \"hamming\", \"hamming\", \"handengineered\", \"hashing\", \"hashing\", \"hashing\", \"hashing\", \"hashing\", \"hashing\", \"hashing\", \"head\", \"head\", \"head\", \"head\", \"hedge\", \"hierarchical\", \"hierarchical\", \"hierarchical\", \"hierarchical\", \"hierarchical\", \"hierarchical\", \"hierarchical\", \"hierarchy\", \"hierarchy\", \"hierarchy\", \"hierarchy\", \"hierarchy\", \"hierarchy\", \"hierarchy\", \"high\", \"high\", \"high\", \"high\", \"high\", \"high\", \"high\", \"highprobability\", \"histories\", \"hitting\", \"hitting\", \"hmc\", \"hmc\", \"hmc\", \"hmc\", \"hmc\", \"homography\", \"however\", \"however\", \"however\", \"however\", \"however\", \"however\", \"however\", \"human\", \"human\", \"human\", \"human\", \"human\", \"human\", \"human\", \"idealized\", \"ideals\", \"ilp\", \"image\", \"image\", \"image\", \"image\", \"image\", \"image\", \"image\", \"inactive\", \"increas\", \"increas\", \"indefinite\", \"indefinite\", \"indistinguishable\", \"inference\", \"inference\", \"inference\", \"inference\", \"inference\", \"inference\", \"inference\", \"information\", \"information\", \"information\", \"information\", \"information\", \"information\", \"information\", \"input\", \"input\", \"input\", \"input\", \"input\", \"input\", \"input\", \"instance\", \"instance\", \"instance\", \"instance\", \"instance\", \"instance\", \"instance\", \"intensities\", \"intensities\", \"inter\", \"interaction\", \"interaction\", \"interaction\", \"interaction\", \"interaction\", \"interaction\", \"interaction\", \"invariances\", \"irl\", \"item\", \"item\", \"item\", \"item\", \"item\", \"item\", \"item\", \"iteration\", \"iteration\", \"iteration\", \"iteration\", \"iteration\", \"iteration\", \"iteration\", \"kernel\", \"kernel\", \"kernel\", \"kernel\", \"kernel\", \"kernel\", \"kernel\", \"kmeans\", \"kmeans\", \"kmeans\", \"kmeans\", \"kmeans\", \"kmeans\", \"kmeans\", \"known\", \"known\", \"known\", \"known\", \"known\", \"known\", \"known\", \"ksupport\", \"ksupport\", \"label\", \"label\", \"label\", \"label\", \"label\", \"label\", \"label\", \"language\", \"language\", \"language\", \"language\", \"language\", \"language\", \"language\", \"large\", \"large\", \"large\", \"large\", \"large\", \"large\", \"large\", \"lasso\", \"lasso\", \"lasso\", \"lasso\", \"lasso\", \"lasso\", \"lasso\", \"latent\", \"latent\", \"latent\", \"latent\", \"latent\", \"latent\", \"latent\", \"layer\", \"layer\", \"layer\", \"layer\", \"layer\", \"layer\", \"layer\", \"lda\", \"lda\", \"lda\", \"lda\", \"lda\", \"lda\", \"lda\", \"lifted\", \"lifted\", \"lifted\", \"lighting\", \"lighting\", \"linear\", \"linear\", \"linear\", \"linear\", \"linear\", \"linear\", \"linear\", \"lipschitz\", \"lipschitz\", \"lipschitz\", \"lipschitz\", \"lipschitz\", \"listwise\", \"listwise\", \"listwise\", \"lmnn\", \"local\", \"local\", \"local\", \"local\", \"local\", \"local\", \"local\", \"location\", \"location\", \"location\", \"location\", \"location\", \"location\", \"location\", \"logloss\", \"logsupermodular\", \"loose\", \"loose\", \"loss\", \"loss\", \"loss\", \"loss\", \"loss\", \"loss\", \"loss\", \"lovasz\", \"lower\", \"lower\", \"lower\", \"lower\", \"lower\", \"lower\", \"lower\", \"lowrank\", \"lowrank\", \"lowrank\", \"lowrank\", \"lowrank\", \"lowrank\", \"lowrank\", \"lp\", \"lp\", \"lp\", \"lp\", \"lp\", \"lp\", \"lsa\", \"lstm\", \"lstm\", \"lstm\", \"lstm\", \"lstm\", \"mab\", \"mab\", \"mab\", \"machine\", \"machine\", \"machine\", \"machine\", \"machine\", \"machine\", \"machine\", \"maker\", \"mallows\", \"mallows\", \"mallows\", \"manifold\", \"manifold\", \"manifold\", \"manifold\", \"manifold\", \"manifold\", \"manifold\", \"manipulate\", \"map\", \"map\", \"map\", \"map\", \"map\", \"map\", \"map\", \"masks\", \"masks\", \"matching\", \"matching\", \"matching\", \"matching\", \"matching\", \"matching\", \"matching\", \"matrices\", \"matrices\", \"matrices\", \"matrices\", \"matrices\", \"matrices\", \"matrices\", \"matrix\", \"matrix\", \"matrix\", \"matrix\", \"matrix\", \"matrix\", \"matrix\", \"maximisation\", \"mcmc\", \"mcmc\", \"mcmc\", \"mcmc\", \"mcmc\", \"mcmc\", \"mcmc\", \"md\", \"mdp\", \"mdp\", \"mdp\", \"mdp\", \"mdp\", \"mdp\", \"mdps\", \"mdps\", \"mdps\", \"mdps\", \"meansquared\", \"memory\", \"memory\", \"memory\", \"memory\", \"memory\", \"memory\", \"memory\", \"merge\", \"merge\", \"mf\", \"mf\", \"minds\", \"minimax\", \"minimax\", \"minimax\", \"minimax\", \"minimax\", \"minimax\", \"minimax\", \"minimising\", \"minimization\", \"minimization\", \"minimization\", \"minimization\", \"minimization\", \"minimization\", \"minimization\", \"mip\", \"miss\", \"missingness\", \"mistakes\", \"mkl\", \"mkl\", \"mkl\", \"mnns\", \"modulation\", \"modulation\", \"monte\", \"monte\", \"monte\", \"monte\", \"monte\", \"monte\", \"monte\", \"motion\", \"motion\", \"motion\", \"motion\", \"motion\", \"motion\", \"motion\", \"mr\", \"mrf\", \"mrf\", \"mrf\", \"mrf\", \"msr\", \"multiarmed\", \"multiarmed\", \"multiarmed\", \"multiarmed\", \"multiarmed\", \"multiarmed\", \"multiclass\", \"multiclass\", \"multiclass\", \"multiclass\", \"multiclass\", \"multiclass\", \"multiclass\", \"multilabel\", \"multilabel\", \"multilabel\", \"multilabel\", \"multilabel\", \"multilabel\", \"multilabel\", \"multilayered\", \"multilinear\", \"multilinear\", \"multilingual\", \"multilingual\", \"multimodality\", \"multipleoutput\", \"multipleoutput\", \"multistep\", \"multistep\", \"multistep\", \"multistep\", \"multistep\", \"multitask\", \"multitask\", \"multitask\", \"multitask\", \"multitask\", \"multitask\", \"multitask\", \"myopic\", \"nade\", \"net\", \"net\", \"net\", \"net\", \"net\", \"net\", \"net\", \"neural\", \"neural\", \"neural\", \"neural\", \"neural\", \"neural\", \"neural\", \"neuron\", \"neuron\", \"neuron\", \"neuron\", \"neuron\", \"neuron\", \"neuron\", \"newton\", \"newton\", \"newton\", \"newton\", \"node\", \"node\", \"node\", \"node\", \"node\", \"node\", \"node\", \"noise\", \"noise\", \"noise\", \"noise\", \"noise\", \"noise\", \"noise\", \"noniterative\", \"norb\", \"norb\", \"norm\", \"norm\", \"norm\", \"norm\", \"norm\", \"norm\", \"norm\", \"nuclear\", \"nuclear\", \"nuclear\", \"nuclear\", \"nuclear\", \"nuclear\", \"nuclear\", \"number\", \"number\", \"number\", \"number\", \"number\", \"number\", \"number\", \"object\", \"object\", \"object\", \"object\", \"object\", \"object\", \"object\", \"objectbased\", \"observability\", \"observer\", \"observer\", \"occlusion\", \"occlusion\", \"occlusion\", \"occlusion\", \"occlusion\", \"olog\", \"olog\", \"olog\", \"olog\", \"online\", \"online\", \"online\", \"online\", \"online\", \"online\", \"online\", \"optima\", \"optima\", \"optima\", \"optima\", \"optima\", \"optima\", \"optima\", \"optimization\", \"optimization\", \"optimization\", \"optimization\", \"optimization\", \"optimization\", \"optimization\", \"oracle\", \"oracle\", \"oracle\", \"oracle\", \"oracle\", \"oracle\", \"oracle\", \"oracles\", \"oracles\", \"oracles\", \"orbit\", \"outdoor\", \"outdoor\", \"outdoor\", \"p\", \"p\", \"p\", \"p\", \"p\", \"p\", \"p\", \"pairwise\", \"pairwise\", \"pairwise\", \"pairwise\", \"pairwise\", \"pairwise\", \"pairwise\", \"paragraph\", \"paragraph\", \"parameter\", \"parameter\", \"parameter\", \"parameter\", \"parameter\", \"parameter\", \"parameter\", \"parsing\", \"parsing\", \"parsing\", \"parsing\", \"parsing\", \"parsing\", \"parti\", \"passive\", \"passive\", \"passive\", \"passive\", \"patch\", \"patch\", \"patches\", \"patches\", \"patches\", \"patches\", \"patches\", \"path\", \"path\", \"path\", \"path\", \"path\", \"path\", \"path\", \"pca\", \"pca\", \"pca\", \"pca\", \"pca\", \"pca\", \"pca\", \"pedestrians\", \"performance\", \"performance\", \"performance\", \"performance\", \"performance\", \"performance\", \"performance\", \"pfa\", \"pg\", \"pixel\", \"pixel\", \"pixel\", \"pixel\", \"pixel\", \"pixel\", \"pixel\", \"pixelwise\", \"pixelwise\", \"pixelwise\", \"plackettluce\", \"plane\", \"plane\", \"plasticity\", \"plasticity\", \"plasticity\", \"point\", \"point\", \"point\", \"point\", \"point\", \"point\", \"point\", \"policies\", \"policies\", \"policies\", \"policies\", \"policies\", \"policies\", \"policies\", \"polytope\", \"polytope\", \"polytope\", \"polytope\", \"polytopes\", \"pose\", \"pose\", \"pose\", \"pose\", \"pose\", \"pose\", \"pose\", \"pr\", \"prediction\", \"prediction\", \"prediction\", \"prediction\", \"prediction\", \"prediction\", \"prediction\", \"preference\", \"preference\", \"preference\", \"preference\", \"preference\", \"preference\", \"preference\", \"prior\", \"prior\", \"prior\", \"prior\", \"prior\", \"prior\", \"prior\", \"privacy\", \"privacy\", \"privacy\", \"privacy\", \"privacy\", \"privacy\", \"privacy\", \"procedur\", \"process\", \"process\", \"process\", \"process\", \"process\", \"process\", \"process\", \"proposal\", \"proposal\", \"proposal\", \"proposal\", \"proposal\", \"proposal\", \"proposal\", \"prove\", \"prove\", \"prove\", \"prove\", \"prove\", \"prove\", \"prove\", \"pruning\", \"pruning\", \"pruning\", \"pruning\", \"pruning\", \"pruning\", \"pruning\", \"px\", \"qa\", \"qa\", \"quantization\", \"quantization\", \"quantization\", \"quantization\", \"quantization\", \"quantization\", \"question\", \"question\", \"question\", \"question\", \"question\", \"question\", \"question\", \"questionanswering\", \"ramp\", \"rank\", \"rank\", \"rank\", \"rank\", \"rank\", \"rank\", \"rank\", \"ranking\", \"ranking\", \"ranking\", \"ranking\", \"ranking\", \"ranking\", \"ranking\", \"rankings\", \"rankings\", \"rankings\", \"rankone\", \"rankone\", \"rate\", \"rate\", \"rate\", \"rate\", \"rate\", \"rate\", \"rate\", \"rational\", \"rational\", \"rational\", \"reaches\", \"reaches\", \"readout\", \"recognition\", \"recognition\", \"recognition\", \"recognition\", \"recognition\", \"recognition\", \"recognition\", \"reconstruction\", \"reconstruction\", \"reconstruction\", \"reconstruction\", \"reconstruction\", \"reconstruction\", \"reconstruction\", \"recover\", \"recover\", \"recover\", \"recover\", \"recover\", \"recover\", \"recover\", \"recurrent\", \"recurrent\", \"recurrent\", \"recurrent\", \"recurrent\", \"recurrent\", \"recurrent\", \"recursion\", \"reflectance\", \"reflectance\", \"reflectance\", \"reflectance\", \"region\", \"region\", \"region\", \"region\", \"region\", \"region\", \"region\", \"regression\", \"regression\", \"regression\", \"regression\", \"regression\", \"regression\", \"regression\", \"regret\", \"regret\", \"regret\", \"regret\", \"regret\", \"regret\", \"regret\", \"regulariz\", \"representation\", \"representation\", \"representation\", \"representation\", \"representation\", \"representation\", \"representation\", \"representatives\", \"representatives\", \"reproduces\", \"reproduces\", \"require\", \"require\", \"require\", \"require\", \"require\", \"require\", \"require\", \"respecting\", \"respond\", \"respond\", \"respond\", \"resting\", \"restricts\", \"retina\", \"retina\", \"reward\", \"reward\", \"reward\", \"reward\", \"reward\", \"reward\", \"reward\", \"rgb\", \"rgb\", \"rgb\", \"riemannian\", \"riemannian\", \"riemannian\", \"riemannian\", \"riemannian\", \"riemannian\", \"risk\", \"risk\", \"risk\", \"risk\", \"risk\", \"risk\", \"risk\", \"risksensitive\", \"rnn\", \"rnn\", \"rnn\", \"rnn\", \"rnn\", \"rnn\", \"rpca\", \"rpca\", \"saliency\", \"saliency\", \"saliency\", \"saliency\", \"sample\", \"sample\", \"sample\", \"sample\", \"sample\", \"sample\", \"sample\", \"samplers\", \"samplers\", \"sampling\", \"sampling\", \"sampling\", \"sampling\", \"sampling\", \"sampling\", \"sampling\", \"sat\", \"sat\", \"scale\", \"scale\", \"scale\", \"scale\", \"scale\", \"scale\", \"scale\", \"scen\", \"scene\", \"scene\", \"scene\", \"scene\", \"scene\", \"scene\", \"scene\", \"sche\", \"sdca\", \"sdca\", \"search\", \"search\", \"search\", \"search\", \"search\", \"search\", \"search\", \"searched\", \"segment\", \"segment\", \"segment\", \"segment\", \"segment\", \"segment\", \"segment\", \"segmentation\", \"segmentation\", \"segmentation\", \"segmentation\", \"segmentation\", \"segmentation\", \"segmentation\", \"segmentations\", \"segmentations\", \"segmentations\", \"selection\", \"selection\", \"selection\", \"selection\", \"selection\", \"selection\", \"selection\", \"selectively\", \"selfsimilarity\", \"selfsimilarity\", \"semantic\", \"semantic\", \"semantic\", \"semantic\", \"semantic\", \"semantic\", \"semantic\", \"sequence\", \"sequence\", \"sequence\", \"sequence\", \"sequence\", \"sequence\", \"sequence\", \"setting\", \"setting\", \"setting\", \"setting\", \"setting\", \"setting\", \"setting\", \"shading\", \"shading\", \"shading\", \"shading\", \"shape\", \"shape\", \"shape\", \"shape\", \"shape\", \"shape\", \"shape\", \"shortest\", \"shortest\", \"shortest\", \"shortterm\", \"shortterm\", \"shortterm\", \"shortterm\", \"shortterm\", \"shortterm\", \"siamese\", \"sir\", \"skeleton\", \"skills\", \"skills\", \"skip\", \"slice\", \"slice\", \"slice\", \"smc\", \"smc\", \"social\", \"social\", \"social\", \"social\", \"social\", \"social\", \"social\", \"solution\", \"solution\", \"solution\", \"solution\", \"solution\", \"solution\", \"solution\", \"solve\", \"solve\", \"solve\", \"solve\", \"solve\", \"solve\", \"solve\", \"space\", \"space\", \"space\", \"space\", \"space\", \"space\", \"space\", \"spacetime\", \"spacetime\", \"sparse\", \"sparse\", \"sparse\", \"sparse\", \"sparse\", \"sparse\", \"sparse\", \"spatial\", \"spatial\", \"spatial\", \"spatial\", \"spatial\", \"spatial\", \"spatial\", \"spectral\", \"spectral\", \"spectral\", \"spectral\", \"spectral\", \"spectral\", \"spectral\", \"speech\", \"speech\", \"speech\", \"speech\", \"speech\", \"speech\", \"speech\", \"ssc\", \"ssc\", \"stacks\", \"stanford\", \"stanford\", \"state\", \"state\", \"state\", \"state\", \"state\", \"state\", \"state\", \"stateofart\", \"stateoftheart\", \"stateoftheart\", \"stateoftheart\", \"stateoftheart\", \"stateoftheart\", \"stateoftheart\", \"stateoftheart\", \"stdp\", \"stdp\", \"stdp\", \"stings\", \"stings\", \"stings\", \"stings\", \"stitching\", \"stitching\", \"stochastic\", \"stochastic\", \"stochastic\", \"stochastic\", \"stochastic\", \"stochastic\", \"stochastic\", \"structure\", \"structure\", \"structure\", \"structure\", \"structure\", \"structure\", \"structure\", \"subclasses\", \"submodular\", \"submodular\", \"submodular\", \"submodular\", \"submodular\", \"submodular\", \"submodular\", \"submodularity\", \"submodularity\", \"submodularity\", \"submodularity\", \"subspace\", \"subspace\", \"subspace\", \"subspace\", \"subspace\", \"subspace\", \"subspace\", \"summarization\", \"summarization\", \"summarization\", \"summarization\", \"surface\", \"surface\", \"surface\", \"surface\", \"surface\", \"surface\", \"surface\", \"surrounding\", \"surrounding\", \"svi\", \"svm\", \"svm\", \"svm\", \"svm\", \"svm\", \"svm\", \"svm\", \"swap\", \"swap\", \"symmetries\", \"symmetries\", \"symmetries\", \"symmetries\", \"synaptic\", \"synaptic\", \"synaptic\", \"syst\", \"syst\", \"tag\", \"tags\", \"tags\", \"tags\", \"target\", \"target\", \"target\", \"target\", \"target\", \"target\", \"target\", \"td\", \"tdlambda\", \"teacher\", \"teacher\", \"teacher\", \"teacher\", \"teacher\", \"teaching\", \"teaching\", \"teaching\", \"technique\", \"technique\", \"technique\", \"technique\", \"technique\", \"technique\", \"technique\", \"tensor\", \"tensor\", \"tensor\", \"tensor\", \"tensor\", \"tensor\", \"tensor\", \"texture\", \"texture\", \"texture\", \"texture\", \"texture\", \"texture\", \"textures\", \"textures\", \"textures\", \"theoretical\", \"theoretical\", \"theoretical\", \"theoretical\", \"theoretical\", \"theoretical\", \"theoretical\", \"theoric\", \"theoric\", \"theoric\", \"theoric\", \"theoric\", \"tilde\", \"time\", \"time\", \"time\", \"time\", \"time\", \"time\", \"time\", \"topic\", \"topic\", \"topic\", \"topic\", \"topic\", \"topic\", \"topic\", \"topk\", \"topk\", \"topk\", \"tracker\", \"tracker\", \"trackers\", \"tracking\", \"tracking\", \"tracking\", \"tracking\", \"tracking\", \"tracking\", \"tracking\", \"tractably\", \"train\", \"train\", \"train\", \"train\", \"train\", \"train\", \"train\", \"trained\", \"trained\", \"trained\", \"trained\", \"trained\", \"trained\", \"trained\", \"training\", \"training\", \"training\", \"training\", \"training\", \"training\", \"training\", \"transducer\", \"transfer\", \"transfer\", \"transfer\", \"transfer\", \"transfer\", \"transfer\", \"transfer\", \"translation\", \"translation\", \"translation\", \"translation\", \"translation\", \"translation\", \"translation\", \"transparent\", \"transparent\", \"transparent\", \"transparent\", \"transparent\", \"transport\", \"transport\", \"transport\", \"transport\", \"transport\", \"transport\", \"tree\", \"tree\", \"tree\", \"tree\", \"tree\", \"tree\", \"tree\", \"trial\", \"trial\", \"trial\", \"trial\", \"unidirectional\", \"valuations\", \"vector\", \"vector\", \"vector\", \"vector\", \"vector\", \"vector\", \"vector\", \"vgg\", \"video\", \"video\", \"video\", \"video\", \"video\", \"video\", \"video\", \"violate\", \"violate\", \"vision\", \"vision\", \"vision\", \"vision\", \"vision\", \"vision\", \"vision\", \"visual\", \"visual\", \"visual\", \"visual\", \"visual\", \"visual\", \"visual\", \"volatility\", \"volatility\", \"volatility\", \"volumes\", \"vqa\", \"vqa\", \"waveforms\", \"waveforms\", \"wellunderstood\", \"wgp\", \"wild\", \"wild\", \"wild\", \"winners\", \"wod\", \"wordlevel\", \"worst\", \"worst\", \"worst\", \"worstcase\", \"worstcase\", \"worstcase\", \"worstcase\", \"worstcase\", \"worstcase\", \"worstcase\", \"yu\"]}, \"mdsDat\": {\"y\": [-83.16204480079976, 169.58120485086923, 165.7107249521487, -196.1610650450098, -330.07799013774166, -57.66748811679243, 417.25834067728044], \"cluster\": [1, 1, 1, 1, 1, 1, 1], \"Freq\": [23.408512298658106, 19.0432994194694, 15.106603071214, 11.895414219108977, 11.148155073464345, 11.000194919937229, 8.397820998147951], \"topics\": [1, 2, 3, 4, 5, 6, 7], \"x\": [-157.4264332711743, 175.15155823939682, -211.55206969547137, 305.0753443326724, 52.53251045104933, 113.87878758634677, -165.546909472036]}, \"R\": 30, \"lambda.step\": 0.01, \"tinfo\": {\"Category\": [\"Default\", \"Default\", \"Default\", \"Default\", \"Default\", \"Default\", \"Default\", \"Default\", \"Default\", \"Default\", \"Default\", \"Default\", \"Default\", \"Default\", \"Default\", \"Default\", \"Default\", \"Default\", \"Default\", \"Default\", \"Default\", \"Default\", \"Default\", \"Default\", \"Default\", \"Default\", \"Default\", \"Default\", \"Default\", \"Default\", \"Topic1\", \"Topic1\", \"Topic1\", \"Topic1\", \"Topic1\", \"Topic1\", \"Topic1\", \"Topic1\", \"Topic1\", \"Topic1\", \"Topic1\", \"Topic1\", \"Topic1\", \"Topic1\", \"Topic1\", \"Topic1\", \"Topic1\", \"Topic1\", \"Topic1\", \"Topic1\", \"Topic1\", \"Topic1\", \"Topic1\", \"Topic1\", \"Topic1\", \"Topic1\", \"Topic1\", \"Topic1\", \"Topic1\", \"Topic1\", \"Topic1\", \"Topic1\", \"Topic1\", \"Topic1\", \"Topic1\", \"Topic1\", \"Topic1\", \"Topic1\", \"Topic1\", \"Topic1\", \"Topic1\", \"Topic1\", \"Topic1\", \"Topic1\", \"Topic1\", \"Topic1\", \"Topic1\", \"Topic1\", \"Topic1\", \"Topic1\", \"Topic1\", \"Topic1\", \"Topic1\", \"Topic1\", \"Topic1\", \"Topic1\", \"Topic1\", \"Topic1\", \"Topic1\", \"Topic1\", \"Topic1\", \"Topic1\", \"Topic1\", \"Topic1\", \"Topic1\", \"Topic1\", \"Topic1\", \"Topic1\", \"Topic1\", \"Topic1\", \"Topic1\", \"Topic1\", \"Topic1\", \"Topic1\", \"Topic1\", \"Topic1\", \"Topic1\", \"Topic1\", \"Topic1\", \"Topic1\", \"Topic1\", \"Topic1\", \"Topic1\", \"Topic1\", \"Topic2\", \"Topic2\", \"Topic2\", \"Topic2\", \"Topic2\", \"Topic2\", \"Topic2\", \"Topic2\", \"Topic2\", \"Topic2\", \"Topic2\", \"Topic2\", \"Topic2\", \"Topic2\", \"Topic2\", \"Topic2\", \"Topic2\", \"Topic2\", \"Topic2\", \"Topic2\", \"Topic2\", \"Topic2\", \"Topic2\", \"Topic2\", \"Topic2\", \"Topic2\", \"Topic2\", \"Topic2\", \"Topic2\", \"Topic2\", \"Topic2\", \"Topic2\", \"Topic2\", \"Topic2\", \"Topic2\", \"Topic2\", \"Topic2\", \"Topic2\", \"Topic2\", \"Topic2\", \"Topic2\", \"Topic2\", \"Topic2\", \"Topic2\", \"Topic2\", \"Topic2\", \"Topic2\", \"Topic2\", \"Topic2\", \"Topic2\", \"Topic2\", \"Topic2\", \"Topic2\", \"Topic2\", \"Topic2\", \"Topic2\", \"Topic2\", \"Topic2\", \"Topic2\", \"Topic2\", \"Topic2\", \"Topic2\", \"Topic2\", \"Topic2\", \"Topic2\", \"Topic2\", \"Topic2\", \"Topic2\", \"Topic2\", \"Topic2\", \"Topic2\", \"Topic2\", \"Topic2\", \"Topic2\", \"Topic2\", \"Topic2\", \"Topic2\", \"Topic2\", \"Topic2\", \"Topic2\", \"Topic2\", \"Topic3\", \"Topic3\", \"Topic3\", \"Topic3\", \"Topic3\", \"Topic3\", \"Topic3\", \"Topic3\", \"Topic3\", \"Topic3\", \"Topic3\", \"Topic3\", \"Topic3\", \"Topic3\", \"Topic3\", \"Topic3\", \"Topic3\", \"Topic3\", \"Topic3\", \"Topic3\", \"Topic3\", \"Topic3\", \"Topic3\", \"Topic3\", \"Topic3\", \"Topic3\", \"Topic3\", \"Topic3\", \"Topic3\", \"Topic3\", \"Topic3\", \"Topic3\", \"Topic3\", \"Topic3\", \"Topic3\", \"Topic3\", \"Topic3\", \"Topic3\", \"Topic3\", \"Topic3\", \"Topic3\", \"Topic3\", \"Topic3\", \"Topic3\", \"Topic3\", \"Topic3\", \"Topic3\", \"Topic3\", \"Topic3\", \"Topic3\", \"Topic3\", \"Topic3\", \"Topic3\", \"Topic3\", \"Topic3\", \"Topic3\", \"Topic3\", \"Topic3\", \"Topic3\", \"Topic3\", \"Topic3\", \"Topic3\", \"Topic3\", \"Topic3\", \"Topic3\", \"Topic3\", \"Topic3\", \"Topic3\", \"Topic3\", \"Topic3\", \"Topic3\", \"Topic3\", \"Topic3\", \"Topic3\", \"Topic3\", \"Topic3\", \"Topic3\", \"Topic4\", \"Topic4\", \"Topic4\", \"Topic4\", \"Topic4\", \"Topic4\", \"Topic4\", \"Topic4\", \"Topic4\", \"Topic4\", \"Topic4\", \"Topic4\", \"Topic4\", \"Topic4\", \"Topic4\", \"Topic4\", \"Topic4\", \"Topic4\", \"Topic4\", \"Topic4\", \"Topic4\", \"Topic4\", \"Topic4\", \"Topic4\", \"Topic4\", \"Topic4\", \"Topic4\", \"Topic4\", \"Topic4\", \"Topic4\", \"Topic4\", \"Topic4\", \"Topic4\", \"Topic4\", \"Topic4\", \"Topic4\", \"Topic4\", \"Topic4\", \"Topic4\", \"Topic4\", \"Topic4\", \"Topic4\", \"Topic4\", \"Topic4\", \"Topic4\", \"Topic4\", \"Topic4\", \"Topic4\", \"Topic4\", \"Topic4\", \"Topic4\", \"Topic4\", \"Topic4\", \"Topic4\", \"Topic4\", \"Topic4\", \"Topic4\", \"Topic4\", \"Topic4\", \"Topic4\", \"Topic4\", \"Topic4\", \"Topic4\", \"Topic4\", \"Topic4\", \"Topic4\", \"Topic4\", \"Topic4\", \"Topic4\", \"Topic4\", \"Topic4\", \"Topic4\", \"Topic4\", \"Topic4\", \"Topic4\", \"Topic4\", \"Topic4\", \"Topic4\", \"Topic4\", \"Topic4\", \"Topic4\", \"Topic4\", \"Topic4\", \"Topic5\", \"Topic5\", \"Topic5\", \"Topic5\", \"Topic5\", \"Topic5\", \"Topic5\", \"Topic5\", \"Topic5\", \"Topic5\", \"Topic5\", \"Topic5\", \"Topic5\", \"Topic5\", \"Topic5\", \"Topic5\", \"Topic5\", \"Topic5\", \"Topic5\", \"Topic5\", \"Topic5\", \"Topic5\", \"Topic5\", \"Topic5\", \"Topic5\", \"Topic5\", \"Topic5\", \"Topic5\", \"Topic5\", \"Topic5\", \"Topic5\", \"Topic5\", \"Topic5\", \"Topic5\", \"Topic5\", \"Topic5\", \"Topic5\", \"Topic5\", \"Topic5\", \"Topic5\", \"Topic5\", \"Topic5\", \"Topic5\", \"Topic5\", \"Topic5\", \"Topic5\", \"Topic5\", \"Topic5\", \"Topic5\", \"Topic5\", \"Topic5\", \"Topic5\", \"Topic5\", \"Topic5\", \"Topic5\", \"Topic5\", \"Topic5\", \"Topic5\", \"Topic5\", \"Topic5\", \"Topic5\", \"Topic5\", \"Topic5\", \"Topic5\", \"Topic5\", \"Topic5\", \"Topic5\", \"Topic5\", \"Topic5\", \"Topic5\", \"Topic5\", \"Topic5\", \"Topic5\", \"Topic5\", \"Topic5\", \"Topic5\", \"Topic5\", \"Topic5\", \"Topic5\", \"Topic5\", \"Topic5\", \"Topic5\", \"Topic5\", \"Topic5\", \"Topic5\", \"Topic5\", \"Topic5\", \"Topic5\", \"Topic6\", \"Topic6\", \"Topic6\", \"Topic6\", \"Topic6\", \"Topic6\", \"Topic6\", \"Topic6\", \"Topic6\", \"Topic6\", \"Topic6\", \"Topic6\", \"Topic6\", \"Topic6\", \"Topic6\", \"Topic6\", \"Topic6\", \"Topic6\", \"Topic6\", \"Topic6\", \"Topic6\", \"Topic6\", \"Topic6\", \"Topic6\", \"Topic6\", \"Topic6\", \"Topic6\", \"Topic6\", \"Topic6\", \"Topic6\", \"Topic6\", \"Topic6\", \"Topic6\", \"Topic6\", \"Topic6\", \"Topic6\", \"Topic6\", \"Topic6\", \"Topic6\", \"Topic6\", \"Topic6\", \"Topic6\", \"Topic6\", \"Topic6\", \"Topic6\", \"Topic6\", \"Topic6\", \"Topic6\", \"Topic6\", \"Topic6\", \"Topic6\", \"Topic6\", \"Topic6\", \"Topic6\", \"Topic6\", \"Topic6\", \"Topic6\", \"Topic6\", \"Topic6\", \"Topic6\", \"Topic6\", \"Topic6\", \"Topic6\", \"Topic6\", \"Topic6\", \"Topic6\", \"Topic6\", \"Topic6\", \"Topic6\", \"Topic6\", \"Topic6\", \"Topic6\", \"Topic6\", \"Topic6\", \"Topic6\", \"Topic6\", \"Topic6\", \"Topic6\", \"Topic6\", \"Topic6\", \"Topic6\", \"Topic6\", \"Topic6\", \"Topic6\", \"Topic6\", \"Topic6\", \"Topic6\", \"Topic6\", \"Topic6\", \"Topic7\", \"Topic7\", \"Topic7\", \"Topic7\", \"Topic7\", \"Topic7\", \"Topic7\", \"Topic7\", \"Topic7\", \"Topic7\", \"Topic7\", \"Topic7\", \"Topic7\", \"Topic7\", \"Topic7\", \"Topic7\", \"Topic7\", \"Topic7\", \"Topic7\", \"Topic7\", \"Topic7\", \"Topic7\", \"Topic7\", \"Topic7\", \"Topic7\", \"Topic7\", \"Topic7\", \"Topic7\", \"Topic7\", \"Topic7\", \"Topic7\", \"Topic7\", \"Topic7\", \"Topic7\", \"Topic7\", \"Topic7\", \"Topic7\", \"Topic7\", \"Topic7\", \"Topic7\", \"Topic7\", \"Topic7\", \"Topic7\", \"Topic7\", \"Topic7\", \"Topic7\", \"Topic7\", \"Topic7\", \"Topic7\", \"Topic7\", \"Topic7\", \"Topic7\", \"Topic7\", \"Topic7\", \"Topic7\", \"Topic7\", \"Topic7\", \"Topic7\", \"Topic7\", \"Topic7\", \"Topic7\", \"Topic7\", \"Topic7\", \"Topic7\", \"Topic7\", \"Topic7\", \"Topic7\", \"Topic7\", \"Topic7\", \"Topic7\", \"Topic7\", \"Topic7\", \"Topic7\", \"Topic7\", \"Topic7\", \"Topic7\", \"Topic7\", \"Topic7\", \"Topic7\", \"Topic7\", \"Topic7\", \"Topic7\", \"Topic7\", \"Topic7\", \"Topic7\", \"Topic7\", \"Topic7\", \"Topic7\"], \"Term\": [\"image\", \"object\", \"matrix\", \"clustering\", \"feature\", \"neural\", \"training\", \"label\", \"tree\", \"deep\", \"kernel\", \"architecture\", \"bound\", \"cnn\", \"latent\", \"graph\", \"camera\", \"scene\", \"shape\", \"recognition\", \"topic\", \"layer\", \"convex\", \"dataset\", \"recurrent\", \"cluster\", \"regret\", \"inference\", \"classification\", \"convergence\", \"td\", \"skeleton\", \"logsupermodular\", \"gng\", \"condorcet\", \"apg\", \"tractably\", \"copeland\", \"lovasz\", \"winners\", \"worst\", \"gd\", \"pg\", \"dueling\", \"wellunderstood\", \"mdps\", \"orbit\", \"bandit\", \"egocentric\", \"dag\", \"multiarmed\", \"sat\", \"arm\", \"idealized\", \"mnns\", \"clique\", \"eps\", \"highprobability\", \"polytope\", \"recursion\", \"regret\", \"olog\", \"lipschitz\", \"newton\", \"reward\", \"batches\", \"lp\", \"descent\", \"lifted\", \"mdp\", \"bound\", \"convex\", \"estimator\", \"synaptic\", \"convergence\", \"submodular\", \"stochastic\", \"rate\", \"bounded\", \"gradient\", \"policies\", \"lasso\", \"minimax\", \"worstcase\", \"lower\", \"guarantee\", \"iteration\", \"loss\", \"oracle\", \"optima\", \"p\", \"setting\", \"risk\", \"optimization\", \"distribution\", \"approximate\", \"general\", \"minimization\", \"prove\", \"linear\", \"known\", \"parameter\", \"case\", \"online\", \"regression\", \"theoretical\", \"sample\", \"number\", \"sparse\", \"inference\", \"efficient\", \"time\", \"first\", \"analysis\", \"guided\", \"grammar\", \"siamese\", \"masks\", \"pedestrians\", \"surrounding\", \"circles\", \"grammars\", \"observer\", \"dcriptor\", \"mr\", \"handengineered\", \"deformations\", \"vqa\", \"cnnbased\", \"bridging\", \"patch\", \"editing\", \"homography\", \"cooccurrence\", \"lmnn\", \"stitching\", \"noniterative\", \"stacks\", \"dbns\", \"wild\", \"volumes\", \"bilingual\", \"camera\", \"correspondence\", \"shading\", \"stanford\", \"shape\", \"surface\", \"parsing\", \"foreground\", \"reflectance\", \"scene\", \"color\", \"patches\", \"semantic\", \"pixel\", \"image\", \"detector\", \"segmentations\", \"pixelwise\", \"pose\", \"deformation\", \"matching\", \"depth\", \"location\", \"segmentation\", \"reconstruction\", \"spatial\", \"segment\", \"detection\", \"cascade\", \"graph\", \"video\", \"background\", \"field\", \"region\", \"visual\", \"map\", \"object\", \"vision\", \"face\", \"structure\", \"local\", \"dataset\", \"feature\", \"point\", \"human\", \"stateoftheart\", \"information\", \"space\", \"compute\", \"existing\", \"representation\", \"prior\", \"performance\", \"trackers\", \"mistakes\", \"combin\", \"tracker\", \"multilingual\", \"selectively\", \"characterlevel\", \"compitive\", \"ers\", \"contraction\", \"rnn\", \"enhancing\", \"merge\", \"rational\", \"unidirectional\", \"multilayered\", \"dl\", \"px\", \"crf\", \"questionanswering\", \"invariances\", \"missingness\", \"wordlevel\", \"architectural\", \"miss\", \"reaches\", \"childrens\", \"execute\", \"au\", \"paragraph\", \"dissimilar\", \"lstm\", \"bleu\", \"cnn\", \"recurrent\", \"architecture\", \"lighting\", \"shortterm\", \"adaptation\", \"teacher\", \"speech\", \"transfer\", \"recognition\", \"neural\", \"translation\", \"endtoend\", \"training\", \"deep\", \"layer\", \"language\", \"trained\", \"action\", \"target\", \"feedforward\", \"domain\", \"convolutional\", \"representation\", \"tracking\", \"human\", \"sequence\", \"net\", \"train\", \"input\", \"memory\", \"dataset\", \"stateoftheart\", \"feature\", \"performance\", \"visual\", \"large\", \"achieve\", \"time\", \"object\", \"prediction\", \"information\", \"experiment\", \"image\", \"svi\", \"risksensitive\", \"dps\", \"stateofart\", \"plackettluce\", \"skip\", \"observability\", \"hedge\", \"attacker\", \"samplers\", \"grassmann\", \"decorrelated\", \"gans\", \"multilinear\", \"maximisation\", \"minimising\", \"dn\", \"rpca\", \"polytopes\", \"wod\", \"selfsimilarity\", \"respond\", \"intensities\", \"ecommerce\", \"valuations\", \"reproduces\", \"conveys\", \"sche\", \"asap\", \"hamiltonian\", \"syst\", \"hmc\", \"textures\", \"riemannian\", \"dpp\", \"saliency\", \"skills\", \"calcium\", \"slice\", \"manifold\", \"multistep\", \"generative\", \"carlo\", \"multitask\", \"monte\", \"dimensionality\", \"filter\", \"denoising\", \"texture\", \"mcmc\", \"framework\", \"dimensional\", \"inference\", \"space\", \"component\", \"pca\", \"sample\", \"analysis\", \"estimation\", \"performance\", \"bayesian\", \"scale\", \"classifier\", \"dataset\", \"high\", \"experiment\", \"sampling\", \"distribution\", \"large\", \"image\", \"domain\", \"sparse\", \"feature\", \"application\", \"efficient\", \"kernel\", \"technique\", \"however\", \"approximate\", \"parameter\", \"training\", \"classification\", \"linear\", \"controller\", \"dcnn\", \"ssc\", \"finetuned\", \"lsa\", \"myopic\", \"nade\", \"subclasses\", \"msr\", \"meansquared\", \"procedur\", \"wgp\", \"activiti\", \"generizes\", \"clamping\", \"resting\", \"searched\", \"representatives\", \"volatility\", \"increas\", \"indefinite\", \"pfa\", \"logloss\", \"restricts\", \"objectbased\", \"bci\", \"converts\", \"multipleoutput\", \"multimodality\", \"cmtl\", \"submodularity\", \"counterfactual\", \"alzheimers\", \"coclustering\", \"violate\", \"modulation\", \"auctions\", \"tree\", \"clustering\", \"affinity\", \"summarization\", \"topic\", \"lda\", \"cortical\", \"brain\", \"document\", \"cluster\", \"disease\", \"hierarchy\", \"head\", \"pruning\", \"forest\", \"latent\", \"gps\", \"trial\", \"fmri\", \"dirichlet\", \"hierarchical\", \"feature\", \"activity\", \"subspace\", \"structure\", \"kernel\", \"social\", \"graph\", \"kmeans\", \"process\", \"bayesian\", \"selection\", \"interaction\", \"node\", \"information\", \"dataset\", \"inference\", \"time\", \"prediction\", \"experiment\", \"performance\", \"classification\", \"dynamic\", \"state\", \"capture\", \"gaussian\", \"parameter\", \"number\", \"however\", \"large\", \"neural\", \"contour\", \"vgg\", \"tag\", \"maker\", \"inactive\", \"eta\", \"smc\", \"cooperative\", \"coreset\", \"transducer\", \"mab\", \"criticism\", \"ilp\", \"oracles\", \"retina\", \"regulariz\", \"outdoor\", \"stdp\", \"bottlenecks\", \"spacetime\", \"allocating\", \"inter\", \"drop\", \"ramp\", \"tilde\", \"readout\", \"pr\", \"ideals\", \"histories\", \"md\", \"hamming\", \"mkl\", \"mallows\", \"passive\", \"qa\", \"plane\", \"tags\", \"transparent\", \"agnostic\", \"convnets\", \"shortest\", \"label\", \"proposal\", \"multilabel\", \"plasticity\", \"hashing\", \"coding\", \"quantization\", \"object\", \"bit\", \"code\", \"kernel\", \"category\", \"binary\", \"instance\", \"classification\", \"neuron\", \"search\", \"answer\", \"path\", \"question\", \"occlusion\", \"accuracy\", \"curve\", \"noise\", \"error\", \"privacy\", \"classifier\", \"vector\", \"svm\", \"dictionary\", \"multiclass\", \"training\", \"performance\", \"sample\", \"information\", \"dataset\", \"neural\", \"achieve\", \"prediction\", \"deep\", \"image\", \"large\", \"layer\", \"distribution\", \"approximate\", \"number\", \"space\", \"time\", \"irl\", \"sdca\", \"mf\", \"caus\", \"cc\", \"manipulate\", \"denoised\", \"yu\", \"expressiveness\", \"ksupport\", \"loose\", \"degeneracy\", \"amplitudes\", \"swap\", \"indistinguishable\", \"gds\", \"cccp\", \"expands\", \"norb\", \"respecting\", \"sir\", \"scen\", \"equilibria\", \"minds\", \"empiric\", \"mip\", \"parti\", \"waveforms\", \"listwise\", \"tdlambda\", \"topk\", \"rankone\", \"blockcoordinate\", \"hitting\", \"teaching\", \"theoric\", \"biclustering\", \"bcd\", \"stings\", \"rankings\", \"transport\", \"convexconcave\", \"bregman\", \"mrf\", \"ranking\", \"matrix\", \"symmetries\", \"item\", \"collaborative\", \"rgb\", \"tensor\", \"anysis\", \"completion\", \"spectral\", \"rank\", \"lowrank\", \"decomposition\", \"motion\", \"factorization\", \"gene\", \"nuclear\", \"recover\", \"pairwise\", \"solution\", \"preference\", \"norm\", \"matrices\", \"number\", \"entries\", \"noise\", \"framework\", \"analysis\", \"optimization\", \"dynamic\", \"solve\", \"dataset\", \"require\", \"human\", \"application\", \"time\", \"experiment\", \"large\", \"compare\", \"structure\", \"machine\", \"case\", \"performance\", \"efficient\"], \"loglift\": [30.0, 29.0, 28.0, 27.0, 26.0, 25.0, 24.0, 23.0, 22.0, 21.0, 20.0, 19.0, 18.0, 17.0, 16.0, 15.0, 14.0, 13.0, 12.0, 11.0, 10.0, 9.0, 8.0, 7.0, 6.0, 5.0, 4.0, 3.0, 2.0, 1.0, 1.4214, 1.4162, 1.4098, 1.4096, 1.4084, 1.4063, 1.4051, 1.4025, 1.4021, 1.3999, 1.3988, 1.3988, 1.398, 1.397, 1.3949, 1.3939, 1.3932, 1.3924, 1.3917, 1.3908, 1.3897, 1.3881, 1.3879, 1.3858, 1.3856, 1.3844, 1.3836, 1.3833, 1.3832, 1.3831, 1.3819, 1.3705, 1.3654, 1.3738, 1.3105, 1.3683, 1.3342, 1.245, 1.3223, 1.3298, 1.1687, 1.1804, 1.1902, 1.2985, 1.1561, 1.2338, 1.1378, 1.13, 1.2494, 1.1018, 1.263, 1.2294, 1.261, 1.2662, 1.092, 1.0328, 1.1026, 0.9843, 1.2274, 0.9165, 1.1456, 0.8892, 1.0774, 0.7973, 0.7428, 0.786, 0.8546, 1.0292, 0.9009, 0.712, 0.8646, 0.664, 0.753, 0.8459, 0.8205, 0.7924, 0.4967, 0.3563, 0.56, 0.2592, 0.353, 0.1042, 0.3313, 0.2356, 1.6468, 1.634, 1.6283, 1.6263, 1.6247, 1.6238, 1.6202, 1.6193, 1.6189, 1.6149, 1.6145, 1.6137, 1.613, 1.6116, 1.6115, 1.6102, 1.6097, 1.6082, 1.6079, 1.6074, 1.6057, 1.6054, 1.605, 1.6048, 1.6047, 1.6033, 1.6028, 1.6026, 1.5984, 1.5976, 1.5903, 1.5967, 1.5255, 1.5427, 1.5663, 1.5498, 1.5685, 1.4429, 1.5063, 1.5229, 1.4361, 1.4526, 1.2911, 1.4594, 1.5305, 1.5781, 1.2957, 1.5273, 1.2649, 1.269, 1.3216, 1.1993, 1.239, 1.2318, 1.3362, 1.0225, 1.4055, 0.8874, 0.957, 1.3075, 0.9831, 0.9489, 0.849, 0.9066, 0.572, 0.972, 0.9546, 0.4186, 0.6716, 0.1739, 0.0694, 0.5256, 0.5112, 0.223, 0.1198, 0.1967, 0.4601, 0.2371, 0.2391, 0.3866, -0.4573, 1.8672, 1.8655, 1.8547, 1.8454, 1.845, 1.8448, 1.8435, 1.8411, 1.8409, 1.8398, 1.839, 1.8373, 1.8359, 1.832, 1.832, 1.8316, 1.8314, 1.829, 1.8267, 1.8253, 1.824, 1.8228, 1.8213, 1.8211, 1.8192, 1.8155, 1.8154, 1.8143, 1.8129, 1.8129, 1.8123, 1.7791, 1.8027, 1.7437, 1.6995, 1.6327, 1.7587, 1.6888, 1.5735, 1.7236, 1.5847, 1.5146, 1.3575, 1.2287, 1.5336, 1.5287, 1.2127, 1.2285, 1.318, 1.4078, 1.3194, 1.2113, 1.2452, 1.5186, 1.1237, 1.1139, 0.9898, 1.2916, 0.9875, 1.0348, 0.9475, 1.1154, 0.8528, 1.0709, 0.5382, 0.6956, 0.4569, 0.5085, 0.8192, 0.4628, 0.5193, 0.3231, 0.1635, 0.5094, 0.2198, 0.1783, -0.5733, 2.1087, 2.0994, 2.0984, 2.0966, 2.0932, 2.0903, 2.0886, 2.0874, 2.0823, 2.082, 2.0762, 2.0752, 2.0731, 2.0713, 2.0652, 2.064, 2.0631, 2.0595, 2.0574, 2.0556, 2.0498, 2.0488, 2.0458, 2.0453, 2.0442, 2.0436, 2.0435, 2.0431, 2.0421, 2.0399, 2.0363, 2.0183, 2.0138, 1.9789, 1.9928, 1.9325, 1.9749, 1.9764, 1.925, 1.5788, 1.9066, 1.4112, 1.5271, 1.6751, 1.5049, 1.5119, 1.397, 1.5566, 1.6491, 1.4809, 0.8914, 1.3682, 0.8488, 0.7878, 1.0308, 1.3666, 0.7054, 0.6433, 0.7432, 0.4204, 0.7295, 0.8273, 0.7327, 0.1733, 0.6501, 0.3343, 0.6831, 0.2214, 0.1531, -0.2577, 0.5296, 0.3573, -0.1538, 0.2666, 0.2334, 0.3731, 0.4043, 0.2433, 0.1237, 0.1119, -0.1411, 0.1277, 0.0761, 2.1682, 2.1642, 2.1485, 2.133, 2.1245, 2.1223, 2.1215, 2.1205, 2.1196, 2.1188, 2.1165, 2.1137, 2.1133, 2.1104, 2.1085, 2.108, 2.1055, 2.1051, 2.1042, 2.0993, 2.0987, 2.0964, 2.094, 2.0924, 2.091, 2.0879, 2.0873, 2.0868, 2.0865, 2.0863, 2.0858, 2.0825, 2.073, 2.0776, 2.0842, 2.0774, 2.0446, 1.8881, 1.8521, 1.9963, 1.9845, 1.8302, 1.947, 1.9513, 1.7786, 1.764, 1.6774, 1.8543, 1.8637, 1.9546, 1.8804, 1.7758, 1.488, 1.9035, 1.9719, 1.8398, 1.6149, 1.4122, 0.9793, 1.4151, 1.3614, 0.7819, 0.8687, 1.4546, 0.7479, 1.6032, 0.8173, 0.8401, 1.0083, 1.1573, 1.0349, 0.3958, 0.1973, 0.3588, 0.2991, 0.4937, 0.27, 0.0752, 0.3716, 0.6446, 0.4486, 0.7417, 0.6219, 0.1255, -0.1413, 0.1134, -0.2437, -0.3108, 2.193, 2.17, 2.1646, 2.1629, 2.161, 2.1516, 2.147, 2.1449, 2.1426, 2.1409, 2.1399, 2.1395, 2.1384, 2.1369, 2.1333, 2.1311, 2.1282, 2.1277, 2.1247, 2.1243, 2.1224, 2.1213, 2.1204, 2.1203, 2.1198, 2.1176, 2.1157, 2.1134, 2.1111, 2.1086, 2.1057, 2.1015, 2.0989, 2.0666, 2.0734, 2.0441, 2.0505, 2.0583, 2.04, 2.0226, 2.0751, 1.6858, 1.7397, 1.821, 1.857, 1.7288, 1.6687, 1.806, 1.1701, 1.7027, 1.4457, 1.173, 1.6569, 1.2764, 1.2584, 0.9511, 1.2398, 1.1598, 1.5103, 1.43, 1.1906, 1.5069, 0.7839, 1.5894, 0.9483, 0.7403, 1.5427, 0.8698, 0.837, 1.2658, 1.4, 1.4417, 0.2893, 0.1556, 0.3673, 0.3079, 0.0917, 0.1734, 0.3437, 0.4585, 0.2811, -0.2897, 0.1275, 0.6434, 0.0652, 0.1943, -0.0824, 0.1056, -0.0567, 2.4473, 2.4221, 2.4186, 2.4177, 2.4102, 2.4075, 2.406, 2.4055, 2.405, 2.405, 2.4044, 2.4028, 2.4017, 2.4014, 2.3994, 2.3989, 2.3983, 2.3934, 2.3894, 2.3874, 2.3841, 2.3823, 2.3818, 2.3818, 2.3817, 2.3816, 2.3805, 2.3803, 2.3791, 2.3787, 2.3757, 2.3771, 2.3768, 2.3709, 2.3368, 2.336, 2.3538, 2.3559, 2.3311, 2.2927, 2.2383, 2.371, 2.2604, 2.1576, 1.918, 1.6357, 2.2341, 1.7951, 2.0003, 1.9639, 1.7153, 2.1001, 1.8594, 1.6602, 1.6241, 1.64, 1.6097, 1.3268, 1.6536, 1.7055, 2.0086, 1.1947, 1.3635, 0.907, 1.6556, 1.1474, 1.2635, 0.3609, 1.673, 0.7972, 0.2984, 0.3395, 0.2376, 0.62, 0.7212, -0.1187, 0.3911, 0.4125, 0.1936, 0.0382, 0.0035, -0.1325, 0.2148, -0.3202, 0.2577, 0.2331, -0.5244, -0.0395], \"Freq\": [5032.0, 2676.0, 1554.0, 1033.0, 3470.0, 2544.0, 2370.0, 1087.0, 760.0, 1922.0, 1435.0, 940.0, 1982.0, 624.0, 1125.0, 1750.0, 603.0, 961.0, 726.0, 1101.0, 569.0, 991.0, 1067.0, 3067.0, 539.0, 662.0, 619.0, 2144.0, 1750.0, 1099.0, 27.07602103980376, 34.2826735562076, 21.488477119614817, 20.487599760357178, 19.491096833412346, 19.16043750180229, 17.409958225341178, 19.106694719938147, 17.205130824211146, 18.084659978790402, 77.38752017156047, 18.676589956483497, 15.3260065045222, 27.030733927064183, 14.30488191327294, 78.5375526764825, 16.761862372926483, 369.9908306786821, 34.61045868326538, 32.98946503179338, 106.4334157080126, 25.634581134183975, 201.58684460467688, 16.502590226715256, 13.339784367881816, 41.24583206283551, 43.14079866043268, 20.08393415091384, 58.39935812503519, 14.21421159766914, 577.3568454010294, 62.05282437367939, 66.84208764112388, 39.23505774425405, 397.847781999188, 39.95687758652966, 104.73630988784666, 403.2963173448338, 85.99655556514885, 72.62100219600411, 1493.3292029065435, 813.7233289463522, 612.1195211770702, 106.72248931067908, 817.9462941224498, 284.98854524106474, 913.1297783506128, 917.1404633857724, 187.76694574808667, 983.1616370785783, 151.0182684639922, 219.80530946120925, 151.70986823503574, 118.16819684265383, 481.3288108718519, 653.6111208588453, 384.0459566248454, 723.1952144570221, 144.57737225419515, 825.5350736539904, 226.8780308115175, 798.927475064026, 307.9225077751948, 1061.058442594182, 1202.1548798277947, 970.0164732494505, 681.2940649424868, 333.477525306873, 488.3642837408017, 859.6569070607343, 514.6685427776098, 866.0228811688753, 674.1366479437191, 514.7144710031346, 515.3303626040749, 520.6126311065237, 737.000351172412, 831.5875304367642, 622.4689282382385, 650.4257731589641, 593.6864778278198, 566.1357146541417, 535.1174345965152, 539.1795688842587, 69.23089223591761, 43.10300478607416, 28.220458003404094, 44.85982597973416, 25.14536949038079, 35.958543983481675, 24.883584271668433, 24.049840110721902, 33.95349785141386, 20.468419625400152, 26.844421399431045, 17.770076594305657, 53.36390679089515, 30.46746827583957, 20.54675450417182, 24.394112684126284, 158.5473431068172, 19.16208467788019, 16.389693378283035, 42.59376143836983, 14.985287442547973, 27.8566785484288, 15.617429448555848, 24.735043075092896, 17.28718751969074, 51.60366219156317, 23.24674045730936, 26.34559411407197, 568.325842478777, 285.2639880806311, 47.768922326076385, 29.827650089135545, 635.967889696965, 307.07974719792713, 100.58891437798233, 96.61050295714854, 60.102419876504584, 775.1196556926587, 210.25636517190054, 148.6847723424035, 515.300317542329, 333.8542275334993, 3485.468677770242, 247.47901752254157, 61.741950618390234, 37.28917331811627, 462.53612336017454, 57.41552772837487, 451.7364583713713, 431.9027535337192, 287.5967627135101, 519.8931280627545, 308.5162439515315, 296.9975879812756, 165.33877328608094, 569.9414004487668, 108.36898156418839, 809.6205948093892, 598.2795500254925, 149.7374705427411, 405.28256303478673, 395.3214579174616, 511.29527530282553, 425.2194084243697, 903.0357480823421, 311.24367883464504, 318.0776567498994, 784.8039317226787, 482.68698830307136, 695.0880074947481, 708.2689690592757, 467.53689193092345, 396.4558036786163, 437.81929043023905, 447.5895045825252, 434.21279406143856, 383.603324096329, 390.14974599270016, 376.63011027922727, 358.0776387644324, 360.26587843788707, 41.50824137180847, 42.11268551571843, 25.550805528049704, 45.17056000795562, 33.78471833254574, 18.389399067989125, 28.18526542429214, 18.237214514721988, 50.65244951203597, 16.37851984013618, 273.22987941078384, 15.302830162790022, 29.27267825925729, 54.65188771138926, 15.899070636746435, 16.830544485377278, 39.87218356338741, 19.058904292901886, 62.36301719178645, 17.076740136195134, 17.172227371761075, 20.045393554251202, 17.691380991002582, 17.26746850246152, 15.110401834541305, 19.046891864100896, 11.71881650243667, 17.87268275440236, 17.20122845573359, 19.521386072697776, 17.109076264864367, 115.93963097236467, 32.67183438815002, 539.7388701568166, 445.7894643598869, 726.866887337239, 48.29272192047813, 71.47637258657659, 210.125341629014, 43.59337370892795, 129.39532308059907, 205.00056775677118, 646.7527532572556, 1313.5132461855117, 141.85358669166877, 145.83043750249882, 1204.2758563345908, 992.1373643995939, 559.4949166687787, 306.9299392834673, 387.17796179725093, 511.4841839344918, 375.61224662195474, 110.1550579744785, 532.8310175523302, 432.2891052890985, 632.9422690171523, 231.73528531652582, 506.3765842910683, 423.7606920590402, 413.04216534584674, 271.0629987822647, 458.366151124715, 278.26380954720156, 793.689312022569, 557.1818062095439, 827.7939779399804, 750.7472325668778, 393.69610058244285, 571.4519561467552, 457.91242661101927, 454.76715897977255, 476.1175473720687, 357.60705749865525, 392.4032729612025, 383.95228621113785, 428.5149465743811, 42.153338593165, 29.818460033583595, 27.295184639369303, 28.699331174731316, 23.23814912861181, 22.585662049110706, 29.49682317496356, 21.41615861916741, 21.717704494027835, 28.289790408196335, 23.120228079696837, 15.623606890232532, 32.74835105716638, 29.28786607618761, 16.430591554552464, 12.591338314522611, 19.732714685112512, 25.271929176983388, 15.988814764129517, 11.332937399759423, 21.060052588757113, 23.5600781524919, 27.266976512174637, 18.222348123831633, 12.577604606862252, 15.485807369359065, 11.556013357971063, 9.970165951093103, 10.794163603296957, 54.25317015058003, 15.44371534425532, 36.97686092211324, 44.81361500266319, 100.82953391483632, 46.40828903242388, 164.69866982899944, 55.24951122759728, 35.530638566669616, 38.52532375232591, 263.6169257313146, 38.53236607495045, 322.1991224643457, 179.01560269125426, 92.56040579338122, 175.22938272721933, 168.9519146329823, 201.03499997832995, 105.76421878088554, 80.16769215680121, 123.75096691783972, 573.3529620770075, 163.65343992123042, 596.0108737605453, 489.8637079592607, 260.41557569128565, 125.44000661109227, 461.4410242013279, 411.8767720124128, 344.7467454645009, 541.3452301834983, 276.7986795340225, 227.02950238171064, 229.09644772961607, 433.9236754962209, 242.0644600503244, 353.3909138298309, 227.73738805058724, 362.6592777214003, 330.1205987028542, 462.66170308337524, 231.64036418654214, 258.27522978346457, 353.946761492148, 267.1453495227125, 267.6981114820918, 247.93684199905255, 244.24273126469677, 254.21993812596867, 254.17137340235772, 253.37136766309655, 244.8804594585706, 236.57913770176623, 231.2992375425445, 40.23852487829598, 39.52080362697795, 29.858426179995384, 15.197635155587266, 11.545732155181119, 14.69169167484613, 14.601378941658297, 15.192733323379377, 11.465181161266585, 12.625012392271802, 11.876710732471478, 10.56943605623061, 15.929034693326637, 17.496570042969935, 10.875564048508407, 11.851134961662558, 11.261962176942102, 18.380160120071423, 23.71176619241102, 15.658446704029581, 17.966789958970917, 8.703054421118367, 8.771370180835593, 7.9613400121885665, 9.020003102992774, 37.95228848721391, 12.431438924219616, 13.142013639002414, 10.482165521478562, 11.85798523222098, 42.82202439721512, 25.16345695659846, 35.16428387365619, 23.852275800486566, 15.402601170575922, 17.976034667069037, 39.803200316250134, 560.4550981237275, 734.5203096872448, 55.47495143604657, 64.05353951592186, 396.1856919181661, 95.93596599744231, 65.35991688903016, 269.4368766403314, 254.4266126369378, 395.4876211418537, 96.2087143146906, 88.74741531336105, 44.32326894145452, 64.17667815845064, 108.93403518432707, 555.3804934191203, 50.10981825636787, 32.97985842731786, 53.02522642865696, 129.59672591143905, 250.0292381222038, 1029.9626587624994, 177.09588667199068, 194.5118017413575, 660.6564665948376, 381.44322886746085, 114.13502080362593, 412.22026284383645, 85.04924200289504, 311.2704486952028, 289.7337045177902, 220.73734252725532, 159.46399091249214, 182.73586361555223, 345.3135494205506, 416.52675646643956, 342.19412658817396, 327.6419376966951, 259.78904720086655, 310.54238107804525, 359.2040295282488, 282.9488038620536, 212.57846232704512, 233.68927319575818, 196.60791459100565, 203.23510156428475, 240.70272439850703, 240.774660549268, 209.24039085447316, 208.06104434405722, 207.9176291611473, 61.16293061852723, 27.461511939302447, 21.230005173272186, 19.662550924131683, 18.422329387558076, 15.398613720600173, 26.197069549795188, 19.12956696613441, 42.32603915244966, 18.518139097735062, 33.79047748978836, 14.10598280360232, 13.767485337385565, 33.305248853534636, 17.90383098425609, 11.774797825066246, 32.07886290731367, 26.885917205054124, 10.37145787386996, 16.10054970810848, 12.627580202377814, 11.812289808116441, 18.04646152434537, 9.32844421293361, 13.94943001804844, 11.016907567305955, 10.24495791357392, 9.813266231340554, 8.53956303117459, 11.798075251869674, 32.142218728170874, 32.86619482990901, 25.718181757432628, 48.27610567025515, 29.28884813185308, 48.375803304036204, 41.54590502143728, 33.37303746992073, 40.59325878292849, 43.29251480863043, 22.117633850004726, 645.3324794526422, 218.88276509651615, 106.02794043790836, 75.27671146488764, 123.82442177859801, 158.15087814035755, 73.63206020406064, 948.7285974237759, 95.84234053441311, 216.2922994843927, 510.2415417924935, 89.49660806531448, 229.0150400872841, 236.81212428628353, 498.43686507678586, 232.33935505157334, 263.2039626776272, 107.59658067912349, 119.29188126727519, 178.04619934616557, 98.09665403530585, 315.41459301348135, 83.7648443840412, 228.59239185561577, 310.70292650614783, 89.75950699934945, 242.97635081957026, 253.81697526250693, 132.0213131293705, 110.3909477698645, 103.77933486765482, 348.27023323603083, 384.1453493278742, 304.2901337854944, 312.0459340257581, 369.8257740093247, 332.9404665416882, 279.72662746625235, 247.4606013904384, 280.11190613392523, 414.36736048519964, 297.54788485448665, 207.51460659748207, 286.8793747337262, 252.22746841244285, 251.99851178708752, 228.97816771709034, 226.50614228314507, 37.793128196381325, 31.504205703275613, 31.532385804460365, 38.995261573393016, 22.103301346406756, 11.708541259603138, 16.107855201042902, 11.79306756763575, 12.04600035440501, 20.360408221279794, 17.381693483483872, 12.87670549054348, 16.1024459125844, 20.132623257960645, 11.614629902893927, 12.39494192906336, 20.4860401226939, 14.513299108406237, 16.830211252598154, 9.96711545671933, 9.519189286531622, 12.881548076878996, 31.055284437530222, 8.71469975554429, 23.839415301507298, 9.50371761223604, 11.815339425045533, 20.103008905963417, 21.93373468044721, 9.932768051979671, 39.39246158334668, 20.17326298216924, 17.017379231583256, 16.556217551394102, 47.55493786486223, 42.25403398633251, 27.48131167204533, 19.686242724403105, 24.92448282545326, 30.797859967191446, 47.14200026950981, 15.982605380055086, 36.53888964045174, 58.343608042556504, 191.396679013187, 669.8653816155653, 33.18899738346616, 173.74308741861412, 78.87723325582009, 89.8095912736847, 175.10920774586276, 46.68810262016859, 99.42848922029309, 171.92247774777425, 176.80329189649717, 143.62357192127843, 135.85236917996863, 221.63884915180557, 101.10053168190349, 84.75718184997505, 48.05059784303254, 209.60557816041262, 133.81720086619788, 263.47567357858014, 76.0068144544781, 143.34573887679244, 118.26846517244827, 299.69654462662123, 71.67430838401879, 150.04115322661528, 223.6944949086051, 214.61130226848329, 217.5102317191154, 156.2513026326644, 143.02193679413213, 228.75486507712543, 163.57584534584942, 158.4092286535437, 175.32044385842624, 190.13200386782776, 179.2024604027545, 175.15710911934445, 147.15558018432625, 165.31906393462484, 144.06536705605623, 143.78944478008742, 148.56575121419039, 143.84975072148535], \"Total\": [5032.0, 2676.0, 1554.0, 1033.0, 3470.0, 2544.0, 2370.0, 1087.0, 760.0, 1922.0, 1435.0, 940.0, 1982.0, 624.0, 1125.0, 1750.0, 603.0, 961.0, 726.0, 1101.0, 569.0, 991.0, 1067.0, 3067.0, 539.0, 662.0, 619.0, 2144.0, 1750.0, 1099.0, 27.919063224212955, 35.53419125797192, 22.41525002609217, 21.376415830925023, 20.360865764462073, 20.057149400316433, 18.247784032405182, 20.078187911802537, 18.087415451664683, 19.05366035834244, 81.62026571865103, 19.69851391296351, 16.176955852890472, 28.55992707118451, 15.145956284626665, 83.24149660551805, 17.77867184666244, 392.7305419410618, 36.7639363893608, 35.07438075334356, 113.28826307757448, 27.32892972158964, 214.9527228473117, 17.634043743269494, 14.257149162242209, 44.1323307716078, 46.1963606120507, 21.514590291262795, 62.56429403112661, 15.229896801801798, 619.3368824722253, 67.33003609005357, 72.89066673572619, 42.4284181255948, 458.33094473161054, 43.449080620064194, 117.84065862098035, 496.0924628267783, 97.91677215822537, 82.067820100462, 1982.5379225252107, 1067.7588257506645, 795.3539094237447, 124.4400929973686, 1099.684440235494, 354.5124458874293, 1250.2899779775196, 1265.6044340933445, 229.94504305820428, 1395.4855756187492, 182.4422860551381, 274.63117947725016, 183.64874234377697, 142.30859422556043, 689.9566216651335, 994.0541994966776, 544.7083211724965, 1154.503431278336, 180.99068483013787, 1410.307879707777, 308.2324496379736, 1402.6590013276186, 447.88320163245845, 2042.2787457295212, 2443.3560515664894, 1888.1205858483831, 1238.2751938921808, 508.9829641299407, 847.4903798996604, 1801.9336938654128, 926.0878729375745, 1904.515716008874, 1356.2385590594686, 943.6339376007893, 969.0666981793088, 1006.9791962386239, 1915.9285164141677, 2487.667152527323, 1518.861724678308, 2144.090855777026, 1781.9408566350128, 2179.165228231151, 1641.33900369022, 1819.8086804431794, 70.03978844544629, 44.169631210140565, 29.084696140103073, 46.327298622540745, 26.00844816532147, 37.22818157428128, 25.854219391954498, 25.011097303430518, 35.32456233615035, 21.380425067711123, 28.050064318555094, 18.583015004495003, 55.84342368054029, 31.928261347744748, 21.53380882700275, 25.600666916168716, 166.4655010134701, 20.149264663711634, 17.239359907361912, 44.82290400101579, 15.796674118755641, 29.37538956433096, 16.474614500762982, 26.09719425982697, 18.24207578180313, 54.52740748472188, 24.57839535016301, 27.85885343435441, 603.4901033994418, 303.1497638225888, 51.13915008854393, 31.727551867672954, 726.4123433761094, 344.7684329839598, 110.29911134885795, 107.7010316715165, 65.75829195912273, 961.5478736752424, 244.80938320055472, 170.27294466514542, 643.6308767364809, 410.1622302527639, 5032.633412024496, 301.99089247719894, 70.16980890992983, 40.40787963456091, 664.7701205019665, 65.45882267572458, 669.6008222686926, 637.5365855944808, 402.7951107709106, 822.8649854480653, 469.2851801562081, 455.05554332366006, 228.19735053161457, 1076.5414884939107, 139.56126142598924, 1750.364102708643, 1206.5208572930046, 212.7011051311768, 796.261892972389, 803.7582031063937, 1148.7681471454177, 901.8996525174177, 2676.410231316971, 618.3279072308434, 642.9953172508118, 2711.484422343008, 1294.9550583295033, 3067.2815771420915, 3470.043414296117, 1451.4159217062424, 1248.6969879945364, 1839.5958741573033, 2085.019837242358, 1873.0030413524123, 1271.506239836127, 1616.270427504102, 1557.192843357841, 1277.37496309849, 2988.819480604472, 42.46765897780561, 43.16036606917357, 26.468985170970264, 47.232375160879585, 35.341527046901085, 19.241138005959044, 29.52793713514768, 19.151022307804045, 53.20259273169512, 17.222229032006616, 287.52845848901734, 16.130733191348227, 30.900266580326857, 57.916935660584194, 16.849163567465254, 17.843483067547062, 42.2793061267647, 20.257720967490844, 66.43793192275182, 18.21898579469512, 18.34367755372272, 21.44058707882215, 18.950793444244802, 18.500131058321582, 16.21896001039471, 20.520159944756887, 12.626628510150368, 19.279764469664105, 18.580315114442744, 21.087491922352214, 18.493059678967786, 129.54523863076562, 35.655422694934536, 624.76959545327, 539.3822468397109, 940.1601667046375, 55.06878154686302, 87.41162717878512, 288.3722583629174, 51.48870923590913, 175.59787405379313, 298.3956503226872, 1101.6119241816334, 2544.7714747387727, 202.60319688251835, 209.29778796623802, 2370.663470646945, 1922.5051104356635, 991.3483311141339, 497.1335875370592, 685.1047877291485, 1008.3041136999082, 715.7691258390076, 159.70954302761427, 1146.6044056706232, 939.3479117138223, 1557.192843357841, 421.5777250478071, 1248.6969879945364, 996.6816341449113, 1060.0563620489534, 588.1584089189294, 1293.179954720873, 631.2558118490231, 3067.2815771420915, 1839.5958741573033, 3470.043414296117, 2988.819480604472, 1148.7681471454177, 2381.24348214711, 1803.3254749686794, 2179.165228231151, 2676.410231316971, 1422.3268286301552, 2085.019837242358, 2126.5406114541574, 5032.633412024496, 43.01792654039482, 30.714557759797973, 28.144215964813448, 29.64387736444409, 24.086562466789278, 23.476173696321755, 30.71307322901446, 22.32549234684259, 22.756343337399734, 29.650733562767165, 24.37436937972985, 16.486724667075837, 34.63004303193385, 31.029160540280706, 17.512556947069452, 13.437122579811422, 21.076915934502527, 27.092189956829806, 17.17521918506817, 12.196755722698889, 22.79676941926871, 25.528695829598522, 29.63423733086078, 19.81349669239905, 13.69156497965943, 16.867318865263574, 12.588244714940389, 10.86418343204924, 11.774471512345762, 59.310498221001964, 16.943520341713974, 41.30402688807666, 50.285345946731844, 117.15884086757056, 53.18116851031716, 200.46705881499545, 64.45735483742412, 41.38860524150695, 47.246628147576274, 457.0007429690442, 48.130672937368374, 660.4799937696233, 326.81038232425107, 145.735694434292, 327.0975677640742, 313.17721321180477, 418.0092204313867, 187.4799568066118, 129.5437178331208, 236.61284047414517, 1976.4866814743198, 350.21532745947644, 2144.090855777026, 1873.0030413524123, 780.9264666555088, 268.8793311978507, 1915.9285164141677, 1819.8086804431794, 1378.3391714068234, 2988.819480604472, 1121.9089113872974, 834.4862013093789, 925.625534263573, 3067.2815771420915, 1062.1977591458876, 2126.5406114541574, 966.9340825730249, 2443.3560515664894, 2381.24348214711, 5032.633412024496, 1146.6044056706232, 1518.861724678308, 3470.043414296117, 1720.1625456344063, 1781.9408566350128, 1435.3096034432008, 1370.4353495883638, 1675.6602955546489, 1888.1205858483831, 1904.515716008874, 2370.663470646945, 1750.4179443068704, 1801.9336938654128, 41.28495039724563, 40.71220991483045, 31.24587860272951, 16.151311829907883, 12.3751435314131, 15.78195395694641, 15.697907023914954, 16.348955490191965, 12.348926118807812, 13.609338091810436, 12.832704858393464, 11.451665319035365, 17.26595376947299, 19.021046520835565, 11.84545797292757, 12.913565276795254, 12.302731025186318, 20.087132580569673, 25.93628430221973, 17.212131808853886, 19.760530764780576, 9.594103437778562, 9.692767221819484, 8.811964901805554, 9.99722969830286, 42.19547826571563, 13.829529265952917, 14.628279026745622, 11.671112050521566, 13.20458807806611, 47.71203219550956, 28.12883306892886, 39.681593893092945, 26.79348546757175, 17.187704932514002, 20.196995445240663, 46.210196401762694, 760.9327458032586, 1033.806692290134, 67.59277248192964, 78.97122762589046, 569.9597321202339, 122.79822537799969, 83.30472013466535, 408.16029532937273, 391.0751008895698, 662.8866014851449, 135.1196357913086, 123.46839917641911, 56.304416565798135, 87.80699789679295, 165.47358434051935, 1125.0352036322865, 66.99776315399353, 41.17936226138205, 75.55468273233625, 231.23432058163615, 546.3599654515742, 3470.043414296117, 385.873330355322, 447.1767429609479, 2711.484422343008, 1435.3096034432008, 239.05166396654425, 1750.364102708643, 153.53419742250458, 1233.0373176197616, 1121.9089113872974, 722.4250888481503, 449.60846981926613, 582.3190349461581, 2085.019837242358, 3067.2815771420915, 2144.090855777026, 2179.165228231151, 1422.3268286301552, 2126.5406114541574, 2988.819480604472, 1750.4179443068704, 1000.881824099697, 1338.4955573209793, 840.0440389830069, 978.8179720970898, 1904.515716008874, 2487.667152527323, 1675.6602955546489, 2381.24348214711, 2544.7714747387727, 62.03923173292483, 28.50289205132895, 22.15513505101296, 20.554984100171065, 19.29473802853617, 16.280087000499417, 27.824012089309548, 20.359576015893623, 45.154688405116836, 19.787731164926164, 36.144684444439505, 15.094316621674094, 14.748213865974337, 35.73293221988824, 19.277927229260033, 12.706973341567652, 34.7170197846571, 29.113373191425975, 11.264445163856939, 17.492518138921984, 13.745391567808756, 12.872813342625266, 19.68372033738391, 10.175681960481848, 15.22475039188126, 12.049940151892473, 11.226803053251835, 10.778861272524251, 9.401787386490742, 13.021832034791757, 35.57946628826185, 36.5338896477571, 28.662394238157795, 55.567810313846, 33.48327137934482, 56.950496935830245, 48.59880163933035, 38.73210903118321, 47.98475873105127, 52.073560341320416, 25.243683624513636, 1087.0277411042293, 349.3594989269464, 156.01575156194738, 106.84842336585882, 199.7931332709322, 271.0017351962163, 109.98115403347808, 2676.410231316971, 158.74388355852025, 463.2094341419094, 1435.3096034432008, 155.1701946666874, 580.9431548851736, 611.6048061545698, 1750.4179443068704, 611.3318811038454, 750.2498490047924, 216.01289504890258, 259.51022765215777, 492.1042130518036, 197.61175695349937, 1309.3384398502621, 155.38379779830015, 805.0509609110208, 1347.2700117672237, 174.4646844840647, 925.625534263573, 999.148544982513, 338.4610882916415, 247.47363703554194, 223.13894614896472, 2370.663470646945, 2988.819480604472, 1915.9285164141677, 2085.019837242358, 3067.2815771420915, 2544.7714747387727, 1803.3254749686794, 1422.3268286301552, 1922.5051104356635, 5032.633412024496, 2381.24348214711, 991.3483311141339, 2443.3560515664894, 1888.1205858483831, 2487.667152527323, 1873.0030413524123, 2179.165228231151, 38.94177997602502, 33.28927430965978, 33.43462881186079, 41.38589494450972, 23.63475781984666, 12.554081939815458, 17.296267600015156, 12.669267170663561, 12.947356472509973, 21.884471746940484, 18.693329625863278, 13.871410939424143, 17.365241584569993, 21.718996220773004, 12.554068197908688, 13.404875994044966, 22.168672557059928, 15.781254305136986, 18.375300068550665, 10.903611424975011, 10.447532061565376, 14.163169110042691, 34.1641198063607, 9.587155849198412, 26.226973958237554, 10.456580428077906, 13.014305989783551, 22.14802375028605, 24.19404342693329, 10.961288741309412, 43.601435288316516, 22.296267742502252, 18.813784411046726, 18.412288217223832, 54.72468265169693, 48.66064352621929, 31.089994375558195, 22.22453930259139, 28.845093529755218, 37.03814637897062, 59.86561350179771, 17.772489847716553, 45.38452981393503, 80.31389469343205, 334.8078158382858, 1554.0373997376482, 42.322381539146676, 343.67411307898135, 127.07541748695107, 150.05958795034456, 375.1292510199196, 68.07650422453327, 184.41964256148862, 389.19879817026685, 414.95706898199205, 331.7468062838202, 323.4579158808542, 700.274603990353, 230.37309397975656, 183.3678136811286, 76.7699392941852, 755.7851360458394, 407.5574219891852, 1266.652222978574, 172.84442742177063, 541.8875564913614, 398.0946116045107, 2487.667152527323, 160.18986877028806, 805.0509609110208, 1976.4866814743198, 1819.8086804431794, 2042.2787457295212, 1000.881824099697, 827.9489404595109, 3067.2815771420915, 1317.3484988213904, 1248.6969879945364, 1720.1625456344063, 2179.165228231151, 2126.5406114541574, 2381.24348214711, 1413.6164529222938, 2711.484422343008, 1325.7404616203353, 1356.2385590594686, 2988.819480604472, 1781.9408566350128], \"logprob\": [30.0, 29.0, 28.0, 27.0, 26.0, 25.0, 24.0, 23.0, 22.0, 21.0, 20.0, 19.0, 18.0, 17.0, 16.0, 15.0, 14.0, 13.0, 12.0, 11.0, 10.0, 9.0, 8.0, 7.0, 6.0, 5.0, 4.0, 3.0, 2.0, 1.0, -8.7703, -8.5343, -9.0014, -9.0491, -9.099, -9.1161, -9.2119, -9.1189, -9.2238, -9.1739, -7.7201, -9.1417, -9.3394, -8.772, -9.4084, -7.7054, -9.2499, -6.1555, -8.5248, -8.5728, -7.4014, -8.825, -6.7627, -9.2654, -9.4782, -8.3494, -8.3045, -9.069, -8.0017, -9.4147, -5.7105, -7.941, -7.8666, -8.3994, -6.0829, -8.3812, -7.4175, -6.0693, -7.6147, -7.7837, -4.7602, -5.3673, -5.652, -7.3987, -5.3622, -6.4165, -5.2521, -5.2477, -6.8338, -5.1782, -7.0516, -6.6762, -7.047, -7.2969, -5.8924, -5.5865, -6.1182, -5.4853, -7.0951, -5.3529, -6.6446, -5.3857, -6.3391, -5.1019, -4.9771, -5.1917, -5.545, -6.2594, -5.8779, -5.3124, -5.8254, -5.3051, -5.5555, -5.8254, -5.8242, -5.814, -5.4664, -5.3456, -5.6353, -5.5913, -5.6826, -5.7301, -5.7865, -5.7789, -7.6251, -8.099, -8.5225, -8.059, -8.6379, -8.2802, -8.6484, -8.6825, -8.3376, -8.8437, -8.5725, -8.9851, -7.8854, -8.4459, -8.8399, -8.6682, -6.7965, -8.9096, -9.0659, -8.1109, -9.1555, -8.5355, -9.1142, -8.6544, -9.0126, -7.919, -8.7164, -8.5913, -5.5199, -6.2092, -7.9962, -8.4671, -5.4074, -6.1355, -7.2515, -7.2919, -7.7665, -5.2096, -6.5143, -6.8608, -5.6178, -6.0519, -3.7062, -6.3513, -7.7396, -8.2439, -5.7259, -7.8123, -5.7495, -5.7944, -6.201, -5.609, -6.1308, -6.1689, -6.7546, -5.517, -7.177, -5.166, -5.4685, -6.8537, -5.858, -5.8829, -5.6256, -5.81, -5.0568, -6.122, -6.1003, -5.1971, -5.6832, -5.3185, -5.2998, -5.7151, -5.88, -5.7808, -5.7587, -5.789, -5.913, -5.896, -5.9313, -5.9818, -5.9757, -7.9051, -7.8906, -8.3903, -7.8206, -8.111, -8.7192, -8.2922, -8.7275, -7.706, -8.835, -6.0207, -8.903, -8.2543, -7.63, -8.8647, -8.8078, -7.9453, -8.6835, -7.498, -8.7933, -8.7877, -8.633, -8.7579, -8.7822, -8.9156, -8.6841, -9.1698, -8.7477, -8.786, -8.6595, -8.7914, -6.8779, -8.1445, -5.3399, -5.5311, -5.0423, -7.7537, -7.3616, -6.2833, -7.8561, -6.7681, -6.308, -5.159, -4.4505, -6.6762, -6.6486, -4.5374, -4.7311, -5.304, -5.9044, -5.6721, -5.3937, -5.7024, -6.9291, -5.3528, -5.5619, -5.1806, -6.1854, -5.4037, -5.5818, -5.6074, -6.0286, -5.5033, -6.0024, -4.9543, -5.3081, -4.9122, -5.0099, -5.6554, -5.2828, -5.5043, -5.5112, -5.4653, -5.7516, -5.6587, -5.6805, -5.5707, -7.6507, -7.9969, -8.0853, -8.0351, -8.2462, -8.2747, -8.0077, -8.3279, -8.3139, -8.0495, -8.2513, -8.6432, -7.9032, -8.0148, -8.5929, -8.859, -8.4097, -8.1623, -8.6201, -8.9643, -8.3446, -8.2325, -8.0863, -8.4894, -8.8601, -8.6521, -8.9448, -9.0924, -9.013, -7.3984, -8.6548, -7.7817, -7.5895, -6.7786, -7.5545, -6.2879, -7.3802, -7.8216, -7.7407, -5.8175, -7.7405, -5.6168, -6.2045, -6.8642, -6.2259, -6.2624, -6.0885, -6.7308, -7.0079, -6.5737, -5.0405, -6.2943, -5.0018, -5.1979, -5.8297, -6.5602, -5.2577, -5.3713, -5.5492, -5.098, -5.7687, -5.9669, -5.9579, -5.3191, -5.9028, -5.5244, -5.9638, -5.4986, -5.5926, -5.255, -5.9468, -5.838, -5.5229, -5.8042, -5.8022, -5.8788, -5.8939, -5.8538, -5.854, -5.8572, -5.8912, -5.9257, -5.9483, -7.6323, -7.6503, -7.9307, -8.606, -8.8808, -8.6399, -8.646, -8.6063, -8.8878, -8.7915, -8.8526, -8.9692, -8.559, -8.4651, -8.9406, -8.8547, -8.9057, -8.4159, -8.1612, -8.5761, -8.4386, -9.1635, -9.1556, -9.2525, -9.1277, -7.6908, -8.8069, -8.7513, -8.9775, -8.8541, -7.5701, -8.1017, -7.7671, -8.1553, -8.5926, -8.4381, -7.6432, -4.9984, -4.7279, -7.3112, -7.1674, -5.3453, -6.7635, -7.1472, -5.7308, -5.7881, -5.347, -6.7606, -6.8413, -7.5356, -7.1655, -6.6364, -5.0075, -7.4129, -7.8312, -7.3564, -6.4627, -5.8056, -4.3899, -6.1504, -6.0566, -4.8339, -5.3832, -6.5898, -5.3056, -6.8839, -5.5865, -5.6582, -5.9302, -6.2553, -6.1191, -5.4827, -5.2952, -5.4918, -5.5352, -5.7673, -5.5888, -5.4432, -5.6819, -5.9678, -5.8731, -6.0459, -6.0128, -5.8436, -5.8433, -5.9837, -5.9893, -5.99, -7.2002, -8.001, -8.2584, -8.3351, -8.4002, -8.5795, -8.0481, -8.3625, -7.5684, -8.395, -7.7936, -8.6672, -8.6915, -7.8081, -8.4288, -8.8478, -7.8456, -8.0222, -8.9747, -8.5349, -8.7779, -8.8446, -8.4208, -9.0807, -8.6783, -8.9143, -8.987, -9.03, -9.1691, -8.8458, -7.8436, -7.8213, -8.0666, -7.4368, -7.9366, -7.4348, -7.587, -7.806, -7.6102, -7.5458, -8.2174, -4.844, -5.9252, -6.6501, -6.9926, -6.4949, -6.2502, -7.0147, -4.4587, -6.7511, -5.9371, -5.0789, -6.8196, -5.88, -5.8465, -5.1023, -5.8656, -5.7408, -6.6354, -6.5322, -6.1317, -6.7278, -5.5599, -6.8858, -5.8818, -5.5749, -6.8166, -5.8208, -5.7772, -6.4308, -6.6097, -6.6715, -5.4608, -5.3628, -5.5958, -5.5706, -5.4007, -5.5058, -5.68, -5.8025, -5.6786, -5.287, -5.6182, -5.9786, -5.6547, -5.7834, -5.7844, -5.8802, -5.891, -7.4117, -7.5937, -7.5928, -7.3804, -7.9481, -8.5835, -8.2645, -8.5763, -8.5551, -8.0302, -8.1884, -8.4884, -8.2649, -8.0415, -8.5916, -8.5265, -8.0241, -8.3688, -8.2207, -8.7445, -8.7905, -8.488, -7.6081, -8.8788, -7.8725, -8.7922, -8.5744, -8.043, -7.9558, -8.748, -7.3703, -8.0395, -8.2096, -8.2371, -7.182, -7.3001, -7.7303, -8.0639, -7.828, -7.6164, -7.1907, -8.2723, -7.4455, -6.9775, -5.7895, -4.5368, -7.5416, -5.8863, -6.6759, -6.5461, -5.8784, -7.2003, -6.4444, -5.8968, -5.8688, -6.0766, -6.1323, -5.6428, -6.4277, -6.604, -7.1716, -5.6986, -6.1474, -5.4699, -6.713, -6.0786, -6.2709, -5.3411, -6.7717, -6.0329, -5.6336, -5.675, -5.6616, -5.9924, -6.0808, -5.6112, -5.9466, -5.9787, -5.8772, -5.7961, -5.8553, -5.8782, -6.0523, -5.936, -6.0736, -6.0755, -6.0428, -6.0751]}};\n",
       "\n",
       "function LDAvis_load_lib(url, callback){\n",
       "  var s = document.createElement('script');\n",
       "  s.src = url;\n",
       "  s.async = true;\n",
       "  s.onreadystatechange = s.onload = callback;\n",
       "  s.onerror = function(){console.warn(\"failed to load library \" + url);};\n",
       "  document.getElementsByTagName(\"head\")[0].appendChild(s);\n",
       "}\n",
       "\n",
       "if(typeof(LDAvis) !== \"undefined\"){\n",
       "   // already loaded: just create the visualization\n",
       "   !function(LDAvis){\n",
       "       new LDAvis(\"#\" + \"ldavis_el3351102305572645311890\", ldavis_el3351102305572645311890_data);\n",
       "   }(LDAvis);\n",
       "}else if(typeof define === \"function\" && define.amd){\n",
       "   // require.js is available: use it to load d3/LDAvis\n",
       "   require.config({paths: {d3: \"https://cdnjs.cloudflare.com/ajax/libs/d3/3.5.5/d3.min\"}});\n",
       "   require([\"d3\"], function(d3){\n",
       "      window.d3 = d3;\n",
       "      LDAvis_load_lib(\"https://cdn.rawgit.com/bmabey/pyLDAvis/files/ldavis.v1.0.0.js\", function(){\n",
       "        new LDAvis(\"#\" + \"ldavis_el3351102305572645311890\", ldavis_el3351102305572645311890_data);\n",
       "      });\n",
       "    });\n",
       "}else{\n",
       "    // require.js not available: dynamically load d3 & LDAvis\n",
       "    LDAvis_load_lib(\"https://cdnjs.cloudflare.com/ajax/libs/d3/3.5.5/d3.min.js\", function(){\n",
       "         LDAvis_load_lib(\"https://cdn.rawgit.com/bmabey/pyLDAvis/files/ldavis.v1.0.0.js\", function(){\n",
       "                 new LDAvis(\"#\" + \"ldavis_el3351102305572645311890\", ldavis_el3351102305572645311890_data);\n",
       "            })\n",
       "         });\n",
       "}\n",
       "</script>"
      ],
      "text/plain": [
       "PreparedData(topic_coordinates=            Freq  cluster  topics           x           y\n",
       "topic                                                    \n",
       "0      23.408512        1       1 -157.426433  -83.162045\n",
       "1      19.043299        1       2  175.151558  169.581205\n",
       "4      15.106603        1       3 -211.552070  165.710725\n",
       "6      11.895414        1       4  305.075344 -196.161065\n",
       "2      11.148155        1       5   52.532510 -330.077990\n",
       "3      11.000195        1       6  113.878788  -57.667488\n",
       "5       8.397821        1       7 -165.546909  417.258341, topic_info=      Category         Freq            Term        Total  loglift  logprob\n",
       "term                                                                      \n",
       "8887   Default  5032.000000           image  5032.000000  30.0000  30.0000\n",
       "24520  Default  2676.000000          object  2676.000000  29.0000  29.0000\n",
       "1665   Default  1554.000000          matrix  1554.000000  28.0000  28.0000\n",
       "1448   Default  1033.000000      clustering  1033.000000  27.0000  27.0000\n",
       "16257  Default  3470.000000         feature  3470.000000  26.0000  26.0000\n",
       "5796   Default  2544.000000          neural  2544.000000  25.0000  25.0000\n",
       "24965  Default  2370.000000        training  2370.000000  24.0000  24.0000\n",
       "4741   Default  1087.000000           label  1087.000000  23.0000  23.0000\n",
       "16376  Default   760.000000            tree   760.000000  22.0000  22.0000\n",
       "21231  Default  1922.000000            deep  1922.000000  21.0000  21.0000\n",
       "12845  Default  1435.000000          kernel  1435.000000  20.0000  20.0000\n",
       "20542  Default   940.000000    architecture   940.000000  19.0000  19.0000\n",
       "18694  Default  1982.000000           bound  1982.000000  18.0000  18.0000\n",
       "30850  Default   624.000000             cnn   624.000000  17.0000  17.0000\n",
       "10256  Default  1125.000000          latent  1125.000000  16.0000  16.0000\n",
       "10505  Default  1750.000000           graph  1750.000000  15.0000  15.0000\n",
       "3512   Default   603.000000          camera   603.000000  14.0000  14.0000\n",
       "1692   Default   961.000000           scene   961.000000  13.0000  13.0000\n",
       "5320   Default   726.000000           shape   726.000000  12.0000  12.0000\n",
       "1911   Default  1101.000000     recognition  1101.000000  11.0000  11.0000\n",
       "18862  Default   569.000000           topic   569.000000  10.0000  10.0000\n",
       "16011  Default   991.000000           layer   991.000000   9.0000   9.0000\n",
       "30322  Default  1067.000000          convex  1067.000000   8.0000   8.0000\n",
       "19914  Default  3067.000000         dataset  3067.000000   7.0000   7.0000\n",
       "10355  Default   539.000000       recurrent   539.000000   6.0000   6.0000\n",
       "29261  Default   662.000000         cluster   662.000000   5.0000   5.0000\n",
       "26853  Default   619.000000          regret   619.000000   4.0000   4.0000\n",
       "10565  Default  2144.000000       inference  2144.000000   3.0000   3.0000\n",
       "24348  Default  1750.000000  classification  1750.000000   2.0000   2.0000\n",
       "18211  Default  1099.000000     convergence  1099.000000   1.0000   1.0000\n",
       "...        ...          ...             ...          ...      ...      ...\n",
       "11718   Topic7   101.100532   factorization   230.373094   1.6536  -6.4277\n",
       "21622   Topic7    84.757182            gene   183.367814   1.7055  -6.6040\n",
       "1779    Topic7    48.050598         nuclear    76.769939   2.0086  -7.1716\n",
       "27036   Topic7   209.605578         recover   755.785136   1.1947  -5.6986\n",
       "23500   Topic7   133.817201        pairwise   407.557422   1.3635  -6.1474\n",
       "12091   Topic7   263.475674        solution  1266.652223   0.9070  -5.4699\n",
       "908     Topic7    76.006814      preference   172.844427   1.6556  -6.7130\n",
       "1043    Topic7   143.345739            norm   541.887556   1.1474  -6.0786\n",
       "27872   Topic7   118.268465        matrices   398.094612   1.2635  -6.2709\n",
       "9150    Topic7   299.696545          number  2487.667153   0.3609  -5.3411\n",
       "18781   Topic7    71.674308         entries   160.189869   1.6730  -6.7717\n",
       "30334   Topic7   150.041153           noise   805.050961   0.7972  -6.0329\n",
       "31593   Topic7   223.694495       framework  1976.486681   0.2984  -5.6336\n",
       "31821   Topic7   214.611302        analysis  1819.808680   0.3395  -5.6750\n",
       "25612   Topic7   217.510232    optimization  2042.278746   0.2376  -5.6616\n",
       "7975    Topic7   156.251303         dynamic  1000.881824   0.6200  -5.9924\n",
       "21136   Topic7   143.021937           solve   827.948940   0.7212  -6.0808\n",
       "19914   Topic7   228.754865         dataset  3067.281577  -0.1187  -5.6112\n",
       "14841   Topic7   163.575845         require  1317.348499   0.3911  -5.9466\n",
       "20647   Topic7   158.409229           human  1248.696988   0.4125  -5.9787\n",
       "3424    Topic7   175.320444     application  1720.162546   0.1936  -5.8772\n",
       "24781   Topic7   190.132004            time  2179.165228   0.0382  -5.7961\n",
       "11617   Topic7   179.202460      experiment  2126.540611   0.0035  -5.8553\n",
       "17209   Topic7   175.157109           large  2381.243482  -0.1325  -5.8782\n",
       "13162   Topic7   147.155580         compare  1413.616453   0.2148  -6.0523\n",
       "27842   Topic7   165.319064       structure  2711.484422  -0.3202  -5.9360\n",
       "8055    Topic7   144.065367         machine  1325.740462   0.2577  -6.0736\n",
       "6786    Topic7   143.789445            case  1356.238559   0.2331  -6.0755\n",
       "4672    Topic7   148.565751     performance  2988.819481  -0.5244  -6.0428\n",
       "20997   Topic7   143.849751       efficient  1781.940857  -0.0395  -6.0751\n",
       "\n",
       "[620 rows x 6 columns], token_table=       Topic      Freq            Term\n",
       "term                                  \n",
       "17961      1  0.073319        accuracy\n",
       "17961      2  0.200101        accuracy\n",
       "17961      3  0.206975        accuracy\n",
       "17961      4  0.112270        accuracy\n",
       "17961      5  0.122963        accuracy\n",
       "17961      6  0.240580        accuracy\n",
       "17961      7  0.044297        accuracy\n",
       "3706       1  0.263957         achieve\n",
       "3706       2  0.086507         achieve\n",
       "3706       3  0.253975         achieve\n",
       "3706       4  0.120333         achieve\n",
       "3706       5  0.072644         achieve\n",
       "3706       6  0.155269         achieve\n",
       "3706       7  0.047690         achieve\n",
       "9020       1  0.226122          action\n",
       "9020       2  0.122979          action\n",
       "9020       3  0.506792          action\n",
       "9020       4  0.018844          action\n",
       "9020       5  0.044629          action\n",
       "9020       6  0.065456          action\n",
       "9020       7  0.015868          action\n",
       "15424      5  0.926679        activiti\n",
       "25130      1  0.028507        activity\n",
       "25130      2  0.134759        activity\n",
       "25130      3  0.067380        activity\n",
       "25130      4  0.028507        activity\n",
       "25130      5  0.458700        activity\n",
       "25130      6  0.147717        activity\n",
       "25130      7  0.132168        activity\n",
       "1328       1  0.052016      adaptation\n",
       "...      ...       ...             ...\n",
       "8544       5  0.047007          visual\n",
       "8544       6  0.081827          visual\n",
       "8544       7  0.026985          visual\n",
       "24548      5  0.925345      volatility\n",
       "24548      6  0.038556      volatility\n",
       "24548      7  0.038556      volatility\n",
       "24277      2  0.935781         volumes\n",
       "26487      2  0.939606             vqa\n",
       "26487      6  0.031320             vqa\n",
       "20529      3  0.045151       waveforms\n",
       "20529      7  0.903015       waveforms\n",
       "1894       1  0.924339  wellunderstood\n",
       "10154      5  0.960559             wgp\n",
       "32312      1  0.018339            wild\n",
       "32312      2  0.953649            wild\n",
       "32312      6  0.018339            wild\n",
       "13660      1  0.944700         winners\n",
       "11374      4  0.901879             wod\n",
       "12955      3  0.949828       wordlevel\n",
       "15171      1  0.943393           worst\n",
       "15171      5  0.012252           worst\n",
       "15171      6  0.024504           worst\n",
       "16665      1  0.829184       worstcase\n",
       "16665      2  0.014054       worstcase\n",
       "16665      3  0.007027       worstcase\n",
       "16665      4  0.042162       worstcase\n",
       "16665      5  0.021081       worstcase\n",
       "16665      6  0.056216       worstcase\n",
       "16665      7  0.028108       worstcase\n",
       "19428      7  0.947174              yu\n",
       "\n",
       "[2149 rows x 3 columns], R=30, lambda_step=0.01, plot_opts={'xlab': 'PC1', 'ylab': 'PC2'}, topic_order=[1, 2, 5, 7, 3, 4, 6])"
      ]
     },
     "execution_count": 1785,
     "metadata": {},
     "output_type": "execute_result"
    }
   ],
   "source": [
    "\n",
    "import pyLDAvis\n",
    "import pyLDAvis.gensim\n",
    "import sklearn \n",
    "pyLDAvis.enable_notebook()\n",
    "dictionary = corpora.Dictionary(text_all)\n",
    "corpus = [dictionary.doc2bow(text) for text in text_all]\n",
    "model = models.LdaModel(corpus, id2word=dictionary, num_topics=7)\n",
    "pyLDAvis.gensim.prepare(model, corpus, dictionary, mds=\"tsne\")\n"
   ]
  },
  {
   "cell_type": "code",
   "execution_count": 1005,
   "metadata": {
    "collapsed": true
   },
   "outputs": [],
   "source": [
    "pyLDAvis.save_html(viz, fileobj='test_viz.html')"
   ]
  },
  {
   "cell_type": "code",
   "execution_count": null,
   "metadata": {
    "collapsed": true
   },
   "outputs": [],
   "source": []
  }
 ],
 "metadata": {
  "anaconda-cloud": {},
  "kernelspec": {
   "display_name": "Python 2",
   "language": "python",
   "name": "python2"
  },
  "language_info": {
   "codemirror_mode": {
    "name": "ipython",
    "version": 2
   },
   "file_extension": ".py",
   "mimetype": "text/x-python",
   "name": "python",
   "nbconvert_exporter": "python",
   "pygments_lexer": "ipython2",
   "version": "2.7.12"
  }
 },
 "nbformat": 4,
 "nbformat_minor": 0
}
