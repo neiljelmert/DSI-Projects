{
 "cells": [
  {
   "cell_type": "markdown",
   "metadata": {},
   "source": [
    "<img src=\"http://imgur.com/1ZcRyrc.png\" style=\"float: left; margin: 15px; height: 80px\">\n",
    "\n",
    "# Project 4: Classification with Yelp, SGD, OOP"
   ]
  },
  {
   "cell_type": "markdown",
   "metadata": {},
   "source": [
    "## Yelp\n",
    "\n",
    "---\n",
    "\n",
    "In this project you will be investigating a small version of the [Yelp challenge dataset](https://www.yelp.com/dataset_challenge). You'll practice using classification algorithms, cross-validation, gridsearching – all that good stuff.\n",
    "\n",
    "---\n",
    "\n",
    "### The data\n",
    "\n",
    "There are 5 individual .csv files that have the information, zipped into .7z format like with the SF data last project. The dataset is located in your datasets folder:\n",
    "\n",
    "    DSI-SF-2/datasets/yelp_arizona_data.7z\n",
    "\n",
    "The columns in each are:\n",
    "\n",
    "    businesses_small_parsed.csv\n",
    "        business_id: unique business identifier\n",
    "        name: name of the business\n",
    "        review_count: number of reviews per business\n",
    "        city: city business resides in\n",
    "        stars: average rating\n",
    "        categories: categories the business falls into (can be one or multiple)\n",
    "        latitude\n",
    "        longitude\n",
    "        neighborhoods: neighborhoods business belongs to\n",
    "        variable: \"property\" of the business (a tag)\n",
    "        value: True/False for the property\n",
    "        \n",
    "    reviews_small_nlp_parsed.csv\n",
    "        user_id: unique user identifier\n",
    "        review_id: unique review identifier\n",
    "        votes.cool: how many thought the review was \"cool\"\n",
    "        business_id: unique business id the review is for\n",
    "        votes.funny: how many thought the review was funny\n",
    "        stars: rating given\n",
    "        date: date of review\n",
    "        votes.useful: how many thought the review was useful\n",
    "        ... 100 columns of counts of most common 2 word phrases that appear in reviews in this review\n",
    "        \n",
    "    users_small_parsed.csv\n",
    "        yelping_since: signup date\n",
    "        compliments.plain: # of compliments \"plain\"\n",
    "        review_count: # of reviews:\n",
    "        compliments.cute: total # of compliments \"cute\"\n",
    "        compliments.writer: # of compliments \"writer\"\n",
    "        compliments.note: # of compliments \"note\" (not sure what this is)\n",
    "        compliments.hot: # of compliments \"hot\" (?)\n",
    "        compliments.cool: # of compliments \"cool\"\n",
    "        compliments.profile: # of compliments \"profile\"\n",
    "        average_stars: average rating\n",
    "        compliments.more: # of compliments \"more\"\n",
    "        elite: years considered \"elite\"\n",
    "        name: user's name\n",
    "        user_id: unique user id\n",
    "        votes.cool: # of votes \"cool\"\n",
    "        compliments.list: # of compliments \"list\"\n",
    "        votes.funny: # of compliments \"funny\"\n",
    "        compliments.photos: # of compliments \"photos\"\n",
    "        compliments.funny: # of compliments \"funny\"\n",
    "        votes.useful: # of votes \"useful\"\n",
    "       \n",
    "    checkins_small_parsed.csv\n",
    "        business_id: unique business identifier\n",
    "        variable: day-time identifier of checkins (0-0 is Sunday 0:00 - 1:00am,  for example)\n",
    "        value: # of checkins at that time\n",
    "    \n",
    "    tips_small_nlp_parsed.csv\n",
    "        user_id: unique user identifier\n",
    "        business_id: unique business identifier\n",
    "        likes: likes that the tip has\n",
    "        date: date of tip\n",
    "        ... 100 columns of counts of most common 2 word phrases that appear in tips in this tip\n",
    "\n",
    "The reviews and tips datasets in particular have parsed \"NLP\" columns with counts of 2-word phrases in that review or tip (a \"tip\", it seems, is some kind of smaller review).\n",
    "\n",
    "The user dataset has a lot of columns of counts of different compliments and votes. I'm not sure whether the compliments or votes are _by_ the user or _for_ the user.\n",
    "\n",
    "---\n",
    "\n",
    "If you look at the website, or the full data, you'll see I have removed pieces of the data and cut it down quite a bit. This is to simplify it for this project. Specifically, business are limited to be in these cities:\n",
    "\n",
    "    Phoenix\n",
    "    Surprise\n",
    "    Las Vegas\n",
    "    Waterloo\n",
    "\n",
    "Apparently there is a city called \"Surprise\" in Arizona. \n",
    "\n",
    "Businesses are also restricted to at least be in one of the following categories, because I thought the mix of them was funny:\n",
    "\n",
    "    Airports\n",
    "    Breakfast & Brunch\n",
    "    Bubble Tea\n",
    "    Burgers\n",
    "    Bars\n",
    "    Bakeries\n",
    "    Breweries\n",
    "    Cafes\n",
    "    Candy Stores\n",
    "    Comedy Clubs\n",
    "    Courthouses\n",
    "    Dance Clubs\n",
    "    Fast Food\n",
    "    Museums\n",
    "    Tattoo\n",
    "    Vape Shops\n",
    "    Yoga\n",
    "    \n",
    "---\n",
    "\n",
    "### Project requirements\n",
    "\n",
    "**You will be performing 4 different sections of analysis, like in the last project.**\n",
    "\n",
    "Remember that classification targets are categorical and regression targets are continuous variables."
   ]
  },
  {
   "cell_type": "markdown",
   "metadata": {},
   "source": [
    "<img src=\"http://imgur.com/l5NasQj.png\" style=\"float: left; margin: 25px 15px 0px 0px; height: 25px\">\n",
    "\n",
    "## 1. Constructing a \"profile\" for Las Vegas\n",
    "\n",
    "---\n",
    "\n",
    "Yelp is interested in building out what they are calling \"profiles\" for cities. They want you to start with just Las Vegas to see what a prototype of this would look like. Essentially, they want to know what makes Las Vegas distinct from the other four.\n",
    "\n",
    "Use the data you have to predict Las Vegas from the other variables you have. You should not be predicting the city from any kind of location data or other data perfectly associated with that city (or another city).\n",
    "\n",
    "You may use any classification algorithm you deem appropriate, or even multiple models. You should:\n",
    "\n",
    "1. Build at least one model predicting Las Vegas vs. the other cities.\n",
    "- Validate your model(s).\n",
    "- Interpret and visualize, in some way, the results.\n",
    "- Write up a \"profile\" for Las Vegas. This should be a writeup converting your findings from the model(s) into a human-readable description of the city."
   ]
  },
  {
   "cell_type": "code",
   "execution_count": 92,
   "metadata": {
    "collapsed": false
   },
   "outputs": [
    {
     "name": "stderr",
     "output_type": "stream",
     "text": [
      "/Users/ga/anaconda/envs/dsi/lib/python2.7/site-packages/sklearn/grid_search.py:43: DeprecationWarning: This module was deprecated in version 0.18 in favor of the model_selection module into which all the refactored classes and functions are moved. This module will be removed in 0.20.\n",
      "  DeprecationWarning)\n"
     ]
    }
   ],
   "source": [
    "import pandas as pd\n",
    "import numpy as np\n",
    "import patsy\n",
    "\n",
    "from sklearn.linear_model import Ridge, Lasso, LinearRegression, RidgeCV, LassoCV,LogisticRegression\n",
    "from sklearn.neighbors import KNeighborsClassifier\n",
    "from sklearn.cross_validation import cross_val_score\n",
    "from sklearn.preprocessing import MultiLabelBinarizer\n",
    "from sklearn.multiclass import OneVsRestClassifier\n",
    "from sklearn.svm import LinearSVC\n",
    "from sklearn.ensemble import RandomForestClassifier\n",
    "from sklearn.multioutput import MultiOutputClassifier\n",
    "from sklearn.model_selection import train_test_split\n",
    "from sklearn.grid_search import GridSearchCV\n",
    "from sklearn import cross_validation\n",
    "\n",
    "import statsmodels.formula.api as sm\n",
    "\n",
    "import matplotlib\n",
    "import matplotlib.pyplot as plt\n",
    "import seaborn as sns\n",
    "\n",
    "import itertools\n",
    "plt.style.use('fivethirtyeight')\n",
    "\n",
    "%config InlineBackend.figure_format = 'retina'\n",
    "%matplotlib inline"
   ]
  },
  {
   "cell_type": "code",
   "execution_count": 2,
   "metadata": {
    "collapsed": false
   },
   "outputs": [],
   "source": [
    "business = pd.read_csv(\"/Users/ga/Desktop/Yelp/yelp_arizona_data/businesses_small_parsed.csv\")\n",
    "reviews = pd.read_csv(\"/Users/ga/Desktop/Yelp/yelp_arizona_data/reviews_small_nlp_parsed.csv\")\n",
    "users = pd.read_csv(\"/Users/ga/Desktop/Yelp/yelp_arizona_data/users_small_parsed.csv\")\n",
    "tips = pd.read_csv(\"/Users/ga/Desktop/Yelp/yelp_arizona_data/tips_small_nlp_parsed.csv\")\n",
    "checkins = pd.read_csv(\"/Users/ga/Desktop/Yelp/yelp_arizona_data/checkins_small_parsed.csv\")"
   ]
  },
  {
   "cell_type": "code",
   "execution_count": 3,
   "metadata": {
    "collapsed": true
   },
   "outputs": [],
   "source": [
    "bus_samp = business.iloc[::20,:]\n",
    "rev_samp = reviews.iloc[::20,:]\n",
    "users_samp = users.iloc[::20,:]\n",
    "tips_samp = tips.iloc[::20,:]\n",
    "check_samp = checkins.iloc[::20,:]"
   ]
  },
  {
   "cell_type": "code",
   "execution_count": 520,
   "metadata": {
    "collapsed": true
   },
   "outputs": [],
   "source": [
    "bus_samp_copy = bus_samp.copy()\n",
    "rev_samp_copy = rev_samp.copy()\n",
    "users_samp_copy = users_samp.copy()\n",
    "tips_samp_copy = tips_samp.copy()\n",
    "check_samp_copy = check_samp.copy()"
   ]
  },
  {
   "cell_type": "code",
   "execution_count": 521,
   "metadata": {
    "collapsed": false
   },
   "outputs": [
    {
     "data": {
      "text/plain": [
       "(7642, 11)"
      ]
     },
     "execution_count": 521,
     "metadata": {},
     "output_type": "execute_result"
    }
   ],
   "source": [
    "bus_samp_copy.shape"
   ]
  },
  {
   "cell_type": "code",
   "execution_count": 542,
   "metadata": {
    "collapsed": false
   },
   "outputs": [
    {
     "data": {
      "text/html": [
       "<div>\n",
       "<table border=\"1\" class=\"dataframe\">\n",
       "  <thead>\n",
       "    <tr style=\"text-align: right;\">\n",
       "      <th></th>\n",
       "      <th>business_id</th>\n",
       "      <th>name</th>\n",
       "      <th>review_count</th>\n",
       "      <th>city</th>\n",
       "      <th>stars</th>\n",
       "      <th>categories</th>\n",
       "      <th>var_val</th>\n",
       "    </tr>\n",
       "  </thead>\n",
       "  <tbody>\n",
       "    <tr>\n",
       "      <th>0</th>\n",
       "      <td>EmzaQR5hQlF0WIl24NxAZA</td>\n",
       "      <td>Sky Lounge</td>\n",
       "      <td>25</td>\n",
       "      <td>0</td>\n",
       "      <td>2.5</td>\n",
       "      <td>['American (New)', 'Nightlife', 'Dance Clubs',...</td>\n",
       "      <td>Ambience divey: False</td>\n",
       "    </tr>\n",
       "    <tr>\n",
       "      <th>20</th>\n",
       "      <td>tb24fvNJfHhyKEXkKn12Xw</td>\n",
       "      <td>Welcome Diner</td>\n",
       "      <td>434</td>\n",
       "      <td>0</td>\n",
       "      <td>4.5</td>\n",
       "      <td>['Nightlife', 'Bars', 'American (Traditional)'...</td>\n",
       "      <td>Ambience divey: False</td>\n",
       "    </tr>\n",
       "    <tr>\n",
       "      <th>40</th>\n",
       "      <td>zZmhEpiVpRfFQid87-pcOQ</td>\n",
       "      <td>Dairy Queen</td>\n",
       "      <td>22</td>\n",
       "      <td>0</td>\n",
       "      <td>3.5</td>\n",
       "      <td>['Food', 'Ice Cream &amp; Frozen Yogurt', 'Fast Fo...</td>\n",
       "      <td>Ambience divey: False</td>\n",
       "    </tr>\n",
       "    <tr>\n",
       "      <th>60</th>\n",
       "      <td>jSEcE8AY-mzGq9EOiyrtng</td>\n",
       "      <td>Europa Pastry Cafe</td>\n",
       "      <td>37</td>\n",
       "      <td>0</td>\n",
       "      <td>4.5</td>\n",
       "      <td>['Bakeries', 'Food', 'Polish', 'Restaurants']</td>\n",
       "      <td>Ambience divey: False</td>\n",
       "    </tr>\n",
       "    <tr>\n",
       "      <th>80</th>\n",
       "      <td>R8VwdLyvsp9iybNqRvm94g</td>\n",
       "      <td>La Grande Orange Grocery</td>\n",
       "      <td>651</td>\n",
       "      <td>0</td>\n",
       "      <td>4.0</td>\n",
       "      <td>['Food', 'Bakeries', 'Grocery']</td>\n",
       "      <td>Ambience divey: False</td>\n",
       "    </tr>\n",
       "  </tbody>\n",
       "</table>\n",
       "</div>"
      ],
      "text/plain": [
       "               business_id                      name  review_count  city  \\\n",
       "0   EmzaQR5hQlF0WIl24NxAZA                Sky Lounge            25     0   \n",
       "20  tb24fvNJfHhyKEXkKn12Xw             Welcome Diner           434     0   \n",
       "40  zZmhEpiVpRfFQid87-pcOQ               Dairy Queen            22     0   \n",
       "60  jSEcE8AY-mzGq9EOiyrtng        Europa Pastry Cafe            37     0   \n",
       "80  R8VwdLyvsp9iybNqRvm94g  La Grande Orange Grocery           651     0   \n",
       "\n",
       "    stars                                         categories  \\\n",
       "0     2.5  ['American (New)', 'Nightlife', 'Dance Clubs',...   \n",
       "20    4.5  ['Nightlife', 'Bars', 'American (Traditional)'...   \n",
       "40    3.5  ['Food', 'Ice Cream & Frozen Yogurt', 'Fast Fo...   \n",
       "60    4.5      ['Bakeries', 'Food', 'Polish', 'Restaurants']   \n",
       "80    4.0                    ['Food', 'Bakeries', 'Grocery']   \n",
       "\n",
       "                  var_val  \n",
       "0   Ambience divey: False  \n",
       "20  Ambience divey: False  \n",
       "40  Ambience divey: False  \n",
       "60  Ambience divey: False  \n",
       "80  Ambience divey: False  "
      ]
     },
     "execution_count": 542,
     "metadata": {},
     "output_type": "execute_result"
    }
   ],
   "source": [
    "bus_samp_copy.head()"
   ]
  },
  {
   "cell_type": "code",
   "execution_count": 522,
   "metadata": {
    "collapsed": false
   },
   "outputs": [
    {
     "data": {
      "text/plain": [
       "Index([u'business_id', u'name', u'review_count', u'city', u'stars',\n",
       "       u'categories', u'latitude', u'longitude', u'neighborhoods', u'variable',\n",
       "       u'value'],\n",
       "      dtype='object')"
      ]
     },
     "execution_count": 522,
     "metadata": {},
     "output_type": "execute_result"
    }
   ],
   "source": [
    "bus_samp_copy.columns"
   ]
  },
  {
   "cell_type": "code",
   "execution_count": 523,
   "metadata": {
    "collapsed": false
   },
   "outputs": [],
   "source": [
    "bus_samp_copy = bus_samp_copy.drop([\"latitude\", \"longitude\", \"neighborhoods\"], axis = 1)"
   ]
  },
  {
   "cell_type": "code",
   "execution_count": 524,
   "metadata": {
    "collapsed": true
   },
   "outputs": [],
   "source": [
    "bus_samp_copy[\"variable\"] = bus_samp_copy[\"variable\"].apply(lambda x: x.split(\".\")[1:])"
   ]
  },
  {
   "cell_type": "code",
   "execution_count": 525,
   "metadata": {
    "collapsed": false
   },
   "outputs": [],
   "source": [
    "bus_samp_copy = bus_samp_copy[bus_samp_copy.astype(str)['variable'] != '[]']"
   ]
  },
  {
   "cell_type": "code",
   "execution_count": null,
   "metadata": {
    "collapsed": true
   },
   "outputs": [],
   "source": []
  },
  {
   "cell_type": "code",
   "execution_count": 527,
   "metadata": {
    "collapsed": false
   },
   "outputs": [
    {
     "data": {
      "text/plain": [
       "(7435, 8)"
      ]
     },
     "execution_count": 527,
     "metadata": {},
     "output_type": "execute_result"
    }
   ],
   "source": [
    "bus_samp_copy.shape"
   ]
  },
  {
   "cell_type": "code",
   "execution_count": 528,
   "metadata": {
    "collapsed": false
   },
   "outputs": [],
   "source": [
    "bus_samp_c3 = bus_samp_copy #save for later in 3"
   ]
  },
  {
   "cell_type": "code",
   "execution_count": 531,
   "metadata": {
    "collapsed": false
   },
   "outputs": [],
   "source": [
    "bus_samp_copy[\"city\"] = bus_samp_copy[\"city\"].apply(lambda x: 1 if x == \"Las Vegas\" else 0)"
   ]
  },
  {
   "cell_type": "code",
   "execution_count": 532,
   "metadata": {
    "collapsed": false
   },
   "outputs": [],
   "source": [
    "#bus_samp_copy.head()"
   ]
  },
  {
   "cell_type": "code",
   "execution_count": null,
   "metadata": {
    "collapsed": false
   },
   "outputs": [],
   "source": []
  },
  {
   "cell_type": "code",
   "execution_count": 533,
   "metadata": {
    "collapsed": false
   },
   "outputs": [],
   "source": [
    "pairs = []\n",
    "for pair in zip(bus_samp_copy[\"variable\"], bus_samp_copy[\"value\"]):\n",
    "    if len(pair[0]) > 1:\n",
    "        pair = ' '.join(pair[0]) + \": \" + pair[1]\n",
    "        pairs.append(pair)\n",
    "    else:\n",
    "        pair = str(pair[0][0]) + \": \" + str(pair[1])\n",
    "        pairs.append(pair)\n",
    "bus_samp_copy[\"var_val\"] = pairs"
   ]
  },
  {
   "cell_type": "code",
   "execution_count": 534,
   "metadata": {
    "collapsed": false
   },
   "outputs": [],
   "source": [
    "bus_samp_copy = bus_samp_copy.drop([\"variable\", \"value\"], axis=1)"
   ]
  },
  {
   "cell_type": "code",
   "execution_count": 535,
   "metadata": {
    "collapsed": false
   },
   "outputs": [],
   "source": [
    "#bus_samp_copy.head()"
   ]
  },
  {
   "cell_type": "code",
   "execution_count": null,
   "metadata": {
    "collapsed": true
   },
   "outputs": [],
   "source": []
  },
  {
   "cell_type": "code",
   "execution_count": 536,
   "metadata": {
    "collapsed": false
   },
   "outputs": [],
   "source": [
    "categories = bus_samp_copy[\"categories\"].apply(eval)"
   ]
  },
  {
   "cell_type": "code",
   "execution_count": 556,
   "metadata": {
    "collapsed": false
   },
   "outputs": [
    {
     "data": {
      "text/plain": [
       "0         [American (New), Nightlife, Dance Clubs, Resta...\n",
       "20        [Nightlife, Bars, American (Traditional), Dine...\n",
       "40        [Food, Ice Cream & Frozen Yogurt, Fast Food, R...\n",
       "60                    [Bakeries, Food, Polish, Restaurants]\n",
       "80                                [Food, Bakeries, Grocery]\n",
       "100                       [Burgers, Fast Food, Restaurants]\n",
       "120       [Arts & Entertainment, Music Venues, Bars, Dan...\n",
       "140                          [Bars, Sports Bars, Nightlife]\n",
       "160       [Breakfast & Brunch, American (Traditional), R...\n",
       "180       [Burgers, American (Traditional), Diners, Rest...\n",
       "200                    [Fast Food, Sandwiches, Restaurants]\n",
       "220                       [Fast Food, Mexican, Restaurants]\n",
       "240              [Fast Food, Mexican, Tex-Mex, Restaurants]\n",
       "260                       [Breakfast & Brunch, Restaurants]\n",
       "280       [Pizza, Bars, Restaurants, Sports Bars, Nightl...\n",
       "300                       [Fast Food, Mexican, Restaurants]\n",
       "320       [Food, American (Traditional), Breweries, Rest...\n",
       "340                                [Fast Food, Restaurants]\n",
       "360       [Burgers, American (Traditional), Hot Dogs, Re...\n",
       "380                 [Fast Food, Chicken Wings, Restaurants]\n",
       "400                                  [Burgers, Restaurants]\n",
       "420                                       [Bars, Nightlife]\n",
       "440                                [Fast Food, Restaurants]\n",
       "460       [Burgers, American (Traditional), Fast Food, R...\n",
       "480       [Food, Sandwiches, Bagels, Breakfast & Brunch,...\n",
       "500       [Bars, Cafes, Cocktail Bars, Nightlife, Restau...\n",
       "520                            [Dive Bars, Bars, Nightlife]\n",
       "540        [Fast Food, American (Traditional), Restaurants]\n",
       "560                                [Fast Food, Restaurants]\n",
       "580                                       [Bars, Nightlife]\n",
       "                                ...                        \n",
       "152240     [Bars, Mexican, Nightlife, Karaoke, Restaurants]\n",
       "152260           [Fast Food, Mexican, Tex-Mex, Restaurants]\n",
       "152280    [Bakeries, Food, Coffee & Tea, Gluten-Free, Re...\n",
       "152300                 [Bakeries, Food, Cafes, Restaurants]\n",
       "152320              [Nightlife, Seafood, Bars, Restaurants]\n",
       "152340    [Dive Bars, Bars, Cocktail Bars, Sports Bars, ...\n",
       "152360    [Bars, Wine Bars, Cocktail Bars, Nightlife, Am...\n",
       "152380                                    [Bars, Nightlife]\n",
       "152400    [Food, Desserts, Coffee & Tea, Cafes, Restaura...\n",
       "152420                                    [Food, Breweries]\n",
       "152440          [Delis, Fast Food, Sandwiches, Restaurants]\n",
       "152460    [Nightlife, Bars, American (Traditional), Spor...\n",
       "152480                               [Burgers, Restaurants]\n",
       "152500    [Bars, Mexican, Tapas/Small Plates, Cocktail B...\n",
       "152520       [Food, American (New), Breweries, Restaurants]\n",
       "152540     [Burgers, American (New), Hot Dogs, Restaurants]\n",
       "152560    [Breakfast & Brunch, American (Traditional), R...\n",
       "152580    [Bars, Pubs, Nightlife, American (New), Sports...\n",
       "152600                       [Bars, Hookah Bars, Nightlife]\n",
       "152620                              [Pubs, Bars, Nightlife]\n",
       "152640    [Bars, American (Traditional), Nightlife, Rest...\n",
       "152660               [Burgers, American (New), Restaurants]\n",
       "152680    [Pubs, Bars, American (Traditional), Nightlife...\n",
       "152700    [Burgers, Breakfast & Brunch, American (Tradit...\n",
       "152720    [Food, Juice Bars & Smoothies, Cafes, Internet...\n",
       "152740    [Food, Tea Rooms, Coffee & Tea, Cafes, Restaur...\n",
       "152760    [Burgers, American (Traditional), Cafes, Resta...\n",
       "152780        [Breakfast & Brunch, Sandwiches, Restaurants]\n",
       "152800    [Burgers, Sandwiches, Chicken Wings, Restaurants]\n",
       "152820    [Food, Burgers, American (Traditional), Ice Cr...\n",
       "Name: categories, dtype: object"
      ]
     },
     "execution_count": 556,
     "metadata": {},
     "output_type": "execute_result"
    }
   ],
   "source": [
    "categories"
   ]
  },
  {
   "cell_type": "code",
   "execution_count": 537,
   "metadata": {
    "collapsed": false
   },
   "outputs": [],
   "source": [
    "import itertools\n",
    "bus_samp_copy2 = bus_samp_copy.copy()\n",
    "bus_samp_copy2[\"categories\"] = categories\n",
    "unique_categories = set(list(itertools.chain(*categories.tolist())))"
   ]
  },
  {
   "cell_type": "code",
   "execution_count": 538,
   "metadata": {
    "collapsed": false
   },
   "outputs": [],
   "source": [
    "#unique_categories"
   ]
  },
  {
   "cell_type": "code",
   "execution_count": 539,
   "metadata": {
    "collapsed": false
   },
   "outputs": [],
   "source": [
    "given_cats = ['Airports', 'Breakfast & Brunch', 'Bubble Tea', 'Burgers', 'Bars', 'Bakeries', 'Breweries',\n",
    "             'Cafes', 'Candy Stores', 'Comedy Clubs', 'Courthouses', 'Dance Clubs', 'Fast Food', \n",
    "             'Museums', 'Tattoo', 'Vape Shops', 'Yoga']\n",
    "\n",
    "for cat in given_cats:\n",
    "    bus_samp_copy2[cat] = bus_samp_copy2[\"categories\"].apply(lambda x: 1 if cat in x else 0)\n"
   ]
  },
  {
   "cell_type": "code",
   "execution_count": 464,
   "metadata": {
    "collapsed": false
   },
   "outputs": [],
   "source": [
    "#bus_samp_copy2.head()"
   ]
  },
  {
   "cell_type": "code",
   "execution_count": 540,
   "metadata": {
    "collapsed": true
   },
   "outputs": [],
   "source": [
    "bus_samp_c3 = bus_samp_copy2 #save for 3"
   ]
  },
  {
   "cell_type": "code",
   "execution_count": 465,
   "metadata": {
    "collapsed": true
   },
   "outputs": [],
   "source": [
    "bus_samp_copy2 = bus_samp_copy2.drop(\"categories\", axis=1)"
   ]
  },
  {
   "cell_type": "code",
   "execution_count": 466,
   "metadata": {
    "collapsed": false
   },
   "outputs": [],
   "source": [
    "bus_samp_copy2 = bus_samp_copy2.drop(\"name\", axis=1)"
   ]
  },
  {
   "cell_type": "code",
   "execution_count": 467,
   "metadata": {
    "collapsed": true
   },
   "outputs": [],
   "source": [
    "dum = pd.get_dummies(bus_samp_copy2.iloc[:,1:])"
   ]
  },
  {
   "cell_type": "code",
   "execution_count": 468,
   "metadata": {
    "collapsed": false
   },
   "outputs": [],
   "source": [
    "bus_samp_copy2_dum = pd.concat([bus_samp_copy2[\"business_id\"], dum], axis=1)"
   ]
  },
  {
   "cell_type": "code",
   "execution_count": 469,
   "metadata": {
    "collapsed": false
   },
   "outputs": [],
   "source": [
    "#bus_samp_copy2_dum.head()"
   ]
  },
  {
   "cell_type": "code",
   "execution_count": 558,
   "metadata": {
    "collapsed": false
   },
   "outputs": [],
   "source": [
    "cat_list = list(itertools.chain(categories.tolist()))"
   ]
  },
  {
   "cell_type": "code",
   "execution_count": 560,
   "metadata": {
    "collapsed": false
   },
   "outputs": [],
   "source": [
    "from sklearn.preprocessing import MultiLabelBinarizer"
   ]
  },
  {
   "cell_type": "code",
   "execution_count": 562,
   "metadata": {
    "collapsed": false
   },
   "outputs": [],
   "source": [
    "multi_bin = MultiLabelBinarizer().fit_transform(cat_list)"
   ]
  },
  {
   "cell_type": "code",
   "execution_count": 566,
   "metadata": {
    "collapsed": false
   },
   "outputs": [
    {
     "data": {
      "text/plain": [
       "(7435, 184)"
      ]
     },
     "execution_count": 566,
     "metadata": {},
     "output_type": "execute_result"
    }
   ],
   "source": [
    "multi_bin.shape"
   ]
  },
  {
   "cell_type": "code",
   "execution_count": null,
   "metadata": {
    "collapsed": false
   },
   "outputs": [],
   "source": []
  },
  {
   "cell_type": "code",
   "execution_count": 470,
   "metadata": {
    "collapsed": false
   },
   "outputs": [],
   "source": [
    "#tips_samp_copy.columns"
   ]
  },
  {
   "cell_type": "code",
   "execution_count": 471,
   "metadata": {
    "collapsed": true
   },
   "outputs": [],
   "source": [
    "tips_samp_copy = tips_samp_copy.drop([\"user_id\", \"date\", \"likes\"], axis=1)"
   ]
  },
  {
   "cell_type": "code",
   "execution_count": 472,
   "metadata": {
    "collapsed": false
   },
   "outputs": [],
   "source": [
    "#tips_samp_copy.head()"
   ]
  },
  {
   "cell_type": "code",
   "execution_count": 473,
   "metadata": {
    "collapsed": false
   },
   "outputs": [],
   "source": [
    "#rev_samp_copy.columns"
   ]
  },
  {
   "cell_type": "code",
   "execution_count": 474,
   "metadata": {
    "collapsed": false
   },
   "outputs": [],
   "source": [
    "rev_samp_copy = rev_samp_copy.drop([\"review_id\", \"user_id\", \"votes.cool\", \"votes.funny\", \"date\",\n",
    "                         \"votes.useful\"], axis=1)"
   ]
  },
  {
   "cell_type": "code",
   "execution_count": 475,
   "metadata": {
    "collapsed": false
   },
   "outputs": [],
   "source": [
    "#rev_samp_copy.head()"
   ]
  },
  {
   "cell_type": "code",
   "execution_count": 476,
   "metadata": {
    "collapsed": false
   },
   "outputs": [],
   "source": [
    "tips_rev_merge = pd.merge(tips_samp_copy, rev_samp_copy, how = \"inner\", on = \"business_id\")"
   ]
  },
  {
   "cell_type": "code",
   "execution_count": null,
   "metadata": {
    "collapsed": false
   },
   "outputs": [],
   "source": []
  },
  {
   "cell_type": "code",
   "execution_count": null,
   "metadata": {
    "collapsed": false
   },
   "outputs": [],
   "source": []
  },
  {
   "cell_type": "code",
   "execution_count": 477,
   "metadata": {
    "collapsed": false
   },
   "outputs": [
    {
     "data": {
      "text/plain": [
       "(133306, 202)"
      ]
     },
     "execution_count": 477,
     "metadata": {},
     "output_type": "execute_result"
    }
   ],
   "source": [
    "tips_rev_merge.shape"
   ]
  },
  {
   "cell_type": "code",
   "execution_count": null,
   "metadata": {
    "collapsed": false
   },
   "outputs": [],
   "source": []
  },
  {
   "cell_type": "code",
   "execution_count": null,
   "metadata": {
    "collapsed": false
   },
   "outputs": [],
   "source": []
  },
  {
   "cell_type": "code",
   "execution_count": 481,
   "metadata": {
    "collapsed": false
   },
   "outputs": [],
   "source": [
    "big_merge = pd.merge(tips_rev_merge, bus_samp_copy2_dum, how = \"inner\", on = \"business_id\")"
   ]
  },
  {
   "cell_type": "code",
   "execution_count": 482,
   "metadata": {
    "collapsed": false
   },
   "outputs": [],
   "source": [
    "#big_merge.head()"
   ]
  },
  {
   "cell_type": "code",
   "execution_count": 483,
   "metadata": {
    "collapsed": true
   },
   "outputs": [],
   "source": [
    "big_merge_ = big_merge.drop(\"business_id\", axis=1)"
   ]
  },
  {
   "cell_type": "code",
   "execution_count": 484,
   "metadata": {
    "collapsed": true
   },
   "outputs": [],
   "source": [
    "# remove columns which contain \"vegas\" \n",
    "big_merge_ = big_merge_[[col for col in big_merge_.columns if not 'vegas' in col]]"
   ]
  },
  {
   "cell_type": "code",
   "execution_count": 485,
   "metadata": {
    "collapsed": true
   },
   "outputs": [],
   "source": [
    "y = big_merge_[\"city\"]\n",
    "X = big_merge_.loc[:, big_merge_.columns != \"city\"]"
   ]
  },
  {
   "cell_type": "code",
   "execution_count": 486,
   "metadata": {
    "collapsed": false
   },
   "outputs": [
    {
     "data": {
      "text/plain": [
       "LogisticRegression(C=1.0, class_weight=None, dual=False, fit_intercept=True,\n",
       "          intercept_scaling=1, max_iter=100, multi_class='ovr', n_jobs=1,\n",
       "          penalty='l2', random_state=None, solver='liblinear', tol=0.0001,\n",
       "          verbose=0, warm_start=False)"
      ]
     },
     "execution_count": 486,
     "metadata": {},
     "output_type": "execute_result"
    }
   ],
   "source": [
    "vegas_logreg = LogisticRegression()\n",
    "\n",
    "vegas_cv_logreg = cross_val_score(vegas_logreg, X, y, cv = 10, scoring = \"accuracy\")\n",
    "\n",
    "vegas_cv_logreg.mean(), vegas_cv_logreg.std()\n",
    "\n",
    "vegas_logreg.fit(X, y)"
   ]
  },
  {
   "cell_type": "code",
   "execution_count": 487,
   "metadata": {
    "collapsed": false
   },
   "outputs": [
    {
     "data": {
      "text/plain": [
       "(0.83746731733513469, 0.055606083467578851)"
      ]
     },
     "execution_count": 487,
     "metadata": {},
     "output_type": "execute_result"
    }
   ],
   "source": [
    "vegas_cv_logreg.mean(), vegas_cv_logreg.std()"
   ]
  },
  {
   "cell_type": "code",
   "execution_count": 489,
   "metadata": {
    "collapsed": false
   },
   "outputs": [
    {
     "data": {
      "text/plain": [
       "[(1.9049815722212426, 'var_val_Sunday open: 00:00'),\n",
       " (1.8579900214536751, 'Dance Clubs'),\n",
       " (1.1669187266556702, 'Fast Food'),\n",
       " (1.1388417453206625, 'var_val_Ambience touristy: False'),\n",
       " (1.1128842408059849, 'var_val_Ambience romantic: False'),\n",
       " (1.0568873283061766, 'var_val_Parking street: False'),\n",
       " (0.98137466261617279, 'var_val_Coat Check: False'),\n",
       " (0.94486591682033894, 'var_val_Ambience classy: False'),\n",
       " (0.7847386344965519, 'var_val_Thursday close: 15:00'),\n",
       " (0.74134867129407023, 'var_val_Ambience upscale: False'),\n",
       " (0.72203757771097166, 'Candy Stores'),\n",
       " (0.71945104849193886, 'var_val_Sunday close: 00:00'),\n",
       " (0.71795169702413919, 'dance floor'),\n",
       " (0.7141195843300856, 'var_val_Good For lunch: False'),\n",
       " (0.6948386993618626, 'var_val_Parking valet: False'),\n",
       " (0.68586091759032519, 'var_val_Ambience casual: True'),\n",
       " (0.65292200246466703, 'var_val_Caters: False'),\n",
       " (0.61155546726955323, 'food service_x'),\n",
       " (0.60672452395589405, 'var_val_Music dj: True'),\n",
       " (0.5550673875562574, 'var_val_Sunday close: 01:15'),\n",
       " (0.5550673875562574, 'var_val_Thursday close: 01:15'),\n",
       " (0.55417475289395801, 'var_val_Good For dinner: False'),\n",
       " (0.54542601174757499, 'red velvet_y'),\n",
       " (0.53914378322474243, 'var_val_Tuesday open: 00:00'),\n",
       " (0.5305834366916522, 'var_val_Good for Kids: True')]"
      ]
     },
     "execution_count": 489,
     "metadata": {},
     "output_type": "execute_result"
    }
   ],
   "source": [
    "myzip = zip(vegas_logreg.coef_[0], X.columns)\n",
    "myzip.sort(key=lambda x: x[0], reverse=True)\n",
    "myzip[:25]"
   ]
  },
  {
   "cell_type": "code",
   "execution_count": null,
   "metadata": {
    "collapsed": false
   },
   "outputs": [],
   "source": []
  },
  {
   "cell_type": "code",
   "execution_count": null,
   "metadata": {
    "collapsed": false
   },
   "outputs": [],
   "source": []
  },
  {
   "cell_type": "markdown",
   "metadata": {},
   "source": [
    "<img src=\"http://imgur.com/l5NasQj.png\" style=\"float: left; margin: 25px 15px 0px 0px; height: 25px\">\n",
    "\n",
    "## 2. Different categories of ratings\n",
    "\n",
    "---\n",
    "\n",
    "Yelp is finally ready to admit that their rating system sucks. No one cares about the ratings, they just use the site to find out what's nearby. The ratings are simply too unreliable for people. \n",
    "\n",
    "Yelp hypothesizes that this is, in fact, because different people tend to give their ratings based on different things. They believe that perhaps some people always base their ratings on quality of food, others on service, and perhaps other categories as well. \n",
    "\n",
    "1. Do some users tend to talk about service more than others in reviews/tips? Divide up the tips/reviews into more \"service-focused\" ones and those less concerned with service.\n",
    "2. Create two new ratings for businesses: ratings from just the service-focused reviews and ratings from the non-service reviews.\n",
    "3. Construct a regression model for each of the two ratings. They should use the same predictor variables (of your choice). \n",
    "4. Validate the performance of the models.\n",
    "5. Do the models coefficients differ at all? What does this tell you about the hypothesis that there are in fact two different kinds of ratings?"
   ]
  },
  {
   "cell_type": "code",
   "execution_count": 490,
   "metadata": {
    "collapsed": false
   },
   "outputs": [],
   "source": [
    "rev_sampc2 = rev_samp\n",
    "users_sampc2 = users_samp\n",
    "tips_sampc2 = tips_samp\n",
    "bus_sampc2 = bus_samp"
   ]
  },
  {
   "cell_type": "code",
   "execution_count": 491,
   "metadata": {
    "collapsed": false
   },
   "outputs": [
    {
     "data": {
      "text/plain": [
       "(5100, 104)"
      ]
     },
     "execution_count": 491,
     "metadata": {},
     "output_type": "execute_result"
    }
   ],
   "source": [
    "tips_sampc2.shape"
   ]
  },
  {
   "cell_type": "code",
   "execution_count": 492,
   "metadata": {
    "collapsed": true
   },
   "outputs": [],
   "source": [
    "bus_sampc2 = bus_sampc2.drop([\"name\", \"city\", \"latitude\", \"longitude\", \"neighborhoods\"], axis=1)"
   ]
  },
  {
   "cell_type": "code",
   "execution_count": 493,
   "metadata": {
    "collapsed": false
   },
   "outputs": [],
   "source": [
    "bus_sampc2 = bus_sampc2.drop(\"categories\", axis=1)"
   ]
  },
  {
   "cell_type": "code",
   "execution_count": 494,
   "metadata": {
    "collapsed": false
   },
   "outputs": [
    {
     "data": {
      "text/plain": [
       "Index([u'business_id', u'review_count', u'stars', u'variable', u'value'], dtype='object')"
      ]
     },
     "execution_count": 494,
     "metadata": {},
     "output_type": "execute_result"
    }
   ],
   "source": [
    "bus_sampc2.columns"
   ]
  },
  {
   "cell_type": "code",
   "execution_count": 495,
   "metadata": {
    "collapsed": true
   },
   "outputs": [],
   "source": [
    "tips_sampc2 = tips_sampc2.drop([\"likes\", \"date\"], axis=1)"
   ]
  },
  {
   "cell_type": "code",
   "execution_count": 496,
   "metadata": {
    "collapsed": true
   },
   "outputs": [],
   "source": [
    "rev_sampc2 = rev_sampc2.drop([\"votes.cool\", \"review_id\", \"votes.funny\",\n",
    "                             \"stars\", \"date\", \"votes.useful\"], axis=1)"
   ]
  },
  {
   "cell_type": "code",
   "execution_count": 497,
   "metadata": {
    "collapsed": true
   },
   "outputs": [],
   "source": [
    "tips_sampc2.columns = [col + \"_tip\" for col in tips_sampc2.columns]"
   ]
  },
  {
   "cell_type": "code",
   "execution_count": null,
   "metadata": {
    "collapsed": false
   },
   "outputs": [],
   "source": []
  },
  {
   "cell_type": "code",
   "execution_count": 498,
   "metadata": {
    "collapsed": false
   },
   "outputs": [],
   "source": [
    "tips_sampc2 = tips_sampc2.rename(columns = {\"user_id_tip\": \"user_id\"})"
   ]
  },
  {
   "cell_type": "code",
   "execution_count": 499,
   "metadata": {
    "collapsed": false
   },
   "outputs": [],
   "source": [
    "#tips_sampc2.head()"
   ]
  },
  {
   "cell_type": "code",
   "execution_count": 500,
   "metadata": {
    "collapsed": false
   },
   "outputs": [],
   "source": [
    "service_cols_rev = [\"10 minutes\",\n",
    "               \"15 minutes\",\n",
    "               \"30 minutes\",\n",
    "               \"bottle service\",\n",
    "               \"customer service\",\n",
    "               \"dance floor\",\n",
    "               \"fast food\",\n",
    "               \"friendly staff\",\n",
    "               \"good service\",\n",
    "                \"great atmosphere\",\n",
    "                \"great service\",\n",
    "                \"hip hop\",\n",
    "                \"minutes later\",\n",
    "                \"right away\",\n",
    "                \"service excellent\",\n",
    "                \"service friendly\",\n",
    "                \"service good\",\n",
    "                \"service great\",\n",
    "                \"staff friendly\",\n",
    "                \"super friendly\",\n",
    "                \"wait staff\"\n",
    "                 ]\n",
    "\n",
    "food_cols_rev = [\"bar food\",\n",
    "             \"beer selection\",\n",
    "             \"bloody mary\",\n",
    "             \"chicken waffles\",\n",
    "              \"eggs benedict\",\n",
    "              \"fish chips\",\n",
    "              \"food amazing\",\n",
    "              \"food delicious\",\n",
    "              \"food good\",\n",
    "              \"food great\",\n",
    "              \"french fries\",\n",
    "              \"french toast\",\n",
    "              \"fried chicken\",\n",
    "              \"good food\",\n",
    "              \"great food\",\n",
    "              \"hash browns\",\n",
    "              \"ice cream\",\n",
    "              \"mac cheese\",\n",
    "              \"mashed potatoes\",\n",
    "              \"medium rare\",\n",
    "              \"onion rings\",\n",
    "              \"potato fries\",\n",
    "              \"quality food\",\n",
    "              \"red velvet\",\n",
    "              \"tasted like\",\n",
    "              \"sweet potato\" \n",
    "             ]"
   ]
  },
  {
   "cell_type": "code",
   "execution_count": 501,
   "metadata": {
    "collapsed": true
   },
   "outputs": [],
   "source": [
    "service_cols_tips = [r + \"_tip\" for r in service_cols_rev]\n",
    "food_cols_tips = [r + \"_tip\" for r in food_cols_rev]"
   ]
  },
  {
   "cell_type": "code",
   "execution_count": 502,
   "metadata": {
    "collapsed": true
   },
   "outputs": [],
   "source": [
    "service_cols = service_cols_rev + service_cols_tips\n",
    "food_cols = food_cols_rev + food_cols_tips"
   ]
  },
  {
   "cell_type": "code",
   "execution_count": 503,
   "metadata": {
    "collapsed": false
   },
   "outputs": [],
   "source": [
    "notinservice = ['10 minutes_tip', '15 minutes_tip', '30 minutes_tip', 'dance floor_tip', 'hip hop_tip', 'minutes later_tip', 'right away_tip', 'service excellent_tip', 'service friendly_tip', 'wait staff_tip']"
   ]
  },
  {
   "cell_type": "code",
   "execution_count": 504,
   "metadata": {
    "collapsed": false
   },
   "outputs": [],
   "source": [
    "service_cols = [x for x in service_cols if x not in notinservice]"
   ]
  },
  {
   "cell_type": "code",
   "execution_count": 505,
   "metadata": {
    "collapsed": true
   },
   "outputs": [],
   "source": [
    "notinfood = ['bar food_tip', 'food delicious_tip', 'french fries_tip', 'hash browns_tip', 'mashed potatoes_tip', 'medium rare_tip', 'quality food_tip', 'tasted like_tip']"
   ]
  },
  {
   "cell_type": "code",
   "execution_count": 506,
   "metadata": {
    "collapsed": true
   },
   "outputs": [],
   "source": [
    "food_cols = [x for x in food_cols if x not in notinfood]"
   ]
  },
  {
   "cell_type": "code",
   "execution_count": 507,
   "metadata": {
    "collapsed": true
   },
   "outputs": [],
   "source": [
    "users_reviews = pd.merge(users_sampc2, rev_sampc2, how = \"outer\", on = \"user_id\")"
   ]
  },
  {
   "cell_type": "code",
   "execution_count": 508,
   "metadata": {
    "collapsed": false
   },
   "outputs": [],
   "source": [
    "users_tips_reviews = pd.merge(users_reviews, tips_sampc2, how = \"outer\", on = \"user_id\")"
   ]
  },
  {
   "cell_type": "code",
   "execution_count": 509,
   "metadata": {
    "collapsed": false
   },
   "outputs": [],
   "source": [
    "big_merge2 = pd.merge(users_tips_reviews, bus_sampc2, how = \"outer\", on = \"business_id\")"
   ]
  },
  {
   "cell_type": "code",
   "execution_count": 510,
   "metadata": {
    "collapsed": false
   },
   "outputs": [
    {
     "data": {
      "text/plain": [
       "user_id\n",
       "kSVYpNWA19wUplbdi0U0Uw    234.0\n",
       "4ozupHULqGyO42s3zNUzOQ    143.0\n",
       "5lq4LkrviYgQ4LJNsBYHcA    136.0\n",
       "N7wNlo3_EaHUWHiFDyGh5g    106.0\n",
       "ia1nTRAQEaFWv0cwADeK7g     90.0\n",
       "Iu3Jo9ROp2IWC9FwtWOaUQ     86.0\n",
       "v-HksoosvZozoWmkKr7gSA     75.0\n",
       "XHkzCzmIAB3DnjQO7v6jww     64.0\n",
       "glRXVWWD6x1EZKfjJawTOg     57.0\n",
       "Cw3UMmYeqqx1u4HIWaWw3w     54.0\n",
       "vUWfWfGW6L_DVKHk6I5YYQ     50.0\n",
       "7N2eEJX_rwgroDxk1PbuZg     48.0\n",
       "t4kgXeb0wgCDdxHt3Ihfdw     48.0\n",
       "p8bkZSzubV3KAmduUIo0lQ     48.0\n",
       "XwJ0iQhFADzmanUABWd6Zg     45.0\n",
       "CE7foH9Ll3NY0oN2A-BccA     45.0\n",
       "SEDFpR4oMPKqXMjbJiMGog     44.0\n",
       "qqtmFGhyyHc37coT4qJxaw     43.0\n",
       "q9XgOylNsSbqZqF_SO3-OQ     42.0\n",
       "Iu4pnIksqN7BFRC0WKjBpQ     41.0\n",
       "6BI2XAnVHwhH8LiheWHQqw     40.0\n",
       "BWo7K_QGZCO2PG1osiwRuQ     40.0\n",
       "h4RkUrmcsMc0VTUCdaY4_g     40.0\n",
       "xNb8pFe99ENj8BeMsCBPcQ     39.0\n",
       "y9IKf7VckFc-fesWuDwgxg     36.0\n",
       "EQXgqA7jGO81EoPImGFexQ     36.0\n",
       "SQV4Tzc4_m7adVdiErn94w     35.0\n",
       "5MhbO-FbPPRkM1G9oZsdOQ     34.0\n",
       "LusAw6vTDC7KAfbuClMReA     32.0\n",
       "67QGJdqABqaSEsQR4esrsA     32.0\n",
       "                          ...  \n",
       "cJnYpzzaUt8FfRlpQ-BnuQ      0.0\n",
       "cJqzEO1I42NIof3N-KG9kg      0.0\n",
       "cK9IKavQDei_AZLzc_fROg      0.0\n",
       "cKjQ6YokxsjfIvV10WVtEQ      0.0\n",
       "cL53nuFDLe6O4p7PWc-2ZA      0.0\n",
       "cLKSNcVvxZBijbVFE2deHA      0.0\n",
       "cLauoo5bVAr_R92Z3fcLUQ      0.0\n",
       "cLiTfK9WAF4MrvnjUdGGrw      0.0\n",
       "cMdcrS9nWwFW0J4lQIzocw      0.0\n",
       "cI6q0816UlSUS2nCVsjrzQ      0.0\n",
       "cHtfwKIkVbvGs2u855hQ2g      0.0\n",
       "cHoC_bpAfmsgdRhe04A3lw      0.0\n",
       "cFZBVHchqzAtsCl2cHFB2A      0.0\n",
       "cDfzVAp2bP18eVkfWfOATw      0.0\n",
       "cDjzxPe2ennLUp875KfE7w      0.0\n",
       "cE0er99C9AiYFYlCSntitg      0.0\n",
       "cEAa_-O2BBc33y_9JmXGMQ      0.0\n",
       "cECF62lxQSoa9dJnRFhx6g      0.0\n",
       "cESolr8fAG7HiKZZaZPIjw      0.0\n",
       "cFIFzw84xA6fWyQQPkORrg      0.0\n",
       "cFbIxXEuwt0h5aBGAfhPHg      0.0\n",
       "cHlO9xNB88gG4tdqCQBHkg      0.0\n",
       "cFvRUZ1hMjPAyGDraY3rvw      0.0\n",
       "cGH9RYUIBHWPUQGdyg3Mgg      0.0\n",
       "cGJKfof4sLcVHUGMfnx-SQ      0.0\n",
       "cGPWOz90aCFSuB3MZmD5Cg      0.0\n",
       "cH-RV8qS7M5Kg0cENqiU-Q      0.0\n",
       "cHVCLZn4dQB9kTx7TAjKIQ      0.0\n",
       "cHZye2idtuppZgVEbM2J7g      0.0\n",
       "--2QZsyXGz1OhiD4-0FQLQ      0.0\n",
       "dtype: float64"
      ]
     },
     "execution_count": 510,
     "metadata": {},
     "output_type": "execute_result"
    }
   ],
   "source": [
    "big_merge2[[\"user_id\"] + food_cols].groupby(\"user_id\").sum().sum(axis=1).sort_values(ascending=False)"
   ]
  },
  {
   "cell_type": "code",
   "execution_count": 511,
   "metadata": {
    "collapsed": false
   },
   "outputs": [],
   "source": [
    "#users_reviews.loc[users_reviews['user_id'] == 'Qsu7tLx0WVixKLmgLzNVWw', service_cols].sum(axis=1)"
   ]
  },
  {
   "cell_type": "code",
   "execution_count": 512,
   "metadata": {
    "collapsed": false
   },
   "outputs": [
    {
     "data": {
      "text/plain": [
       "user_id\n",
       "ia1nTRAQEaFWv0cwADeK7g    144.0\n",
       "kSVYpNWA19wUplbdi0U0Uw    117.0\n",
       "Cw3UMmYeqqx1u4HIWaWw3w    117.0\n",
       "glRXVWWD6x1EZKfjJawTOg     90.0\n",
       "9lLqIwENZ7EH9-v8cPRt7g     60.0\n",
       "hjJPKQ1Ah91h3fVbc8GsOg     60.0\n",
       "p8bkZSzubV3KAmduUIo0lQ     60.0\n",
       "N7wNlo3_EaHUWHiFDyGh5g     48.0\n",
       "Iu3Jo9ROp2IWC9FwtWOaUQ     38.0\n",
       "CInFos81Gf4dkBJQL-1jGg     36.0\n",
       "AYGHNy8gPxl2Q-etTT3hZw     36.0\n",
       "XHkzCzmIAB3DnjQO7v6jww     32.0\n",
       "Gmx_xocyJZecgtBIsV_dwg     30.0\n",
       "vU1bHO3IjqLnf3_9Igeluw     30.0\n",
       "d-7Q8TBa3Cav89BHvHdQvA     28.0\n",
       "buYgcJVT0m0i_IQjgCmT5w     28.0\n",
       "AmA0-gvd0Q8m7JM9vXCpug     28.0\n",
       "5mHPtvzOpfT_FUp6F-AJKw     27.0\n",
       "5pn0Rb0RSvt7IkPLWsGeZg     26.0\n",
       "Rpgyk5ljNeQ2kWhaYRVELQ     24.0\n",
       "rsrf5kbPtXGxH_z5uRLVVQ     24.0\n",
       "RrFOVOyZr5oxbzumVr8d8g     24.0\n",
       "WZwfmfP5X1gDDeL-M9vzZA     22.0\n",
       "Vl5_zAMax_3pzwUlrVnrJA     21.0\n",
       "n0GH-IAovki1Zm6bA2fCrg     21.0\n",
       "2QwefWQaj2Q6oOHGmPcVLQ     21.0\n",
       "dAP9V0NarJFZO-kwgVKIBg     20.0\n",
       "xNb8pFe99ENj8BeMsCBPcQ     20.0\n",
       "Vpbyv8DnxMobfg93JYSdqw     20.0\n",
       "_Ysxpw5CvpuEDkwU8AVrng     20.0\n",
       "                          ...  \n",
       "cOh5x9fw5pjPnFwFNREMsQ      0.0\n",
       "cOiejhjUmDWfwwDCjQzy2A      0.0\n",
       "cOiz8RFqtAr2gLIfcNArgA      0.0\n",
       "cPNdeb3UjuEYOrtLNPJ7Qg      0.0\n",
       "cPwKMNPbAOKcHqtPUbMyDA      0.0\n",
       "cQEhHWFwQ_1pPM2wkkMUIQ      0.0\n",
       "cQHrvcfaPgbdwjFgCY3KZg      0.0\n",
       "cQfnnQhGCFzd0P1MsJu21g      0.0\n",
       "cR4NAVGE_zvWF1MS03idAw      0.0\n",
       "cLauoo5bVAr_R92Z3fcLUQ      0.0\n",
       "cLKSNcVvxZBijbVFE2deHA      0.0\n",
       "cL53nuFDLe6O4p7PWc-2ZA      0.0\n",
       "cIryf5Va4FCwAH49qisBWg      0.0\n",
       "cHVCLZn4dQB9kTx7TAjKIQ      0.0\n",
       "cHZye2idtuppZgVEbM2J7g      0.0\n",
       "cHlO9xNB88gG4tdqCQBHkg      0.0\n",
       "cHoC_bpAfmsgdRhe04A3lw      0.0\n",
       "cHtfwKIkVbvGs2u855hQ2g      0.0\n",
       "cI6q0816UlSUS2nCVsjrzQ      0.0\n",
       "cIIksMjO1J8doQHd-7lKGg      0.0\n",
       "cIxI9G5Pk8QGy17znsiZcA      0.0\n",
       "cKjQ6YokxsjfIvV10WVtEQ      0.0\n",
       "cJ8sSqRh7CKpNpQaBB2uSg      0.0\n",
       "cJKYQyoGq6mMKBT5ztu-wg      0.0\n",
       "cJXqB-Q3HvsYI7ytYFweJQ      0.0\n",
       "cJeHJ42XDVm71Rwgwz5DnA      0.0\n",
       "cJnYpzzaUt8FfRlpQ-BnuQ      0.0\n",
       "cJqzEO1I42NIof3N-KG9kg      0.0\n",
       "cK9IKavQDei_AZLzc_fROg      0.0\n",
       "--2QZsyXGz1OhiD4-0FQLQ      0.0\n",
       "dtype: float64"
      ]
     },
     "execution_count": 512,
     "metadata": {},
     "output_type": "execute_result"
    }
   ],
   "source": [
    "big_merge2[[\"user_id\"] + service_cols].groupby(\"user_id\").sum().sum(axis=1).sort_values(ascending=False)"
   ]
  },
  {
   "cell_type": "code",
   "execution_count": 513,
   "metadata": {
    "collapsed": false
   },
   "outputs": [],
   "source": [
    "star_count_serv = big_merge2.groupby(\"stars\")[service_cols].sum().sum(axis=1)"
   ]
  },
  {
   "cell_type": "code",
   "execution_count": 514,
   "metadata": {
    "collapsed": false
   },
   "outputs": [
    {
     "data": {
      "text/plain": [
       "stars\n",
       "1.0       2.0\n",
       "1.5      19.0\n",
       "2.0     166.0\n",
       "2.5     814.0\n",
       "3.0    1537.0\n",
       "3.5    4064.0\n",
       "4.0    5382.0\n",
       "4.5    1594.0\n",
       "5.0      91.0\n",
       "dtype: float64"
      ]
     },
     "execution_count": 514,
     "metadata": {},
     "output_type": "execute_result"
    }
   ],
   "source": [
    "star_count_serv"
   ]
  },
  {
   "cell_type": "code",
   "execution_count": 437,
   "metadata": {
    "collapsed": false
   },
   "outputs": [
    {
     "data": {
      "text/plain": [
       "<matplotlib.axes._subplots.AxesSubplot at 0x1504d1550>"
      ]
     },
     "execution_count": 437,
     "metadata": {},
     "output_type": "execute_result"
    },
    {
     "data": {
      "image/png": "[encoded data removed]",
      "text/plain": [
       "<matplotlib.figure.Figure at 0x11cc45e50>"
      ]
     },
     "metadata": {
      "image/png": {
       "height": 279,
       "width": 419
      }
     },
     "output_type": "display_data"
    }
   ],
   "source": [
    "star_count_serv.plot(kind=\"bar\")"
   ]
  },
  {
   "cell_type": "code",
   "execution_count": 425,
   "metadata": {
    "collapsed": false
   },
   "outputs": [],
   "source": [
    "service_mean = np.dot(np.arange(1,5.5,0.5),star_count_serv)/star_count_serv.sum()"
   ]
  },
  {
   "cell_type": "code",
   "execution_count": 429,
   "metadata": {
    "collapsed": false
   },
   "outputs": [
    {
     "data": {
      "text/plain": [
       "3.6863340405296658"
      ]
     },
     "execution_count": 429,
     "metadata": {},
     "output_type": "execute_result"
    }
   ],
   "source": [
    "service_mean"
   ]
  },
  {
   "cell_type": "code",
   "execution_count": 426,
   "metadata": {
    "collapsed": false
   },
   "outputs": [],
   "source": [
    "star_count_food = big_merge2.groupby(\"stars\")[food_cols].sum().sum(axis=1)"
   ]
  },
  {
   "cell_type": "code",
   "execution_count": 436,
   "metadata": {
    "collapsed": false
   },
   "outputs": [
    {
     "data": {
      "text/plain": [
       "<matplotlib.axes._subplots.AxesSubplot at 0x12ce6aad0>"
      ]
     },
     "execution_count": 436,
     "metadata": {},
     "output_type": "execute_result"
    },
    {
     "data": {
      "image/png": "[encoded data removed]",
      "text/plain": [
       "<matplotlib.figure.Figure at 0x119a2b250>"
      ]
     },
     "metadata": {
      "image/png": {
       "height": 279,
       "width": 425
      }
     },
     "output_type": "display_data"
    }
   ],
   "source": [
    "star_count_food.plot(kind=\"bar\")"
   ]
  },
  {
   "cell_type": "code",
   "execution_count": 427,
   "metadata": {
    "collapsed": true
   },
   "outputs": [],
   "source": [
    "food_mean = np.dot(np.arange(1,5.5,0.5),star_count_food)/star_count_food.sum()"
   ]
  },
  {
   "cell_type": "code",
   "execution_count": 428,
   "metadata": {
    "collapsed": false
   },
   "outputs": [
    {
     "data": {
      "text/plain": [
       "3.7810719981772611"
      ]
     },
     "execution_count": 428,
     "metadata": {},
     "output_type": "execute_result"
    }
   ],
   "source": [
    "food_mean"
   ]
  },
  {
   "cell_type": "code",
   "execution_count": null,
   "metadata": {
    "collapsed": true
   },
   "outputs": [],
   "source": []
  },
  {
   "cell_type": "markdown",
   "metadata": {},
   "source": [
    "<img src=\"http://imgur.com/l5NasQj.png\" style=\"float: left; margin: 25px 15px 0px 0px; height: 25px\">\n",
    "\n",
    "## 3. Identifying \"elite\" users\n",
    "\n",
    "---\n",
    "\n",
    "Yelp, though having their own formula for determining whether a user is elite or not, is interested in delving deeper into what differentiates an elite user from a normal user at a broader level.\n",
    "\n",
    "Use a classification model to predict whether a user is elite or not. Note that users can be elite in some years and not in others.\n",
    "\n",
    "1. What things predict well whether a user is elite or not?\n",
    "- Validate the model.\n",
    "- If you were to remove the \"counts\" metrics for users (reviews, votes, compliments), what distinguishes an elite user, if anything? Validate the model and compare it to the one with the count variables.\n",
    "- Think of a way to visually represent your results in a compelling way.\n",
    "- Give a brief write-up of your findings.\n"
   ]
  },
  {
   "cell_type": "code",
   "execution_count": 438,
   "metadata": {
    "collapsed": true
   },
   "outputs": [],
   "source": [
    "user_sampc3 = users_samp"
   ]
  },
  {
   "cell_type": "code",
   "execution_count": 441,
   "metadata": {
    "collapsed": false
   },
   "outputs": [
    {
     "name": "stderr",
     "output_type": "stream",
     "text": [
      "/Users/ga/anaconda/envs/dsi/lib/python2.7/site-packages/ipykernel/__main__.py:1: SettingWithCopyWarning: \n",
      "A value is trying to be set on a copy of a slice from a DataFrame.\n",
      "Try using .loc[row_indexer,col_indexer] = value instead\n",
      "\n",
      "See the caveats in the documentation: http://pandas.pydata.org/pandas-docs/stable/indexing.html#indexing-view-versus-copy\n",
      "  if __name__ == '__main__':\n"
     ]
    }
   ],
   "source": [
    "user_sampc3[\"elite\"] = user_sampc3[\"elite\"].map(lambda x: eval(x))"
   ]
  },
  {
   "cell_type": "code",
   "execution_count": 442,
   "metadata": {
    "collapsed": false
   },
   "outputs": [
    {
     "name": "stderr",
     "output_type": "stream",
     "text": [
      "/Users/ga/anaconda/envs/dsi/lib/python2.7/site-packages/ipykernel/__main__.py:1: SettingWithCopyWarning: \n",
      "A value is trying to be set on a copy of a slice from a DataFrame.\n",
      "Try using .loc[row_indexer,col_indexer] = value instead\n",
      "\n",
      "See the caveats in the documentation: http://pandas.pydata.org/pandas-docs/stable/indexing.html#indexing-view-versus-copy\n",
      "  if __name__ == '__main__':\n"
     ]
    }
   ],
   "source": [
    "user_sampc3[\"elite_years\"] = user_sampc3[\"elite\"].map(lambda x: len(x))"
   ]
  },
  {
   "cell_type": "code",
   "execution_count": 444,
   "metadata": {
    "collapsed": false
   },
   "outputs": [
    {
     "name": "stderr",
     "output_type": "stream",
     "text": [
      "/Users/ga/anaconda/envs/dsi/lib/python2.7/site-packages/ipykernel/__main__.py:1: SettingWithCopyWarning: \n",
      "A value is trying to be set on a copy of a slice from a DataFrame.\n",
      "Try using .loc[row_indexer,col_indexer] = value instead\n",
      "\n",
      "See the caveats in the documentation: http://pandas.pydata.org/pandas-docs/stable/indexing.html#indexing-view-versus-copy\n",
      "  if __name__ == '__main__':\n"
     ]
    }
   ],
   "source": [
    "user_sampc3[\"achieved_elite\"] = user_sampc3[\"elite\"].map(lambda x: 1 if x > 0 else 0)"
   ]
  },
  {
   "cell_type": "code",
   "execution_count": null,
   "metadata": {
    "collapsed": true
   },
   "outputs": [],
   "source": []
  },
  {
   "cell_type": "markdown",
   "metadata": {},
   "source": [
    "<img src=\"http://imgur.com/GCAf1UX.png\" style=\"float: left; margin: 25px 15px 0px 0px; height: 25px\">\n",
    "\n",
    "## 4. Find something interesting on your own\n",
    "\n",
    "---\n",
    "\n",
    "You want to impress your superiors at Yelp by doing some investigation into the data on your own. You want to do classification, but you're not sure on what.\n",
    "\n",
    "1. Create a hypothesis or hypotheses about the data based on whatever you are interested in, as long as it is predicting a category of some kind (classification).\n",
    "2. Explore the data visually (ideally related to this hypothesis).\n",
    "3. Build one or more classification models to predict your target variable. **Your modeling should include gridsearching to find optimal model parameters.**\n",
    "4. Evaluate the performance of your model. Explain why your model may have chosen those specific parameters during the gridsearch process.\n",
    "5. Write up what the model tells you. Does it validate or invalidate your hypothesis? Write this up as if for a non-technical audience."
   ]
  },
  {
   "cell_type": "code",
   "execution_count": null,
   "metadata": {
    "collapsed": true
   },
   "outputs": [],
   "source": []
  },
  {
   "cell_type": "markdown",
   "metadata": {},
   "source": [
    "<img src=\"http://imgur.com/GCAf1UX.png\" style=\"float: left; margin: 25px 15px 0px 0px; height: 25px\">\n",
    "\n",
    "## 5. ROC and Precision-recall\n",
    "\n",
    "---\n",
    "\n",
    "Some categories have fewer overall businesses than others. Choose two categories of businesses to predict, one that makes your proportion of target classes as even as possible, and another that has very few businesses and thus makes the target varible imbalanced.\n",
    "\n",
    "1. Create two classification models predicting these categories. Optimize the models and choose variables as you see fit.\n",
    "- Make confusion matrices for your models. Describe the confusion matrices and explain what they tell you about your models' performance.\n",
    "- Make ROC curves for both models. What do the ROC curves describe and what do they tell you about your model?\n",
    "- Make Precision-Recall curves for the models. What do they describe? How do they compare to the ROC curves?\n",
    "- Explain when Precision-Recall may be preferable to ROC. Is that the case in either of your models?"
   ]
  },
  {
   "cell_type": "code",
   "execution_count": 65,
   "metadata": {
    "collapsed": true
   },
   "outputs": [],
   "source": [
    "bus_samp_copy = bus_samp.copy()\n",
    "rev_samp_copy = rev_samp.copy()\n",
    "users_samp_copy = users_samp.copy()\n",
    "tips_samp_copy = tips_samp.copy()\n",
    "check_samp_copy = check_samp.copy()"
   ]
  },
  {
   "cell_type": "code",
   "execution_count": 66,
   "metadata": {
    "collapsed": true
   },
   "outputs": [],
   "source": [
    "tips_samp_copy = tips_samp_copy.loc[tips_samp_copy[\"business_id\"].isin(bus_samp_copy[\"business_id\"].tolist())]\n",
    "rev_samp_copy = rev_samp_copy.loc[rev_samp_copy[\"business_id\"].isin(bus_samp_copy[\"business_id\"].tolist())]"
   ]
  },
  {
   "cell_type": "code",
   "execution_count": 67,
   "metadata": {
    "collapsed": false
   },
   "outputs": [],
   "source": [
    "# make a cleaning function for businesses\n",
    "bus_cat_dict = dict(zip(\n",
    "\tbus_samp_copy[\"business_id\"], bus_samp_copy[\"categories\"]))\n",
    "\n",
    "def bus_clean(bus, col_list):\n",
    "\t# customization\n",
    "\tbus[\"variable\"] = bus[\"variable\"].apply(lambda x: x.split(\".\")[1:])\n",
    "\tbus = bus[bus.astype(str)[\"variable\"] != \"[]\"]\n",
    "\t#bus[\"city\"] = bus[\"city\"].apply(lambda x: 1 if x == \"Las Vegas\" else 0)\n",
    "\n",
    "\t# pair up variable and value, make into a new column\n",
    "\tpairs = []\n",
    "\tfor pair in zip(bus[\"variable\"], bus[\"value\"]):\n",
    "\t    if len(pair[0]) > 1:\n",
    "\t        pair = ' '.join(pair[0]) + \": \" + pair[1]\n",
    "\t        pairs.append(pair)\n",
    "\t    else:\n",
    "\t        pair = str(pair[0][0]) + \": \" + str(pair[1])\n",
    "\t        pairs.append(pair)\n",
    "\tbus[\"var_val\"] = pairs\n",
    "\n",
    "\tbus = bus.drop(col_list, axis=1) # drop unwanted cols\n",
    "\tdum = pd.get_dummies(bus.iloc[:,1:])\n",
    "\tbus = pd.concat([bus[\"business_id\"], dum], axis=1)\n",
    "\treturn bus"
   ]
  },
  {
   "cell_type": "code",
   "execution_count": 68,
   "metadata": {
    "collapsed": true
   },
   "outputs": [],
   "source": [
    "def tr_clean(tips, rev):\n",
    "\n",
    "\ttips = tips.drop([\"likes\", \"date\", \"user_id\"], axis=1)\n",
    "\trev = rev.drop([\"votes.cool\", \"review_id\", \"votes.funny\",\n",
    "\t\t\"stars\", \"date\", \"votes.useful\", \"user_id\"], axis=1)\n",
    "\ttips.columns = [col + \"_tip\" for col in tips.columns]\n",
    "\ttips = tips.rename(\n",
    "\t\tcolumns = {\"user_id_tip\": \"user_id\", \n",
    "\t\t\t\t\t\"business_id_tip\": \"business_id\"})\n",
    "\n",
    "\ttips_reviews = pd.merge(tips, rev, how = \"outer\", on = \"business_id\")\n",
    "\treturn tips_reviews"
   ]
  },
  {
   "cell_type": "code",
   "execution_count": 69,
   "metadata": {
    "collapsed": false
   },
   "outputs": [
    {
     "name": "stderr",
     "output_type": "stream",
     "text": [
      "/Users/ga/anaconda/envs/dsi/lib/python2.7/site-packages/ipykernel/__main__.py:20: SettingWithCopyWarning: \n",
      "A value is trying to be set on a copy of a slice from a DataFrame.\n",
      "Try using .loc[row_indexer,col_indexer] = value instead\n",
      "\n",
      "See the caveats in the documentation: http://pandas.pydata.org/pandas-docs/stable/indexing.html#indexing-view-versus-copy\n"
     ]
    }
   ],
   "source": [
    "col_list = [\"name\", \"latitude\", \"longitude\", \"neighborhoods\", \n",
    "\t\t\t\"variable\", \"value\", \"city\", \"review_count\"]\n",
    "\n",
    "X = pd.merge(\n",
    "\tbus_clean(bus_samp_copy, col_list), \n",
    "\ttr_clean(tips_samp_copy, rev_samp_copy), \n",
    "\thow = \"outer\", on = \"business_id\")\n",
    "\n",
    "\n",
    "X[\"categories\"] = [bus_cat_dict[bid] for bid in X[\"business_id\"]]\n",
    "X = X.drop(\"business_id\", axis=1)\n",
    "X = X.fillna(0)\n",
    "\n",
    "categories = X[\"categories\"].apply(eval)"
   ]
  },
  {
   "cell_type": "code",
   "execution_count": 70,
   "metadata": {
    "collapsed": true
   },
   "outputs": [],
   "source": [
    "y = X[\"categories\"]\n",
    "X = X.drop(\"categories\", axis=1)\n",
    "cat_list = list(itertools.chain(categories.tolist()))\n"
   ]
  },
  {
   "cell_type": "code",
   "execution_count": 71,
   "metadata": {
    "collapsed": false
   },
   "outputs": [],
   "source": [
    "c = [col for col in X.columns if \"categories\" not in col]"
   ]
  },
  {
   "cell_type": "code",
   "execution_count": 72,
   "metadata": {
    "collapsed": false
   },
   "outputs": [],
   "source": [
    "X = X[c]"
   ]
  },
  {
   "cell_type": "code",
   "execution_count": 73,
   "metadata": {
    "collapsed": false
   },
   "outputs": [
    {
     "data": {
      "text/plain": [
       "(326158, 630)"
      ]
     },
     "execution_count": 73,
     "metadata": {},
     "output_type": "execute_result"
    }
   ],
   "source": [
    "X.shape"
   ]
  },
  {
   "cell_type": "code",
   "execution_count": 74,
   "metadata": {
    "collapsed": false
   },
   "outputs": [],
   "source": [
    "y = MultiLabelBinarizer().fit_transform(cat_list)"
   ]
  },
  {
   "cell_type": "code",
   "execution_count": 75,
   "metadata": {
    "collapsed": false
   },
   "outputs": [
    {
     "data": {
      "text/plain": [
       "array([[0, 0, 0, ..., 0, 0, 0],\n",
       "       [0, 0, 0, ..., 0, 0, 0],\n",
       "       [0, 0, 0, ..., 0, 0, 0],\n",
       "       ..., \n",
       "       [0, 0, 0, ..., 0, 0, 0],\n",
       "       [0, 0, 0, ..., 0, 0, 0],\n",
       "       [0, 0, 0, ..., 0, 0, 0]])"
      ]
     },
     "execution_count": 75,
     "metadata": {},
     "output_type": "execute_result"
    }
   ],
   "source": [
    "y"
   ]
  },
  {
   "cell_type": "code",
   "execution_count": 85,
   "metadata": {
    "collapsed": true
   },
   "outputs": [],
   "source": [
    "X_samp = X.iloc[::50,:]"
   ]
  },
  {
   "cell_type": "code",
   "execution_count": 86,
   "metadata": {
    "collapsed": false
   },
   "outputs": [
    {
     "data": {
      "text/plain": [
       "(6524, 630)"
      ]
     },
     "execution_count": 86,
     "metadata": {},
     "output_type": "execute_result"
    }
   ],
   "source": [
    "X_samp.shape"
   ]
  },
  {
   "cell_type": "code",
   "execution_count": 87,
   "metadata": {
    "collapsed": false
   },
   "outputs": [],
   "source": [
    "y_samp = y[0::50]"
   ]
  },
  {
   "cell_type": "code",
   "execution_count": 88,
   "metadata": {
    "collapsed": false
   },
   "outputs": [
    {
     "data": {
      "text/plain": [
       "(6524, 185)"
      ]
     },
     "execution_count": 88,
     "metadata": {},
     "output_type": "execute_result"
    }
   ],
   "source": [
    "y_samp.shape"
   ]
  },
  {
   "cell_type": "code",
   "execution_count": 89,
   "metadata": {
    "collapsed": true
   },
   "outputs": [],
   "source": [
    "rf = RandomForestClassifier(n_estimators=100, random_state=1)"
   ]
  },
  {
   "cell_type": "code",
   "execution_count": 90,
   "metadata": {
    "collapsed": true
   },
   "outputs": [],
   "source": [
    "X_train, X_test, y_train, y_test = train_test_split(X_samp, y_samp, test_size=0.30, random_state=42)"
   ]
  },
  {
   "cell_type": "code",
   "execution_count": 93,
   "metadata": {
    "collapsed": false
   },
   "outputs": [
    {
     "name": "stdout",
     "output_type": "stream",
     "text": [
      "Fitting 5 folds for each of 560 candidates, totalling 2800 fits\n"
     ]
    },
    {
     "name": "stderr",
     "output_type": "stream",
     "text": [
      "[Parallel(n_jobs=-1)]: Done  42 tasks      | elapsed:  4.9min\n",
      "[Parallel(n_jobs=-1)]: Done 192 tasks      | elapsed: 18.1min\n",
      "[Parallel(n_jobs=-1)]: Done 442 tasks      | elapsed: 38.9min\n",
      "[Parallel(n_jobs=-1)]: Done 792 tasks      | elapsed: 67.1min\n",
      "[Parallel(n_jobs=-1)]: Done 1242 tasks      | elapsed: 102.1min\n",
      "[Parallel(n_jobs=-1)]: Done 1792 tasks      | elapsed: 147.9min\n",
      "[Parallel(n_jobs=-1)]: Done 2442 tasks      | elapsed: 1359.9min\n",
      "[Parallel(n_jobs=-1)]: Done 2800 out of 2800 | elapsed: 1387.6min finished\n"
     ]
    },
    {
     "data": {
      "text/plain": [
       "GridSearchCV(cv=5, error_score='raise',\n",
       "       estimator=RandomForestClassifier(bootstrap=True, class_weight=None, criterion='gini',\n",
       "            max_depth=None, max_features='auto', max_leaf_nodes=None,\n",
       "            min_impurity_split=1e-07, min_samples_leaf=1,\n",
       "            min_samples_split=2, min_weight_fraction_leaf=0.0,\n",
       "            n_estimators=100, n_jobs=1, oob_score=False, random_state=1,\n",
       "            verbose=0, warm_start=False),\n",
       "       fit_params={}, iid=True, n_jobs=-1,\n",
       "       param_grid={'max_features': [None, 'log2', 'sqrt', 2, 3, 4, 5], 'max_depth': [1, 2, 3, None], 'min_samples_leaf': array([  1,   6,  11,  16,  22,  27,  32,  37,  43,  48,  53,  58,  64,\n",
       "        69,  74,  79,  85,  90,  95, 101])},\n",
       "       pre_dispatch='2*n_jobs', refit=True, scoring=None, verbose=1)"
      ]
     },
     "execution_count": 93,
     "metadata": {},
     "output_type": "execute_result"
    }
   ],
   "source": [
    "rf_params = {\n",
    "    'max_features':[None,'log2','sqrt', 2,3,4,5],\n",
    "    'max_depth':[1,2,3,None],\n",
    "    'min_samples_leaf':np.linspace(1,101,20).astype(int)\n",
    "}\n",
    "\n",
    "## gridsearch parameters, and cv =5\n",
    "# LOL at how long this took \n",
    "rf_grid = GridSearchCV(rf, rf_params, cv=5, verbose=1, n_jobs=-1)\n",
    "rf_grid.fit(X_train,y_train)"
   ]
  },
  {
   "cell_type": "code",
   "execution_count": 94,
   "metadata": {
    "collapsed": true
   },
   "outputs": [],
   "source": [
    "rf_best = rf_grid.best_estimator_"
   ]
  },
  {
   "cell_type": "code",
   "execution_count": 95,
   "metadata": {
    "collapsed": false
   },
   "outputs": [
    {
     "data": {
      "text/plain": [
       "RandomForestClassifier(bootstrap=True, class_weight=None, criterion='gini',\n",
       "            max_depth=None, max_features=None, max_leaf_nodes=None,\n",
       "            min_impurity_split=1e-07, min_samples_leaf=1,\n",
       "            min_samples_split=2, min_weight_fraction_leaf=0.0,\n",
       "            n_estimators=100, n_jobs=1, oob_score=False, random_state=1,\n",
       "            verbose=0, warm_start=False)"
      ]
     },
     "execution_count": 95,
     "metadata": {},
     "output_type": "execute_result"
    }
   ],
   "source": [
    "rf_best"
   ]
  },
  {
   "cell_type": "code",
   "execution_count": 96,
   "metadata": {
    "collapsed": true
   },
   "outputs": [],
   "source": [
    "multi_target_forest = MultiOutputClassifier(rf_best, n_jobs=-1)"
   ]
  },
  {
   "cell_type": "code",
   "execution_count": 82,
   "metadata": {
    "collapsed": true
   },
   "outputs": [],
   "source": []
  },
  {
   "cell_type": "code",
   "execution_count": null,
   "metadata": {
    "collapsed": true
   },
   "outputs": [],
   "source": []
  },
  {
   "cell_type": "code",
   "execution_count": 97,
   "metadata": {
    "collapsed": false
   },
   "outputs": [
    {
     "data": {
      "text/plain": [
       "MultiOutputClassifier(estimator=RandomForestClassifier(bootstrap=True, class_weight=None, criterion='gini',\n",
       "            max_depth=None, max_features=None, max_leaf_nodes=None,\n",
       "            min_impurity_split=1e-07, min_samples_leaf=1,\n",
       "            min_samples_split=2, min_weight_fraction_leaf=0.0,\n",
       "            n_estimators=100, n_jobs=1, oob_score=False, random_state=1,\n",
       "            verbose=0, warm_start=False),\n",
       "           n_jobs=-1)"
      ]
     },
     "execution_count": 97,
     "metadata": {},
     "output_type": "execute_result"
    }
   ],
   "source": [
    "multi_target_forest.fit(X_train, y_train)"
   ]
  },
  {
   "cell_type": "code",
   "execution_count": 98,
   "metadata": {
    "collapsed": false
   },
   "outputs": [
    {
     "data": {
      "text/plain": [
       "0.59141981613891725"
      ]
     },
     "execution_count": 98,
     "metadata": {},
     "output_type": "execute_result"
    }
   ],
   "source": [
    "multi_target_forest.score(X_test, y_test)"
   ]
  },
  {
   "cell_type": "code",
   "execution_count": null,
   "metadata": {
    "collapsed": true
   },
   "outputs": [],
   "source": []
  },
  {
   "cell_type": "markdown",
   "metadata": {},
   "source": [
    "##### OneVsRestClassifier(LinearSVC(random_state=0)).fit(X, y).predict(X)"
   ]
  },
  {
   "cell_type": "markdown",
   "metadata": {
    "collapsed": true
   },
   "source": [
    "## OOP, Stochastic Gradient Descent, and Linear Algebra\n",
    "\n",
    "---\n",
    "\n",
    "In this part of the project, you will implement machine learning algorithms we have covered in class from scratch. \n",
    "\n",
    "--- "
   ]
  },
  {
   "cell_type": "markdown",
   "metadata": {},
   "source": [
    "<img src=\"http://imgur.com/GCAf1UX.png\" style=\"float: left; margin: 25px 15px 0px 0px; height: 25px\">\n",
    "\n",
    "### 6. Extend the `LinearRegrssion` class to include the following: \n",
    "\n",
    "- Calculate confidence intervals at X% on the $\\beta$ coefficients and predicted y value when the model is not regularized. Here is a good overview of calculating confidence intervals: http://imgur.com/a/O1ZFk\n",
    "\n",
    "\n",
    "\n",
    "- An option to regularize the model with Ridge Regression. The method should automatically calculate the best `alpha` for the user. The closed form solution for Ridge Regression may be helpful [Hint: Think of the `n_alphas` parameter in sklearn]\n",
    "\n",
    "Protip: Compare if your implemenation works by applying it on the Diabetes Dataset and seeing it how it compares to opensource implemenations in `sklearn` and `statsmodels`. \n",
    "\n",
    "http://statsmodels.sourceforge.net/devel/examples/#regression\n",
    "\n",
    "http://scikit-learn.org/stable/auto_examples/linear_model/plot_ols.html"
   ]
  },
  {
   "cell_type": "markdown",
   "metadata": {},
   "source": [
    "<img src=\"http://imgur.com/GCAf1UX.png\" style=\"float: left; margin: 25px 15px 0px 0px; height: 25px\">\n",
    "\n",
    "### 7. Extend the `NearestNeighbor` class such that the fit method doesn't use a `for loop`\n"
   ]
  },
  {
   "cell_type": "markdown",
   "metadata": {},
   "source": [
    "<img src=\"http://imgur.com/GCAf1UX.png\" style=\"float: left; margin: 25px 15px 0px 0px; height: 25px\">\n",
    "\n",
    "### 8. Implement `LogisticRegression` that fits the model using Stochastic Gradient Descent. \n",
    "\n",
    "Check if the results of your `LogisticRegression` implementation matches with the Sklearn implementation: http://scikit-learn.org/stable/modules/generated/sklearn.linear_model.LogisticRegression.html"
   ]
  },
  {
   "cell_type": "markdown",
   "metadata": {},
   "source": [
    "<img src=\"http://imgur.com/GCAf1UX.png\" style=\"float: left; margin: 25px 15px 0px 0px; height: 25px\">\n",
    "### 9. Singular Value Decomposition \n",
    "\n",
    "- Read articles on image compression with SVD and use `numpy` apply it to images from the MNIST Datasets. To get the MNIST Datset, use the following comands. Note that the `mnist` data has shape `(70000, 784)`. You will need to convert it to 28x28 images [Hint: `np.reshape`]. \n",
    "       \n",
    "       from sklearn.datasets import fetch_mldata\n",
    "       mnist = fetch_mldata('MNIST original', data_home=custom_data_home)\n",
    "\n",
    "    https://inst.eecs.berkeley.edu/~ee127a/book/login/l_svd_apps_image.html\n",
    "\n",
    "    http://www.frankcleary.com/svdimage/\n",
    "    \n",
    "    \n",
    "- Apply Logistic Regression to classify MNIST Images. This may require having the images be `784` dimensions rather than `28x28`. Compare results of the classifier on a test set when you apply it on the raw dataset vs. the compressed version of dataset from SVD. "
   ]
  },
  {
   "cell_type": "markdown",
   "metadata": {},
   "source": [
    "## Optional: Interview Practice"
   ]
  },
  {
   "cell_type": "markdown",
   "metadata": {},
   "source": [
    "## Coding Questions \n",
    "- Implement Binary Search in Python and write down the algorithmic complexity of the Binary Search Algorithm.\n",
    "\n",
    "\n",
    "- Implement Merge Sort in Python [Hint: First implement the `merge` function that combines two sorted arrays into one sorted array linear time]. What is the time complexity of `mergesort` ?\n",
    "\n",
    "\n",
    "- Find the closest pair from two sorted arrays. Given two sorted arrays and a number x, find the pair whose sum is closest to x and the pair has an element from each array. We are given two arrays ar1[0…m-1] and ar2[0..n-1] and a number x, we need to find the pair ar1[i] + ar2[j] such that absolute value of (ar1[i] + ar2[j] – x) is minimum. What is the time complexity of this algorithm?"
   ]
  },
  {
   "cell_type": "markdown",
   "metadata": {},
   "source": [
    "## Probability  and Statistics Questions \n",
    "\n",
    "- In any 15-minute interval, there is a 20% probability that you will see at least one shooting star. What is the probability that you see at least one shooting star in the period of an hour?\n",
    "\n",
    "\n",
    "- A certain couple tells you that they have two children, at least one of which is a girl. What is the probability that they have two girls?\n"
   ]
  },
  {
   "cell_type": "markdown",
   "metadata": {},
   "source": [
    "## Interview Questions Related to Material\n",
    "\n",
    "- Explain what is bias-variance tradeoff to a non-technical person. Why is it a useful framework? How do you detect bias in your models? How about you variance? \n",
    "\n",
    "\n",
    "- Explain why cross-validation is important. \n",
    "\n",
    "\n",
    "- What is regularization? What are the advantages/disadvantages of different types of regularization schemes? \n",
    "\n",
    "\n",
    "- What are the loss functions associated with linear regression, logistic regression, and KNN? \n",
    "\n",
    "\n",
    "- Can you give examples of feature engineering on datasets you have worked with? "
   ]
  }
 ],
 "metadata": {
  "anaconda-cloud": {},
  "kernelspec": {
   "display_name": "Python [dsi]",
   "language": "python",
   "name": "Python [dsi]"
  },
  "language_info": {
   "codemirror_mode": {
    "name": "ipython",
    "version": 2
   },
   "file_extension": ".py",
   "mimetype": "text/x-python",
   "name": "python",
   "nbconvert_exporter": "python",
   "pygments_lexer": "ipython2",
   "version": "2.7.12"
  }
 },
 "nbformat": 4,
 "nbformat_minor": 0
}
